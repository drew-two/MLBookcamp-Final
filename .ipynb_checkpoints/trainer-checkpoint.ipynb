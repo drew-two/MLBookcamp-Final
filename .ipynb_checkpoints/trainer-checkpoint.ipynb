{
 "cells": [
  {
   "cell_type": "markdown",
   "id": "93406166",
   "metadata": {},
   "source": [
    "# Trainer\n",
    "\n",
    "Using the DEiT small model here (DEiT Small Distilled Patch 16, Image size 244 x 244) in the interest of time and space for deployment"
   ]
  },
  {
   "cell_type": "code",
   "execution_count": 1,
   "id": "4af58b8c",
   "metadata": {},
   "outputs": [],
   "source": [
    "import numpy as np\n",
    "import pandas as pd\n",
    "import tensorflow as tf\n",
    "import tensorflow_hub as hub\n",
    "\n",
    "from tensorflow import keras\n",
    "from keras.applications import imagenet_utils\n",
    "\n",
    "from tensorflow.keras.preprocessing.image import ImageDataGenerator"
   ]
  },
  {
   "cell_type": "code",
   "execution_count": 2,
   "id": "05e8cdd0",
   "metadata": {},
   "outputs": [],
   "source": [
    "DATASET_SIZE = 9367\n",
    "IMAGE_SIZE = 224\n",
    "BATCH_SIZE = 8\n",
    "WORKERS = 4\n",
    "EPOCHS = 10\n",
    "\n",
    "BASE_PATH='../data'\n",
    "\n",
    "classes = [\n",
    "    'cup', \n",
    "    'fork', \n",
    "    'glass', \n",
    "    'knife', \n",
    "    'plate', \n",
    "    'spoon'\n",
    "]"
   ]
  },
  {
   "cell_type": "markdown",
   "id": "3669e2fd",
   "metadata": {},
   "source": [
    "First, we will load the training dataframe and split it into train and validation"
   ]
  },
  {
   "cell_type": "code",
   "execution_count": 3,
   "id": "d6dca2c5",
   "metadata": {},
   "outputs": [
    {
     "data": {
      "text/html": [
       "<div>\n",
       "<style scoped>\n",
       "    .dataframe tbody tr th:only-of-type {\n",
       "        vertical-align: middle;\n",
       "    }\n",
       "\n",
       "    .dataframe tbody tr th {\n",
       "        vertical-align: top;\n",
       "    }\n",
       "\n",
       "    .dataframe thead th {\n",
       "        text-align: right;\n",
       "    }\n",
       "</style>\n",
       "<table border=\"1\" class=\"dataframe\">\n",
       "  <thead>\n",
       "    <tr style=\"text-align: right;\">\n",
       "      <th></th>\n",
       "      <th>Id</th>\n",
       "      <th>label</th>\n",
       "      <th>filename</th>\n",
       "    </tr>\n",
       "  </thead>\n",
       "  <tbody>\n",
       "    <tr>\n",
       "      <th>0</th>\n",
       "      <td>0560</td>\n",
       "      <td>glass</td>\n",
       "      <td>data/images/0560.jpg</td>\n",
       "    </tr>\n",
       "    <tr>\n",
       "      <th>1</th>\n",
       "      <td>4675</td>\n",
       "      <td>cup</td>\n",
       "      <td>data/images/4675.jpg</td>\n",
       "    </tr>\n",
       "    <tr>\n",
       "      <th>2</th>\n",
       "      <td>0875</td>\n",
       "      <td>glass</td>\n",
       "      <td>data/images/0875.jpg</td>\n",
       "    </tr>\n",
       "    <tr>\n",
       "      <th>3</th>\n",
       "      <td>4436</td>\n",
       "      <td>spoon</td>\n",
       "      <td>data/images/4436.jpg</td>\n",
       "    </tr>\n",
       "    <tr>\n",
       "      <th>4</th>\n",
       "      <td>8265</td>\n",
       "      <td>plate</td>\n",
       "      <td>data/images/8265.jpg</td>\n",
       "    </tr>\n",
       "  </tbody>\n",
       "</table>\n",
       "</div>"
      ],
      "text/plain": [
       "     Id  label              filename\n",
       "0  0560  glass  data/images/0560.jpg\n",
       "1  4675    cup  data/images/4675.jpg\n",
       "2  0875  glass  data/images/0875.jpg\n",
       "3  4436  spoon  data/images/4436.jpg\n",
       "4  8265  plate  data/images/8265.jpg"
      ]
     },
     "execution_count": 3,
     "metadata": {},
     "output_type": "execute_result"
    }
   ],
   "source": [
    "df_train_full = pd.read_csv('data/train.csv', dtype={'Id': str})\n",
    "df_train_full['filename'] = 'data/images/' + df_train_full['Id'] + '.jpg'\n",
    "df_train_full.head()"
   ]
  },
  {
   "cell_type": "code",
   "execution_count": 4,
   "id": "32713ffa",
   "metadata": {},
   "outputs": [],
   "source": [
    "val_cutoff = int(len(df_train_full) * 0.8)\n",
    "df_train = df_train_full[:val_cutoff]\n",
    "df_val = df_train_full[val_cutoff:]"
   ]
  },
  {
   "cell_type": "markdown",
   "id": "bbe4048e",
   "metadata": {},
   "source": [
    "## Training"
   ]
  },
  {
   "cell_type": "markdown",
   "id": "f4bfef22",
   "metadata": {},
   "source": [
    "Now let's create image generators"
   ]
  },
  {
   "cell_type": "code",
   "execution_count": 5,
   "id": "2caa27c8",
   "metadata": {},
   "outputs": [],
   "source": [
    "# These models don't have the imagenet preprocessing built in so I have to apply this\n",
    "def preprocess_input(x, data_format=None):\n",
    "    return imagenet_utils.preprocess_input(\n",
    "        x, data_format=data_format, mode=\"tf\"\n",
    "    )"
   ]
  },
  {
   "cell_type": "code",
   "execution_count": 6,
   "id": "c83ced9e",
   "metadata": {
    "scrolled": true
   },
   "outputs": [
    {
     "name": "stdout",
     "output_type": "stream",
     "text": [
      "Found 4447 validated image filenames belonging to 6 classes.\n",
      "Found 1112 validated image filenames belonging to 6 classes.\n"
     ]
    }
   ],
   "source": [
    "train_datagen = ImageDataGenerator(\n",
    "    preprocessing_function=preprocess_input,\n",
    "    dtype=\"float16\"\n",
    ")\n",
    "\n",
    "train_generator = train_datagen.flow_from_dataframe(\n",
    "    df_train,\n",
    "    x_col='filename',\n",
    "    y_col='label',\n",
    "    target_size=(IMAGE_SIZE, IMAGE_SIZE),\n",
    "    batch_size=BATCH_SIZE,\n",
    ")\n",
    "\n",
    "val_datagen = ImageDataGenerator(\n",
    "    preprocessing_function=preprocess_input,\n",
    "    dtype=\"float16\"\n",
    ")\n",
    "\n",
    "val_generator = val_datagen.flow_from_dataframe(\n",
    "    df_val,\n",
    "    x_col='filename',\n",
    "    y_col='label',\n",
    "    target_size=(IMAGE_SIZE, IMAGE_SIZE),\n",
    "    batch_size=BATCH_SIZE,\n",
    ")"
   ]
  },
  {
   "cell_type": "code",
   "execution_count": 7,
   "id": "0f35ac7c",
   "metadata": {},
   "outputs": [
    {
     "data": {
      "text/plain": [
       "array(['cup', 'fork', 'glass', 'knife', 'plate', 'spoon'], dtype='<U5')"
      ]
     },
     "execution_count": 7,
     "metadata": {},
     "output_type": "execute_result"
    }
   ],
   "source": [
    "classes = np.array(list(train_generator.class_indices.keys()))\n",
    "classes"
   ]
  },
  {
   "cell_type": "code",
   "execution_count": 8,
   "id": "f82948f5",
   "metadata": {},
   "outputs": [],
   "source": [
    "earlystopping = tf.keras.callbacks.EarlyStopping(\n",
    "    monitor = 'val_accuracy',\n",
    "    min_delta = 1e-4,\n",
    "    patience = 3,\n",
    "    mode = 'max',\n",
    "    restore_best_weights = True,\n",
    "    verbose = 1\n",
    ")\n",
    "\n",
    "checkpoint = keras.callbacks.ModelCheckpoint(\n",
    "    'deit_s_d_p16_224_{epoch:02d}_{val_accuracy:.3f}.h5',\n",
    "    save_best_only=True,\n",
    "    save_weights_only=False,\n",
    "    monitor='val_accuracy',\n",
    "    mode='max'\n",
    ")\n",
    "\n",
    "callbacks = [earlystopping, checkpoint]"
   ]
  },
  {
   "cell_type": "code",
   "execution_count": 9,
   "id": "416ccb4c",
   "metadata": {},
   "outputs": [],
   "source": [
    "def get_model_deit(model_url, res=IMAGE_SIZE, num_classes=len(classes)) -> tf.keras.Model:\n",
    "    inputs = tf.keras.Input((res, res, 3))\n",
    "    hub_module = hub.KerasLayer(model_url, trainable=False)\n",
    "\n",
    "    base_model_layers, _ = hub_module(inputs)   # Second output in the tuple is a dictionary containing attention scores.\n",
    "    outputs = keras.layers.Dense(num_classes, activation=\"softmax\")(base_model_layers)\n",
    "    \n",
    "    return tf.keras.Model(inputs, outputs) "
   ]
  },
  {
   "cell_type": "markdown",
   "id": "2a3d6e50",
   "metadata": {},
   "source": [
    "Warnings are normal; the pre-trained weights for the original classifications heads are not being skipped."
   ]
  },
  {
   "cell_type": "code",
   "execution_count": 10,
   "id": "7a7a80f8",
   "metadata": {},
   "outputs": [],
   "source": [
    "def build_model():\n",
    "    model_gcs_path = \"http://tfhub.dev/sayakpaul/deit_base_distilled_patch16_224_fe/1\"\n",
    "    model = get_model_deit(model_gcs_path)\n",
    "\n",
    "    # Define the optimizer learning rate as a hyperparameter.\n",
    "    learning_rate = 1e-2\n",
    "    model.compile(\n",
    "        optimizer=keras.optimizers.Adam(learning_rate=learning_rate),\n",
    "        loss=\"categorical_crossentropy\",\n",
    "        metrics=[\"accuracy\"],\n",
    "    )\n",
    "    return model"
   ]
  },
  {
   "cell_type": "code",
   "execution_count": 11,
   "id": "07137ea7",
   "metadata": {},
   "outputs": [
    {
     "name": "stdout",
     "output_type": "stream",
     "text": [
      "WARNING:tensorflow:Please fix your imports. Module tensorflow.python.training.tracking.data_structures has been moved to tensorflow.python.trackable.data_structures. The old module will be deleted in version 2.11.\n"
     ]
    }
   ],
   "source": [
    "model = build_model()"
   ]
  },
  {
   "cell_type": "code",
   "execution_count": 12,
   "id": "0e846ae7",
   "metadata": {},
   "outputs": [
    {
     "name": "stdout",
     "output_type": "stream",
     "text": [
      "Epoch 1/10\n",
      "556/556 [==============================] - 62s 91ms/step - loss: 0.2807 - accuracy: 0.9373 - val_loss: 0.2197 - val_accuracy: 0.9550\n",
      "Epoch 2/10\n",
      "556/556 [==============================] - 46s 83ms/step - loss: 0.1950 - accuracy: 0.9629 - val_loss: 0.3036 - val_accuracy: 0.9568\n",
      "Epoch 3/10\n",
      "556/556 [==============================] - 45s 81ms/step - loss: 0.1395 - accuracy: 0.9753 - val_loss: 0.3953 - val_accuracy: 0.9505\n",
      "Epoch 4/10\n",
      "556/556 [==============================] - 45s 81ms/step - loss: 0.1067 - accuracy: 0.9795 - val_loss: 0.3727 - val_accuracy: 0.9550\n",
      "Epoch 5/10\n",
      "556/556 [==============================] - ETA: 0s - loss: 0.0943 - accuracy: 0.9836Restoring model weights from the end of the best epoch: 2.\n",
      "556/556 [==============================] - 45s 82ms/step - loss: 0.0943 - accuracy: 0.9836 - val_loss: 0.3869 - val_accuracy: 0.9514\n",
      "Epoch 5: early stopping\n"
     ]
    }
   ],
   "source": [
    "history = model.fit(\n",
    "    x = train_generator,\n",
    "    validation_data=val_generator,\n",
    "    batch_size=BATCH_SIZE,\n",
    "    epochs=EPOCHS,\n",
    "    workers=WORKERS,\n",
    "    callbacks=callbacks\n",
    ")"
   ]
  },
  {
   "cell_type": "code",
   "execution_count": 13,
   "id": "4a0c76ff",
   "metadata": {
    "vscode": {
     "languageId": "shellscript"
    }
   },
   "outputs": [
    {
     "ename": "ModuleNotFoundError",
     "evalue": "No module named 'bentoml'",
     "output_type": "error",
     "traceback": [
      "\u001b[1;31m---------------------------------------------------------------------------\u001b[0m",
      "\u001b[1;31mModuleNotFoundError\u001b[0m                       Traceback (most recent call last)",
      "Cell \u001b[1;32mIn[13], line 1\u001b[0m\n\u001b[1;32m----> 1\u001b[0m \u001b[38;5;28;01mimport\u001b[39;00m \u001b[38;5;21;01mbentoml\u001b[39;00m\n\u001b[0;32m      2\u001b[0m bentoml\u001b[38;5;241m.\u001b[39mtensorflow\u001b[38;5;241m.\u001b[39msave_model(\u001b[38;5;124m\"\u001b[39m\u001b[38;5;124mkitchenware-classification\u001b[39m\u001b[38;5;124m\"\u001b[39m, model)\n",
      "\u001b[1;31mModuleNotFoundError\u001b[0m: No module named 'bentoml'"
     ]
    }
   ],
   "source": [
    "import bentoml\n",
    "bentoml.tensorflow.save_model(\"kitchenware-classification\", model)"
   ]
  }
 ],
 "metadata": {
  "kernelspec": {
   "display_name": "Python 3 (ipykernel)",
   "language": "python",
   "name": "python3"
  },
  "language_info": {
   "codemirror_mode": {
    "name": "ipython",
    "version": 3
   },
   "file_extension": ".py",
   "mimetype": "text/x-python",
   "name": "python",
   "nbconvert_exporter": "python",
   "pygments_lexer": "ipython3",
   "version": "3.9.0"
  },
  "vscode": {
   "interpreter": {
    "hash": "fd9732a66c823fa820c03a4c2bc863c1641c8b18ad349d04b6685143c1e4cf5f"
   }
  }
 },
 "nbformat": 4,
 "nbformat_minor": 5
}
