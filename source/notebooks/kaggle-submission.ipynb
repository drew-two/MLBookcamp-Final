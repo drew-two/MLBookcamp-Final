{
  "cells": [
    {
      "attachments": {},
      "cell_type": "markdown",
      "id": "93406166",
      "metadata": {},
      "source": [
        "# Final Training and Submission\n",
        "\n",
        "Using BEiT Large model + the whole train dataset"
      ]
    },
    {
      "cell_type": "code",
      "execution_count": 1,
      "id": "4af58b8c",
      "metadata": {},
      "outputs": [],
      "source": [
        "import numpy as np\n",
        "import pandas as pd\n",
        "import tensorflow as tf\n",
        "\n",
        "from tensorflow import keras\n",
        "from keras.applications import imagenet_utils\n",
        "\n",
        "from tensorflow.keras.preprocessing.image import ImageDataGenerator"
      ]
    },
    {
      "cell_type": "code",
      "execution_count": 2,
      "id": "05e8cdd0",
      "metadata": {},
      "outputs": [],
      "source": [
        "DATASET_SIZE = 9367\n",
        "IMAGE_SIZE = 224\n",
        "BATCH_SIZE = 16\n",
        "WORKERS = 4\n",
        "EPOCHS = 10\n",
        "\n",
        "BASE_PATH='../data'\n",
        "\n",
        "classes = [\n",
        "    'cup', \n",
        "    'fork', \n",
        "    'glass', \n",
        "    'knife', \n",
        "    'plate', \n",
        "    'spoon'\n",
        "]"
      ]
    },
    {
      "cell_type": "markdown",
      "id": "3669e2fd",
      "metadata": {},
      "source": [
        "First, we will load the training dataframe and split it into train and validation"
      ]
    },
    {
      "cell_type": "code",
      "execution_count": 3,
      "id": "d6dca2c5",
      "metadata": {},
      "outputs": [
        {
          "data": {
            "text/html": [
              "<div>\n",
              "<style scoped>\n",
              "    .dataframe tbody tr th:only-of-type {\n",
              "        vertical-align: middle;\n",
              "    }\n",
              "\n",
              "    .dataframe tbody tr th {\n",
              "        vertical-align: top;\n",
              "    }\n",
              "\n",
              "    .dataframe thead th {\n",
              "        text-align: right;\n",
              "    }\n",
              "</style>\n",
              "<table border=\"1\" class=\"dataframe\">\n",
              "  <thead>\n",
              "    <tr style=\"text-align: right;\">\n",
              "      <th></th>\n",
              "      <th>Id</th>\n",
              "      <th>label</th>\n",
              "      <th>filename</th>\n",
              "    </tr>\n",
              "  </thead>\n",
              "  <tbody>\n",
              "    <tr>\n",
              "      <th>0</th>\n",
              "      <td>0560</td>\n",
              "      <td>glass</td>\n",
              "      <td>data/images/0560.jpg</td>\n",
              "    </tr>\n",
              "    <tr>\n",
              "      <th>1</th>\n",
              "      <td>4675</td>\n",
              "      <td>cup</td>\n",
              "      <td>data/images/4675.jpg</td>\n",
              "    </tr>\n",
              "    <tr>\n",
              "      <th>2</th>\n",
              "      <td>0875</td>\n",
              "      <td>glass</td>\n",
              "      <td>data/images/0875.jpg</td>\n",
              "    </tr>\n",
              "    <tr>\n",
              "      <th>3</th>\n",
              "      <td>4436</td>\n",
              "      <td>spoon</td>\n",
              "      <td>data/images/4436.jpg</td>\n",
              "    </tr>\n",
              "    <tr>\n",
              "      <th>4</th>\n",
              "      <td>8265</td>\n",
              "      <td>plate</td>\n",
              "      <td>data/images/8265.jpg</td>\n",
              "    </tr>\n",
              "  </tbody>\n",
              "</table>\n",
              "</div>"
            ],
            "text/plain": [
              "     Id  label              filename\n",
              "0  0560  glass  data/images/0560.jpg\n",
              "1  4675    cup  data/images/4675.jpg\n",
              "2  0875  glass  data/images/0875.jpg\n",
              "3  4436  spoon  data/images/4436.jpg\n",
              "4  8265  plate  data/images/8265.jpg"
            ]
          },
          "execution_count": 3,
          "metadata": {},
          "output_type": "execute_result"
        }
      ],
      "source": [
        "df_train_full = pd.read_csv('data/train.csv', dtype={'Id': str})\n",
        "df_train_full['filename'] = 'data/images/' + df_train_full['Id'] + '.jpg'\n",
        "df_train_full.head()"
      ]
    },
    {
      "cell_type": "code",
      "execution_count": 4,
      "id": "32713ffa",
      "metadata": {},
      "outputs": [],
      "source": [
        "# val_cutoff = int(len(df_train_full) * 0.8)\n",
        "# df_train = df_train_full[:val_cutoff]\n",
        "# df_val = df_train_full[val_cutoff:]"
      ]
    },
    {
      "cell_type": "markdown",
      "id": "f4bfef22",
      "metadata": {},
      "source": [
        "Now let's create image generators"
      ]
    },
    {
      "cell_type": "code",
      "execution_count": 5,
      "id": "2caa27c8",
      "metadata": {},
      "outputs": [],
      "source": [
        "# These models don't have the imagenet preprocessing built in so I have to apply this\n",
        "def preprocess_input(x, data_format=None):\n",
        "    return imagenet_utils.preprocess_input(\n",
        "        x, data_format=data_format, mode=\"tf\"\n",
        "    )"
      ]
    },
    {
      "cell_type": "code",
      "execution_count": 6,
      "id": "c83ced9e",
      "metadata": {
        "scrolled": true
      },
      "outputs": [
        {
          "name": "stdout",
          "output_type": "stream",
          "text": [
            "Found 5559 validated image filenames belonging to 6 classes.\n"
          ]
        }
      ],
      "source": [
        "train_datagen = ImageDataGenerator(preprocessing_function=preprocess_input)\n",
        "\n",
        "train_generator = train_datagen.flow_from_dataframe(\n",
        "    df_train_full,\n",
        "    x_col='filename',\n",
        "    y_col='label',\n",
        "    target_size=(IMAGE_SIZE, IMAGE_SIZE),\n",
        "    batch_size=BATCH_SIZE,\n",
        ")"
      ]
    },
    {
      "cell_type": "code",
      "execution_count": 7,
      "id": "0f35ac7c",
      "metadata": {},
      "outputs": [
        {
          "data": {
            "text/plain": [
              "array(['cup', 'fork', 'glass', 'knife', 'plate', 'spoon'], dtype='<U5')"
            ]
          },
          "execution_count": 7,
          "metadata": {},
          "output_type": "execute_result"
        }
      ],
      "source": [
        "classes = np.array(list(train_generator.class_indices.keys()))\n",
        "classes"
      ]
    },
    {
      "attachments": {},
      "cell_type": "markdown",
      "id": "95c5eb8a",
      "metadata": {},
      "source": [
        "I adjust early stopping to end sooner (2 epochs and min delta of 1e-2) as a form of regularization, as I no longer have a validation set."
      ]
    },
    {
      "cell_type": "code",
      "execution_count": 8,
      "id": "f82948f5",
      "metadata": {},
      "outputs": [],
      "source": [
        "earlystopping = tf.keras.callbacks.EarlyStopping(\n",
        "    monitor = 'accuracy',\n",
        "    min_delta = 1e-2,\n",
        "    patience = 2,\n",
        "    mode = 'max',\n",
        "    restore_best_weights = False,\n",
        "    verbose = 1\n",
        ")\n",
        "\n",
        "callbacks = [earlystopping]"
      ]
    },
    {
      "cell_type": "code",
      "execution_count": 9,
      "id": "2470ca7b",
      "metadata": {},
      "outputs": [],
      "source": [
        "from keras_cv_attention_models import beit"
      ]
    },
    {
      "cell_type": "code",
      "execution_count": 10,
      "id": "416ccb4c",
      "metadata": {},
      "outputs": [
        {
          "name": "stdout",
          "output_type": "stream",
          "text": [
            ">>>> Load pretrained from: C:\\Users\\andre\\.keras\\models\\beit_large_patch16_224_imagenet21k-ft1k.h5\n",
            "WARNING:tensorflow:Skipping loading weights for layer #679 (named predictions) due to mismatch in shape for weight predictions/kernel:0. Weight expects shape (1024, 6). Received saved weight with shape (1024, 1000)\n",
            "WARNING:tensorflow:Skipping loading weights for layer #679 (named predictions) due to mismatch in shape for weight predictions/bias:0. Weight expects shape (6,). Received saved weight with shape (1000,)\n"
          ]
        }
      ],
      "source": [
        "base_model = beit.BeitLargePatch16( #BeitBasePatch16(\n",
        "    pretrained='imagenet21k-ft1k',  #weights='imagenet',\n",
        "    input_shape=(IMAGE_SIZE, IMAGE_SIZE, 3),\n",
        "    num_classes=len(classes)\n",
        ")\n",
        "base_model.trainable = False"
      ]
    },
    {
      "cell_type": "code",
      "execution_count": 11,
      "id": "e34cdac3",
      "metadata": {},
      "outputs": [],
      "source": [
        "base_model = tf.keras.Model(inputs=base_model.layers[1].input, outputs= base_model.layers[-3].output)"
      ]
    },
    {
      "cell_type": "code",
      "execution_count": 12,
      "id": "98d56e11",
      "metadata": {},
      "outputs": [],
      "source": [
        "inputs = keras.Input(shape=(IMAGE_SIZE, IMAGE_SIZE, 3))\n",
        "\n",
        "model = tf.keras.Sequential([\n",
        "    inputs,\n",
        "    base_model,\n",
        "    tf.keras.layers.Flatten(),\n",
        "    tf.keras.layers.BatchNormalization(),\n",
        "    tf.keras.layers.Dense(12, 'gelu'),\n",
        "    tf.keras.layers.BatchNormalization(),\n",
        "    tf.keras.layers.Dense(6, 'softmax')\n",
        "],\n",
        "name = 'beitL16_224')"
      ]
    },
    {
      "cell_type": "code",
      "execution_count": 13,
      "id": "7a7a80f8",
      "metadata": {},
      "outputs": [],
      "source": [
        "learning_rate = 0.003\n",
        "optimizer = keras.optimizers.Adam(learning_rate=learning_rate)\n",
        "\n",
        "loss = keras.losses.CategoricalCrossentropy()\n",
        "\n",
        "model.compile(optimizer=optimizer, loss=loss, metrics=['accuracy'])"
      ]
    },
    {
      "cell_type": "code",
      "execution_count": 14,
      "id": "0e846ae7",
      "metadata": {},
      "outputs": [
        {
          "name": "stdout",
          "output_type": "stream",
          "text": [
            "Epoch 1/10\n",
            "348/348 [==============================] - 121s 291ms/step - loss: 0.1765 - accuracy: 0.9572\n",
            "Epoch 2/10\n",
            "348/348 [==============================] - 102s 292ms/step - loss: 0.0646 - accuracy: 0.9824\n",
            "Epoch 3/10\n",
            "348/348 [==============================] - 102s 292ms/step - loss: 0.0508 - accuracy: 0.9861\n",
            "Epoch 4/10\n",
            "348/348 [==============================] - 101s 291ms/step - loss: 0.0460 - accuracy: 0.9849\n",
            "Epoch 4: early stopping\n"
          ]
        }
      ],
      "source": [
        "history = model.fit(\n",
        "    x = train_generator,\n",
        "    batch_size=BATCH_SIZE,\n",
        "    epochs=EPOCHS,\n",
        "    workers=WORKERS,\n",
        "    callbacks=callbacks\n",
        ")"
      ]
    },
    {
      "cell_type": "markdown",
      "id": "5ee6e149",
      "metadata": {},
      "source": [
        "Now let's use this model to predict the labels for test data"
      ]
    },
    {
      "cell_type": "code",
      "execution_count": 15,
      "id": "40643e85",
      "metadata": {},
      "outputs": [
        {
          "data": {
            "text/html": [
              "<div>\n",
              "<style scoped>\n",
              "    .dataframe tbody tr th:only-of-type {\n",
              "        vertical-align: middle;\n",
              "    }\n",
              "\n",
              "    .dataframe tbody tr th {\n",
              "        vertical-align: top;\n",
              "    }\n",
              "\n",
              "    .dataframe thead th {\n",
              "        text-align: right;\n",
              "    }\n",
              "</style>\n",
              "<table border=\"1\" class=\"dataframe\">\n",
              "  <thead>\n",
              "    <tr style=\"text-align: right;\">\n",
              "      <th></th>\n",
              "      <th>Id</th>\n",
              "      <th>filename</th>\n",
              "    </tr>\n",
              "  </thead>\n",
              "  <tbody>\n",
              "    <tr>\n",
              "      <th>0</th>\n",
              "      <td>0678</td>\n",
              "      <td>data/images/0678.jpg</td>\n",
              "    </tr>\n",
              "    <tr>\n",
              "      <th>1</th>\n",
              "      <td>3962</td>\n",
              "      <td>data/images/3962.jpg</td>\n",
              "    </tr>\n",
              "    <tr>\n",
              "      <th>2</th>\n",
              "      <td>9271</td>\n",
              "      <td>data/images/9271.jpg</td>\n",
              "    </tr>\n",
              "    <tr>\n",
              "      <th>3</th>\n",
              "      <td>5133</td>\n",
              "      <td>data/images/5133.jpg</td>\n",
              "    </tr>\n",
              "    <tr>\n",
              "      <th>4</th>\n",
              "      <td>8842</td>\n",
              "      <td>data/images/8842.jpg</td>\n",
              "    </tr>\n",
              "  </tbody>\n",
              "</table>\n",
              "</div>"
            ],
            "text/plain": [
              "     Id              filename\n",
              "0  0678  data/images/0678.jpg\n",
              "1  3962  data/images/3962.jpg\n",
              "2  9271  data/images/9271.jpg\n",
              "3  5133  data/images/5133.jpg\n",
              "4  8842  data/images/8842.jpg"
            ]
          },
          "execution_count": 15,
          "metadata": {},
          "output_type": "execute_result"
        }
      ],
      "source": [
        "df_test = pd.read_csv('data/test.csv', dtype={'Id': str})\n",
        "df_test['filename'] = 'data/images/' + df_test['Id'] + '.jpg'\n",
        "df_test.head()"
      ]
    },
    {
      "cell_type": "code",
      "execution_count": 19,
      "id": "5fd96ab0",
      "metadata": {},
      "outputs": [
        {
          "name": "stdout",
          "output_type": "stream",
          "text": [
            "Found 3808 validated image filenames.\n"
          ]
        }
      ],
      "source": [
        "test_datagen = ImageDataGenerator(preprocessing_function=preprocess_input)\n",
        "\n",
        "test_generator = test_datagen.flow_from_dataframe(\n",
        "    df_test,\n",
        "    x_col='filename',\n",
        "    class_mode='input',\n",
        "    target_size=(IMAGE_SIZE, IMAGE_SIZE),\n",
        "    batch_size=BATCH_SIZE,\n",
        "    shuffle=False\n",
        ")"
      ]
    },
    {
      "cell_type": "code",
      "execution_count": 20,
      "id": "e279456f",
      "metadata": {},
      "outputs": [
        {
          "name": "stdout",
          "output_type": "stream",
          "text": [
            "238/238 [==============================] - 4761s 20s/step\n"
          ]
        }
      ],
      "source": [
        "y_pred = model.predict(test_generator)"
      ]
    },
    {
      "cell_type": "code",
      "execution_count": 21,
      "id": "cb3f8017",
      "metadata": {},
      "outputs": [],
      "source": [
        "predictions = classes[y_pred.argmax(axis=1)]"
      ]
    },
    {
      "cell_type": "markdown",
      "id": "e0194490",
      "metadata": {},
      "source": [
        "Finally, we need to prepare the submission"
      ]
    },
    {
      "cell_type": "code",
      "execution_count": 22,
      "id": "da13e38c",
      "metadata": {},
      "outputs": [],
      "source": [
        "df_submission = pd.DataFrame()\n",
        "df_submission['filename'] = test_generator.filenames\n",
        "df_submission['label'] = predictions\n",
        "\n",
        "df_submission['Id'] = df_submission.filename.str[len('data/images/'):-4]\n",
        "del df_submission['filename']"
      ]
    },
    {
      "cell_type": "code",
      "execution_count": 23,
      "id": "3822fafd",
      "metadata": {},
      "outputs": [],
      "source": [
        "df_submission[['Id', 'label']].to_csv('submission.csv', index=False)"
      ]
    },
    {
      "cell_type": "code",
      "execution_count": 5,
      "id": "5081abc1",
      "metadata": {},
      "outputs": [
        {
          "name": "stdout",
          "output_type": "stream",
          "text": [
            "Successfully submitted to Kitchenware Classification\n"
          ]
        },
        {
          "name": "stderr",
          "output_type": "stream",
          "text": [
            "\n",
            "  0%|          | 0.00/42.5k [00:00<?, ?B/s]\n",
            " 19%|█▉        | 8.00k/42.5k [00:00<00:00, 71.4kB/s]\n",
            "100%|██████████| 42.5k/42.5k [00:00<00:00, 59.0kB/s]\n"
          ]
        }
      ],
      "source": [
        "!kaggle competitions submit kitchenware-classification -f submission.csv -m \"No validation\""
      ]
    }
  ],
  "metadata": {
    "kernelspec": {
      "display_name": "keras-attention-models",
      "language": "python",
      "name": "python3"
    },
    "language_info": {
      "codemirror_mode": {
        "name": "ipython",
        "version": 3
      },
      "file_extension": ".py",
      "mimetype": "text/x-python",
      "name": "python",
      "nbconvert_exporter": "python",
      "pygments_lexer": "ipython3",
      "version": "3.9.0"
    },
    "vscode": {
      "interpreter": {
        "hash": "c8dc41aeace2424cb4569389014b2eafdc0f961eabe339db958c7b7f0a6f8b70"
      }
    }
  },
  "nbformat": 4,
  "nbformat_minor": 5
}
