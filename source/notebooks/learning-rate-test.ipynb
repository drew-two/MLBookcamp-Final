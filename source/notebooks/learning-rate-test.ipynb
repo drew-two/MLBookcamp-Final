{
  "cells": [
    {
      "attachments": {},
      "cell_type": "markdown",
      "id": "93406166",
      "metadata": {},
      "source": [
        "# Learning Rate testing\n",
        "\n",
        "\n",
        "The best model was BeitLargePatch16 with validation accuracy 0.9856114983558655.\n",
        "- We test with the DEiT base model here (small and fast) in the interest of time\n",
        "\n",
        "Here we will experiment with learning rate to see if this can be improved."
      ]
    },
    {
      "cell_type": "code",
      "execution_count": 1,
      "id": "4af58b8c",
      "metadata": {},
      "outputs": [],
      "source": [
        "import mlflow\n",
        "\n",
        "import numpy as np\n",
        "import pandas as pd\n",
        "import tensorflow as tf\n",
        "import matplotlib.pyplot as plt\n",
        "\n",
        "import keras_tuner as kt\n",
        "import tensorflow_hub as hub\n",
        "import tensorflow_addons as tfa\n",
        "\n",
        "from tensorflow import keras\n",
        "from keras.applications import imagenet_utils\n",
        "\n",
        "from tensorflow.keras.preprocessing.image import ImageDataGenerator"
      ]
    },
    {
      "cell_type": "code",
      "execution_count": 2,
      "id": "05e8cdd0",
      "metadata": {},
      "outputs": [],
      "source": [
        "DATASET_SIZE = 9367\n",
        "IMAGE_SIZE = 224\n",
        "BATCH_SIZE = 8\n",
        "WORKERS = 4\n",
        "EPOCHS = 10\n",
        "\n",
        "BASE_PATH='../data'\n",
        "\n",
        "classes = [\n",
        "    'cup', \n",
        "    'fork', \n",
        "    'glass', \n",
        "    'knife', \n",
        "    'plate', \n",
        "    'spoon'\n",
        "]"
      ]
    },
    {
      "cell_type": "markdown",
      "id": "3669e2fd",
      "metadata": {},
      "source": [
        "First, we will load the training dataframe and split it into train and validation"
      ]
    },
    {
      "cell_type": "code",
      "execution_count": 3,
      "id": "d6dca2c5",
      "metadata": {},
      "outputs": [
        {
          "data": {
            "text/html": [
              "<div>\n",
              "<style scoped>\n",
              "    .dataframe tbody tr th:only-of-type {\n",
              "        vertical-align: middle;\n",
              "    }\n",
              "\n",
              "    .dataframe tbody tr th {\n",
              "        vertical-align: top;\n",
              "    }\n",
              "\n",
              "    .dataframe thead th {\n",
              "        text-align: right;\n",
              "    }\n",
              "</style>\n",
              "<table border=\"1\" class=\"dataframe\">\n",
              "  <thead>\n",
              "    <tr style=\"text-align: right;\">\n",
              "      <th></th>\n",
              "      <th>Id</th>\n",
              "      <th>label</th>\n",
              "      <th>filename</th>\n",
              "    </tr>\n",
              "  </thead>\n",
              "  <tbody>\n",
              "    <tr>\n",
              "      <th>0</th>\n",
              "      <td>0560</td>\n",
              "      <td>glass</td>\n",
              "      <td>data/images/0560.jpg</td>\n",
              "    </tr>\n",
              "    <tr>\n",
              "      <th>1</th>\n",
              "      <td>4675</td>\n",
              "      <td>cup</td>\n",
              "      <td>data/images/4675.jpg</td>\n",
              "    </tr>\n",
              "    <tr>\n",
              "      <th>2</th>\n",
              "      <td>0875</td>\n",
              "      <td>glass</td>\n",
              "      <td>data/images/0875.jpg</td>\n",
              "    </tr>\n",
              "    <tr>\n",
              "      <th>3</th>\n",
              "      <td>4436</td>\n",
              "      <td>spoon</td>\n",
              "      <td>data/images/4436.jpg</td>\n",
              "    </tr>\n",
              "    <tr>\n",
              "      <th>4</th>\n",
              "      <td>8265</td>\n",
              "      <td>plate</td>\n",
              "      <td>data/images/8265.jpg</td>\n",
              "    </tr>\n",
              "  </tbody>\n",
              "</table>\n",
              "</div>"
            ],
            "text/plain": [
              "     Id  label              filename\n",
              "0  0560  glass  data/images/0560.jpg\n",
              "1  4675    cup  data/images/4675.jpg\n",
              "2  0875  glass  data/images/0875.jpg\n",
              "3  4436  spoon  data/images/4436.jpg\n",
              "4  8265  plate  data/images/8265.jpg"
            ]
          },
          "execution_count": 3,
          "metadata": {},
          "output_type": "execute_result"
        }
      ],
      "source": [
        "df_train_full = pd.read_csv('data/train.csv', dtype={'Id': str})\n",
        "df_train_full['filename'] = 'data/images/' + df_train_full['Id'] + '.jpg'\n",
        "df_train_full.head()"
      ]
    },
    {
      "cell_type": "code",
      "execution_count": 4,
      "id": "32713ffa",
      "metadata": {},
      "outputs": [],
      "source": [
        "val_cutoff = int(len(df_train_full) * 0.8)\n",
        "df_train = df_train_full[:val_cutoff]\n",
        "df_val = df_train_full[val_cutoff:]"
      ]
    },
    {
      "attachments": {},
      "cell_type": "markdown",
      "id": "bbe4048e",
      "metadata": {},
      "source": [
        "## Learning Rate Search"
      ]
    },
    {
      "cell_type": "markdown",
      "id": "f4bfef22",
      "metadata": {},
      "source": [
        "Now let's create image generators"
      ]
    },
    {
      "cell_type": "code",
      "execution_count": 5,
      "id": "2caa27c8",
      "metadata": {},
      "outputs": [],
      "source": [
        "# These models don't have the imagenet preprocessing built in so I have to apply this\n",
        "def preprocess_input(x, data_format=None):\n",
        "    return imagenet_utils.preprocess_input(\n",
        "        x, data_format=data_format, mode=\"tf\"\n",
        "    )"
      ]
    },
    {
      "cell_type": "code",
      "execution_count": 6,
      "id": "c83ced9e",
      "metadata": {
        "scrolled": true
      },
      "outputs": [
        {
          "name": "stdout",
          "output_type": "stream",
          "text": [
            "Found 4447 validated image filenames belonging to 6 classes.\n",
            "Found 1112 validated image filenames belonging to 6 classes.\n"
          ]
        }
      ],
      "source": [
        "train_datagen = ImageDataGenerator(\n",
        "    preprocessing_function=preprocess_input,\n",
        "    dtype=\"float16\"\n",
        ")\n",
        "\n",
        "train_generator = train_datagen.flow_from_dataframe(\n",
        "    df_train,\n",
        "    x_col='filename',\n",
        "    y_col='label',\n",
        "    target_size=(IMAGE_SIZE, IMAGE_SIZE),\n",
        "    batch_size=BATCH_SIZE,\n",
        ")\n",
        "\n",
        "val_datagen = ImageDataGenerator(\n",
        "    preprocessing_function=preprocess_input,\n",
        "    dtype=\"float16\"\n",
        ")\n",
        "\n",
        "val_generator = val_datagen.flow_from_dataframe(\n",
        "    df_val,\n",
        "    x_col='filename',\n",
        "    y_col='label',\n",
        "    target_size=(IMAGE_SIZE, IMAGE_SIZE),\n",
        "    batch_size=BATCH_SIZE,\n",
        ")"
      ]
    },
    {
      "cell_type": "code",
      "execution_count": 7,
      "id": "0f35ac7c",
      "metadata": {},
      "outputs": [
        {
          "data": {
            "text/plain": [
              "array(['cup', 'fork', 'glass', 'knife', 'plate', 'spoon'], dtype='<U5')"
            ]
          },
          "execution_count": 7,
          "metadata": {},
          "output_type": "execute_result"
        }
      ],
      "source": [
        "classes = np.array(list(train_generator.class_indices.keys()))\n",
        "classes"
      ]
    },
    {
      "cell_type": "code",
      "execution_count": 8,
      "id": "f82948f5",
      "metadata": {},
      "outputs": [],
      "source": [
        "earlystopping = tf.keras.callbacks.EarlyStopping(\n",
        "    monitor = 'val_accuracy',\n",
        "    min_delta = 1e-4,\n",
        "    patience = 3,\n",
        "    mode = 'max',\n",
        "    restore_best_weights = True,\n",
        "    verbose = 1\n",
        ")\n",
        "\n",
        "callbacks = [earlystopping]"
      ]
    },
    {
      "cell_type": "code",
      "execution_count": 9,
      "id": "416ccb4c",
      "metadata": {},
      "outputs": [],
      "source": [
        "def get_model_deit(model_url, res=IMAGE_SIZE, num_classes=len(classes)) -> tf.keras.Model:\n",
        "    inputs = tf.keras.Input((res, res, 3))\n",
        "    hub_module = hub.KerasLayer(model_url, trainable=False)\n",
        "\n",
        "    base_model_layers, _ = hub_module(inputs)   # Second output in the tuple is a dictionary containing attention scores.\n",
        "    outputs = keras.layers.Dense(num_classes, activation=\"softmax\")(base_model_layers)\n",
        "    \n",
        "    return tf.keras.Model(inputs, outputs) "
      ]
    },
    {
      "attachments": {},
      "cell_type": "markdown",
      "id": "2a3d6e50",
      "metadata": {},
      "source": [
        "Warnings are normal; the pre-trained weights for the original classifications heads are not being skipped."
      ]
    },
    {
      "cell_type": "code",
      "execution_count": 10,
      "id": "7a7a80f8",
      "metadata": {},
      "outputs": [],
      "source": [
        "def build_model(hp):\n",
        "    model_gcs_path = \"http://tfhub.dev/sayakpaul/deit_base_distilled_patch16_224_fe/1\"\n",
        "    model = get_model_deit(model_gcs_path)\n",
        "\n",
        "    # Define the optimizer learning rate as a hyperparameter.\n",
        "    learning_rate = hp.Float(\"lr\", min_value=1e-5, max_value=1e-1, sampling=\"log\")\n",
        "    model.compile(\n",
        "        optimizer=keras.optimizers.Adam(learning_rate=learning_rate),\n",
        "        loss=\"categorical_crossentropy\",\n",
        "        metrics=[\"accuracy\"],\n",
        "    )\n",
        "    return model"
      ]
    },
    {
      "cell_type": "code",
      "execution_count": 11,
      "id": "0e846ae7",
      "metadata": {},
      "outputs": [
        {
          "name": "stderr",
          "output_type": "stream",
          "text": [
            "WARNING:root:Malformed experiment '1'. Detailed error Yaml file 'E:\\andre\\Documents\\kitchenware-competition-starter\\mlruns\\1\\meta.yaml' does not exist.\n",
            "Traceback (most recent call last):\n",
            "  File \"c:\\Users\\andre\\anaconda3\\envs\\py-39-tf-2.10\\lib\\site-packages\\mlflow\\store\\tracking\\file_store.py\", line 279, in search_experiments\n",
            "    exp = self._get_experiment(exp_id, view_type)\n",
            "  File \"c:\\Users\\andre\\anaconda3\\envs\\py-39-tf-2.10\\lib\\site-packages\\mlflow\\store\\tracking\\file_store.py\", line 372, in _get_experiment\n",
            "    meta = FileStore._read_yaml(experiment_dir, FileStore.META_DATA_FILE_NAME)\n",
            "  File \"c:\\Users\\andre\\anaconda3\\envs\\py-39-tf-2.10\\lib\\site-packages\\mlflow\\store\\tracking\\file_store.py\", line 1082, in _read_yaml\n",
            "    return _read_helper(root, file_name, attempts_remaining=retries)\n",
            "  File \"c:\\Users\\andre\\anaconda3\\envs\\py-39-tf-2.10\\lib\\site-packages\\mlflow\\store\\tracking\\file_store.py\", line 1075, in _read_helper\n",
            "    result = read_yaml(root, file_name)\n",
            "  File \"c:\\Users\\andre\\anaconda3\\envs\\py-39-tf-2.10\\lib\\site-packages\\mlflow\\utils\\file_utils.py\", line 182, in read_yaml\n",
            "    raise MissingConfigException(\"Yaml file '%s' does not exist.\" % file_path)\n",
            "mlflow.exceptions.MissingConfigException: Yaml file 'E:\\andre\\Documents\\kitchenware-competition-starter\\mlruns\\1\\meta.yaml' does not exist.\n",
            "WARNING:root:Malformed experiment '3'. Detailed error Yaml file 'E:\\andre\\Documents\\kitchenware-competition-starter\\mlruns\\3\\meta.yaml' does not exist.\n",
            "Traceback (most recent call last):\n",
            "  File \"c:\\Users\\andre\\anaconda3\\envs\\py-39-tf-2.10\\lib\\site-packages\\mlflow\\store\\tracking\\file_store.py\", line 279, in search_experiments\n",
            "    exp = self._get_experiment(exp_id, view_type)\n",
            "  File \"c:\\Users\\andre\\anaconda3\\envs\\py-39-tf-2.10\\lib\\site-packages\\mlflow\\store\\tracking\\file_store.py\", line 372, in _get_experiment\n",
            "    meta = FileStore._read_yaml(experiment_dir, FileStore.META_DATA_FILE_NAME)\n",
            "  File \"c:\\Users\\andre\\anaconda3\\envs\\py-39-tf-2.10\\lib\\site-packages\\mlflow\\store\\tracking\\file_store.py\", line 1082, in _read_yaml\n",
            "    return _read_helper(root, file_name, attempts_remaining=retries)\n",
            "  File \"c:\\Users\\andre\\anaconda3\\envs\\py-39-tf-2.10\\lib\\site-packages\\mlflow\\store\\tracking\\file_store.py\", line 1075, in _read_helper\n",
            "    result = read_yaml(root, file_name)\n",
            "  File \"c:\\Users\\andre\\anaconda3\\envs\\py-39-tf-2.10\\lib\\site-packages\\mlflow\\utils\\file_utils.py\", line 182, in read_yaml\n",
            "    raise MissingConfigException(\"Yaml file '%s' does not exist.\" % file_path)\n",
            "mlflow.exceptions.MissingConfigException: Yaml file 'E:\\andre\\Documents\\kitchenware-competition-starter\\mlruns\\3\\meta.yaml' does not exist.\n",
            "2022/12/16 04:10:17 WARNING mlflow.utils.autologging_utils: You are using an unsupported version of tensorflow. If you encounter errors during autologging, try upgrading / downgrading tensorflow to a supported version, or try upgrading MLflow.\n"
          ]
        },
        {
          "name": "stdout",
          "output_type": "stream",
          "text": [
            "INFO:tensorflow:Reloading Oracle from existing project kt_learning_rate_search\\kt_learning_rate_search\\oracle.json\n"
          ]
        },
        {
          "name": "stderr",
          "output_type": "stream",
          "text": [
            "INFO:tensorflow:Reloading Oracle from existing project kt_learning_rate_search\\kt_learning_rate_search\\oracle.json\n"
          ]
        },
        {
          "name": "stdout",
          "output_type": "stream",
          "text": [
            "WARNING:tensorflow:Please fix your imports. Module tensorflow.python.training.tracking.data_structures has been moved to tensorflow.python.trackable.data_structures. The old module will be deleted in version 2.11.\n"
          ]
        },
        {
          "name": "stderr",
          "output_type": "stream",
          "text": [
            "WARNING:tensorflow:Please fix your imports. Module tensorflow.python.training.tracking.data_structures has been moved to tensorflow.python.trackable.data_structures. The old module will be deleted in version 2.11.\n"
          ]
        }
      ],
      "source": [
        "EXP_NAME = 'learning_rate_search'\n",
        "mlflow.set_experiment(EXP_NAME)\n",
        "mlflow.set_tracking_uri(\"sqlite:///mlruns.db\")\n",
        "mlflow.tensorflow.autolog()\n",
        "\n",
        "tuner = kt.RandomSearch(\n",
        "    hypermodel=build_model,\n",
        "    objective=\"val_accuracy\",\n",
        "    max_trials=5,\n",
        "    executions_per_trial=1,\n",
        "    overwrite=False,\n",
        "    directory='kt_' + EXP_NAME,\n",
        "    tuner_id='kt_' + EXP_NAME,\n",
        "    project_name='kt_' + EXP_NAME,\n",
        ")"
      ]
    },
    {
      "cell_type": "code",
      "execution_count": 12,
      "id": "aba47126",
      "metadata": {},
      "outputs": [
        {
          "name": "stdout",
          "output_type": "stream",
          "text": [
            "Search space summary\n",
            "Default search space size: 1\n",
            "lr (Float)\n",
            "{'default': 1e-05, 'conditions': [], 'min_value': 1e-05, 'max_value': 0.1, 'step': None, 'sampling': 'log'}\n"
          ]
        }
      ],
      "source": [
        "tuner.search_space_summary()"
      ]
    },
    {
      "cell_type": "code",
      "execution_count": 13,
      "id": "2134824e",
      "metadata": {},
      "outputs": [
        {
          "name": "stdout",
          "output_type": "stream",
          "text": [
            "Trial 5 Complete [00h 07m 21s]\n",
            "val_accuracy: 0.9676259160041809\n",
            "\n",
            "Best val_accuracy So Far: 0.9703237414360046\n",
            "Total elapsed time: 00h 38m 32s\n",
            "INFO:tensorflow:Oracle triggered exit\n"
          ]
        },
        {
          "name": "stderr",
          "output_type": "stream",
          "text": [
            "INFO:tensorflow:Oracle triggered exit\n"
          ]
        }
      ],
      "source": [
        "tuner.search(\n",
        "    x = train_generator,\n",
        "    validation_data=val_generator,\n",
        "    batch_size=BATCH_SIZE,\n",
        "    epochs=EPOCHS,\n",
        "    workers=WORKERS,\n",
        "    callbacks=callbacks\n",
        ")"
      ]
    },
    {
      "cell_type": "code",
      "execution_count": 14,
      "id": "72981dfb",
      "metadata": {},
      "outputs": [
        {
          "name": "stdout",
          "output_type": "stream",
          "text": [
            "Results summary\n",
            "Results in kt_learning_rate_search\\kt_learning_rate_search\n",
            "Showing 10 best trials\n",
            "<keras_tuner.engine.objective.Objective object at 0x0000020D10173FD0>\n",
            "Trial summary\n",
            "Hyperparameters:\n",
            "lr: 0.0015658663854515723\n",
            "Score: 0.9703237414360046\n",
            "Trial summary\n",
            "Hyperparameters:\n",
            "lr: 0.0945999617156897\n",
            "Score: 0.9676259160041809\n",
            "Trial summary\n",
            "Hyperparameters:\n",
            "lr: 0.0492500587799961\n",
            "Score: 0.9613309502601624\n",
            "Trial summary\n",
            "Hyperparameters:\n",
            "lr: 3.184628921998135e-05\n",
            "Score: 0.9595323801040649\n",
            "Trial summary\n",
            "Hyperparameters:\n",
            "lr: 1.9521149767274305e-05\n",
            "Score: 0.9424460530281067\n",
            "None\n"
          ]
        }
      ],
      "source": [
        "print(tuner.results_summary())"
      ]
    },
    {
      "attachments": {},
      "cell_type": "markdown",
      "id": "d7f3a7a3",
      "metadata": {},
      "source": [
        "## Final Search with the BEiT model:"
      ]
    },
    {
      "cell_type": "code",
      "execution_count": null,
      "id": "905dd09e",
      "metadata": {},
      "outputs": [],
      "source": [
        "from keras_cv_attention_models import beit"
      ]
    },
    {
      "cell_type": "code",
      "execution_count": null,
      "id": "6de9e97e",
      "metadata": {},
      "outputs": [],
      "source": [
        "def build_model(hp):\n",
        "    model = beit.BeitLargePatch16( #BeitBasePatch16(\n",
        "        pretrained='imagenet21k-ft1k',  #weights='imagenet',\n",
        "        input_shape=(IMAGE_SIZE, IMAGE_SIZE, 3),\n",
        "        num_classes=len(classes)\n",
        "    )\n",
        "    model.trainable = False\n",
        "\n",
        "    # Define the optimizer learning rate as a hyperparameter.\n",
        "    learning_rate = hp.Choice(\"lr\", values = [0.003, 0.001, 0.0003])\n",
        "    model.compile(\n",
        "        optimizer=keras.optimizers.Adam(learning_rate=learning_rate),\n",
        "        loss=\"categorical_crossentropy\",\n",
        "        metrics=[\"accuracy\"],\n",
        "    )\n",
        "    return model"
      ]
    },
    {
      "cell_type": "code",
      "execution_count": null,
      "id": "34584591",
      "metadata": {},
      "outputs": [],
      "source": [
        "EXP_NAME = 'learning_rate_search_final'\n",
        "\n",
        "tuner = kt.RandomSearch(\n",
        "    hypermodel=build_model,\n",
        "    objective=\"val_accuracy\",\n",
        "    max_trials=3,\n",
        "    executions_per_trial=1,\n",
        "    overwrite=False,\n",
        "    directory='kt_' + EXP_NAME,\n",
        "    tuner_id='kt_' + EXP_NAME,\n",
        "    project_name='kt_' + EXP_NAME,\n",
        ")"
      ]
    },
    {
      "cell_type": "code",
      "execution_count": null,
      "id": "fc0a0f51",
      "metadata": {},
      "outputs": [],
      "source": [
        "tuner.search(\n",
        "    x = train_generator,\n",
        "    validation_data=val_generator,\n",
        "    batch_size=BATCH_SIZE,\n",
        "    epochs=EPOCHS,\n",
        "    workers=WORKERS,\n",
        "    callbacks=callbacks\n",
        ")"
      ]
    },
    {
      "cell_type": "code",
      "execution_count": null,
      "id": "5687c5a2",
      "metadata": {},
      "outputs": [],
      "source": [
        "print(tuner.results_summary())"
      ]
    }
  ],
  "metadata": {
    "kernelspec": {
      "display_name": "py-39-tf-2.10",
      "language": "python",
      "name": "python3"
    },
    "language_info": {
      "codemirror_mode": {
        "name": "ipython",
        "version": 3
      },
      "file_extension": ".py",
      "mimetype": "text/x-python",
      "name": "python",
      "nbconvert_exporter": "python",
      "pygments_lexer": "ipython3",
      "version": "3.9.0"
    },
    "vscode": {
      "interpreter": {
        "hash": "f55e75aed3a0cf5024464fbc8e31675ba942646c9cd79dbaff3424bb49495c78"
      }
    }
  },
  "nbformat": 4,
  "nbformat_minor": 5
}
