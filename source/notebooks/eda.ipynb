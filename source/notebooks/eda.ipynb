{
 "cells": [
  {
   "attachments": {},
   "cell_type": "markdown",
   "metadata": {},
   "source": [
    "# EDA\n"
   ]
  },
  {
   "attachments": {},
   "cell_type": "markdown",
   "metadata": {},
   "source": [
    "See [README.md](../../README.md#Dataset) for information on dataset"
   ]
  },
  {
   "cell_type": "code",
   "execution_count": 1,
   "metadata": {},
   "outputs": [],
   "source": [
    "import pandas as pd\n",
    "import numpy as np\n",
    "\n",
    "import matplotlib.pyplot as plt"
   ]
  },
  {
   "cell_type": "code",
   "execution_count": 2,
   "metadata": {},
   "outputs": [
    {
     "name": "stdout",
     "output_type": "stream",
     "text": [
      "total 22844\n",
      "-rwxrwxrwx 1 andre andre   429713 Nov 14 15:38 sample_submission.csv\n",
      "-rwxrwxrwx 1 andre andre  9134692 Nov 14 15:38 test.csv\n",
      "-rwxrwxrwx 1 andre andre 13820236 Nov 14 15:38 train.csv\n"
     ]
    }
   ],
   "source": [
    "!ls -l ../../data"
   ]
  },
  {
   "attachments": {},
   "cell_type": "markdown",
   "metadata": {},
   "source": [
    "Peaking at data:"
   ]
  },
  {
   "cell_type": "code",
   "execution_count": 3,
   "metadata": {},
   "outputs": [
    {
     "data": {
      "text/html": [
       "<div>\n",
       "<style scoped>\n",
       "    .dataframe tbody tr th:only-of-type {\n",
       "        vertical-align: middle;\n",
       "    }\n",
       "\n",
       "    .dataframe tbody tr th {\n",
       "        vertical-align: top;\n",
       "    }\n",
       "\n",
       "    .dataframe thead th {\n",
       "        text-align: right;\n",
       "    }\n",
       "</style>\n",
       "<table border=\"1\" class=\"dataframe\">\n",
       "  <thead>\n",
       "    <tr style=\"text-align: right;\">\n",
       "      <th></th>\n",
       "      <th>policy_id</th>\n",
       "      <th>policy_tenure</th>\n",
       "      <th>age_of_car</th>\n",
       "      <th>age_of_policyholder</th>\n",
       "      <th>area_cluster</th>\n",
       "      <th>population_density</th>\n",
       "      <th>make</th>\n",
       "      <th>segment</th>\n",
       "      <th>model</th>\n",
       "      <th>fuel_type</th>\n",
       "      <th>...</th>\n",
       "      <th>is_brake_assist</th>\n",
       "      <th>is_power_door_locks</th>\n",
       "      <th>is_central_locking</th>\n",
       "      <th>is_power_steering</th>\n",
       "      <th>is_driver_seat_height_adjustable</th>\n",
       "      <th>is_day_night_rear_view_mirror</th>\n",
       "      <th>is_ecw</th>\n",
       "      <th>is_speed_alert</th>\n",
       "      <th>ncap_rating</th>\n",
       "      <th>is_claim</th>\n",
       "    </tr>\n",
       "  </thead>\n",
       "  <tbody>\n",
       "    <tr>\n",
       "      <th>0</th>\n",
       "      <td>ID00001</td>\n",
       "      <td>0.515874</td>\n",
       "      <td>0.05</td>\n",
       "      <td>0.644231</td>\n",
       "      <td>C1</td>\n",
       "      <td>4990</td>\n",
       "      <td>1</td>\n",
       "      <td>A</td>\n",
       "      <td>M1</td>\n",
       "      <td>CNG</td>\n",
       "      <td>...</td>\n",
       "      <td>No</td>\n",
       "      <td>No</td>\n",
       "      <td>No</td>\n",
       "      <td>Yes</td>\n",
       "      <td>No</td>\n",
       "      <td>No</td>\n",
       "      <td>No</td>\n",
       "      <td>Yes</td>\n",
       "      <td>0</td>\n",
       "      <td>0</td>\n",
       "    </tr>\n",
       "    <tr>\n",
       "      <th>1</th>\n",
       "      <td>ID00002</td>\n",
       "      <td>0.672619</td>\n",
       "      <td>0.02</td>\n",
       "      <td>0.375000</td>\n",
       "      <td>C2</td>\n",
       "      <td>27003</td>\n",
       "      <td>1</td>\n",
       "      <td>A</td>\n",
       "      <td>M1</td>\n",
       "      <td>CNG</td>\n",
       "      <td>...</td>\n",
       "      <td>No</td>\n",
       "      <td>No</td>\n",
       "      <td>No</td>\n",
       "      <td>Yes</td>\n",
       "      <td>No</td>\n",
       "      <td>No</td>\n",
       "      <td>No</td>\n",
       "      <td>Yes</td>\n",
       "      <td>0</td>\n",
       "      <td>0</td>\n",
       "    </tr>\n",
       "    <tr>\n",
       "      <th>2</th>\n",
       "      <td>ID00003</td>\n",
       "      <td>0.841110</td>\n",
       "      <td>0.02</td>\n",
       "      <td>0.384615</td>\n",
       "      <td>C3</td>\n",
       "      <td>4076</td>\n",
       "      <td>1</td>\n",
       "      <td>A</td>\n",
       "      <td>M1</td>\n",
       "      <td>CNG</td>\n",
       "      <td>...</td>\n",
       "      <td>No</td>\n",
       "      <td>No</td>\n",
       "      <td>No</td>\n",
       "      <td>Yes</td>\n",
       "      <td>No</td>\n",
       "      <td>No</td>\n",
       "      <td>No</td>\n",
       "      <td>Yes</td>\n",
       "      <td>0</td>\n",
       "      <td>0</td>\n",
       "    </tr>\n",
       "    <tr>\n",
       "      <th>3</th>\n",
       "      <td>ID00004</td>\n",
       "      <td>0.900277</td>\n",
       "      <td>0.11</td>\n",
       "      <td>0.432692</td>\n",
       "      <td>C4</td>\n",
       "      <td>21622</td>\n",
       "      <td>1</td>\n",
       "      <td>C1</td>\n",
       "      <td>M2</td>\n",
       "      <td>Petrol</td>\n",
       "      <td>...</td>\n",
       "      <td>Yes</td>\n",
       "      <td>Yes</td>\n",
       "      <td>Yes</td>\n",
       "      <td>Yes</td>\n",
       "      <td>Yes</td>\n",
       "      <td>Yes</td>\n",
       "      <td>Yes</td>\n",
       "      <td>Yes</td>\n",
       "      <td>2</td>\n",
       "      <td>0</td>\n",
       "    </tr>\n",
       "    <tr>\n",
       "      <th>4</th>\n",
       "      <td>ID00005</td>\n",
       "      <td>0.596403</td>\n",
       "      <td>0.11</td>\n",
       "      <td>0.634615</td>\n",
       "      <td>C5</td>\n",
       "      <td>34738</td>\n",
       "      <td>2</td>\n",
       "      <td>A</td>\n",
       "      <td>M3</td>\n",
       "      <td>Petrol</td>\n",
       "      <td>...</td>\n",
       "      <td>No</td>\n",
       "      <td>Yes</td>\n",
       "      <td>Yes</td>\n",
       "      <td>Yes</td>\n",
       "      <td>No</td>\n",
       "      <td>Yes</td>\n",
       "      <td>Yes</td>\n",
       "      <td>Yes</td>\n",
       "      <td>2</td>\n",
       "      <td>0</td>\n",
       "    </tr>\n",
       "  </tbody>\n",
       "</table>\n",
       "<p>5 rows × 44 columns</p>\n",
       "</div>"
      ],
      "text/plain": [
       "  policy_id  policy_tenure  age_of_car  age_of_policyholder area_cluster  \\\n",
       "0   ID00001       0.515874        0.05             0.644231           C1   \n",
       "1   ID00002       0.672619        0.02             0.375000           C2   \n",
       "2   ID00003       0.841110        0.02             0.384615           C3   \n",
       "3   ID00004       0.900277        0.11             0.432692           C4   \n",
       "4   ID00005       0.596403        0.11             0.634615           C5   \n",
       "\n",
       "   population_density  make segment model fuel_type  ... is_brake_assist  \\\n",
       "0                4990     1       A    M1       CNG  ...              No   \n",
       "1               27003     1       A    M1       CNG  ...              No   \n",
       "2                4076     1       A    M1       CNG  ...              No   \n",
       "3               21622     1      C1    M2    Petrol  ...             Yes   \n",
       "4               34738     2       A    M3    Petrol  ...              No   \n",
       "\n",
       "  is_power_door_locks is_central_locking  is_power_steering  \\\n",
       "0                  No                 No                Yes   \n",
       "1                  No                 No                Yes   \n",
       "2                  No                 No                Yes   \n",
       "3                 Yes                Yes                Yes   \n",
       "4                 Yes                Yes                Yes   \n",
       "\n",
       "  is_driver_seat_height_adjustable is_day_night_rear_view_mirror is_ecw  \\\n",
       "0                               No                            No     No   \n",
       "1                               No                            No     No   \n",
       "2                               No                            No     No   \n",
       "3                              Yes                           Yes    Yes   \n",
       "4                               No                           Yes    Yes   \n",
       "\n",
       "  is_speed_alert ncap_rating is_claim  \n",
       "0            Yes           0        0  \n",
       "1            Yes           0        0  \n",
       "2            Yes           0        0  \n",
       "3            Yes           2        0  \n",
       "4            Yes           2        0  \n",
       "\n",
       "[5 rows x 44 columns]"
      ]
     },
     "execution_count": 3,
     "metadata": {},
     "output_type": "execute_result"
    }
   ],
   "source": [
    "df = pd.read_csv(\"../../data/train.csv\")\n",
    "df.head()"
   ]
  },
  {
   "attachments": {},
   "cell_type": "markdown",
   "metadata": {},
   "source": [
    "Reading it transposed instead:"
   ]
  },
  {
   "cell_type": "code",
   "execution_count": 4,
   "metadata": {},
   "outputs": [
    {
     "data": {
      "text/html": [
       "<div>\n",
       "<style scoped>\n",
       "    .dataframe tbody tr th:only-of-type {\n",
       "        vertical-align: middle;\n",
       "    }\n",
       "\n",
       "    .dataframe tbody tr th {\n",
       "        vertical-align: top;\n",
       "    }\n",
       "\n",
       "    .dataframe thead th {\n",
       "        text-align: right;\n",
       "    }\n",
       "</style>\n",
       "<table border=\"1\" class=\"dataframe\">\n",
       "  <thead>\n",
       "    <tr style=\"text-align: right;\">\n",
       "      <th></th>\n",
       "      <th>0</th>\n",
       "      <th>1</th>\n",
       "      <th>2</th>\n",
       "      <th>3</th>\n",
       "      <th>4</th>\n",
       "    </tr>\n",
       "  </thead>\n",
       "  <tbody>\n",
       "    <tr>\n",
       "      <th>policy_id</th>\n",
       "      <td>ID00001</td>\n",
       "      <td>ID00002</td>\n",
       "      <td>ID00003</td>\n",
       "      <td>ID00004</td>\n",
       "      <td>ID00005</td>\n",
       "    </tr>\n",
       "    <tr>\n",
       "      <th>policy_tenure</th>\n",
       "      <td>0.515874</td>\n",
       "      <td>0.672619</td>\n",
       "      <td>0.84111</td>\n",
       "      <td>0.900277</td>\n",
       "      <td>0.596403</td>\n",
       "    </tr>\n",
       "    <tr>\n",
       "      <th>age_of_car</th>\n",
       "      <td>0.05</td>\n",
       "      <td>0.02</td>\n",
       "      <td>0.02</td>\n",
       "      <td>0.11</td>\n",
       "      <td>0.11</td>\n",
       "    </tr>\n",
       "    <tr>\n",
       "      <th>age_of_policyholder</th>\n",
       "      <td>0.644231</td>\n",
       "      <td>0.375</td>\n",
       "      <td>0.384615</td>\n",
       "      <td>0.432692</td>\n",
       "      <td>0.634615</td>\n",
       "    </tr>\n",
       "    <tr>\n",
       "      <th>area_cluster</th>\n",
       "      <td>C1</td>\n",
       "      <td>C2</td>\n",
       "      <td>C3</td>\n",
       "      <td>C4</td>\n",
       "      <td>C5</td>\n",
       "    </tr>\n",
       "    <tr>\n",
       "      <th>population_density</th>\n",
       "      <td>4990</td>\n",
       "      <td>27003</td>\n",
       "      <td>4076</td>\n",
       "      <td>21622</td>\n",
       "      <td>34738</td>\n",
       "    </tr>\n",
       "    <tr>\n",
       "      <th>make</th>\n",
       "      <td>1</td>\n",
       "      <td>1</td>\n",
       "      <td>1</td>\n",
       "      <td>1</td>\n",
       "      <td>2</td>\n",
       "    </tr>\n",
       "    <tr>\n",
       "      <th>segment</th>\n",
       "      <td>A</td>\n",
       "      <td>A</td>\n",
       "      <td>A</td>\n",
       "      <td>C1</td>\n",
       "      <td>A</td>\n",
       "    </tr>\n",
       "    <tr>\n",
       "      <th>model</th>\n",
       "      <td>M1</td>\n",
       "      <td>M1</td>\n",
       "      <td>M1</td>\n",
       "      <td>M2</td>\n",
       "      <td>M3</td>\n",
       "    </tr>\n",
       "    <tr>\n",
       "      <th>fuel_type</th>\n",
       "      <td>CNG</td>\n",
       "      <td>CNG</td>\n",
       "      <td>CNG</td>\n",
       "      <td>Petrol</td>\n",
       "      <td>Petrol</td>\n",
       "    </tr>\n",
       "    <tr>\n",
       "      <th>max_torque</th>\n",
       "      <td>60Nm@3500rpm</td>\n",
       "      <td>60Nm@3500rpm</td>\n",
       "      <td>60Nm@3500rpm</td>\n",
       "      <td>113Nm@4400rpm</td>\n",
       "      <td>91Nm@4250rpm</td>\n",
       "    </tr>\n",
       "    <tr>\n",
       "      <th>max_power</th>\n",
       "      <td>40.36bhp@6000rpm</td>\n",
       "      <td>40.36bhp@6000rpm</td>\n",
       "      <td>40.36bhp@6000rpm</td>\n",
       "      <td>88.50bhp@6000rpm</td>\n",
       "      <td>67.06bhp@5500rpm</td>\n",
       "    </tr>\n",
       "    <tr>\n",
       "      <th>engine_type</th>\n",
       "      <td>F8D Petrol Engine</td>\n",
       "      <td>F8D Petrol Engine</td>\n",
       "      <td>F8D Petrol Engine</td>\n",
       "      <td>1.2 L K12N Dualjet</td>\n",
       "      <td>1.0 SCe</td>\n",
       "    </tr>\n",
       "    <tr>\n",
       "      <th>airbags</th>\n",
       "      <td>2</td>\n",
       "      <td>2</td>\n",
       "      <td>2</td>\n",
       "      <td>2</td>\n",
       "      <td>2</td>\n",
       "    </tr>\n",
       "    <tr>\n",
       "      <th>is_esc</th>\n",
       "      <td>No</td>\n",
       "      <td>No</td>\n",
       "      <td>No</td>\n",
       "      <td>Yes</td>\n",
       "      <td>No</td>\n",
       "    </tr>\n",
       "    <tr>\n",
       "      <th>is_adjustable_steering</th>\n",
       "      <td>No</td>\n",
       "      <td>No</td>\n",
       "      <td>No</td>\n",
       "      <td>Yes</td>\n",
       "      <td>No</td>\n",
       "    </tr>\n",
       "    <tr>\n",
       "      <th>is_tpms</th>\n",
       "      <td>No</td>\n",
       "      <td>No</td>\n",
       "      <td>No</td>\n",
       "      <td>No</td>\n",
       "      <td>No</td>\n",
       "    </tr>\n",
       "    <tr>\n",
       "      <th>is_parking_sensors</th>\n",
       "      <td>Yes</td>\n",
       "      <td>Yes</td>\n",
       "      <td>Yes</td>\n",
       "      <td>Yes</td>\n",
       "      <td>No</td>\n",
       "    </tr>\n",
       "    <tr>\n",
       "      <th>is_parking_camera</th>\n",
       "      <td>No</td>\n",
       "      <td>No</td>\n",
       "      <td>No</td>\n",
       "      <td>Yes</td>\n",
       "      <td>Yes</td>\n",
       "    </tr>\n",
       "    <tr>\n",
       "      <th>rear_brakes_type</th>\n",
       "      <td>Drum</td>\n",
       "      <td>Drum</td>\n",
       "      <td>Drum</td>\n",
       "      <td>Drum</td>\n",
       "      <td>Drum</td>\n",
       "    </tr>\n",
       "    <tr>\n",
       "      <th>displacement</th>\n",
       "      <td>796</td>\n",
       "      <td>796</td>\n",
       "      <td>796</td>\n",
       "      <td>1197</td>\n",
       "      <td>999</td>\n",
       "    </tr>\n",
       "    <tr>\n",
       "      <th>cylinder</th>\n",
       "      <td>3</td>\n",
       "      <td>3</td>\n",
       "      <td>3</td>\n",
       "      <td>4</td>\n",
       "      <td>3</td>\n",
       "    </tr>\n",
       "    <tr>\n",
       "      <th>transmission_type</th>\n",
       "      <td>Manual</td>\n",
       "      <td>Manual</td>\n",
       "      <td>Manual</td>\n",
       "      <td>Automatic</td>\n",
       "      <td>Automatic</td>\n",
       "    </tr>\n",
       "    <tr>\n",
       "      <th>gear_box</th>\n",
       "      <td>5</td>\n",
       "      <td>5</td>\n",
       "      <td>5</td>\n",
       "      <td>5</td>\n",
       "      <td>5</td>\n",
       "    </tr>\n",
       "    <tr>\n",
       "      <th>steering_type</th>\n",
       "      <td>Power</td>\n",
       "      <td>Power</td>\n",
       "      <td>Power</td>\n",
       "      <td>Electric</td>\n",
       "      <td>Electric</td>\n",
       "    </tr>\n",
       "    <tr>\n",
       "      <th>turning_radius</th>\n",
       "      <td>4.6</td>\n",
       "      <td>4.6</td>\n",
       "      <td>4.6</td>\n",
       "      <td>4.8</td>\n",
       "      <td>5.0</td>\n",
       "    </tr>\n",
       "    <tr>\n",
       "      <th>length</th>\n",
       "      <td>3445</td>\n",
       "      <td>3445</td>\n",
       "      <td>3445</td>\n",
       "      <td>3995</td>\n",
       "      <td>3731</td>\n",
       "    </tr>\n",
       "    <tr>\n",
       "      <th>width</th>\n",
       "      <td>1515</td>\n",
       "      <td>1515</td>\n",
       "      <td>1515</td>\n",
       "      <td>1735</td>\n",
       "      <td>1579</td>\n",
       "    </tr>\n",
       "    <tr>\n",
       "      <th>height</th>\n",
       "      <td>1475</td>\n",
       "      <td>1475</td>\n",
       "      <td>1475</td>\n",
       "      <td>1515</td>\n",
       "      <td>1490</td>\n",
       "    </tr>\n",
       "    <tr>\n",
       "      <th>gross_weight</th>\n",
       "      <td>1185</td>\n",
       "      <td>1185</td>\n",
       "      <td>1185</td>\n",
       "      <td>1335</td>\n",
       "      <td>1155</td>\n",
       "    </tr>\n",
       "    <tr>\n",
       "      <th>is_front_fog_lights</th>\n",
       "      <td>No</td>\n",
       "      <td>No</td>\n",
       "      <td>No</td>\n",
       "      <td>Yes</td>\n",
       "      <td>No</td>\n",
       "    </tr>\n",
       "    <tr>\n",
       "      <th>is_rear_window_wiper</th>\n",
       "      <td>No</td>\n",
       "      <td>No</td>\n",
       "      <td>No</td>\n",
       "      <td>No</td>\n",
       "      <td>No</td>\n",
       "    </tr>\n",
       "    <tr>\n",
       "      <th>is_rear_window_washer</th>\n",
       "      <td>No</td>\n",
       "      <td>No</td>\n",
       "      <td>No</td>\n",
       "      <td>No</td>\n",
       "      <td>No</td>\n",
       "    </tr>\n",
       "    <tr>\n",
       "      <th>is_rear_window_defogger</th>\n",
       "      <td>No</td>\n",
       "      <td>No</td>\n",
       "      <td>No</td>\n",
       "      <td>Yes</td>\n",
       "      <td>No</td>\n",
       "    </tr>\n",
       "    <tr>\n",
       "      <th>is_brake_assist</th>\n",
       "      <td>No</td>\n",
       "      <td>No</td>\n",
       "      <td>No</td>\n",
       "      <td>Yes</td>\n",
       "      <td>No</td>\n",
       "    </tr>\n",
       "    <tr>\n",
       "      <th>is_power_door_locks</th>\n",
       "      <td>No</td>\n",
       "      <td>No</td>\n",
       "      <td>No</td>\n",
       "      <td>Yes</td>\n",
       "      <td>Yes</td>\n",
       "    </tr>\n",
       "    <tr>\n",
       "      <th>is_central_locking</th>\n",
       "      <td>No</td>\n",
       "      <td>No</td>\n",
       "      <td>No</td>\n",
       "      <td>Yes</td>\n",
       "      <td>Yes</td>\n",
       "    </tr>\n",
       "    <tr>\n",
       "      <th>is_power_steering</th>\n",
       "      <td>Yes</td>\n",
       "      <td>Yes</td>\n",
       "      <td>Yes</td>\n",
       "      <td>Yes</td>\n",
       "      <td>Yes</td>\n",
       "    </tr>\n",
       "    <tr>\n",
       "      <th>is_driver_seat_height_adjustable</th>\n",
       "      <td>No</td>\n",
       "      <td>No</td>\n",
       "      <td>No</td>\n",
       "      <td>Yes</td>\n",
       "      <td>No</td>\n",
       "    </tr>\n",
       "    <tr>\n",
       "      <th>is_day_night_rear_view_mirror</th>\n",
       "      <td>No</td>\n",
       "      <td>No</td>\n",
       "      <td>No</td>\n",
       "      <td>Yes</td>\n",
       "      <td>Yes</td>\n",
       "    </tr>\n",
       "    <tr>\n",
       "      <th>is_ecw</th>\n",
       "      <td>No</td>\n",
       "      <td>No</td>\n",
       "      <td>No</td>\n",
       "      <td>Yes</td>\n",
       "      <td>Yes</td>\n",
       "    </tr>\n",
       "    <tr>\n",
       "      <th>is_speed_alert</th>\n",
       "      <td>Yes</td>\n",
       "      <td>Yes</td>\n",
       "      <td>Yes</td>\n",
       "      <td>Yes</td>\n",
       "      <td>Yes</td>\n",
       "    </tr>\n",
       "    <tr>\n",
       "      <th>ncap_rating</th>\n",
       "      <td>0</td>\n",
       "      <td>0</td>\n",
       "      <td>0</td>\n",
       "      <td>2</td>\n",
       "      <td>2</td>\n",
       "    </tr>\n",
       "    <tr>\n",
       "      <th>is_claim</th>\n",
       "      <td>0</td>\n",
       "      <td>0</td>\n",
       "      <td>0</td>\n",
       "      <td>0</td>\n",
       "      <td>0</td>\n",
       "    </tr>\n",
       "  </tbody>\n",
       "</table>\n",
       "</div>"
      ],
      "text/plain": [
       "                                                  0                  1  \\\n",
       "policy_id                                   ID00001            ID00002   \n",
       "policy_tenure                              0.515874           0.672619   \n",
       "age_of_car                                     0.05               0.02   \n",
       "age_of_policyholder                        0.644231              0.375   \n",
       "area_cluster                                     C1                 C2   \n",
       "population_density                             4990              27003   \n",
       "make                                              1                  1   \n",
       "segment                                           A                  A   \n",
       "model                                            M1                 M1   \n",
       "fuel_type                                       CNG                CNG   \n",
       "max_torque                             60Nm@3500rpm       60Nm@3500rpm   \n",
       "max_power                          40.36bhp@6000rpm   40.36bhp@6000rpm   \n",
       "engine_type                       F8D Petrol Engine  F8D Petrol Engine   \n",
       "airbags                                           2                  2   \n",
       "is_esc                                           No                 No   \n",
       "is_adjustable_steering                           No                 No   \n",
       "is_tpms                                          No                 No   \n",
       "is_parking_sensors                              Yes                Yes   \n",
       "is_parking_camera                                No                 No   \n",
       "rear_brakes_type                               Drum               Drum   \n",
       "displacement                                    796                796   \n",
       "cylinder                                          3                  3   \n",
       "transmission_type                            Manual             Manual   \n",
       "gear_box                                          5                  5   \n",
       "steering_type                                 Power              Power   \n",
       "turning_radius                                  4.6                4.6   \n",
       "length                                         3445               3445   \n",
       "width                                          1515               1515   \n",
       "height                                         1475               1475   \n",
       "gross_weight                                   1185               1185   \n",
       "is_front_fog_lights                              No                 No   \n",
       "is_rear_window_wiper                             No                 No   \n",
       "is_rear_window_washer                            No                 No   \n",
       "is_rear_window_defogger                          No                 No   \n",
       "is_brake_assist                                  No                 No   \n",
       "is_power_door_locks                              No                 No   \n",
       "is_central_locking                               No                 No   \n",
       "is_power_steering                               Yes                Yes   \n",
       "is_driver_seat_height_adjustable                 No                 No   \n",
       "is_day_night_rear_view_mirror                    No                 No   \n",
       "is_ecw                                           No                 No   \n",
       "is_speed_alert                                  Yes                Yes   \n",
       "ncap_rating                                       0                  0   \n",
       "is_claim                                          0                  0   \n",
       "\n",
       "                                                  2                   3  \\\n",
       "policy_id                                   ID00003             ID00004   \n",
       "policy_tenure                               0.84111            0.900277   \n",
       "age_of_car                                     0.02                0.11   \n",
       "age_of_policyholder                        0.384615            0.432692   \n",
       "area_cluster                                     C3                  C4   \n",
       "population_density                             4076               21622   \n",
       "make                                              1                   1   \n",
       "segment                                           A                  C1   \n",
       "model                                            M1                  M2   \n",
       "fuel_type                                       CNG              Petrol   \n",
       "max_torque                             60Nm@3500rpm       113Nm@4400rpm   \n",
       "max_power                          40.36bhp@6000rpm    88.50bhp@6000rpm   \n",
       "engine_type                       F8D Petrol Engine  1.2 L K12N Dualjet   \n",
       "airbags                                           2                   2   \n",
       "is_esc                                           No                 Yes   \n",
       "is_adjustable_steering                           No                 Yes   \n",
       "is_tpms                                          No                  No   \n",
       "is_parking_sensors                              Yes                 Yes   \n",
       "is_parking_camera                                No                 Yes   \n",
       "rear_brakes_type                               Drum                Drum   \n",
       "displacement                                    796                1197   \n",
       "cylinder                                          3                   4   \n",
       "transmission_type                            Manual           Automatic   \n",
       "gear_box                                          5                   5   \n",
       "steering_type                                 Power            Electric   \n",
       "turning_radius                                  4.6                 4.8   \n",
       "length                                         3445                3995   \n",
       "width                                          1515                1735   \n",
       "height                                         1475                1515   \n",
       "gross_weight                                   1185                1335   \n",
       "is_front_fog_lights                              No                 Yes   \n",
       "is_rear_window_wiper                             No                  No   \n",
       "is_rear_window_washer                            No                  No   \n",
       "is_rear_window_defogger                          No                 Yes   \n",
       "is_brake_assist                                  No                 Yes   \n",
       "is_power_door_locks                              No                 Yes   \n",
       "is_central_locking                               No                 Yes   \n",
       "is_power_steering                               Yes                 Yes   \n",
       "is_driver_seat_height_adjustable                 No                 Yes   \n",
       "is_day_night_rear_view_mirror                    No                 Yes   \n",
       "is_ecw                                           No                 Yes   \n",
       "is_speed_alert                                  Yes                 Yes   \n",
       "ncap_rating                                       0                   2   \n",
       "is_claim                                          0                   0   \n",
       "\n",
       "                                                 4  \n",
       "policy_id                                  ID00005  \n",
       "policy_tenure                             0.596403  \n",
       "age_of_car                                    0.11  \n",
       "age_of_policyholder                       0.634615  \n",
       "area_cluster                                    C5  \n",
       "population_density                           34738  \n",
       "make                                             2  \n",
       "segment                                          A  \n",
       "model                                           M3  \n",
       "fuel_type                                   Petrol  \n",
       "max_torque                            91Nm@4250rpm  \n",
       "max_power                         67.06bhp@5500rpm  \n",
       "engine_type                                1.0 SCe  \n",
       "airbags                                          2  \n",
       "is_esc                                          No  \n",
       "is_adjustable_steering                          No  \n",
       "is_tpms                                         No  \n",
       "is_parking_sensors                              No  \n",
       "is_parking_camera                              Yes  \n",
       "rear_brakes_type                              Drum  \n",
       "displacement                                   999  \n",
       "cylinder                                         3  \n",
       "transmission_type                        Automatic  \n",
       "gear_box                                         5  \n",
       "steering_type                             Electric  \n",
       "turning_radius                                 5.0  \n",
       "length                                        3731  \n",
       "width                                         1579  \n",
       "height                                        1490  \n",
       "gross_weight                                  1155  \n",
       "is_front_fog_lights                             No  \n",
       "is_rear_window_wiper                            No  \n",
       "is_rear_window_washer                           No  \n",
       "is_rear_window_defogger                         No  \n",
       "is_brake_assist                                 No  \n",
       "is_power_door_locks                            Yes  \n",
       "is_central_locking                             Yes  \n",
       "is_power_steering                              Yes  \n",
       "is_driver_seat_height_adjustable                No  \n",
       "is_day_night_rear_view_mirror                  Yes  \n",
       "is_ecw                                         Yes  \n",
       "is_speed_alert                                 Yes  \n",
       "ncap_rating                                      2  \n",
       "is_claim                                         0  "
      ]
     },
     "execution_count": 4,
     "metadata": {},
     "output_type": "execute_result"
    }
   ],
   "source": [
    "df.head().T"
   ]
  },
  {
   "attachments": {},
   "cell_type": "markdown",
   "metadata": {},
   "source": [
    "It may be useful to convert `policy_id` into integers and separate the values of `max_torque` and `max_power`. Additionally, the `make` field may make more sense categorically rather than numerically."
   ]
  },
  {
   "attachments": {},
   "cell_type": "markdown",
   "metadata": {},
   "source": [
    "## Cleanup"
   ]
  },
  {
   "attachments": {},
   "cell_type": "markdown",
   "metadata": {},
   "source": [
    "Checking that fields are properly typed:"
   ]
  },
  {
   "cell_type": "code",
   "execution_count": 5,
   "metadata": {},
   "outputs": [
    {
     "data": {
      "text/plain": [
       "policy_id                            object\n",
       "policy_tenure                       float64\n",
       "age_of_car                          float64\n",
       "age_of_policyholder                 float64\n",
       "area_cluster                         object\n",
       "population_density                    int64\n",
       "make                                  int64\n",
       "segment                              object\n",
       "model                                object\n",
       "fuel_type                            object\n",
       "max_torque                           object\n",
       "max_power                            object\n",
       "engine_type                          object\n",
       "airbags                               int64\n",
       "is_esc                               object\n",
       "is_adjustable_steering               object\n",
       "is_tpms                              object\n",
       "is_parking_sensors                   object\n",
       "is_parking_camera                    object\n",
       "rear_brakes_type                     object\n",
       "displacement                          int64\n",
       "cylinder                              int64\n",
       "transmission_type                    object\n",
       "gear_box                              int64\n",
       "steering_type                        object\n",
       "turning_radius                      float64\n",
       "length                                int64\n",
       "width                                 int64\n",
       "height                                int64\n",
       "gross_weight                          int64\n",
       "is_front_fog_lights                  object\n",
       "is_rear_window_wiper                 object\n",
       "is_rear_window_washer                object\n",
       "is_rear_window_defogger              object\n",
       "is_brake_assist                      object\n",
       "is_power_door_locks                  object\n",
       "is_central_locking                   object\n",
       "is_power_steering                    object\n",
       "is_driver_seat_height_adjustable     object\n",
       "is_day_night_rear_view_mirror        object\n",
       "is_ecw                               object\n",
       "is_speed_alert                       object\n",
       "ncap_rating                           int64\n",
       "is_claim                              int64\n",
       "dtype: object"
      ]
     },
     "execution_count": 5,
     "metadata": {},
     "output_type": "execute_result"
    }
   ],
   "source": [
    "df.dtypes"
   ]
  },
  {
   "attachments": {},
   "cell_type": "markdown",
   "metadata": {},
   "source": [
    "Checking for missing values:"
   ]
  },
  {
   "cell_type": "code",
   "execution_count": 6,
   "metadata": {},
   "outputs": [
    {
     "data": {
      "text/plain": [
       "policy_id                           0\n",
       "policy_tenure                       0\n",
       "age_of_car                          0\n",
       "age_of_policyholder                 0\n",
       "area_cluster                        0\n",
       "population_density                  0\n",
       "make                                0\n",
       "segment                             0\n",
       "model                               0\n",
       "fuel_type                           0\n",
       "max_torque                          0\n",
       "max_power                           0\n",
       "engine_type                         0\n",
       "airbags                             0\n",
       "is_esc                              0\n",
       "is_adjustable_steering              0\n",
       "is_tpms                             0\n",
       "is_parking_sensors                  0\n",
       "is_parking_camera                   0\n",
       "rear_brakes_type                    0\n",
       "displacement                        0\n",
       "cylinder                            0\n",
       "transmission_type                   0\n",
       "gear_box                            0\n",
       "steering_type                       0\n",
       "turning_radius                      0\n",
       "length                              0\n",
       "width                               0\n",
       "height                              0\n",
       "gross_weight                        0\n",
       "is_front_fog_lights                 0\n",
       "is_rear_window_wiper                0\n",
       "is_rear_window_washer               0\n",
       "is_rear_window_defogger             0\n",
       "is_brake_assist                     0\n",
       "is_power_door_locks                 0\n",
       "is_central_locking                  0\n",
       "is_power_steering                   0\n",
       "is_driver_seat_height_adjustable    0\n",
       "is_day_night_rear_view_mirror       0\n",
       "is_ecw                              0\n",
       "is_speed_alert                      0\n",
       "ncap_rating                         0\n",
       "is_claim                            0\n",
       "dtype: int64"
      ]
     },
     "execution_count": 6,
     "metadata": {},
     "output_type": "execute_result"
    }
   ],
   "source": [
    "df.isnull().sum()"
   ]
  },
  {
   "attachments": {},
   "cell_type": "markdown",
   "metadata": {},
   "source": [
    "No issues. Also, let's quickly get rid of capitalization and spaces"
   ]
  },
  {
   "cell_type": "code",
   "execution_count": 7,
   "metadata": {},
   "outputs": [],
   "source": [
    "df.columns = df.columns.str.lower().str.replace(' ', '_')\n",
    "\n",
    "categorical = list(df.dtypes[df.dtypes == 'object'].index)\n",
    "\n",
    "for c in categorical:\n",
    "    df[c] = df[c].str.lower().str.replace(' ', '_')"
   ]
  },
  {
   "cell_type": "code",
   "execution_count": 8,
   "metadata": {},
   "outputs": [
    {
     "data": {
      "text/html": [
       "<div>\n",
       "<style scoped>\n",
       "    .dataframe tbody tr th:only-of-type {\n",
       "        vertical-align: middle;\n",
       "    }\n",
       "\n",
       "    .dataframe tbody tr th {\n",
       "        vertical-align: top;\n",
       "    }\n",
       "\n",
       "    .dataframe thead th {\n",
       "        text-align: right;\n",
       "    }\n",
       "</style>\n",
       "<table border=\"1\" class=\"dataframe\">\n",
       "  <thead>\n",
       "    <tr style=\"text-align: right;\">\n",
       "      <th></th>\n",
       "      <th>0</th>\n",
       "      <th>1</th>\n",
       "      <th>2</th>\n",
       "      <th>3</th>\n",
       "      <th>4</th>\n",
       "    </tr>\n",
       "  </thead>\n",
       "  <tbody>\n",
       "    <tr>\n",
       "      <th>policy_id</th>\n",
       "      <td>id00001</td>\n",
       "      <td>id00002</td>\n",
       "      <td>id00003</td>\n",
       "      <td>id00004</td>\n",
       "      <td>id00005</td>\n",
       "    </tr>\n",
       "    <tr>\n",
       "      <th>policy_tenure</th>\n",
       "      <td>0.515874</td>\n",
       "      <td>0.672619</td>\n",
       "      <td>0.84111</td>\n",
       "      <td>0.900277</td>\n",
       "      <td>0.596403</td>\n",
       "    </tr>\n",
       "    <tr>\n",
       "      <th>age_of_car</th>\n",
       "      <td>0.05</td>\n",
       "      <td>0.02</td>\n",
       "      <td>0.02</td>\n",
       "      <td>0.11</td>\n",
       "      <td>0.11</td>\n",
       "    </tr>\n",
       "    <tr>\n",
       "      <th>age_of_policyholder</th>\n",
       "      <td>0.644231</td>\n",
       "      <td>0.375</td>\n",
       "      <td>0.384615</td>\n",
       "      <td>0.432692</td>\n",
       "      <td>0.634615</td>\n",
       "    </tr>\n",
       "    <tr>\n",
       "      <th>area_cluster</th>\n",
       "      <td>c1</td>\n",
       "      <td>c2</td>\n",
       "      <td>c3</td>\n",
       "      <td>c4</td>\n",
       "      <td>c5</td>\n",
       "    </tr>\n",
       "    <tr>\n",
       "      <th>population_density</th>\n",
       "      <td>4990</td>\n",
       "      <td>27003</td>\n",
       "      <td>4076</td>\n",
       "      <td>21622</td>\n",
       "      <td>34738</td>\n",
       "    </tr>\n",
       "    <tr>\n",
       "      <th>make</th>\n",
       "      <td>1</td>\n",
       "      <td>1</td>\n",
       "      <td>1</td>\n",
       "      <td>1</td>\n",
       "      <td>2</td>\n",
       "    </tr>\n",
       "    <tr>\n",
       "      <th>segment</th>\n",
       "      <td>a</td>\n",
       "      <td>a</td>\n",
       "      <td>a</td>\n",
       "      <td>c1</td>\n",
       "      <td>a</td>\n",
       "    </tr>\n",
       "    <tr>\n",
       "      <th>model</th>\n",
       "      <td>m1</td>\n",
       "      <td>m1</td>\n",
       "      <td>m1</td>\n",
       "      <td>m2</td>\n",
       "      <td>m3</td>\n",
       "    </tr>\n",
       "    <tr>\n",
       "      <th>fuel_type</th>\n",
       "      <td>cng</td>\n",
       "      <td>cng</td>\n",
       "      <td>cng</td>\n",
       "      <td>petrol</td>\n",
       "      <td>petrol</td>\n",
       "    </tr>\n",
       "    <tr>\n",
       "      <th>max_torque</th>\n",
       "      <td>60nm@3500rpm</td>\n",
       "      <td>60nm@3500rpm</td>\n",
       "      <td>60nm@3500rpm</td>\n",
       "      <td>113nm@4400rpm</td>\n",
       "      <td>91nm@4250rpm</td>\n",
       "    </tr>\n",
       "    <tr>\n",
       "      <th>max_power</th>\n",
       "      <td>40.36bhp@6000rpm</td>\n",
       "      <td>40.36bhp@6000rpm</td>\n",
       "      <td>40.36bhp@6000rpm</td>\n",
       "      <td>88.50bhp@6000rpm</td>\n",
       "      <td>67.06bhp@5500rpm</td>\n",
       "    </tr>\n",
       "    <tr>\n",
       "      <th>engine_type</th>\n",
       "      <td>f8d_petrol_engine</td>\n",
       "      <td>f8d_petrol_engine</td>\n",
       "      <td>f8d_petrol_engine</td>\n",
       "      <td>1.2_l_k12n_dualjet</td>\n",
       "      <td>1.0_sce</td>\n",
       "    </tr>\n",
       "    <tr>\n",
       "      <th>airbags</th>\n",
       "      <td>2</td>\n",
       "      <td>2</td>\n",
       "      <td>2</td>\n",
       "      <td>2</td>\n",
       "      <td>2</td>\n",
       "    </tr>\n",
       "    <tr>\n",
       "      <th>is_esc</th>\n",
       "      <td>no</td>\n",
       "      <td>no</td>\n",
       "      <td>no</td>\n",
       "      <td>yes</td>\n",
       "      <td>no</td>\n",
       "    </tr>\n",
       "    <tr>\n",
       "      <th>is_adjustable_steering</th>\n",
       "      <td>no</td>\n",
       "      <td>no</td>\n",
       "      <td>no</td>\n",
       "      <td>yes</td>\n",
       "      <td>no</td>\n",
       "    </tr>\n",
       "    <tr>\n",
       "      <th>is_tpms</th>\n",
       "      <td>no</td>\n",
       "      <td>no</td>\n",
       "      <td>no</td>\n",
       "      <td>no</td>\n",
       "      <td>no</td>\n",
       "    </tr>\n",
       "    <tr>\n",
       "      <th>is_parking_sensors</th>\n",
       "      <td>yes</td>\n",
       "      <td>yes</td>\n",
       "      <td>yes</td>\n",
       "      <td>yes</td>\n",
       "      <td>no</td>\n",
       "    </tr>\n",
       "    <tr>\n",
       "      <th>is_parking_camera</th>\n",
       "      <td>no</td>\n",
       "      <td>no</td>\n",
       "      <td>no</td>\n",
       "      <td>yes</td>\n",
       "      <td>yes</td>\n",
       "    </tr>\n",
       "    <tr>\n",
       "      <th>rear_brakes_type</th>\n",
       "      <td>drum</td>\n",
       "      <td>drum</td>\n",
       "      <td>drum</td>\n",
       "      <td>drum</td>\n",
       "      <td>drum</td>\n",
       "    </tr>\n",
       "    <tr>\n",
       "      <th>displacement</th>\n",
       "      <td>796</td>\n",
       "      <td>796</td>\n",
       "      <td>796</td>\n",
       "      <td>1197</td>\n",
       "      <td>999</td>\n",
       "    </tr>\n",
       "    <tr>\n",
       "      <th>cylinder</th>\n",
       "      <td>3</td>\n",
       "      <td>3</td>\n",
       "      <td>3</td>\n",
       "      <td>4</td>\n",
       "      <td>3</td>\n",
       "    </tr>\n",
       "    <tr>\n",
       "      <th>transmission_type</th>\n",
       "      <td>manual</td>\n",
       "      <td>manual</td>\n",
       "      <td>manual</td>\n",
       "      <td>automatic</td>\n",
       "      <td>automatic</td>\n",
       "    </tr>\n",
       "    <tr>\n",
       "      <th>gear_box</th>\n",
       "      <td>5</td>\n",
       "      <td>5</td>\n",
       "      <td>5</td>\n",
       "      <td>5</td>\n",
       "      <td>5</td>\n",
       "    </tr>\n",
       "    <tr>\n",
       "      <th>steering_type</th>\n",
       "      <td>power</td>\n",
       "      <td>power</td>\n",
       "      <td>power</td>\n",
       "      <td>electric</td>\n",
       "      <td>electric</td>\n",
       "    </tr>\n",
       "    <tr>\n",
       "      <th>turning_radius</th>\n",
       "      <td>4.6</td>\n",
       "      <td>4.6</td>\n",
       "      <td>4.6</td>\n",
       "      <td>4.8</td>\n",
       "      <td>5.0</td>\n",
       "    </tr>\n",
       "    <tr>\n",
       "      <th>length</th>\n",
       "      <td>3445</td>\n",
       "      <td>3445</td>\n",
       "      <td>3445</td>\n",
       "      <td>3995</td>\n",
       "      <td>3731</td>\n",
       "    </tr>\n",
       "    <tr>\n",
       "      <th>width</th>\n",
       "      <td>1515</td>\n",
       "      <td>1515</td>\n",
       "      <td>1515</td>\n",
       "      <td>1735</td>\n",
       "      <td>1579</td>\n",
       "    </tr>\n",
       "    <tr>\n",
       "      <th>height</th>\n",
       "      <td>1475</td>\n",
       "      <td>1475</td>\n",
       "      <td>1475</td>\n",
       "      <td>1515</td>\n",
       "      <td>1490</td>\n",
       "    </tr>\n",
       "    <tr>\n",
       "      <th>gross_weight</th>\n",
       "      <td>1185</td>\n",
       "      <td>1185</td>\n",
       "      <td>1185</td>\n",
       "      <td>1335</td>\n",
       "      <td>1155</td>\n",
       "    </tr>\n",
       "    <tr>\n",
       "      <th>is_front_fog_lights</th>\n",
       "      <td>no</td>\n",
       "      <td>no</td>\n",
       "      <td>no</td>\n",
       "      <td>yes</td>\n",
       "      <td>no</td>\n",
       "    </tr>\n",
       "    <tr>\n",
       "      <th>is_rear_window_wiper</th>\n",
       "      <td>no</td>\n",
       "      <td>no</td>\n",
       "      <td>no</td>\n",
       "      <td>no</td>\n",
       "      <td>no</td>\n",
       "    </tr>\n",
       "    <tr>\n",
       "      <th>is_rear_window_washer</th>\n",
       "      <td>no</td>\n",
       "      <td>no</td>\n",
       "      <td>no</td>\n",
       "      <td>no</td>\n",
       "      <td>no</td>\n",
       "    </tr>\n",
       "    <tr>\n",
       "      <th>is_rear_window_defogger</th>\n",
       "      <td>no</td>\n",
       "      <td>no</td>\n",
       "      <td>no</td>\n",
       "      <td>yes</td>\n",
       "      <td>no</td>\n",
       "    </tr>\n",
       "    <tr>\n",
       "      <th>is_brake_assist</th>\n",
       "      <td>no</td>\n",
       "      <td>no</td>\n",
       "      <td>no</td>\n",
       "      <td>yes</td>\n",
       "      <td>no</td>\n",
       "    </tr>\n",
       "    <tr>\n",
       "      <th>is_power_door_locks</th>\n",
       "      <td>no</td>\n",
       "      <td>no</td>\n",
       "      <td>no</td>\n",
       "      <td>yes</td>\n",
       "      <td>yes</td>\n",
       "    </tr>\n",
       "    <tr>\n",
       "      <th>is_central_locking</th>\n",
       "      <td>no</td>\n",
       "      <td>no</td>\n",
       "      <td>no</td>\n",
       "      <td>yes</td>\n",
       "      <td>yes</td>\n",
       "    </tr>\n",
       "    <tr>\n",
       "      <th>is_power_steering</th>\n",
       "      <td>yes</td>\n",
       "      <td>yes</td>\n",
       "      <td>yes</td>\n",
       "      <td>yes</td>\n",
       "      <td>yes</td>\n",
       "    </tr>\n",
       "    <tr>\n",
       "      <th>is_driver_seat_height_adjustable</th>\n",
       "      <td>no</td>\n",
       "      <td>no</td>\n",
       "      <td>no</td>\n",
       "      <td>yes</td>\n",
       "      <td>no</td>\n",
       "    </tr>\n",
       "    <tr>\n",
       "      <th>is_day_night_rear_view_mirror</th>\n",
       "      <td>no</td>\n",
       "      <td>no</td>\n",
       "      <td>no</td>\n",
       "      <td>yes</td>\n",
       "      <td>yes</td>\n",
       "    </tr>\n",
       "    <tr>\n",
       "      <th>is_ecw</th>\n",
       "      <td>no</td>\n",
       "      <td>no</td>\n",
       "      <td>no</td>\n",
       "      <td>yes</td>\n",
       "      <td>yes</td>\n",
       "    </tr>\n",
       "    <tr>\n",
       "      <th>is_speed_alert</th>\n",
       "      <td>yes</td>\n",
       "      <td>yes</td>\n",
       "      <td>yes</td>\n",
       "      <td>yes</td>\n",
       "      <td>yes</td>\n",
       "    </tr>\n",
       "    <tr>\n",
       "      <th>ncap_rating</th>\n",
       "      <td>0</td>\n",
       "      <td>0</td>\n",
       "      <td>0</td>\n",
       "      <td>2</td>\n",
       "      <td>2</td>\n",
       "    </tr>\n",
       "    <tr>\n",
       "      <th>is_claim</th>\n",
       "      <td>0</td>\n",
       "      <td>0</td>\n",
       "      <td>0</td>\n",
       "      <td>0</td>\n",
       "      <td>0</td>\n",
       "    </tr>\n",
       "  </tbody>\n",
       "</table>\n",
       "</div>"
      ],
      "text/plain": [
       "                                                  0                  1  \\\n",
       "policy_id                                   id00001            id00002   \n",
       "policy_tenure                              0.515874           0.672619   \n",
       "age_of_car                                     0.05               0.02   \n",
       "age_of_policyholder                        0.644231              0.375   \n",
       "area_cluster                                     c1                 c2   \n",
       "population_density                             4990              27003   \n",
       "make                                              1                  1   \n",
       "segment                                           a                  a   \n",
       "model                                            m1                 m1   \n",
       "fuel_type                                       cng                cng   \n",
       "max_torque                             60nm@3500rpm       60nm@3500rpm   \n",
       "max_power                          40.36bhp@6000rpm   40.36bhp@6000rpm   \n",
       "engine_type                       f8d_petrol_engine  f8d_petrol_engine   \n",
       "airbags                                           2                  2   \n",
       "is_esc                                           no                 no   \n",
       "is_adjustable_steering                           no                 no   \n",
       "is_tpms                                          no                 no   \n",
       "is_parking_sensors                              yes                yes   \n",
       "is_parking_camera                                no                 no   \n",
       "rear_brakes_type                               drum               drum   \n",
       "displacement                                    796                796   \n",
       "cylinder                                          3                  3   \n",
       "transmission_type                            manual             manual   \n",
       "gear_box                                          5                  5   \n",
       "steering_type                                 power              power   \n",
       "turning_radius                                  4.6                4.6   \n",
       "length                                         3445               3445   \n",
       "width                                          1515               1515   \n",
       "height                                         1475               1475   \n",
       "gross_weight                                   1185               1185   \n",
       "is_front_fog_lights                              no                 no   \n",
       "is_rear_window_wiper                             no                 no   \n",
       "is_rear_window_washer                            no                 no   \n",
       "is_rear_window_defogger                          no                 no   \n",
       "is_brake_assist                                  no                 no   \n",
       "is_power_door_locks                              no                 no   \n",
       "is_central_locking                               no                 no   \n",
       "is_power_steering                               yes                yes   \n",
       "is_driver_seat_height_adjustable                 no                 no   \n",
       "is_day_night_rear_view_mirror                    no                 no   \n",
       "is_ecw                                           no                 no   \n",
       "is_speed_alert                                  yes                yes   \n",
       "ncap_rating                                       0                  0   \n",
       "is_claim                                          0                  0   \n",
       "\n",
       "                                                  2                   3  \\\n",
       "policy_id                                   id00003             id00004   \n",
       "policy_tenure                               0.84111            0.900277   \n",
       "age_of_car                                     0.02                0.11   \n",
       "age_of_policyholder                        0.384615            0.432692   \n",
       "area_cluster                                     c3                  c4   \n",
       "population_density                             4076               21622   \n",
       "make                                              1                   1   \n",
       "segment                                           a                  c1   \n",
       "model                                            m1                  m2   \n",
       "fuel_type                                       cng              petrol   \n",
       "max_torque                             60nm@3500rpm       113nm@4400rpm   \n",
       "max_power                          40.36bhp@6000rpm    88.50bhp@6000rpm   \n",
       "engine_type                       f8d_petrol_engine  1.2_l_k12n_dualjet   \n",
       "airbags                                           2                   2   \n",
       "is_esc                                           no                 yes   \n",
       "is_adjustable_steering                           no                 yes   \n",
       "is_tpms                                          no                  no   \n",
       "is_parking_sensors                              yes                 yes   \n",
       "is_parking_camera                                no                 yes   \n",
       "rear_brakes_type                               drum                drum   \n",
       "displacement                                    796                1197   \n",
       "cylinder                                          3                   4   \n",
       "transmission_type                            manual           automatic   \n",
       "gear_box                                          5                   5   \n",
       "steering_type                                 power            electric   \n",
       "turning_radius                                  4.6                 4.8   \n",
       "length                                         3445                3995   \n",
       "width                                          1515                1735   \n",
       "height                                         1475                1515   \n",
       "gross_weight                                   1185                1335   \n",
       "is_front_fog_lights                              no                 yes   \n",
       "is_rear_window_wiper                             no                  no   \n",
       "is_rear_window_washer                            no                  no   \n",
       "is_rear_window_defogger                          no                 yes   \n",
       "is_brake_assist                                  no                 yes   \n",
       "is_power_door_locks                              no                 yes   \n",
       "is_central_locking                               no                 yes   \n",
       "is_power_steering                               yes                 yes   \n",
       "is_driver_seat_height_adjustable                 no                 yes   \n",
       "is_day_night_rear_view_mirror                    no                 yes   \n",
       "is_ecw                                           no                 yes   \n",
       "is_speed_alert                                  yes                 yes   \n",
       "ncap_rating                                       0                   2   \n",
       "is_claim                                          0                   0   \n",
       "\n",
       "                                                 4  \n",
       "policy_id                                  id00005  \n",
       "policy_tenure                             0.596403  \n",
       "age_of_car                                    0.11  \n",
       "age_of_policyholder                       0.634615  \n",
       "area_cluster                                    c5  \n",
       "population_density                           34738  \n",
       "make                                             2  \n",
       "segment                                          a  \n",
       "model                                           m3  \n",
       "fuel_type                                   petrol  \n",
       "max_torque                            91nm@4250rpm  \n",
       "max_power                         67.06bhp@5500rpm  \n",
       "engine_type                                1.0_sce  \n",
       "airbags                                          2  \n",
       "is_esc                                          no  \n",
       "is_adjustable_steering                          no  \n",
       "is_tpms                                         no  \n",
       "is_parking_sensors                              no  \n",
       "is_parking_camera                              yes  \n",
       "rear_brakes_type                              drum  \n",
       "displacement                                   999  \n",
       "cylinder                                         3  \n",
       "transmission_type                        automatic  \n",
       "gear_box                                         5  \n",
       "steering_type                             electric  \n",
       "turning_radius                                 5.0  \n",
       "length                                        3731  \n",
       "width                                         1579  \n",
       "height                                        1490  \n",
       "gross_weight                                  1155  \n",
       "is_front_fog_lights                             no  \n",
       "is_rear_window_wiper                            no  \n",
       "is_rear_window_washer                           no  \n",
       "is_rear_window_defogger                         no  \n",
       "is_brake_assist                                 no  \n",
       "is_power_door_locks                            yes  \n",
       "is_central_locking                             yes  \n",
       "is_power_steering                              yes  \n",
       "is_driver_seat_height_adjustable                no  \n",
       "is_day_night_rear_view_mirror                  yes  \n",
       "is_ecw                                         yes  \n",
       "is_speed_alert                                 yes  \n",
       "ncap_rating                                      2  \n",
       "is_claim                                         0  "
      ]
     },
     "execution_count": 8,
     "metadata": {},
     "output_type": "execute_result"
    }
   ],
   "source": [
    "df.head().T"
   ]
  },
  {
   "attachments": {},
   "cell_type": "markdown",
   "metadata": {},
   "source": [
    "Let's look at the claim rate:"
   ]
  },
  {
   "cell_type": "code",
   "execution_count": 9,
   "metadata": {},
   "outputs": [
    {
     "data": {
      "text/plain": [
       "0    0.936032\n",
       "1    0.063968\n",
       "Name: is_claim, dtype: float64"
      ]
     },
     "execution_count": 9,
     "metadata": {},
     "output_type": "execute_result"
    }
   ],
   "source": [
    "df['is_claim'].value_counts(normalize=True)"
   ]
  },
  {
   "attachments": {},
   "cell_type": "markdown",
   "metadata": {},
   "source": [
    "It is dramatically one-sided. To evaluate we will use more metrics than accuracy, like **precision** and **recall**."
   ]
  },
  {
   "attachments": {},
   "cell_type": "markdown",
   "metadata": {},
   "source": [
    "Moving on to cleaning up fields. The `policy_id` may not be useful but let's clean it up."
   ]
  },
  {
   "cell_type": "markdown",
   "metadata": {},
   "source": [
    "Confirming the range:"
   ]
  },
  {
   "cell_type": "code",
   "execution_count": 10,
   "metadata": {},
   "outputs": [
    {
     "data": {
      "text/html": [
       "<div>\n",
       "<style scoped>\n",
       "    .dataframe tbody tr th:only-of-type {\n",
       "        vertical-align: middle;\n",
       "    }\n",
       "\n",
       "    .dataframe tbody tr th {\n",
       "        vertical-align: top;\n",
       "    }\n",
       "\n",
       "    .dataframe thead th {\n",
       "        text-align: right;\n",
       "    }\n",
       "</style>\n",
       "<table border=\"1\" class=\"dataframe\">\n",
       "  <thead>\n",
       "    <tr style=\"text-align: right;\">\n",
       "      <th></th>\n",
       "      <th>policy_id</th>\n",
       "      <th>policy_tenure</th>\n",
       "      <th>age_of_car</th>\n",
       "      <th>age_of_policyholder</th>\n",
       "      <th>area_cluster</th>\n",
       "      <th>population_density</th>\n",
       "      <th>make</th>\n",
       "      <th>segment</th>\n",
       "      <th>model</th>\n",
       "      <th>fuel_type</th>\n",
       "      <th>...</th>\n",
       "      <th>is_brake_assist</th>\n",
       "      <th>is_power_door_locks</th>\n",
       "      <th>is_central_locking</th>\n",
       "      <th>is_power_steering</th>\n",
       "      <th>is_driver_seat_height_adjustable</th>\n",
       "      <th>is_day_night_rear_view_mirror</th>\n",
       "      <th>is_ecw</th>\n",
       "      <th>is_speed_alert</th>\n",
       "      <th>ncap_rating</th>\n",
       "      <th>is_claim</th>\n",
       "    </tr>\n",
       "  </thead>\n",
       "  <tbody>\n",
       "    <tr>\n",
       "      <th>58587</th>\n",
       "      <td>id58588</td>\n",
       "      <td>0.355089</td>\n",
       "      <td>0.13</td>\n",
       "      <td>0.644231</td>\n",
       "      <td>c8</td>\n",
       "      <td>8794</td>\n",
       "      <td>2</td>\n",
       "      <td>a</td>\n",
       "      <td>m3</td>\n",
       "      <td>petrol</td>\n",
       "      <td>...</td>\n",
       "      <td>no</td>\n",
       "      <td>yes</td>\n",
       "      <td>yes</td>\n",
       "      <td>yes</td>\n",
       "      <td>no</td>\n",
       "      <td>yes</td>\n",
       "      <td>yes</td>\n",
       "      <td>yes</td>\n",
       "      <td>2</td>\n",
       "      <td>0</td>\n",
       "    </tr>\n",
       "    <tr>\n",
       "      <th>58588</th>\n",
       "      <td>id58589</td>\n",
       "      <td>1.199642</td>\n",
       "      <td>0.02</td>\n",
       "      <td>0.519231</td>\n",
       "      <td>c14</td>\n",
       "      <td>7788</td>\n",
       "      <td>1</td>\n",
       "      <td>a</td>\n",
       "      <td>m1</td>\n",
       "      <td>cng</td>\n",
       "      <td>...</td>\n",
       "      <td>no</td>\n",
       "      <td>no</td>\n",
       "      <td>no</td>\n",
       "      <td>yes</td>\n",
       "      <td>no</td>\n",
       "      <td>no</td>\n",
       "      <td>no</td>\n",
       "      <td>yes</td>\n",
       "      <td>0</td>\n",
       "      <td>0</td>\n",
       "    </tr>\n",
       "    <tr>\n",
       "      <th>58589</th>\n",
       "      <td>id58590</td>\n",
       "      <td>1.162273</td>\n",
       "      <td>0.05</td>\n",
       "      <td>0.451923</td>\n",
       "      <td>c5</td>\n",
       "      <td>34738</td>\n",
       "      <td>1</td>\n",
       "      <td>a</td>\n",
       "      <td>m1</td>\n",
       "      <td>cng</td>\n",
       "      <td>...</td>\n",
       "      <td>no</td>\n",
       "      <td>no</td>\n",
       "      <td>no</td>\n",
       "      <td>yes</td>\n",
       "      <td>no</td>\n",
       "      <td>no</td>\n",
       "      <td>no</td>\n",
       "      <td>yes</td>\n",
       "      <td>0</td>\n",
       "      <td>0</td>\n",
       "    </tr>\n",
       "    <tr>\n",
       "      <th>58590</th>\n",
       "      <td>id58591</td>\n",
       "      <td>1.236307</td>\n",
       "      <td>0.14</td>\n",
       "      <td>0.557692</td>\n",
       "      <td>c8</td>\n",
       "      <td>8794</td>\n",
       "      <td>1</td>\n",
       "      <td>b2</td>\n",
       "      <td>m6</td>\n",
       "      <td>petrol</td>\n",
       "      <td>...</td>\n",
       "      <td>yes</td>\n",
       "      <td>yes</td>\n",
       "      <td>yes</td>\n",
       "      <td>yes</td>\n",
       "      <td>yes</td>\n",
       "      <td>yes</td>\n",
       "      <td>yes</td>\n",
       "      <td>yes</td>\n",
       "      <td>2</td>\n",
       "      <td>0</td>\n",
       "    </tr>\n",
       "    <tr>\n",
       "      <th>58591</th>\n",
       "      <td>id58592</td>\n",
       "      <td>0.124429</td>\n",
       "      <td>0.02</td>\n",
       "      <td>0.442308</td>\n",
       "      <td>c8</td>\n",
       "      <td>8794</td>\n",
       "      <td>3</td>\n",
       "      <td>c2</td>\n",
       "      <td>m4</td>\n",
       "      <td>diesel</td>\n",
       "      <td>...</td>\n",
       "      <td>yes</td>\n",
       "      <td>yes</td>\n",
       "      <td>yes</td>\n",
       "      <td>yes</td>\n",
       "      <td>yes</td>\n",
       "      <td>no</td>\n",
       "      <td>yes</td>\n",
       "      <td>yes</td>\n",
       "      <td>3</td>\n",
       "      <td>0</td>\n",
       "    </tr>\n",
       "  </tbody>\n",
       "</table>\n",
       "<p>5 rows × 44 columns</p>\n",
       "</div>"
      ],
      "text/plain": [
       "      policy_id  policy_tenure  age_of_car  age_of_policyholder area_cluster  \\\n",
       "58587   id58588       0.355089        0.13             0.644231           c8   \n",
       "58588   id58589       1.199642        0.02             0.519231          c14   \n",
       "58589   id58590       1.162273        0.05             0.451923           c5   \n",
       "58590   id58591       1.236307        0.14             0.557692           c8   \n",
       "58591   id58592       0.124429        0.02             0.442308           c8   \n",
       "\n",
       "       population_density  make segment model fuel_type  ... is_brake_assist  \\\n",
       "58587                8794     2       a    m3    petrol  ...              no   \n",
       "58588                7788     1       a    m1       cng  ...              no   \n",
       "58589               34738     1       a    m1       cng  ...              no   \n",
       "58590                8794     1      b2    m6    petrol  ...             yes   \n",
       "58591                8794     3      c2    m4    diesel  ...             yes   \n",
       "\n",
       "      is_power_door_locks is_central_locking  is_power_steering  \\\n",
       "58587                 yes                yes                yes   \n",
       "58588                  no                 no                yes   \n",
       "58589                  no                 no                yes   \n",
       "58590                 yes                yes                yes   \n",
       "58591                 yes                yes                yes   \n",
       "\n",
       "      is_driver_seat_height_adjustable is_day_night_rear_view_mirror is_ecw  \\\n",
       "58587                               no                           yes    yes   \n",
       "58588                               no                            no     no   \n",
       "58589                               no                            no     no   \n",
       "58590                              yes                           yes    yes   \n",
       "58591                              yes                            no    yes   \n",
       "\n",
       "      is_speed_alert ncap_rating is_claim  \n",
       "58587            yes           2        0  \n",
       "58588            yes           0        0  \n",
       "58589            yes           0        0  \n",
       "58590            yes           2        0  \n",
       "58591            yes           3        0  \n",
       "\n",
       "[5 rows x 44 columns]"
      ]
     },
     "execution_count": 10,
     "metadata": {},
     "output_type": "execute_result"
    }
   ],
   "source": [
    "df.tail()"
   ]
  },
  {
   "cell_type": "code",
   "execution_count": 11,
   "metadata": {},
   "outputs": [],
   "source": [
    "df[\"policy_id\"] = df[\"policy_id\"].str[2:] # Removes the first two letters (id)\n",
    "df[\"policy_id\"] = df[\"policy_id\"].astype(\"int\")"
   ]
  },
  {
   "cell_type": "code",
   "execution_count": 12,
   "metadata": {},
   "outputs": [],
   "source": [
    "categorical.remove(\"policy_id\")"
   ]
  },
  {
   "attachments": {},
   "cell_type": "markdown",
   "metadata": {},
   "source": [
    "## Exploration:"
   ]
  },
  {
   "attachments": {},
   "cell_type": "markdown",
   "metadata": {},
   "source": [
    "Separating out the `max_torque` and `max_power` fields:"
   ]
  },
  {
   "cell_type": "code",
   "execution_count": 13,
   "metadata": {},
   "outputs": [
    {
     "name": "stdout",
     "output_type": "stream",
     "text": [
      "       max_torque_nm  max_torque_rpm\n",
      "0               60.0            3500\n",
      "1               60.0            3500\n",
      "2               60.0            3500\n",
      "3              113.0            4400\n",
      "4               91.0            4250\n",
      "...              ...             ...\n",
      "58587           91.0            4250\n",
      "58588           60.0            3500\n",
      "58589           60.0            3500\n",
      "58590          113.0            4400\n",
      "58591          250.0            2750\n",
      "\n",
      "[58592 rows x 2 columns]\n"
     ]
    }
   ],
   "source": [
    "df[['max_torque_nm','max_torque_rpm']] = df['max_torque'].str.split(\"@\", expand=True)\n",
    "df['max_torque_rpm'] = df[\"max_torque_rpm\"].str[:-3].astype(\"int\")\n",
    "df['max_torque_nm'] = df[\"max_torque_nm\"].str[:-2].astype(\"float\")\n",
    "print(df[['max_torque_nm','max_torque_rpm']])"
   ]
  },
  {
   "cell_type": "code",
   "execution_count": 14,
   "metadata": {},
   "outputs": [
    {
     "name": "stdout",
     "output_type": "stream",
     "text": [
      "       max_power_bhp  max_power_rpm\n",
      "0              40.36           6000\n",
      "1              40.36           6000\n",
      "2              40.36           6000\n",
      "3              88.50           6000\n",
      "4              67.06           5500\n",
      "...              ...            ...\n",
      "58587          67.06           5500\n",
      "58588          40.36           6000\n",
      "58589          40.36           6000\n",
      "58590          88.50           6000\n",
      "58591         113.45           4000\n",
      "\n",
      "[58592 rows x 2 columns]\n"
     ]
    }
   ],
   "source": [
    "df[['max_power_bhp','max_power_rpm']] = df['max_power'].str.split(\"@\", expand=True)\n",
    "df['max_power_rpm'] = df[\"max_power_rpm\"].str[:-3].astype(\"int\")\n",
    "df['max_power_bhp'] = df[\"max_power_bhp\"].str[:-3].astype(\"float\")\n",
    "print(df[['max_power_bhp','max_power_rpm']])"
   ]
  },
  {
   "attachments": {},
   "cell_type": "markdown",
   "metadata": {},
   "source": [
    "Converting the `make` field to categorical:"
   ]
  },
  {
   "cell_type": "code",
   "execution_count": 15,
   "metadata": {},
   "outputs": [],
   "source": [
    "# Later this will automatically be converted to \n",
    "# one-hot encoding, so this is fine\n",
    "df[\"make\"] = df[\"make\"].astype(\"str\")\n",
    "categorical.append(\"make\")"
   ]
  },
  {
   "attachments": {},
   "cell_type": "markdown",
   "metadata": {},
   "source": [
    "## Feature Importance"
   ]
  },
  {
   "attachments": {},
   "cell_type": "markdown",
   "metadata": {},
   "source": [
    "Here we observe the **risk ratios** of the categorical variables. Ratios lower than 1 are less likely to claim, greater than 1 are more likely to claim"
   ]
  },
  {
   "cell_type": "code",
   "execution_count": 16,
   "metadata": {},
   "outputs": [
    {
     "name": "stdout",
     "output_type": "stream",
     "text": [
      "area_cluster\n"
     ]
    },
    {
     "data": {
      "text/html": [
       "<div>\n",
       "<style scoped>\n",
       "    .dataframe tbody tr th:only-of-type {\n",
       "        vertical-align: middle;\n",
       "    }\n",
       "\n",
       "    .dataframe tbody tr th {\n",
       "        vertical-align: top;\n",
       "    }\n",
       "\n",
       "    .dataframe thead th {\n",
       "        text-align: right;\n",
       "    }\n",
       "</style>\n",
       "<table border=\"1\" class=\"dataframe\">\n",
       "  <thead>\n",
       "    <tr style=\"text-align: right;\">\n",
       "      <th></th>\n",
       "      <th>mean</th>\n",
       "      <th>count</th>\n",
       "      <th>diff</th>\n",
       "      <th>risk</th>\n",
       "    </tr>\n",
       "    <tr>\n",
       "      <th>area_cluster</th>\n",
       "      <th></th>\n",
       "      <th></th>\n",
       "      <th></th>\n",
       "      <th></th>\n",
       "    </tr>\n",
       "  </thead>\n",
       "  <tbody>\n",
       "    <tr>\n",
       "      <th>c1</th>\n",
       "      <td>0.051771</td>\n",
       "      <td>1468</td>\n",
       "      <td>-0.012197</td>\n",
       "      <td>0.809331</td>\n",
       "    </tr>\n",
       "    <tr>\n",
       "      <th>c10</th>\n",
       "      <td>0.046910</td>\n",
       "      <td>3155</td>\n",
       "      <td>-0.017058</td>\n",
       "      <td>0.733333</td>\n",
       "    </tr>\n",
       "    <tr>\n",
       "      <th>c11</th>\n",
       "      <td>0.059406</td>\n",
       "      <td>1212</td>\n",
       "      <td>-0.004562</td>\n",
       "      <td>0.928685</td>\n",
       "    </tr>\n",
       "    <tr>\n",
       "      <th>c12</th>\n",
       "      <td>0.054751</td>\n",
       "      <td>1589</td>\n",
       "      <td>-0.009216</td>\n",
       "      <td>0.855922</td>\n",
       "    </tr>\n",
       "    <tr>\n",
       "      <th>c13</th>\n",
       "      <td>0.056968</td>\n",
       "      <td>3423</td>\n",
       "      <td>-0.007000</td>\n",
       "      <td>0.890567</td>\n",
       "    </tr>\n",
       "    <tr>\n",
       "      <th>c14</th>\n",
       "      <td>0.076776</td>\n",
       "      <td>3660</td>\n",
       "      <td>0.012808</td>\n",
       "      <td>1.200229</td>\n",
       "    </tr>\n",
       "    <tr>\n",
       "      <th>c15</th>\n",
       "      <td>0.049287</td>\n",
       "      <td>771</td>\n",
       "      <td>-0.014681</td>\n",
       "      <td>0.770492</td>\n",
       "    </tr>\n",
       "    <tr>\n",
       "      <th>c16</th>\n",
       "      <td>0.057357</td>\n",
       "      <td>401</td>\n",
       "      <td>-0.006611</td>\n",
       "      <td>0.896648</td>\n",
       "    </tr>\n",
       "    <tr>\n",
       "      <th>c17</th>\n",
       "      <td>0.038618</td>\n",
       "      <td>492</td>\n",
       "      <td>-0.025350</td>\n",
       "      <td>0.603708</td>\n",
       "    </tr>\n",
       "    <tr>\n",
       "      <th>c18</th>\n",
       "      <td>0.107438</td>\n",
       "      <td>242</td>\n",
       "      <td>0.043470</td>\n",
       "      <td>1.679565</td>\n",
       "    </tr>\n",
       "    <tr>\n",
       "      <th>c19</th>\n",
       "      <td>0.074580</td>\n",
       "      <td>952</td>\n",
       "      <td>0.010612</td>\n",
       "      <td>1.165897</td>\n",
       "    </tr>\n",
       "    <tr>\n",
       "      <th>c2</th>\n",
       "      <td>0.070825</td>\n",
       "      <td>7342</td>\n",
       "      <td>0.006858</td>\n",
       "      <td>1.107204</td>\n",
       "    </tr>\n",
       "    <tr>\n",
       "      <th>c20</th>\n",
       "      <td>0.045872</td>\n",
       "      <td>109</td>\n",
       "      <td>-0.018096</td>\n",
       "      <td>0.717104</td>\n",
       "    </tr>\n",
       "    <tr>\n",
       "      <th>c21</th>\n",
       "      <td>0.076517</td>\n",
       "      <td>379</td>\n",
       "      <td>0.012549</td>\n",
       "      <td>1.196183</td>\n",
       "    </tr>\n",
       "    <tr>\n",
       "      <th>c22</th>\n",
       "      <td>0.082126</td>\n",
       "      <td>207</td>\n",
       "      <td>0.018158</td>\n",
       "      <td>1.283859</td>\n",
       "    </tr>\n",
       "    <tr>\n",
       "      <th>c3</th>\n",
       "      <td>0.070972</td>\n",
       "      <td>6101</td>\n",
       "      <td>0.007004</td>\n",
       "      <td>1.109496</td>\n",
       "    </tr>\n",
       "    <tr>\n",
       "      <th>c4</th>\n",
       "      <td>0.076692</td>\n",
       "      <td>665</td>\n",
       "      <td>0.012724</td>\n",
       "      <td>1.198912</td>\n",
       "    </tr>\n",
       "    <tr>\n",
       "      <th>c5</th>\n",
       "      <td>0.057745</td>\n",
       "      <td>6979</td>\n",
       "      <td>-0.006223</td>\n",
       "      <td>0.902715</td>\n",
       "    </tr>\n",
       "    <tr>\n",
       "      <th>c6</th>\n",
       "      <td>0.061798</td>\n",
       "      <td>890</td>\n",
       "      <td>-0.002170</td>\n",
       "      <td>0.966076</td>\n",
       "    </tr>\n",
       "    <tr>\n",
       "      <th>c7</th>\n",
       "      <td>0.050300</td>\n",
       "      <td>2167</td>\n",
       "      <td>-0.013668</td>\n",
       "      <td>0.786333</td>\n",
       "    </tr>\n",
       "    <tr>\n",
       "      <th>c8</th>\n",
       "      <td>0.069870</td>\n",
       "      <td>13654</td>\n",
       "      <td>0.005902</td>\n",
       "      <td>1.092263</td>\n",
       "    </tr>\n",
       "    <tr>\n",
       "      <th>c9</th>\n",
       "      <td>0.049744</td>\n",
       "      <td>2734</td>\n",
       "      <td>-0.014224</td>\n",
       "      <td>0.777641</td>\n",
       "    </tr>\n",
       "  </tbody>\n",
       "</table>\n",
       "</div>"
      ],
      "text/plain": [
       "                  mean  count      diff      risk\n",
       "area_cluster                                     \n",
       "c1            0.051771   1468 -0.012197  0.809331\n",
       "c10           0.046910   3155 -0.017058  0.733333\n",
       "c11           0.059406   1212 -0.004562  0.928685\n",
       "c12           0.054751   1589 -0.009216  0.855922\n",
       "c13           0.056968   3423 -0.007000  0.890567\n",
       "c14           0.076776   3660  0.012808  1.200229\n",
       "c15           0.049287    771 -0.014681  0.770492\n",
       "c16           0.057357    401 -0.006611  0.896648\n",
       "c17           0.038618    492 -0.025350  0.603708\n",
       "c18           0.107438    242  0.043470  1.679565\n",
       "c19           0.074580    952  0.010612  1.165897\n",
       "c2            0.070825   7342  0.006858  1.107204\n",
       "c20           0.045872    109 -0.018096  0.717104\n",
       "c21           0.076517    379  0.012549  1.196183\n",
       "c22           0.082126    207  0.018158  1.283859\n",
       "c3            0.070972   6101  0.007004  1.109496\n",
       "c4            0.076692    665  0.012724  1.198912\n",
       "c5            0.057745   6979 -0.006223  0.902715\n",
       "c6            0.061798    890 -0.002170  0.966076\n",
       "c7            0.050300   2167 -0.013668  0.786333\n",
       "c8            0.069870  13654  0.005902  1.092263\n",
       "c9            0.049744   2734 -0.014224  0.777641"
      ]
     },
     "metadata": {},
     "output_type": "display_data"
    },
    {
     "name": "stdout",
     "output_type": "stream",
     "text": [
      "\n",
      "\n",
      "segment\n"
     ]
    },
    {
     "data": {
      "text/html": [
       "<div>\n",
       "<style scoped>\n",
       "    .dataframe tbody tr th:only-of-type {\n",
       "        vertical-align: middle;\n",
       "    }\n",
       "\n",
       "    .dataframe tbody tr th {\n",
       "        vertical-align: top;\n",
       "    }\n",
       "\n",
       "    .dataframe thead th {\n",
       "        text-align: right;\n",
       "    }\n",
       "</style>\n",
       "<table border=\"1\" class=\"dataframe\">\n",
       "  <thead>\n",
       "    <tr style=\"text-align: right;\">\n",
       "      <th></th>\n",
       "      <th>mean</th>\n",
       "      <th>count</th>\n",
       "      <th>diff</th>\n",
       "      <th>risk</th>\n",
       "    </tr>\n",
       "    <tr>\n",
       "      <th>segment</th>\n",
       "      <th></th>\n",
       "      <th></th>\n",
       "      <th></th>\n",
       "      <th></th>\n",
       "    </tr>\n",
       "  </thead>\n",
       "  <tbody>\n",
       "    <tr>\n",
       "      <th>a</th>\n",
       "      <td>0.060389</td>\n",
       "      <td>17321</td>\n",
       "      <td>-0.003579</td>\n",
       "      <td>0.944055</td>\n",
       "    </tr>\n",
       "    <tr>\n",
       "      <th>b1</th>\n",
       "      <td>0.058471</td>\n",
       "      <td>4173</td>\n",
       "      <td>-0.005497</td>\n",
       "      <td>0.914072</td>\n",
       "    </tr>\n",
       "    <tr>\n",
       "      <th>b2</th>\n",
       "      <td>0.068581</td>\n",
       "      <td>18314</td>\n",
       "      <td>0.004614</td>\n",
       "      <td>1.072124</td>\n",
       "    </tr>\n",
       "    <tr>\n",
       "      <th>c1</th>\n",
       "      <td>0.064099</td>\n",
       "      <td>3557</td>\n",
       "      <td>0.000131</td>\n",
       "      <td>1.002051</td>\n",
       "    </tr>\n",
       "    <tr>\n",
       "      <th>c2</th>\n",
       "      <td>0.064275</td>\n",
       "      <td>14018</td>\n",
       "      <td>0.000307</td>\n",
       "      <td>1.004795</td>\n",
       "    </tr>\n",
       "    <tr>\n",
       "      <th>utility</th>\n",
       "      <td>0.060380</td>\n",
       "      <td>1209</td>\n",
       "      <td>-0.003587</td>\n",
       "      <td>0.943920</td>\n",
       "    </tr>\n",
       "  </tbody>\n",
       "</table>\n",
       "</div>"
      ],
      "text/plain": [
       "             mean  count      diff      risk\n",
       "segment                                     \n",
       "a        0.060389  17321 -0.003579  0.944055\n",
       "b1       0.058471   4173 -0.005497  0.914072\n",
       "b2       0.068581  18314  0.004614  1.072124\n",
       "c1       0.064099   3557  0.000131  1.002051\n",
       "c2       0.064275  14018  0.000307  1.004795\n",
       "utility  0.060380   1209 -0.003587  0.943920"
      ]
     },
     "metadata": {},
     "output_type": "display_data"
    },
    {
     "name": "stdout",
     "output_type": "stream",
     "text": [
      "\n",
      "\n",
      "model\n"
     ]
    },
    {
     "data": {
      "text/html": [
       "<div>\n",
       "<style scoped>\n",
       "    .dataframe tbody tr th:only-of-type {\n",
       "        vertical-align: middle;\n",
       "    }\n",
       "\n",
       "    .dataframe tbody tr th {\n",
       "        vertical-align: top;\n",
       "    }\n",
       "\n",
       "    .dataframe thead th {\n",
       "        text-align: right;\n",
       "    }\n",
       "</style>\n",
       "<table border=\"1\" class=\"dataframe\">\n",
       "  <thead>\n",
       "    <tr style=\"text-align: right;\">\n",
       "      <th></th>\n",
       "      <th>mean</th>\n",
       "      <th>count</th>\n",
       "      <th>diff</th>\n",
       "      <th>risk</th>\n",
       "    </tr>\n",
       "    <tr>\n",
       "      <th>model</th>\n",
       "      <th></th>\n",
       "      <th></th>\n",
       "      <th></th>\n",
       "      <th></th>\n",
       "    </tr>\n",
       "  </thead>\n",
       "  <tbody>\n",
       "    <tr>\n",
       "      <th>m1</th>\n",
       "      <td>0.061413</td>\n",
       "      <td>14948</td>\n",
       "      <td>-0.002555</td>\n",
       "      <td>0.960060</td>\n",
       "    </tr>\n",
       "    <tr>\n",
       "      <th>m10</th>\n",
       "      <td>0.060380</td>\n",
       "      <td>1209</td>\n",
       "      <td>-0.003587</td>\n",
       "      <td>0.943920</td>\n",
       "    </tr>\n",
       "    <tr>\n",
       "      <th>m11</th>\n",
       "      <td>0.041322</td>\n",
       "      <td>363</td>\n",
       "      <td>-0.022645</td>\n",
       "      <td>0.645986</td>\n",
       "    </tr>\n",
       "    <tr>\n",
       "      <th>m2</th>\n",
       "      <td>0.074074</td>\n",
       "      <td>1080</td>\n",
       "      <td>0.010106</td>\n",
       "      <td>1.157990</td>\n",
       "    </tr>\n",
       "    <tr>\n",
       "      <th>m3</th>\n",
       "      <td>0.053940</td>\n",
       "      <td>2373</td>\n",
       "      <td>-0.010028</td>\n",
       "      <td>0.843240</td>\n",
       "    </tr>\n",
       "    <tr>\n",
       "      <th>m4</th>\n",
       "      <td>0.064275</td>\n",
       "      <td>14018</td>\n",
       "      <td>0.000307</td>\n",
       "      <td>1.004795</td>\n",
       "    </tr>\n",
       "    <tr>\n",
       "      <th>m5</th>\n",
       "      <td>0.072591</td>\n",
       "      <td>1598</td>\n",
       "      <td>0.008623</td>\n",
       "      <td>1.134802</td>\n",
       "    </tr>\n",
       "    <tr>\n",
       "      <th>m6</th>\n",
       "      <td>0.068162</td>\n",
       "      <td>13776</td>\n",
       "      <td>0.004194</td>\n",
       "      <td>1.065568</td>\n",
       "    </tr>\n",
       "    <tr>\n",
       "      <th>m7</th>\n",
       "      <td>0.068367</td>\n",
       "      <td>2940</td>\n",
       "      <td>0.004400</td>\n",
       "      <td>1.068778</td>\n",
       "    </tr>\n",
       "    <tr>\n",
       "      <th>m8</th>\n",
       "      <td>0.058471</td>\n",
       "      <td>4173</td>\n",
       "      <td>-0.005497</td>\n",
       "      <td>0.914072</td>\n",
       "    </tr>\n",
       "    <tr>\n",
       "      <th>m9</th>\n",
       "      <td>0.062914</td>\n",
       "      <td>2114</td>\n",
       "      <td>-0.001054</td>\n",
       "      <td>0.983525</td>\n",
       "    </tr>\n",
       "  </tbody>\n",
       "</table>\n",
       "</div>"
      ],
      "text/plain": [
       "           mean  count      diff      risk\n",
       "model                                     \n",
       "m1     0.061413  14948 -0.002555  0.960060\n",
       "m10    0.060380   1209 -0.003587  0.943920\n",
       "m11    0.041322    363 -0.022645  0.645986\n",
       "m2     0.074074   1080  0.010106  1.157990\n",
       "m3     0.053940   2373 -0.010028  0.843240\n",
       "m4     0.064275  14018  0.000307  1.004795\n",
       "m5     0.072591   1598  0.008623  1.134802\n",
       "m6     0.068162  13776  0.004194  1.065568\n",
       "m7     0.068367   2940  0.004400  1.068778\n",
       "m8     0.058471   4173 -0.005497  0.914072\n",
       "m9     0.062914   2114 -0.001054  0.983525"
      ]
     },
     "metadata": {},
     "output_type": "display_data"
    },
    {
     "name": "stdout",
     "output_type": "stream",
     "text": [
      "\n",
      "\n",
      "fuel_type\n"
     ]
    },
    {
     "data": {
      "text/html": [
       "<div>\n",
       "<style scoped>\n",
       "    .dataframe tbody tr th:only-of-type {\n",
       "        vertical-align: middle;\n",
       "    }\n",
       "\n",
       "    .dataframe tbody tr th {\n",
       "        vertical-align: top;\n",
       "    }\n",
       "\n",
       "    .dataframe thead th {\n",
       "        text-align: right;\n",
       "    }\n",
       "</style>\n",
       "<table border=\"1\" class=\"dataframe\">\n",
       "  <thead>\n",
       "    <tr style=\"text-align: right;\">\n",
       "      <th></th>\n",
       "      <th>mean</th>\n",
       "      <th>count</th>\n",
       "      <th>diff</th>\n",
       "      <th>risk</th>\n",
       "    </tr>\n",
       "    <tr>\n",
       "      <th>fuel_type</th>\n",
       "      <th></th>\n",
       "      <th></th>\n",
       "      <th></th>\n",
       "      <th></th>\n",
       "    </tr>\n",
       "  </thead>\n",
       "  <tbody>\n",
       "    <tr>\n",
       "      <th>cng</th>\n",
       "      <td>0.060748</td>\n",
       "      <td>20330</td>\n",
       "      <td>-0.003220</td>\n",
       "      <td>0.949660</td>\n",
       "    </tr>\n",
       "    <tr>\n",
       "      <th>diesel</th>\n",
       "      <td>0.064862</td>\n",
       "      <td>17730</td>\n",
       "      <td>0.000894</td>\n",
       "      <td>1.013976</td>\n",
       "    </tr>\n",
       "    <tr>\n",
       "      <th>petrol</th>\n",
       "      <td>0.066384</td>\n",
       "      <td>20532</td>\n",
       "      <td>0.002416</td>\n",
       "      <td>1.037775</td>\n",
       "    </tr>\n",
       "  </tbody>\n",
       "</table>\n",
       "</div>"
      ],
      "text/plain": [
       "               mean  count      diff      risk\n",
       "fuel_type                                     \n",
       "cng        0.060748  20330 -0.003220  0.949660\n",
       "diesel     0.064862  17730  0.000894  1.013976\n",
       "petrol     0.066384  20532  0.002416  1.037775"
      ]
     },
     "metadata": {},
     "output_type": "display_data"
    },
    {
     "name": "stdout",
     "output_type": "stream",
     "text": [
      "\n",
      "\n",
      "max_torque\n"
     ]
    },
    {
     "data": {
      "text/html": [
       "<div>\n",
       "<style scoped>\n",
       "    .dataframe tbody tr th:only-of-type {\n",
       "        vertical-align: middle;\n",
       "    }\n",
       "\n",
       "    .dataframe tbody tr th {\n",
       "        vertical-align: top;\n",
       "    }\n",
       "\n",
       "    .dataframe thead th {\n",
       "        text-align: right;\n",
       "    }\n",
       "</style>\n",
       "<table border=\"1\" class=\"dataframe\">\n",
       "  <thead>\n",
       "    <tr style=\"text-align: right;\">\n",
       "      <th></th>\n",
       "      <th>mean</th>\n",
       "      <th>count</th>\n",
       "      <th>diff</th>\n",
       "      <th>risk</th>\n",
       "    </tr>\n",
       "    <tr>\n",
       "      <th>max_torque</th>\n",
       "      <th></th>\n",
       "      <th></th>\n",
       "      <th></th>\n",
       "      <th></th>\n",
       "    </tr>\n",
       "  </thead>\n",
       "  <tbody>\n",
       "    <tr>\n",
       "      <th>113nm@4400rpm</th>\n",
       "      <td>0.068555</td>\n",
       "      <td>17796</td>\n",
       "      <td>0.004587</td>\n",
       "      <td>1.071707</td>\n",
       "    </tr>\n",
       "    <tr>\n",
       "      <th>170nm@4000rpm</th>\n",
       "      <td>0.041322</td>\n",
       "      <td>363</td>\n",
       "      <td>-0.022645</td>\n",
       "      <td>0.645986</td>\n",
       "    </tr>\n",
       "    <tr>\n",
       "      <th>200nm@1750rpm</th>\n",
       "      <td>0.062914</td>\n",
       "      <td>2114</td>\n",
       "      <td>-0.001054</td>\n",
       "      <td>0.983525</td>\n",
       "    </tr>\n",
       "    <tr>\n",
       "      <th>200nm@3000rpm</th>\n",
       "      <td>0.072591</td>\n",
       "      <td>1598</td>\n",
       "      <td>0.008623</td>\n",
       "      <td>1.134802</td>\n",
       "    </tr>\n",
       "    <tr>\n",
       "      <th>250nm@2750rpm</th>\n",
       "      <td>0.064275</td>\n",
       "      <td>14018</td>\n",
       "      <td>0.000307</td>\n",
       "      <td>1.004795</td>\n",
       "    </tr>\n",
       "    <tr>\n",
       "      <th>60nm@3500rpm</th>\n",
       "      <td>0.061413</td>\n",
       "      <td>14948</td>\n",
       "      <td>-0.002555</td>\n",
       "      <td>0.960060</td>\n",
       "    </tr>\n",
       "    <tr>\n",
       "      <th>82.1nm@3400rpm</th>\n",
       "      <td>0.058471</td>\n",
       "      <td>4173</td>\n",
       "      <td>-0.005497</td>\n",
       "      <td>0.914072</td>\n",
       "    </tr>\n",
       "    <tr>\n",
       "      <th>85nm@3000rpm</th>\n",
       "      <td>0.060380</td>\n",
       "      <td>1209</td>\n",
       "      <td>-0.003587</td>\n",
       "      <td>0.943920</td>\n",
       "    </tr>\n",
       "    <tr>\n",
       "      <th>91nm@4250rpm</th>\n",
       "      <td>0.053940</td>\n",
       "      <td>2373</td>\n",
       "      <td>-0.010028</td>\n",
       "      <td>0.843240</td>\n",
       "    </tr>\n",
       "  </tbody>\n",
       "</table>\n",
       "</div>"
      ],
      "text/plain": [
       "                    mean  count      diff      risk\n",
       "max_torque                                         \n",
       "113nm@4400rpm   0.068555  17796  0.004587  1.071707\n",
       "170nm@4000rpm   0.041322    363 -0.022645  0.645986\n",
       "200nm@1750rpm   0.062914   2114 -0.001054  0.983525\n",
       "200nm@3000rpm   0.072591   1598  0.008623  1.134802\n",
       "250nm@2750rpm   0.064275  14018  0.000307  1.004795\n",
       "60nm@3500rpm    0.061413  14948 -0.002555  0.960060\n",
       "82.1nm@3400rpm  0.058471   4173 -0.005497  0.914072\n",
       "85nm@3000rpm    0.060380   1209 -0.003587  0.943920\n",
       "91nm@4250rpm    0.053940   2373 -0.010028  0.843240"
      ]
     },
     "metadata": {},
     "output_type": "display_data"
    },
    {
     "name": "stdout",
     "output_type": "stream",
     "text": [
      "\n",
      "\n",
      "max_power\n"
     ]
    },
    {
     "data": {
      "text/html": [
       "<div>\n",
       "<style scoped>\n",
       "    .dataframe tbody tr th:only-of-type {\n",
       "        vertical-align: middle;\n",
       "    }\n",
       "\n",
       "    .dataframe tbody tr th {\n",
       "        vertical-align: top;\n",
       "    }\n",
       "\n",
       "    .dataframe thead th {\n",
       "        text-align: right;\n",
       "    }\n",
       "</style>\n",
       "<table border=\"1\" class=\"dataframe\">\n",
       "  <thead>\n",
       "    <tr style=\"text-align: right;\">\n",
       "      <th></th>\n",
       "      <th>mean</th>\n",
       "      <th>count</th>\n",
       "      <th>diff</th>\n",
       "      <th>risk</th>\n",
       "    </tr>\n",
       "    <tr>\n",
       "      <th>max_power</th>\n",
       "      <th></th>\n",
       "      <th></th>\n",
       "      <th></th>\n",
       "      <th></th>\n",
       "    </tr>\n",
       "  </thead>\n",
       "  <tbody>\n",
       "    <tr>\n",
       "      <th>113.45bhp@4000rpm</th>\n",
       "      <td>0.064275</td>\n",
       "      <td>14018</td>\n",
       "      <td>0.000307</td>\n",
       "      <td>1.004795</td>\n",
       "    </tr>\n",
       "    <tr>\n",
       "      <th>118.36bhp@5500rpm</th>\n",
       "      <td>0.041322</td>\n",
       "      <td>363</td>\n",
       "      <td>-0.022645</td>\n",
       "      <td>0.645986</td>\n",
       "    </tr>\n",
       "    <tr>\n",
       "      <th>40.36bhp@6000rpm</th>\n",
       "      <td>0.061413</td>\n",
       "      <td>14948</td>\n",
       "      <td>-0.002555</td>\n",
       "      <td>0.960060</td>\n",
       "    </tr>\n",
       "    <tr>\n",
       "      <th>55.92bhp@5300rpm</th>\n",
       "      <td>0.058471</td>\n",
       "      <td>4173</td>\n",
       "      <td>-0.005497</td>\n",
       "      <td>0.914072</td>\n",
       "    </tr>\n",
       "    <tr>\n",
       "      <th>61.68bhp@6000rpm</th>\n",
       "      <td>0.060380</td>\n",
       "      <td>1209</td>\n",
       "      <td>-0.003587</td>\n",
       "      <td>0.943920</td>\n",
       "    </tr>\n",
       "    <tr>\n",
       "      <th>67.06bhp@5500rpm</th>\n",
       "      <td>0.053940</td>\n",
       "      <td>2373</td>\n",
       "      <td>-0.010028</td>\n",
       "      <td>0.843240</td>\n",
       "    </tr>\n",
       "    <tr>\n",
       "      <th>88.50bhp@6000rpm</th>\n",
       "      <td>0.068555</td>\n",
       "      <td>17796</td>\n",
       "      <td>0.004587</td>\n",
       "      <td>1.071707</td>\n",
       "    </tr>\n",
       "    <tr>\n",
       "      <th>88.77bhp@4000rpm</th>\n",
       "      <td>0.072591</td>\n",
       "      <td>1598</td>\n",
       "      <td>0.008623</td>\n",
       "      <td>1.134802</td>\n",
       "    </tr>\n",
       "    <tr>\n",
       "      <th>97.89bhp@3600rpm</th>\n",
       "      <td>0.062914</td>\n",
       "      <td>2114</td>\n",
       "      <td>-0.001054</td>\n",
       "      <td>0.983525</td>\n",
       "    </tr>\n",
       "  </tbody>\n",
       "</table>\n",
       "</div>"
      ],
      "text/plain": [
       "                       mean  count      diff      risk\n",
       "max_power                                             \n",
       "113.45bhp@4000rpm  0.064275  14018  0.000307  1.004795\n",
       "118.36bhp@5500rpm  0.041322    363 -0.022645  0.645986\n",
       "40.36bhp@6000rpm   0.061413  14948 -0.002555  0.960060\n",
       "55.92bhp@5300rpm   0.058471   4173 -0.005497  0.914072\n",
       "61.68bhp@6000rpm   0.060380   1209 -0.003587  0.943920\n",
       "67.06bhp@5500rpm   0.053940   2373 -0.010028  0.843240\n",
       "88.50bhp@6000rpm   0.068555  17796  0.004587  1.071707\n",
       "88.77bhp@4000rpm   0.072591   1598  0.008623  1.134802\n",
       "97.89bhp@3600rpm   0.062914   2114 -0.001054  0.983525"
      ]
     },
     "metadata": {},
     "output_type": "display_data"
    },
    {
     "name": "stdout",
     "output_type": "stream",
     "text": [
      "\n",
      "\n",
      "engine_type\n"
     ]
    },
    {
     "data": {
      "text/html": [
       "<div>\n",
       "<style scoped>\n",
       "    .dataframe tbody tr th:only-of-type {\n",
       "        vertical-align: middle;\n",
       "    }\n",
       "\n",
       "    .dataframe tbody tr th {\n",
       "        vertical-align: top;\n",
       "    }\n",
       "\n",
       "    .dataframe thead th {\n",
       "        text-align: right;\n",
       "    }\n",
       "</style>\n",
       "<table border=\"1\" class=\"dataframe\">\n",
       "  <thead>\n",
       "    <tr style=\"text-align: right;\">\n",
       "      <th></th>\n",
       "      <th>mean</th>\n",
       "      <th>count</th>\n",
       "      <th>diff</th>\n",
       "      <th>risk</th>\n",
       "    </tr>\n",
       "    <tr>\n",
       "      <th>engine_type</th>\n",
       "      <th></th>\n",
       "      <th></th>\n",
       "      <th></th>\n",
       "      <th></th>\n",
       "    </tr>\n",
       "  </thead>\n",
       "  <tbody>\n",
       "    <tr>\n",
       "      <th>1.0_sce</th>\n",
       "      <td>0.053940</td>\n",
       "      <td>2373</td>\n",
       "      <td>-0.010028</td>\n",
       "      <td>0.843240</td>\n",
       "    </tr>\n",
       "    <tr>\n",
       "      <th>1.2_l_k12n_dualjet</th>\n",
       "      <td>0.074074</td>\n",
       "      <td>1080</td>\n",
       "      <td>0.010106</td>\n",
       "      <td>1.157990</td>\n",
       "    </tr>\n",
       "    <tr>\n",
       "      <th>1.2_l_k_series_engine</th>\n",
       "      <td>0.068367</td>\n",
       "      <td>2940</td>\n",
       "      <td>0.004400</td>\n",
       "      <td>1.068778</td>\n",
       "    </tr>\n",
       "    <tr>\n",
       "      <th>1.5_l_u2_crdi</th>\n",
       "      <td>0.064275</td>\n",
       "      <td>14018</td>\n",
       "      <td>0.000307</td>\n",
       "      <td>1.004795</td>\n",
       "    </tr>\n",
       "    <tr>\n",
       "      <th>1.5_turbocharged_revotorq</th>\n",
       "      <td>0.072591</td>\n",
       "      <td>1598</td>\n",
       "      <td>0.008623</td>\n",
       "      <td>1.134802</td>\n",
       "    </tr>\n",
       "    <tr>\n",
       "      <th>1.5_turbocharged_revotron</th>\n",
       "      <td>0.041322</td>\n",
       "      <td>363</td>\n",
       "      <td>-0.022645</td>\n",
       "      <td>0.645986</td>\n",
       "    </tr>\n",
       "    <tr>\n",
       "      <th>f8d_petrol_engine</th>\n",
       "      <td>0.061413</td>\n",
       "      <td>14948</td>\n",
       "      <td>-0.002555</td>\n",
       "      <td>0.960060</td>\n",
       "    </tr>\n",
       "    <tr>\n",
       "      <th>g12b</th>\n",
       "      <td>0.060380</td>\n",
       "      <td>1209</td>\n",
       "      <td>-0.003587</td>\n",
       "      <td>0.943920</td>\n",
       "    </tr>\n",
       "    <tr>\n",
       "      <th>i-dtec</th>\n",
       "      <td>0.062914</td>\n",
       "      <td>2114</td>\n",
       "      <td>-0.001054</td>\n",
       "      <td>0.983525</td>\n",
       "    </tr>\n",
       "    <tr>\n",
       "      <th>k10c</th>\n",
       "      <td>0.058471</td>\n",
       "      <td>4173</td>\n",
       "      <td>-0.005497</td>\n",
       "      <td>0.914072</td>\n",
       "    </tr>\n",
       "    <tr>\n",
       "      <th>k_series_dual_jet</th>\n",
       "      <td>0.068162</td>\n",
       "      <td>13776</td>\n",
       "      <td>0.004194</td>\n",
       "      <td>1.065568</td>\n",
       "    </tr>\n",
       "  </tbody>\n",
       "</table>\n",
       "</div>"
      ],
      "text/plain": [
       "                               mean  count      diff      risk\n",
       "engine_type                                                   \n",
       "1.0_sce                    0.053940   2373 -0.010028  0.843240\n",
       "1.2_l_k12n_dualjet         0.074074   1080  0.010106  1.157990\n",
       "1.2_l_k_series_engine      0.068367   2940  0.004400  1.068778\n",
       "1.5_l_u2_crdi              0.064275  14018  0.000307  1.004795\n",
       "1.5_turbocharged_revotorq  0.072591   1598  0.008623  1.134802\n",
       "1.5_turbocharged_revotron  0.041322    363 -0.022645  0.645986\n",
       "f8d_petrol_engine          0.061413  14948 -0.002555  0.960060\n",
       "g12b                       0.060380   1209 -0.003587  0.943920\n",
       "i-dtec                     0.062914   2114 -0.001054  0.983525\n",
       "k10c                       0.058471   4173 -0.005497  0.914072\n",
       "k_series_dual_jet          0.068162  13776  0.004194  1.065568"
      ]
     },
     "metadata": {},
     "output_type": "display_data"
    },
    {
     "name": "stdout",
     "output_type": "stream",
     "text": [
      "\n",
      "\n",
      "is_esc\n"
     ]
    },
    {
     "data": {
      "text/html": [
       "<div>\n",
       "<style scoped>\n",
       "    .dataframe tbody tr th:only-of-type {\n",
       "        vertical-align: middle;\n",
       "    }\n",
       "\n",
       "    .dataframe tbody tr th {\n",
       "        vertical-align: top;\n",
       "    }\n",
       "\n",
       "    .dataframe thead th {\n",
       "        text-align: right;\n",
       "    }\n",
       "</style>\n",
       "<table border=\"1\" class=\"dataframe\">\n",
       "  <thead>\n",
       "    <tr style=\"text-align: right;\">\n",
       "      <th></th>\n",
       "      <th>mean</th>\n",
       "      <th>count</th>\n",
       "      <th>diff</th>\n",
       "      <th>risk</th>\n",
       "    </tr>\n",
       "    <tr>\n",
       "      <th>is_esc</th>\n",
       "      <th></th>\n",
       "      <th></th>\n",
       "      <th></th>\n",
       "      <th></th>\n",
       "    </tr>\n",
       "  </thead>\n",
       "  <tbody>\n",
       "    <tr>\n",
       "      <th>no</th>\n",
       "      <td>0.063472</td>\n",
       "      <td>40191</td>\n",
       "      <td>-0.000496</td>\n",
       "      <td>0.992248</td>\n",
       "    </tr>\n",
       "    <tr>\n",
       "      <th>yes</th>\n",
       "      <td>0.065051</td>\n",
       "      <td>18401</td>\n",
       "      <td>0.001083</td>\n",
       "      <td>1.016931</td>\n",
       "    </tr>\n",
       "  </tbody>\n",
       "</table>\n",
       "</div>"
      ],
      "text/plain": [
       "            mean  count      diff      risk\n",
       "is_esc                                     \n",
       "no      0.063472  40191 -0.000496  0.992248\n",
       "yes     0.065051  18401  0.001083  1.016931"
      ]
     },
     "metadata": {},
     "output_type": "display_data"
    },
    {
     "name": "stdout",
     "output_type": "stream",
     "text": [
      "\n",
      "\n",
      "is_adjustable_steering\n"
     ]
    },
    {
     "data": {
      "text/html": [
       "<div>\n",
       "<style scoped>\n",
       "    .dataframe tbody tr th:only-of-type {\n",
       "        vertical-align: middle;\n",
       "    }\n",
       "\n",
       "    .dataframe tbody tr th {\n",
       "        vertical-align: top;\n",
       "    }\n",
       "\n",
       "    .dataframe thead th {\n",
       "        text-align: right;\n",
       "    }\n",
       "</style>\n",
       "<table border=\"1\" class=\"dataframe\">\n",
       "  <thead>\n",
       "    <tr style=\"text-align: right;\">\n",
       "      <th></th>\n",
       "      <th>mean</th>\n",
       "      <th>count</th>\n",
       "      <th>diff</th>\n",
       "      <th>risk</th>\n",
       "    </tr>\n",
       "    <tr>\n",
       "      <th>is_adjustable_steering</th>\n",
       "      <th></th>\n",
       "      <th></th>\n",
       "      <th></th>\n",
       "      <th></th>\n",
       "    </tr>\n",
       "  </thead>\n",
       "  <tbody>\n",
       "    <tr>\n",
       "      <th>no</th>\n",
       "      <td>0.059742</td>\n",
       "      <td>23066</td>\n",
       "      <td>-0.004226</td>\n",
       "      <td>0.933933</td>\n",
       "    </tr>\n",
       "    <tr>\n",
       "      <th>yes</th>\n",
       "      <td>0.066712</td>\n",
       "      <td>35526</td>\n",
       "      <td>0.002744</td>\n",
       "      <td>1.042895</td>\n",
       "    </tr>\n",
       "  </tbody>\n",
       "</table>\n",
       "</div>"
      ],
      "text/plain": [
       "                            mean  count      diff      risk\n",
       "is_adjustable_steering                                     \n",
       "no                      0.059742  23066 -0.004226  0.933933\n",
       "yes                     0.066712  35526  0.002744  1.042895"
      ]
     },
     "metadata": {},
     "output_type": "display_data"
    },
    {
     "name": "stdout",
     "output_type": "stream",
     "text": [
      "\n",
      "\n",
      "is_tpms\n"
     ]
    },
    {
     "data": {
      "text/html": [
       "<div>\n",
       "<style scoped>\n",
       "    .dataframe tbody tr th:only-of-type {\n",
       "        vertical-align: middle;\n",
       "    }\n",
       "\n",
       "    .dataframe tbody tr th {\n",
       "        vertical-align: top;\n",
       "    }\n",
       "\n",
       "    .dataframe thead th {\n",
       "        text-align: right;\n",
       "    }\n",
       "</style>\n",
       "<table border=\"1\" class=\"dataframe\">\n",
       "  <thead>\n",
       "    <tr style=\"text-align: right;\">\n",
       "      <th></th>\n",
       "      <th>mean</th>\n",
       "      <th>count</th>\n",
       "      <th>diff</th>\n",
       "      <th>risk</th>\n",
       "    </tr>\n",
       "    <tr>\n",
       "      <th>is_tpms</th>\n",
       "      <th></th>\n",
       "      <th></th>\n",
       "      <th></th>\n",
       "      <th></th>\n",
       "    </tr>\n",
       "  </thead>\n",
       "  <tbody>\n",
       "    <tr>\n",
       "      <th>no</th>\n",
       "      <td>0.063871</td>\n",
       "      <td>44574</td>\n",
       "      <td>-0.000096</td>\n",
       "      <td>0.998492</td>\n",
       "    </tr>\n",
       "    <tr>\n",
       "      <th>yes</th>\n",
       "      <td>0.064275</td>\n",
       "      <td>14018</td>\n",
       "      <td>0.000307</td>\n",
       "      <td>1.004795</td>\n",
       "    </tr>\n",
       "  </tbody>\n",
       "</table>\n",
       "</div>"
      ],
      "text/plain": [
       "             mean  count      diff      risk\n",
       "is_tpms                                     \n",
       "no       0.063871  44574 -0.000096  0.998492\n",
       "yes      0.064275  14018  0.000307  1.004795"
      ]
     },
     "metadata": {},
     "output_type": "display_data"
    },
    {
     "name": "stdout",
     "output_type": "stream",
     "text": [
      "\n",
      "\n",
      "is_parking_sensors\n"
     ]
    },
    {
     "data": {
      "text/html": [
       "<div>\n",
       "<style scoped>\n",
       "    .dataframe tbody tr th:only-of-type {\n",
       "        vertical-align: middle;\n",
       "    }\n",
       "\n",
       "    .dataframe tbody tr th {\n",
       "        vertical-align: top;\n",
       "    }\n",
       "\n",
       "    .dataframe thead th {\n",
       "        text-align: right;\n",
       "    }\n",
       "</style>\n",
       "<table border=\"1\" class=\"dataframe\">\n",
       "  <thead>\n",
       "    <tr style=\"text-align: right;\">\n",
       "      <th></th>\n",
       "      <th>mean</th>\n",
       "      <th>count</th>\n",
       "      <th>diff</th>\n",
       "      <th>risk</th>\n",
       "    </tr>\n",
       "    <tr>\n",
       "      <th>is_parking_sensors</th>\n",
       "      <th></th>\n",
       "      <th></th>\n",
       "      <th></th>\n",
       "      <th></th>\n",
       "    </tr>\n",
       "  </thead>\n",
       "  <tbody>\n",
       "    <tr>\n",
       "      <th>no</th>\n",
       "      <td>0.053940</td>\n",
       "      <td>2373</td>\n",
       "      <td>-0.010028</td>\n",
       "      <td>0.843240</td>\n",
       "    </tr>\n",
       "    <tr>\n",
       "      <th>yes</th>\n",
       "      <td>0.064391</td>\n",
       "      <td>56219</td>\n",
       "      <td>0.000423</td>\n",
       "      <td>1.006617</td>\n",
       "    </tr>\n",
       "  </tbody>\n",
       "</table>\n",
       "</div>"
      ],
      "text/plain": [
       "                        mean  count      diff      risk\n",
       "is_parking_sensors                                     \n",
       "no                  0.053940   2373 -0.010028  0.843240\n",
       "yes                 0.064391  56219  0.000423  1.006617"
      ]
     },
     "metadata": {},
     "output_type": "display_data"
    },
    {
     "name": "stdout",
     "output_type": "stream",
     "text": [
      "\n",
      "\n",
      "is_parking_camera\n"
     ]
    },
    {
     "data": {
      "text/html": [
       "<div>\n",
       "<style scoped>\n",
       "    .dataframe tbody tr th:only-of-type {\n",
       "        vertical-align: middle;\n",
       "    }\n",
       "\n",
       "    .dataframe tbody tr th {\n",
       "        vertical-align: top;\n",
       "    }\n",
       "\n",
       "    .dataframe thead th {\n",
       "        text-align: right;\n",
       "    }\n",
       "</style>\n",
       "<table border=\"1\" class=\"dataframe\">\n",
       "  <thead>\n",
       "    <tr style=\"text-align: right;\">\n",
       "      <th></th>\n",
       "      <th>mean</th>\n",
       "      <th>count</th>\n",
       "      <th>diff</th>\n",
       "      <th>risk</th>\n",
       "    </tr>\n",
       "    <tr>\n",
       "      <th>is_parking_camera</th>\n",
       "      <th></th>\n",
       "      <th></th>\n",
       "      <th></th>\n",
       "      <th></th>\n",
       "    </tr>\n",
       "  </thead>\n",
       "  <tbody>\n",
       "    <tr>\n",
       "      <th>no</th>\n",
       "      <td>0.064138</td>\n",
       "      <td>35704</td>\n",
       "      <td>0.000171</td>\n",
       "      <td>1.002668</td>\n",
       "    </tr>\n",
       "    <tr>\n",
       "      <th>yes</th>\n",
       "      <td>0.063702</td>\n",
       "      <td>22888</td>\n",
       "      <td>-0.000266</td>\n",
       "      <td>0.995837</td>\n",
       "    </tr>\n",
       "  </tbody>\n",
       "</table>\n",
       "</div>"
      ],
      "text/plain": [
       "                       mean  count      diff      risk\n",
       "is_parking_camera                                     \n",
       "no                 0.064138  35704  0.000171  1.002668\n",
       "yes                0.063702  22888 -0.000266  0.995837"
      ]
     },
     "metadata": {},
     "output_type": "display_data"
    },
    {
     "name": "stdout",
     "output_type": "stream",
     "text": [
      "\n",
      "\n",
      "rear_brakes_type\n"
     ]
    },
    {
     "data": {
      "text/html": [
       "<div>\n",
       "<style scoped>\n",
       "    .dataframe tbody tr th:only-of-type {\n",
       "        vertical-align: middle;\n",
       "    }\n",
       "\n",
       "    .dataframe tbody tr th {\n",
       "        vertical-align: top;\n",
       "    }\n",
       "\n",
       "    .dataframe thead th {\n",
       "        text-align: right;\n",
       "    }\n",
       "</style>\n",
       "<table border=\"1\" class=\"dataframe\">\n",
       "  <thead>\n",
       "    <tr style=\"text-align: right;\">\n",
       "      <th></th>\n",
       "      <th>mean</th>\n",
       "      <th>count</th>\n",
       "      <th>diff</th>\n",
       "      <th>risk</th>\n",
       "    </tr>\n",
       "    <tr>\n",
       "      <th>rear_brakes_type</th>\n",
       "      <th></th>\n",
       "      <th></th>\n",
       "      <th></th>\n",
       "      <th></th>\n",
       "    </tr>\n",
       "  </thead>\n",
       "  <tbody>\n",
       "    <tr>\n",
       "      <th>disc</th>\n",
       "      <td>0.064275</td>\n",
       "      <td>14018</td>\n",
       "      <td>0.000307</td>\n",
       "      <td>1.004795</td>\n",
       "    </tr>\n",
       "    <tr>\n",
       "      <th>drum</th>\n",
       "      <td>0.063871</td>\n",
       "      <td>44574</td>\n",
       "      <td>-0.000096</td>\n",
       "      <td>0.998492</td>\n",
       "    </tr>\n",
       "  </tbody>\n",
       "</table>\n",
       "</div>"
      ],
      "text/plain": [
       "                      mean  count      diff      risk\n",
       "rear_brakes_type                                     \n",
       "disc              0.064275  14018  0.000307  1.004795\n",
       "drum              0.063871  44574 -0.000096  0.998492"
      ]
     },
     "metadata": {},
     "output_type": "display_data"
    },
    {
     "name": "stdout",
     "output_type": "stream",
     "text": [
      "\n",
      "\n",
      "transmission_type\n"
     ]
    },
    {
     "data": {
      "text/html": [
       "<div>\n",
       "<style scoped>\n",
       "    .dataframe tbody tr th:only-of-type {\n",
       "        vertical-align: middle;\n",
       "    }\n",
       "\n",
       "    .dataframe tbody tr th {\n",
       "        vertical-align: top;\n",
       "    }\n",
       "\n",
       "    .dataframe thead th {\n",
       "        text-align: right;\n",
       "    }\n",
       "</style>\n",
       "<table border=\"1\" class=\"dataframe\">\n",
       "  <thead>\n",
       "    <tr style=\"text-align: right;\">\n",
       "      <th></th>\n",
       "      <th>mean</th>\n",
       "      <th>count</th>\n",
       "      <th>diff</th>\n",
       "      <th>risk</th>\n",
       "    </tr>\n",
       "    <tr>\n",
       "      <th>transmission_type</th>\n",
       "      <th></th>\n",
       "      <th></th>\n",
       "      <th></th>\n",
       "      <th></th>\n",
       "    </tr>\n",
       "  </thead>\n",
       "  <tbody>\n",
       "    <tr>\n",
       "      <th>automatic</th>\n",
       "      <td>0.064181</td>\n",
       "      <td>20411</td>\n",
       "      <td>0.000213</td>\n",
       "      <td>1.003335</td>\n",
       "    </tr>\n",
       "    <tr>\n",
       "      <th>manual</th>\n",
       "      <td>0.063854</td>\n",
       "      <td>38181</td>\n",
       "      <td>-0.000114</td>\n",
       "      <td>0.998217</td>\n",
       "    </tr>\n",
       "  </tbody>\n",
       "</table>\n",
       "</div>"
      ],
      "text/plain": [
       "                       mean  count      diff      risk\n",
       "transmission_type                                     \n",
       "automatic          0.064181  20411  0.000213  1.003335\n",
       "manual             0.063854  38181 -0.000114  0.998217"
      ]
     },
     "metadata": {},
     "output_type": "display_data"
    },
    {
     "name": "stdout",
     "output_type": "stream",
     "text": [
      "\n",
      "\n",
      "steering_type\n"
     ]
    },
    {
     "data": {
      "text/html": [
       "<div>\n",
       "<style scoped>\n",
       "    .dataframe tbody tr th:only-of-type {\n",
       "        vertical-align: middle;\n",
       "    }\n",
       "\n",
       "    .dataframe tbody tr th {\n",
       "        vertical-align: top;\n",
       "    }\n",
       "\n",
       "    .dataframe thead th {\n",
       "        text-align: right;\n",
       "    }\n",
       "</style>\n",
       "<table border=\"1\" class=\"dataframe\">\n",
       "  <thead>\n",
       "    <tr style=\"text-align: right;\">\n",
       "      <th></th>\n",
       "      <th>mean</th>\n",
       "      <th>count</th>\n",
       "      <th>diff</th>\n",
       "      <th>risk</th>\n",
       "    </tr>\n",
       "    <tr>\n",
       "      <th>steering_type</th>\n",
       "      <th></th>\n",
       "      <th></th>\n",
       "      <th></th>\n",
       "      <th></th>\n",
       "    </tr>\n",
       "  </thead>\n",
       "  <tbody>\n",
       "    <tr>\n",
       "      <th>electric</th>\n",
       "      <td>0.066873</td>\n",
       "      <td>23881</td>\n",
       "      <td>0.002905</td>\n",
       "      <td>1.045421</td>\n",
       "    </tr>\n",
       "    <tr>\n",
       "      <th>manual</th>\n",
       "      <td>0.060380</td>\n",
       "      <td>1209</td>\n",
       "      <td>-0.003587</td>\n",
       "      <td>0.943920</td>\n",
       "    </tr>\n",
       "    <tr>\n",
       "      <th>power</th>\n",
       "      <td>0.062026</td>\n",
       "      <td>33502</td>\n",
       "      <td>-0.001942</td>\n",
       "      <td>0.969647</td>\n",
       "    </tr>\n",
       "  </tbody>\n",
       "</table>\n",
       "</div>"
      ],
      "text/plain": [
       "                   mean  count      diff      risk\n",
       "steering_type                                     \n",
       "electric       0.066873  23881  0.002905  1.045421\n",
       "manual         0.060380   1209 -0.003587  0.943920\n",
       "power          0.062026  33502 -0.001942  0.969647"
      ]
     },
     "metadata": {},
     "output_type": "display_data"
    },
    {
     "name": "stdout",
     "output_type": "stream",
     "text": [
      "\n",
      "\n",
      "is_front_fog_lights\n"
     ]
    },
    {
     "data": {
      "text/html": [
       "<div>\n",
       "<style scoped>\n",
       "    .dataframe tbody tr th:only-of-type {\n",
       "        vertical-align: middle;\n",
       "    }\n",
       "\n",
       "    .dataframe tbody tr th {\n",
       "        vertical-align: top;\n",
       "    }\n",
       "\n",
       "    .dataframe thead th {\n",
       "        text-align: right;\n",
       "    }\n",
       "</style>\n",
       "<table border=\"1\" class=\"dataframe\">\n",
       "  <thead>\n",
       "    <tr style=\"text-align: right;\">\n",
       "      <th></th>\n",
       "      <th>mean</th>\n",
       "      <th>count</th>\n",
       "      <th>diff</th>\n",
       "      <th>risk</th>\n",
       "    </tr>\n",
       "    <tr>\n",
       "      <th>is_front_fog_lights</th>\n",
       "      <th></th>\n",
       "      <th></th>\n",
       "      <th></th>\n",
       "      <th></th>\n",
       "    </tr>\n",
       "  </thead>\n",
       "  <tbody>\n",
       "    <tr>\n",
       "      <th>no</th>\n",
       "      <td>0.060574</td>\n",
       "      <td>24664</td>\n",
       "      <td>-0.003394</td>\n",
       "      <td>0.946947</td>\n",
       "    </tr>\n",
       "    <tr>\n",
       "      <th>yes</th>\n",
       "      <td>0.066435</td>\n",
       "      <td>33928</td>\n",
       "      <td>0.002467</td>\n",
       "      <td>1.038567</td>\n",
       "    </tr>\n",
       "  </tbody>\n",
       "</table>\n",
       "</div>"
      ],
      "text/plain": [
       "                         mean  count      diff      risk\n",
       "is_front_fog_lights                                     \n",
       "no                   0.060574  24664 -0.003394  0.946947\n",
       "yes                  0.066435  33928  0.002467  1.038567"
      ]
     },
     "metadata": {},
     "output_type": "display_data"
    },
    {
     "name": "stdout",
     "output_type": "stream",
     "text": [
      "\n",
      "\n",
      "is_rear_window_wiper\n"
     ]
    },
    {
     "data": {
      "text/html": [
       "<div>\n",
       "<style scoped>\n",
       "    .dataframe tbody tr th:only-of-type {\n",
       "        vertical-align: middle;\n",
       "    }\n",
       "\n",
       "    .dataframe tbody tr th {\n",
       "        vertical-align: top;\n",
       "    }\n",
       "\n",
       "    .dataframe thead th {\n",
       "        text-align: right;\n",
       "    }\n",
       "</style>\n",
       "<table border=\"1\" class=\"dataframe\">\n",
       "  <thead>\n",
       "    <tr style=\"text-align: right;\">\n",
       "      <th></th>\n",
       "      <th>mean</th>\n",
       "      <th>count</th>\n",
       "      <th>diff</th>\n",
       "      <th>risk</th>\n",
       "    </tr>\n",
       "    <tr>\n",
       "      <th>is_rear_window_wiper</th>\n",
       "      <th></th>\n",
       "      <th></th>\n",
       "      <th></th>\n",
       "      <th></th>\n",
       "    </tr>\n",
       "  </thead>\n",
       "  <tbody>\n",
       "    <tr>\n",
       "      <th>no</th>\n",
       "      <td>0.063554</td>\n",
       "      <td>41634</td>\n",
       "      <td>-0.000414</td>\n",
       "      <td>0.993529</td>\n",
       "    </tr>\n",
       "    <tr>\n",
       "      <th>yes</th>\n",
       "      <td>0.064984</td>\n",
       "      <td>16958</td>\n",
       "      <td>0.001016</td>\n",
       "      <td>1.015888</td>\n",
       "    </tr>\n",
       "  </tbody>\n",
       "</table>\n",
       "</div>"
      ],
      "text/plain": [
       "                          mean  count      diff      risk\n",
       "is_rear_window_wiper                                     \n",
       "no                    0.063554  41634 -0.000414  0.993529\n",
       "yes                   0.064984  16958  0.001016  1.015888"
      ]
     },
     "metadata": {},
     "output_type": "display_data"
    },
    {
     "name": "stdout",
     "output_type": "stream",
     "text": [
      "\n",
      "\n",
      "is_rear_window_washer\n"
     ]
    },
    {
     "data": {
      "text/html": [
       "<div>\n",
       "<style scoped>\n",
       "    .dataframe tbody tr th:only-of-type {\n",
       "        vertical-align: middle;\n",
       "    }\n",
       "\n",
       "    .dataframe tbody tr th {\n",
       "        vertical-align: top;\n",
       "    }\n",
       "\n",
       "    .dataframe thead th {\n",
       "        text-align: right;\n",
       "    }\n",
       "</style>\n",
       "<table border=\"1\" class=\"dataframe\">\n",
       "  <thead>\n",
       "    <tr style=\"text-align: right;\">\n",
       "      <th></th>\n",
       "      <th>mean</th>\n",
       "      <th>count</th>\n",
       "      <th>diff</th>\n",
       "      <th>risk</th>\n",
       "    </tr>\n",
       "    <tr>\n",
       "      <th>is_rear_window_washer</th>\n",
       "      <th></th>\n",
       "      <th></th>\n",
       "      <th></th>\n",
       "      <th></th>\n",
       "    </tr>\n",
       "  </thead>\n",
       "  <tbody>\n",
       "    <tr>\n",
       "      <th>no</th>\n",
       "      <td>0.063554</td>\n",
       "      <td>41634</td>\n",
       "      <td>-0.000414</td>\n",
       "      <td>0.993529</td>\n",
       "    </tr>\n",
       "    <tr>\n",
       "      <th>yes</th>\n",
       "      <td>0.064984</td>\n",
       "      <td>16958</td>\n",
       "      <td>0.001016</td>\n",
       "      <td>1.015888</td>\n",
       "    </tr>\n",
       "  </tbody>\n",
       "</table>\n",
       "</div>"
      ],
      "text/plain": [
       "                           mean  count      diff      risk\n",
       "is_rear_window_washer                                     \n",
       "no                     0.063554  41634 -0.000414  0.993529\n",
       "yes                    0.064984  16958  0.001016  1.015888"
      ]
     },
     "metadata": {},
     "output_type": "display_data"
    },
    {
     "name": "stdout",
     "output_type": "stream",
     "text": [
      "\n",
      "\n",
      "is_rear_window_defogger\n"
     ]
    },
    {
     "data": {
      "text/html": [
       "<div>\n",
       "<style scoped>\n",
       "    .dataframe tbody tr th:only-of-type {\n",
       "        vertical-align: middle;\n",
       "    }\n",
       "\n",
       "    .dataframe tbody tr th {\n",
       "        vertical-align: top;\n",
       "    }\n",
       "\n",
       "    .dataframe thead th {\n",
       "        text-align: right;\n",
       "    }\n",
       "</style>\n",
       "<table border=\"1\" class=\"dataframe\">\n",
       "  <thead>\n",
       "    <tr style=\"text-align: right;\">\n",
       "      <th></th>\n",
       "      <th>mean</th>\n",
       "      <th>count</th>\n",
       "      <th>diff</th>\n",
       "      <th>risk</th>\n",
       "    </tr>\n",
       "    <tr>\n",
       "      <th>is_rear_window_defogger</th>\n",
       "      <th></th>\n",
       "      <th></th>\n",
       "      <th></th>\n",
       "      <th></th>\n",
       "    </tr>\n",
       "  </thead>\n",
       "  <tbody>\n",
       "    <tr>\n",
       "      <th>no</th>\n",
       "      <td>0.063503</td>\n",
       "      <td>38077</td>\n",
       "      <td>-0.000465</td>\n",
       "      <td>0.992733</td>\n",
       "    </tr>\n",
       "    <tr>\n",
       "      <th>yes</th>\n",
       "      <td>0.064831</td>\n",
       "      <td>20515</td>\n",
       "      <td>0.000863</td>\n",
       "      <td>1.013489</td>\n",
       "    </tr>\n",
       "  </tbody>\n",
       "</table>\n",
       "</div>"
      ],
      "text/plain": [
       "                             mean  count      diff      risk\n",
       "is_rear_window_defogger                                     \n",
       "no                       0.063503  38077 -0.000465  0.992733\n",
       "yes                      0.064831  20515  0.000863  1.013489"
      ]
     },
     "metadata": {},
     "output_type": "display_data"
    },
    {
     "name": "stdout",
     "output_type": "stream",
     "text": [
      "\n",
      "\n",
      "is_brake_assist\n"
     ]
    },
    {
     "data": {
      "text/html": [
       "<div>\n",
       "<style scoped>\n",
       "    .dataframe tbody tr th:only-of-type {\n",
       "        vertical-align: middle;\n",
       "    }\n",
       "\n",
       "    .dataframe tbody tr th {\n",
       "        vertical-align: top;\n",
       "    }\n",
       "\n",
       "    .dataframe thead th {\n",
       "        text-align: right;\n",
       "    }\n",
       "</style>\n",
       "<table border=\"1\" class=\"dataframe\">\n",
       "  <thead>\n",
       "    <tr style=\"text-align: right;\">\n",
       "      <th></th>\n",
       "      <th>mean</th>\n",
       "      <th>count</th>\n",
       "      <th>diff</th>\n",
       "      <th>risk</th>\n",
       "    </tr>\n",
       "    <tr>\n",
       "      <th>is_brake_assist</th>\n",
       "      <th></th>\n",
       "      <th></th>\n",
       "      <th></th>\n",
       "      <th></th>\n",
       "    </tr>\n",
       "  </thead>\n",
       "  <tbody>\n",
       "    <tr>\n",
       "      <th>no</th>\n",
       "      <td>0.061026</td>\n",
       "      <td>26415</td>\n",
       "      <td>-0.002942</td>\n",
       "      <td>0.954011</td>\n",
       "    </tr>\n",
       "    <tr>\n",
       "      <th>yes</th>\n",
       "      <td>0.066383</td>\n",
       "      <td>32177</td>\n",
       "      <td>0.002415</td>\n",
       "      <td>1.037754</td>\n",
       "    </tr>\n",
       "  </tbody>\n",
       "</table>\n",
       "</div>"
      ],
      "text/plain": [
       "                     mean  count      diff      risk\n",
       "is_brake_assist                                     \n",
       "no               0.061026  26415 -0.002942  0.954011\n",
       "yes              0.066383  32177  0.002415  1.037754"
      ]
     },
     "metadata": {},
     "output_type": "display_data"
    },
    {
     "name": "stdout",
     "output_type": "stream",
     "text": [
      "\n",
      "\n",
      "is_power_door_locks\n"
     ]
    },
    {
     "data": {
      "text/html": [
       "<div>\n",
       "<style scoped>\n",
       "    .dataframe tbody tr th:only-of-type {\n",
       "        vertical-align: middle;\n",
       "    }\n",
       "\n",
       "    .dataframe tbody tr th {\n",
       "        vertical-align: top;\n",
       "    }\n",
       "\n",
       "    .dataframe thead th {\n",
       "        text-align: right;\n",
       "    }\n",
       "</style>\n",
       "<table border=\"1\" class=\"dataframe\">\n",
       "  <thead>\n",
       "    <tr style=\"text-align: right;\">\n",
       "      <th></th>\n",
       "      <th>mean</th>\n",
       "      <th>count</th>\n",
       "      <th>diff</th>\n",
       "      <th>risk</th>\n",
       "    </tr>\n",
       "    <tr>\n",
       "      <th>is_power_door_locks</th>\n",
       "      <th></th>\n",
       "      <th></th>\n",
       "      <th></th>\n",
       "      <th></th>\n",
       "    </tr>\n",
       "  </thead>\n",
       "  <tbody>\n",
       "    <tr>\n",
       "      <th>no</th>\n",
       "      <td>0.061336</td>\n",
       "      <td>16157</td>\n",
       "      <td>-0.002632</td>\n",
       "      <td>0.958852</td>\n",
       "    </tr>\n",
       "    <tr>\n",
       "      <th>yes</th>\n",
       "      <td>0.064970</td>\n",
       "      <td>42435</td>\n",
       "      <td>0.001002</td>\n",
       "      <td>1.015667</td>\n",
       "    </tr>\n",
       "  </tbody>\n",
       "</table>\n",
       "</div>"
      ],
      "text/plain": [
       "                         mean  count      diff      risk\n",
       "is_power_door_locks                                     \n",
       "no                   0.061336  16157 -0.002632  0.958852\n",
       "yes                  0.064970  42435  0.001002  1.015667"
      ]
     },
     "metadata": {},
     "output_type": "display_data"
    },
    {
     "name": "stdout",
     "output_type": "stream",
     "text": [
      "\n",
      "\n",
      "is_central_locking\n"
     ]
    },
    {
     "data": {
      "text/html": [
       "<div>\n",
       "<style scoped>\n",
       "    .dataframe tbody tr th:only-of-type {\n",
       "        vertical-align: middle;\n",
       "    }\n",
       "\n",
       "    .dataframe tbody tr th {\n",
       "        vertical-align: top;\n",
       "    }\n",
       "\n",
       "    .dataframe thead th {\n",
       "        text-align: right;\n",
       "    }\n",
       "</style>\n",
       "<table border=\"1\" class=\"dataframe\">\n",
       "  <thead>\n",
       "    <tr style=\"text-align: right;\">\n",
       "      <th></th>\n",
       "      <th>mean</th>\n",
       "      <th>count</th>\n",
       "      <th>diff</th>\n",
       "      <th>risk</th>\n",
       "    </tr>\n",
       "    <tr>\n",
       "      <th>is_central_locking</th>\n",
       "      <th></th>\n",
       "      <th></th>\n",
       "      <th></th>\n",
       "      <th></th>\n",
       "    </tr>\n",
       "  </thead>\n",
       "  <tbody>\n",
       "    <tr>\n",
       "      <th>no</th>\n",
       "      <td>0.061336</td>\n",
       "      <td>16157</td>\n",
       "      <td>-0.002632</td>\n",
       "      <td>0.958852</td>\n",
       "    </tr>\n",
       "    <tr>\n",
       "      <th>yes</th>\n",
       "      <td>0.064970</td>\n",
       "      <td>42435</td>\n",
       "      <td>0.001002</td>\n",
       "      <td>1.015667</td>\n",
       "    </tr>\n",
       "  </tbody>\n",
       "</table>\n",
       "</div>"
      ],
      "text/plain": [
       "                        mean  count      diff      risk\n",
       "is_central_locking                                     \n",
       "no                  0.061336  16157 -0.002632  0.958852\n",
       "yes                 0.064970  42435  0.001002  1.015667"
      ]
     },
     "metadata": {},
     "output_type": "display_data"
    },
    {
     "name": "stdout",
     "output_type": "stream",
     "text": [
      "\n",
      "\n",
      "is_power_steering\n"
     ]
    },
    {
     "data": {
      "text/html": [
       "<div>\n",
       "<style scoped>\n",
       "    .dataframe tbody tr th:only-of-type {\n",
       "        vertical-align: middle;\n",
       "    }\n",
       "\n",
       "    .dataframe tbody tr th {\n",
       "        vertical-align: top;\n",
       "    }\n",
       "\n",
       "    .dataframe thead th {\n",
       "        text-align: right;\n",
       "    }\n",
       "</style>\n",
       "<table border=\"1\" class=\"dataframe\">\n",
       "  <thead>\n",
       "    <tr style=\"text-align: right;\">\n",
       "      <th></th>\n",
       "      <th>mean</th>\n",
       "      <th>count</th>\n",
       "      <th>diff</th>\n",
       "      <th>risk</th>\n",
       "    </tr>\n",
       "    <tr>\n",
       "      <th>is_power_steering</th>\n",
       "      <th></th>\n",
       "      <th></th>\n",
       "      <th></th>\n",
       "      <th></th>\n",
       "    </tr>\n",
       "  </thead>\n",
       "  <tbody>\n",
       "    <tr>\n",
       "      <th>no</th>\n",
       "      <td>0.060380</td>\n",
       "      <td>1209</td>\n",
       "      <td>-0.003587</td>\n",
       "      <td>0.943920</td>\n",
       "    </tr>\n",
       "    <tr>\n",
       "      <th>yes</th>\n",
       "      <td>0.064043</td>\n",
       "      <td>57383</td>\n",
       "      <td>0.000076</td>\n",
       "      <td>1.001182</td>\n",
       "    </tr>\n",
       "  </tbody>\n",
       "</table>\n",
       "</div>"
      ],
      "text/plain": [
       "                       mean  count      diff      risk\n",
       "is_power_steering                                     \n",
       "no                 0.060380   1209 -0.003587  0.943920\n",
       "yes                0.064043  57383  0.000076  1.001182"
      ]
     },
     "metadata": {},
     "output_type": "display_data"
    },
    {
     "name": "stdout",
     "output_type": "stream",
     "text": [
      "\n",
      "\n",
      "is_driver_seat_height_adjustable\n"
     ]
    },
    {
     "data": {
      "text/html": [
       "<div>\n",
       "<style scoped>\n",
       "    .dataframe tbody tr th:only-of-type {\n",
       "        vertical-align: middle;\n",
       "    }\n",
       "\n",
       "    .dataframe tbody tr th {\n",
       "        vertical-align: top;\n",
       "    }\n",
       "\n",
       "    .dataframe thead th {\n",
       "        text-align: right;\n",
       "    }\n",
       "</style>\n",
       "<table border=\"1\" class=\"dataframe\">\n",
       "  <thead>\n",
       "    <tr style=\"text-align: right;\">\n",
       "      <th></th>\n",
       "      <th>mean</th>\n",
       "      <th>count</th>\n",
       "      <th>diff</th>\n",
       "      <th>risk</th>\n",
       "    </tr>\n",
       "    <tr>\n",
       "      <th>is_driver_seat_height_adjustable</th>\n",
       "      <th></th>\n",
       "      <th></th>\n",
       "      <th></th>\n",
       "      <th></th>\n",
       "    </tr>\n",
       "  </thead>\n",
       "  <tbody>\n",
       "    <tr>\n",
       "      <th>no</th>\n",
       "      <td>0.060862</td>\n",
       "      <td>24301</td>\n",
       "      <td>-0.003106</td>\n",
       "      <td>0.951443</td>\n",
       "    </tr>\n",
       "    <tr>\n",
       "      <th>yes</th>\n",
       "      <td>0.066169</td>\n",
       "      <td>34291</td>\n",
       "      <td>0.002201</td>\n",
       "      <td>1.034411</td>\n",
       "    </tr>\n",
       "  </tbody>\n",
       "</table>\n",
       "</div>"
      ],
      "text/plain": [
       "                                      mean  count      diff      risk\n",
       "is_driver_seat_height_adjustable                                     \n",
       "no                                0.060862  24301 -0.003106  0.951443\n",
       "yes                               0.066169  34291  0.002201  1.034411"
      ]
     },
     "metadata": {},
     "output_type": "display_data"
    },
    {
     "name": "stdout",
     "output_type": "stream",
     "text": [
      "\n",
      "\n",
      "is_day_night_rear_view_mirror\n"
     ]
    },
    {
     "data": {
      "text/html": [
       "<div>\n",
       "<style scoped>\n",
       "    .dataframe tbody tr th:only-of-type {\n",
       "        vertical-align: middle;\n",
       "    }\n",
       "\n",
       "    .dataframe tbody tr th {\n",
       "        vertical-align: top;\n",
       "    }\n",
       "\n",
       "    .dataframe thead th {\n",
       "        text-align: right;\n",
       "    }\n",
       "</style>\n",
       "<table border=\"1\" class=\"dataframe\">\n",
       "  <thead>\n",
       "    <tr style=\"text-align: right;\">\n",
       "      <th></th>\n",
       "      <th>mean</th>\n",
       "      <th>count</th>\n",
       "      <th>diff</th>\n",
       "      <th>risk</th>\n",
       "    </tr>\n",
       "    <tr>\n",
       "      <th>is_day_night_rear_view_mirror</th>\n",
       "      <th></th>\n",
       "      <th></th>\n",
       "      <th></th>\n",
       "      <th></th>\n",
       "    </tr>\n",
       "  </thead>\n",
       "  <tbody>\n",
       "    <tr>\n",
       "      <th>no</th>\n",
       "      <td>0.062436</td>\n",
       "      <td>36309</td>\n",
       "      <td>-0.001531</td>\n",
       "      <td>0.976059</td>\n",
       "    </tr>\n",
       "    <tr>\n",
       "      <th>yes</th>\n",
       "      <td>0.066463</td>\n",
       "      <td>22283</td>\n",
       "      <td>0.002495</td>\n",
       "      <td>1.039011</td>\n",
       "    </tr>\n",
       "  </tbody>\n",
       "</table>\n",
       "</div>"
      ],
      "text/plain": [
       "                                   mean  count      diff      risk\n",
       "is_day_night_rear_view_mirror                                     \n",
       "no                             0.062436  36309 -0.001531  0.976059\n",
       "yes                            0.066463  22283  0.002495  1.039011"
      ]
     },
     "metadata": {},
     "output_type": "display_data"
    },
    {
     "name": "stdout",
     "output_type": "stream",
     "text": [
      "\n",
      "\n",
      "is_ecw\n"
     ]
    },
    {
     "data": {
      "text/html": [
       "<div>\n",
       "<style scoped>\n",
       "    .dataframe tbody tr th:only-of-type {\n",
       "        vertical-align: middle;\n",
       "    }\n",
       "\n",
       "    .dataframe tbody tr th {\n",
       "        vertical-align: top;\n",
       "    }\n",
       "\n",
       "    .dataframe thead th {\n",
       "        text-align: right;\n",
       "    }\n",
       "</style>\n",
       "<table border=\"1\" class=\"dataframe\">\n",
       "  <thead>\n",
       "    <tr style=\"text-align: right;\">\n",
       "      <th></th>\n",
       "      <th>mean</th>\n",
       "      <th>count</th>\n",
       "      <th>diff</th>\n",
       "      <th>risk</th>\n",
       "    </tr>\n",
       "    <tr>\n",
       "      <th>is_ecw</th>\n",
       "      <th></th>\n",
       "      <th></th>\n",
       "      <th></th>\n",
       "      <th></th>\n",
       "    </tr>\n",
       "  </thead>\n",
       "  <tbody>\n",
       "    <tr>\n",
       "      <th>no</th>\n",
       "      <td>0.061336</td>\n",
       "      <td>16157</td>\n",
       "      <td>-0.002632</td>\n",
       "      <td>0.958852</td>\n",
       "    </tr>\n",
       "    <tr>\n",
       "      <th>yes</th>\n",
       "      <td>0.064970</td>\n",
       "      <td>42435</td>\n",
       "      <td>0.001002</td>\n",
       "      <td>1.015667</td>\n",
       "    </tr>\n",
       "  </tbody>\n",
       "</table>\n",
       "</div>"
      ],
      "text/plain": [
       "            mean  count      diff      risk\n",
       "is_ecw                                     \n",
       "no      0.061336  16157 -0.002632  0.958852\n",
       "yes     0.064970  42435  0.001002  1.015667"
      ]
     },
     "metadata": {},
     "output_type": "display_data"
    },
    {
     "name": "stdout",
     "output_type": "stream",
     "text": [
      "\n",
      "\n",
      "is_speed_alert\n"
     ]
    },
    {
     "data": {
      "text/html": [
       "<div>\n",
       "<style scoped>\n",
       "    .dataframe tbody tr th:only-of-type {\n",
       "        vertical-align: middle;\n",
       "    }\n",
       "\n",
       "    .dataframe tbody tr th {\n",
       "        vertical-align: top;\n",
       "    }\n",
       "\n",
       "    .dataframe thead th {\n",
       "        text-align: right;\n",
       "    }\n",
       "</style>\n",
       "<table border=\"1\" class=\"dataframe\">\n",
       "  <thead>\n",
       "    <tr style=\"text-align: right;\">\n",
       "      <th></th>\n",
       "      <th>mean</th>\n",
       "      <th>count</th>\n",
       "      <th>diff</th>\n",
       "      <th>risk</th>\n",
       "    </tr>\n",
       "    <tr>\n",
       "      <th>is_speed_alert</th>\n",
       "      <th></th>\n",
       "      <th></th>\n",
       "      <th></th>\n",
       "      <th></th>\n",
       "    </tr>\n",
       "  </thead>\n",
       "  <tbody>\n",
       "    <tr>\n",
       "      <th>no</th>\n",
       "      <td>0.041322</td>\n",
       "      <td>363</td>\n",
       "      <td>-0.022645</td>\n",
       "      <td>0.645986</td>\n",
       "    </tr>\n",
       "    <tr>\n",
       "      <th>yes</th>\n",
       "      <td>0.064109</td>\n",
       "      <td>58229</td>\n",
       "      <td>0.000141</td>\n",
       "      <td>1.002207</td>\n",
       "    </tr>\n",
       "  </tbody>\n",
       "</table>\n",
       "</div>"
      ],
      "text/plain": [
       "                    mean  count      diff      risk\n",
       "is_speed_alert                                     \n",
       "no              0.041322    363 -0.022645  0.645986\n",
       "yes             0.064109  58229  0.000141  1.002207"
      ]
     },
     "metadata": {},
     "output_type": "display_data"
    },
    {
     "name": "stdout",
     "output_type": "stream",
     "text": [
      "\n",
      "\n",
      "make\n"
     ]
    },
    {
     "data": {
      "text/html": [
       "<div>\n",
       "<style scoped>\n",
       "    .dataframe tbody tr th:only-of-type {\n",
       "        vertical-align: middle;\n",
       "    }\n",
       "\n",
       "    .dataframe tbody tr th {\n",
       "        vertical-align: top;\n",
       "    }\n",
       "\n",
       "    .dataframe thead th {\n",
       "        text-align: right;\n",
       "    }\n",
       "</style>\n",
       "<table border=\"1\" class=\"dataframe\">\n",
       "  <thead>\n",
       "    <tr style=\"text-align: right;\">\n",
       "      <th></th>\n",
       "      <th>mean</th>\n",
       "      <th>count</th>\n",
       "      <th>diff</th>\n",
       "      <th>risk</th>\n",
       "    </tr>\n",
       "    <tr>\n",
       "      <th>make</th>\n",
       "      <th></th>\n",
       "      <th></th>\n",
       "      <th></th>\n",
       "      <th></th>\n",
       "    </tr>\n",
       "  </thead>\n",
       "  <tbody>\n",
       "    <tr>\n",
       "      <th>1</th>\n",
       "      <td>0.064392</td>\n",
       "      <td>38126</td>\n",
       "      <td>0.000424</td>\n",
       "      <td>1.006628</td>\n",
       "    </tr>\n",
       "    <tr>\n",
       "      <th>2</th>\n",
       "      <td>0.053940</td>\n",
       "      <td>2373</td>\n",
       "      <td>-0.010028</td>\n",
       "      <td>0.843240</td>\n",
       "    </tr>\n",
       "    <tr>\n",
       "      <th>3</th>\n",
       "      <td>0.064275</td>\n",
       "      <td>14018</td>\n",
       "      <td>0.000307</td>\n",
       "      <td>1.004795</td>\n",
       "    </tr>\n",
       "    <tr>\n",
       "      <th>4</th>\n",
       "      <td>0.066803</td>\n",
       "      <td>1961</td>\n",
       "      <td>0.002835</td>\n",
       "      <td>1.044317</td>\n",
       "    </tr>\n",
       "    <tr>\n",
       "      <th>5</th>\n",
       "      <td>0.062914</td>\n",
       "      <td>2114</td>\n",
       "      <td>-0.001054</td>\n",
       "      <td>0.983525</td>\n",
       "    </tr>\n",
       "  </tbody>\n",
       "</table>\n",
       "</div>"
      ],
      "text/plain": [
       "          mean  count      diff      risk\n",
       "make                                     \n",
       "1     0.064392  38126  0.000424  1.006628\n",
       "2     0.053940   2373 -0.010028  0.843240\n",
       "3     0.064275  14018  0.000307  1.004795\n",
       "4     0.066803   1961  0.002835  1.044317\n",
       "5     0.062914   2114 -0.001054  0.983525"
      ]
     },
     "metadata": {},
     "output_type": "display_data"
    },
    {
     "name": "stdout",
     "output_type": "stream",
     "text": [
      "\n",
      "\n"
     ]
    }
   ],
   "source": [
    "claim_rate = df['is_claim'].mean()\n",
    "\n",
    "# Need ipython display to make this look nice.\n",
    "for category in categorical:\n",
    "    print(category)\n",
    "    df_group = df.groupby(category)['is_claim'].agg(['mean', 'count'])\n",
    "    df_group['diff'] = df_group['mean'] - claim_rate\n",
    "    df_group['risk'] = df_group['mean'] / claim_rate\n",
    "    display(df_group)\n",
    "    print()\n",
    "    print()"
   ]
  },
  {
   "attachments": {},
   "cell_type": "markdown",
   "metadata": {},
   "source": [
    "`area_cluster` has some predictive power, some are not very likely to claim (c17: ~0.60 risk), and some are much more likely (c18: ~1.68).\n",
    "\n",
    "`segment`, `model`, `fuel_type` do not significantly affect likelihood to claim.\n",
    "\n",
    "Notably, `max_torque`, `max_power`, `engine_type`, and `model` share some metrics and predictive power with low likelihood to claim. Logically, as these are all correlated variables in this domain, these share many metrics and there is likely a lot of mutual information.\n",
    "\n",
    "`fuel_type`, `is_esc`, `is_adjustable_steering`, `is_tpms`, `is_parking_camera`, `rear_brakes_type`, `transmission_type`, `steering_type`, `is_front_fog_lights`, `is_rear_window_wiper`, `is_rear_window_washer`, `is_rear_window_defogger`, `is_brake_assist`, `is_power_door_locks`, `is_central_locking`, `is_power_steering`, `is_driver_seat_height_adjustable`, `is_day_night_rear_view_mirror`, `is_ecw`, mostly metrics related to specific car features, do not significantly affect likelihood to claim.\n",
    "\n",
    "`make` and `is_parking_sensors` slightly affect (make #2: ~0.84, no parking sensor: ~0.84) and `is_speed_alert` significantly affects (no: ~0.65) likelihood to claim, which seems to go against real-life logic. The 'no' option for `is_speed_alert` has the same metrics for an engine/model type (as in the `max_torque`, `max_power`, `engine_type`, and `model` correlation), potentially capturing a specific vehicle make and model.\n",
    "\n"
   ]
  },
  {
   "attachments": {},
   "cell_type": "markdown",
   "metadata": {},
   "source": [
    "### Mutual Information"
   ]
  },
  {
   "attachments": {},
   "cell_type": "markdown",
   "metadata": {},
   "source": [
    "Now let's take a look at the mutual information of our variables. This lets us see the similarity between two fields, namely between a given categorical field and the target field.\n",
    "\n",
    "This information can be ranked."
   ]
  },
  {
   "cell_type": "code",
   "execution_count": 17,
   "metadata": {},
   "outputs": [],
   "source": [
    "from sklearn.metrics import mutual_info_score"
   ]
  },
  {
   "cell_type": "code",
   "execution_count": 18,
   "metadata": {},
   "outputs": [],
   "source": [
    "def mutual_info_claim_score(series):\n",
    "    return mutual_info_score(series, df['is_claim'])"
   ]
  },
  {
   "cell_type": "code",
   "execution_count": 19,
   "metadata": {},
   "outputs": [
    {
     "data": {
      "text/plain": [
       "area_cluster                        8.347961e-04\n",
       "model                               1.743290e-04\n",
       "engine_type                         1.743290e-04\n",
       "max_torque                          1.697391e-04\n",
       "max_power                           1.697391e-04\n",
       "segment                             1.074613e-04\n",
       "is_adjustable_steering              9.758521e-05\n",
       "is_front_fog_lights                 7.025291e-05\n",
       "is_brake_assist                     5.949700e-05\n",
       "is_driver_seat_height_adjustable    5.736150e-05\n",
       "fuel_type                           4.942676e-05\n",
       "steering_type                       4.876553e-05\n",
       "make                                3.952166e-05\n",
       "is_parking_sensors                  3.723955e-05\n",
       "is_day_night_rear_view_mirror       3.176978e-05\n",
       "is_speed_alert                      3.027682e-05\n",
       "is_power_door_locks                 2.220661e-05\n",
       "is_central_locking                  2.220661e-05\n",
       "is_ecw                              2.220661e-05\n",
       "is_esc                              4.471884e-06\n",
       "is_rear_window_wiper                3.502921e-06\n",
       "is_rear_window_washer               3.502921e-06\n",
       "is_rear_window_defogger             3.343114e-06\n",
       "is_power_steering                   2.303827e-06\n",
       "is_parking_camera                   3.797252e-07\n",
       "rear_brakes_type                    2.468222e-07\n",
       "is_tpms                             2.468222e-07\n",
       "transmission_type                   2.030087e-07\n",
       "dtype: float64"
      ]
     },
     "execution_count": 19,
     "metadata": {},
     "output_type": "execute_result"
    }
   ],
   "source": [
    "# .apply() variable allows us to run a function on a Pandas Series\n",
    "mi = df[categorical].apply(mutual_info_claim_score)  # only applies to categorical variables\n",
    "mi.sort_values(ascending=False)"
   ]
  },
  {
   "attachments": {},
   "cell_type": "markdown",
   "metadata": {},
   "source": [
    "This is very low mutual information across the board. Still, there is some order and we can plot this for clarity:"
   ]
  },
  {
   "cell_type": "code",
   "execution_count": 20,
   "metadata": {},
   "outputs": [
    {
     "data": {
      "text/plain": [
       "<function matplotlib.pyplot.show(close=None, block=None)>"
      ]
     },
     "execution_count": 20,
     "metadata": {},
     "output_type": "execute_result"
    },
    {
     "data": {
      "image/png": "[encoded data removed]",
      "text/plain": [
       "<Figure size 640x480 with 1 Axes>"
      ]
     },
     "metadata": {},
     "output_type": "display_data"
    }
   ],
   "source": [
    "mi = mi.sort_values(ascending=False)\n",
    "plt.plot(mi)\n",
    "plt.xticks(rotation=90)\n",
    "plt.show"
   ]
  },
  {
   "attachments": {},
   "cell_type": "markdown",
   "metadata": {},
   "source": [
    "Keeping in mind none have significant explanatory power:\n",
    "- `area_cluster` has the most by a large margin at ~8.35e-04\n",
    "- `model` has dramatically less at ~1.74e-04, dropping slightly until `segment`, which has about ~1.07e-04 mutual information\n",
    "- This continues to decrease steadily until `is_esc` (~2.22e-05 to ~4.47e-06) (whether electronic stability control is present), where there is another steady decrease for the rest of the variables.\n",
    "\n",
    "We can potentially drop the variables from `is_esc` and onward, or `segment` and onward as they may just add noise."
   ]
  },
  {
   "attachments": {},
   "cell_type": "markdown",
   "metadata": {},
   "source": [
    "### Correlation"
   ]
  },
  {
   "attachments": {},
   "cell_type": "markdown",
   "metadata": {},
   "source": [
    "Here we use Pearson's correlation, to see the dependency between numerical variables and the target variable.\n",
    "\n",
    "Correlations are in the range *r*, -1 <= *r* <= 1, correlation is higher toward -1 (negative correlation) or 1 (positive correlation), with none at *r* = 0."
   ]
  },
  {
   "attachments": {},
   "cell_type": "markdown",
   "metadata": {},
   "source": [
    "First, getting just the numerical columns:"
   ]
  },
  {
   "cell_type": "code",
   "execution_count": 21,
   "metadata": {},
   "outputs": [
    {
     "name": "stdout",
     "output_type": "stream",
     "text": [
      "policy_id                int64\n",
      "policy_tenure          float64\n",
      "age_of_car             float64\n",
      "age_of_policyholder    float64\n",
      "population_density       int64\n",
      "airbags                  int64\n",
      "displacement             int64\n",
      "cylinder                 int64\n",
      "gear_box                 int64\n",
      "turning_radius         float64\n",
      "length                   int64\n",
      "width                    int64\n",
      "height                   int64\n",
      "gross_weight             int64\n",
      "ncap_rating              int64\n",
      "max_torque_nm          float64\n",
      "max_torque_rpm           int64\n",
      "max_power_bhp          float64\n",
      "max_power_rpm            int64\n",
      "dtype: object\n"
     ]
    },
    {
     "data": {
      "text/html": [
       "<div>\n",
       "<style scoped>\n",
       "    .dataframe tbody tr th:only-of-type {\n",
       "        vertical-align: middle;\n",
       "    }\n",
       "\n",
       "    .dataframe tbody tr th {\n",
       "        vertical-align: top;\n",
       "    }\n",
       "\n",
       "    .dataframe thead th {\n",
       "        text-align: right;\n",
       "    }\n",
       "</style>\n",
       "<table border=\"1\" class=\"dataframe\">\n",
       "  <thead>\n",
       "    <tr style=\"text-align: right;\">\n",
       "      <th></th>\n",
       "      <th>0</th>\n",
       "      <th>1</th>\n",
       "      <th>2</th>\n",
       "      <th>3</th>\n",
       "      <th>4</th>\n",
       "    </tr>\n",
       "  </thead>\n",
       "  <tbody>\n",
       "    <tr>\n",
       "      <th>policy_id</th>\n",
       "      <td>1.000000</td>\n",
       "      <td>2.000000</td>\n",
       "      <td>3.000000</td>\n",
       "      <td>4.000000</td>\n",
       "      <td>5.000000</td>\n",
       "    </tr>\n",
       "    <tr>\n",
       "      <th>policy_tenure</th>\n",
       "      <td>0.515874</td>\n",
       "      <td>0.672619</td>\n",
       "      <td>0.841110</td>\n",
       "      <td>0.900277</td>\n",
       "      <td>0.596403</td>\n",
       "    </tr>\n",
       "    <tr>\n",
       "      <th>age_of_car</th>\n",
       "      <td>0.050000</td>\n",
       "      <td>0.020000</td>\n",
       "      <td>0.020000</td>\n",
       "      <td>0.110000</td>\n",
       "      <td>0.110000</td>\n",
       "    </tr>\n",
       "    <tr>\n",
       "      <th>age_of_policyholder</th>\n",
       "      <td>0.644231</td>\n",
       "      <td>0.375000</td>\n",
       "      <td>0.384615</td>\n",
       "      <td>0.432692</td>\n",
       "      <td>0.634615</td>\n",
       "    </tr>\n",
       "    <tr>\n",
       "      <th>population_density</th>\n",
       "      <td>4990.000000</td>\n",
       "      <td>27003.000000</td>\n",
       "      <td>4076.000000</td>\n",
       "      <td>21622.000000</td>\n",
       "      <td>34738.000000</td>\n",
       "    </tr>\n",
       "    <tr>\n",
       "      <th>airbags</th>\n",
       "      <td>2.000000</td>\n",
       "      <td>2.000000</td>\n",
       "      <td>2.000000</td>\n",
       "      <td>2.000000</td>\n",
       "      <td>2.000000</td>\n",
       "    </tr>\n",
       "    <tr>\n",
       "      <th>displacement</th>\n",
       "      <td>796.000000</td>\n",
       "      <td>796.000000</td>\n",
       "      <td>796.000000</td>\n",
       "      <td>1197.000000</td>\n",
       "      <td>999.000000</td>\n",
       "    </tr>\n",
       "    <tr>\n",
       "      <th>cylinder</th>\n",
       "      <td>3.000000</td>\n",
       "      <td>3.000000</td>\n",
       "      <td>3.000000</td>\n",
       "      <td>4.000000</td>\n",
       "      <td>3.000000</td>\n",
       "    </tr>\n",
       "    <tr>\n",
       "      <th>gear_box</th>\n",
       "      <td>5.000000</td>\n",
       "      <td>5.000000</td>\n",
       "      <td>5.000000</td>\n",
       "      <td>5.000000</td>\n",
       "      <td>5.000000</td>\n",
       "    </tr>\n",
       "    <tr>\n",
       "      <th>turning_radius</th>\n",
       "      <td>4.600000</td>\n",
       "      <td>4.600000</td>\n",
       "      <td>4.600000</td>\n",
       "      <td>4.800000</td>\n",
       "      <td>5.000000</td>\n",
       "    </tr>\n",
       "    <tr>\n",
       "      <th>length</th>\n",
       "      <td>3445.000000</td>\n",
       "      <td>3445.000000</td>\n",
       "      <td>3445.000000</td>\n",
       "      <td>3995.000000</td>\n",
       "      <td>3731.000000</td>\n",
       "    </tr>\n",
       "    <tr>\n",
       "      <th>width</th>\n",
       "      <td>1515.000000</td>\n",
       "      <td>1515.000000</td>\n",
       "      <td>1515.000000</td>\n",
       "      <td>1735.000000</td>\n",
       "      <td>1579.000000</td>\n",
       "    </tr>\n",
       "    <tr>\n",
       "      <th>height</th>\n",
       "      <td>1475.000000</td>\n",
       "      <td>1475.000000</td>\n",
       "      <td>1475.000000</td>\n",
       "      <td>1515.000000</td>\n",
       "      <td>1490.000000</td>\n",
       "    </tr>\n",
       "    <tr>\n",
       "      <th>gross_weight</th>\n",
       "      <td>1185.000000</td>\n",
       "      <td>1185.000000</td>\n",
       "      <td>1185.000000</td>\n",
       "      <td>1335.000000</td>\n",
       "      <td>1155.000000</td>\n",
       "    </tr>\n",
       "    <tr>\n",
       "      <th>ncap_rating</th>\n",
       "      <td>0.000000</td>\n",
       "      <td>0.000000</td>\n",
       "      <td>0.000000</td>\n",
       "      <td>2.000000</td>\n",
       "      <td>2.000000</td>\n",
       "    </tr>\n",
       "    <tr>\n",
       "      <th>max_torque_nm</th>\n",
       "      <td>60.000000</td>\n",
       "      <td>60.000000</td>\n",
       "      <td>60.000000</td>\n",
       "      <td>113.000000</td>\n",
       "      <td>91.000000</td>\n",
       "    </tr>\n",
       "    <tr>\n",
       "      <th>max_torque_rpm</th>\n",
       "      <td>3500.000000</td>\n",
       "      <td>3500.000000</td>\n",
       "      <td>3500.000000</td>\n",
       "      <td>4400.000000</td>\n",
       "      <td>4250.000000</td>\n",
       "    </tr>\n",
       "    <tr>\n",
       "      <th>max_power_bhp</th>\n",
       "      <td>40.360000</td>\n",
       "      <td>40.360000</td>\n",
       "      <td>40.360000</td>\n",
       "      <td>88.500000</td>\n",
       "      <td>67.060000</td>\n",
       "    </tr>\n",
       "    <tr>\n",
       "      <th>max_power_rpm</th>\n",
       "      <td>6000.000000</td>\n",
       "      <td>6000.000000</td>\n",
       "      <td>6000.000000</td>\n",
       "      <td>6000.000000</td>\n",
       "      <td>5500.000000</td>\n",
       "    </tr>\n",
       "  </tbody>\n",
       "</table>\n",
       "</div>"
      ],
      "text/plain": [
       "                               0             1            2             3  \\\n",
       "policy_id               1.000000      2.000000     3.000000      4.000000   \n",
       "policy_tenure           0.515874      0.672619     0.841110      0.900277   \n",
       "age_of_car              0.050000      0.020000     0.020000      0.110000   \n",
       "age_of_policyholder     0.644231      0.375000     0.384615      0.432692   \n",
       "population_density   4990.000000  27003.000000  4076.000000  21622.000000   \n",
       "airbags                 2.000000      2.000000     2.000000      2.000000   \n",
       "displacement          796.000000    796.000000   796.000000   1197.000000   \n",
       "cylinder                3.000000      3.000000     3.000000      4.000000   \n",
       "gear_box                5.000000      5.000000     5.000000      5.000000   \n",
       "turning_radius          4.600000      4.600000     4.600000      4.800000   \n",
       "length               3445.000000   3445.000000  3445.000000   3995.000000   \n",
       "width                1515.000000   1515.000000  1515.000000   1735.000000   \n",
       "height               1475.000000   1475.000000  1475.000000   1515.000000   \n",
       "gross_weight         1185.000000   1185.000000  1185.000000   1335.000000   \n",
       "ncap_rating             0.000000      0.000000     0.000000      2.000000   \n",
       "max_torque_nm          60.000000     60.000000    60.000000    113.000000   \n",
       "max_torque_rpm       3500.000000   3500.000000  3500.000000   4400.000000   \n",
       "max_power_bhp          40.360000     40.360000    40.360000     88.500000   \n",
       "max_power_rpm        6000.000000   6000.000000  6000.000000   6000.000000   \n",
       "\n",
       "                                4  \n",
       "policy_id                5.000000  \n",
       "policy_tenure            0.596403  \n",
       "age_of_car               0.110000  \n",
       "age_of_policyholder      0.634615  \n",
       "population_density   34738.000000  \n",
       "airbags                  2.000000  \n",
       "displacement           999.000000  \n",
       "cylinder                 3.000000  \n",
       "gear_box                 5.000000  \n",
       "turning_radius           5.000000  \n",
       "length                3731.000000  \n",
       "width                 1579.000000  \n",
       "height                1490.000000  \n",
       "gross_weight          1155.000000  \n",
       "ncap_rating              2.000000  \n",
       "max_torque_nm           91.000000  \n",
       "max_torque_rpm        4250.000000  \n",
       "max_power_bhp           67.060000  \n",
       "max_power_rpm         5500.000000  "
      ]
     },
     "metadata": {},
     "output_type": "display_data"
    }
   ],
   "source": [
    "numerical = [field for field in df.columns.values if field not in categorical]\n",
    "numerical.remove('is_claim')\n",
    "print(df[numerical].dtypes)\n",
    "display(df[numerical].head().T)"
   ]
  },
  {
   "attachments": {},
   "cell_type": "markdown",
   "metadata": {},
   "source": [
    "Now checking the correlation of each column with the target column. Sorting for visibility"
   ]
  },
  {
   "cell_type": "code",
   "execution_count": 22,
   "metadata": {},
   "outputs": [
    {
     "data": {
      "text/plain": [
       "policy_tenure          0.078747\n",
       "age_of_policyholder    0.022435\n",
       "cylinder               0.013434\n",
       "width                  0.009947\n",
       "max_power_bhp          0.007698\n",
       "displacement           0.007678\n",
       "length                 0.006495\n",
       "max_torque_rpm         0.004781\n",
       "max_torque_nm          0.004294\n",
       "gross_weight           0.003894\n",
       "ncap_rating            0.003800\n",
       "airbags                0.002789\n",
       "turning_radius         0.002724\n",
       "max_power_rpm          0.000095\n",
       "gear_box              -0.000635\n",
       "height                -0.002024\n",
       "policy_id             -0.002960\n",
       "population_density    -0.017808\n",
       "age_of_car            -0.028172\n",
       "dtype: float64"
      ]
     },
     "execution_count": 22,
     "metadata": {},
     "output_type": "execute_result"
    }
   ],
   "source": [
    "df[numerical].corrwith(df['is_claim']).sort_values(ascending=False)"
   ]
  },
  {
   "attachments": {},
   "cell_type": "markdown",
   "metadata": {},
   "source": [
    "While not very high, `policy_tenure`, `age_of_policyholder`, and `cylinder` show some positive correlation and `population_density` and `age_of_car` show some negative correlation."
   ]
  },
  {
   "attachments": {},
   "cell_type": "markdown",
   "metadata": {},
   "source": [
    "Let's look at the largest. So, `policy_tenure`."
   ]
  },
  {
   "cell_type": "code",
   "execution_count": 23,
   "metadata": {},
   "outputs": [
    {
     "data": {
      "text/plain": [
       "count    58592.000000\n",
       "mean         0.611246\n",
       "std          0.414156\n",
       "min          0.002735\n",
       "25%          0.210250\n",
       "50%          0.573792\n",
       "75%          1.039104\n",
       "max          1.396641\n",
       "Name: policy_tenure, dtype: float64"
      ]
     },
     "execution_count": 23,
     "metadata": {},
     "output_type": "execute_result"
    }
   ],
   "source": [
    "df['policy_tenure'].describe()"
   ]
  },
  {
   "cell_type": "code",
   "execution_count": 24,
   "metadata": {},
   "outputs": [
    {
     "data": {
      "text/plain": [
       "0.03916201705442678"
      ]
     },
     "execution_count": 24,
     "metadata": {},
     "output_type": "execute_result"
    }
   ],
   "source": [
    "tenure_low = df[df['policy_tenure'] <= 0.3]['is_claim'].mean()\n",
    "tenure_low"
   ]
  },
  {
   "cell_type": "code",
   "execution_count": 25,
   "metadata": {},
   "outputs": [
    {
     "data": {
      "text/plain": [
       "0.06673138827857544"
      ]
     },
     "execution_count": 25,
     "metadata": {},
     "output_type": "execute_result"
    }
   ],
   "source": [
    "tenure_med = df[(df['policy_tenure'] > 0.3) & (df['policy_tenure'] <= 0.9)]['is_claim'].mean()\n",
    "tenure_med"
   ]
  },
  {
   "cell_type": "code",
   "execution_count": 26,
   "metadata": {},
   "outputs": [
    {
     "data": {
      "text/plain": [
       "0.08480247715127603"
      ]
     },
     "execution_count": 26,
     "metadata": {},
     "output_type": "execute_result"
    }
   ],
   "source": [
    "tenure_max = df[df['policy_tenure'] > 0.9]['is_claim'].mean()\n",
    "tenure_max"
   ]
  },
  {
   "attachments": {},
   "cell_type": "markdown",
   "metadata": {},
   "source": [
    "It seems that the longer the policy, the more likely to claim"
   ]
  },
  {
   "attachments": {},
   "cell_type": "markdown",
   "metadata": {},
   "source": [
    "Let's take a look at `age_of_car`. "
   ]
  },
  {
   "cell_type": "code",
   "execution_count": 27,
   "metadata": {},
   "outputs": [
    {
     "data": {
      "text/plain": [
       "count    58592.000000\n",
       "mean         0.069424\n",
       "std          0.056721\n",
       "min          0.000000\n",
       "25%          0.020000\n",
       "50%          0.060000\n",
       "75%          0.110000\n",
       "max          1.000000\n",
       "Name: age_of_car, dtype: float64"
      ]
     },
     "execution_count": 27,
     "metadata": {},
     "output_type": "execute_result"
    }
   ],
   "source": [
    "df['age_of_car'].describe()"
   ]
  },
  {
   "attachments": {},
   "cell_type": "markdown",
   "metadata": {},
   "source": [
    "These values are all quite *low*."
   ]
  },
  {
   "cell_type": "code",
   "execution_count": 28,
   "metadata": {},
   "outputs": [
    {
     "data": {
      "text/plain": [
       "0.06736817490938851"
      ]
     },
     "execution_count": 28,
     "metadata": {},
     "output_type": "execute_result"
    }
   ],
   "source": [
    "age_low = df[df['age_of_car'] <= 0.1]['is_claim'].mean()\n",
    "age_low"
   ]
  },
  {
   "cell_type": "code",
   "execution_count": 29,
   "metadata": {},
   "outputs": [
    {
     "data": {
      "text/plain": [
       "0.054782332380044485"
      ]
     },
     "execution_count": 29,
     "metadata": {},
     "output_type": "execute_result"
    }
   ],
   "source": [
    "age_med = df[(df['age_of_car'] > 0.1) & (df['age_of_car'] <= 0.3)]['is_claim'].mean()\n",
    "age_med"
   ]
  },
  {
   "cell_type": "code",
   "execution_count": 30,
   "metadata": {},
   "outputs": [
    {
     "data": {
      "text/plain": [
       "0.05434782608695652"
      ]
     },
     "execution_count": 30,
     "metadata": {},
     "output_type": "execute_result"
    }
   ],
   "source": [
    "age_high = df[df['age_of_car'] > 0.3]['is_claim'].mean()\n",
    "age_high"
   ]
  },
  {
   "attachments": {},
   "cell_type": "markdown",
   "metadata": {},
   "source": [
    "It seems the lower the age, the more likely to claim in the next 6 months. But not by much."
   ]
  },
  {
   "attachments": {},
   "cell_type": "markdown",
   "metadata": {},
   "source": [
    "## Data Cleanup Standardization\n",
    "\n",
    "Encapsulating the changes made over the course of EDA"
   ]
  },
  {
   "cell_type": "code",
   "execution_count": 31,
   "metadata": {},
   "outputs": [],
   "source": [
    "def cleanup_dataframe(df):\n",
    "    # Removing uppercase and spaces\n",
    "    df.columns = df.columns.str.lower().str.replace(' ', '_')\n",
    "\n",
    "    categorical = list(df.dtypes[df.dtypes == 'object'].index)\n",
    "\n",
    "    for c in categorical:\n",
    "        df[c] = df[c].str.lower().str.replace(' ', '_')\n",
    "\n",
    "    # Cleaning up policy variable\n",
    "    df[\"policy_id\"] = df[\"policy_id\"].str[2:] # Removes the first two letters (id)\n",
    "    df[\"policy_id\"] = df[\"policy_id\"].astype(\"int\")\n",
    "\n",
    "    # Adding variables for the individual values of max_torque and max_power\n",
    "    df[['max_torque_nm','max_torque_rpm']] = df['max_torque'].str.split(\"@\", expand=True)\n",
    "    df['max_torque_rpm'] = df[\"max_torque_rpm\"].str[:-3].astype(\"int\")\n",
    "    df['max_torque_nm'] = df[\"max_torque_nm\"].str[:-2].astype(\"float\")\n",
    "\n",
    "    df[['max_power_bhp','max_power_rpm']] = df['max_power'].str.split(\"@\", expand=True)\n",
    "    df['max_power_rpm'] = df[\"max_power_rpm\"].str[:-3].astype(\"int\")\n",
    "    df['max_power_bhp'] = df[\"max_power_bhp\"].str[:-3].astype(\"float\")\n",
    "\n",
    "    return df"
   ]
  },
  {
   "attachments": {},
   "cell_type": "markdown",
   "metadata": {},
   "source": [
    "## Modeling and Validation"
   ]
  },
  {
   "cell_type": "code",
   "execution_count": 32,
   "metadata": {},
   "outputs": [],
   "source": [
    "from sklearn.feature_extraction import DictVectorizer\n",
    "from sklearn.model_selection import train_test_split"
   ]
  },
  {
   "cell_type": "code",
   "execution_count": 33,
   "metadata": {},
   "outputs": [],
   "source": [
    "df_train, df_val = train_test_split(df, test_size=0.25, random_state=1)"
   ]
  },
  {
   "cell_type": "code",
   "execution_count": 34,
   "metadata": {},
   "outputs": [],
   "source": [
    "df_test = pd.read_csv(\"../../data/test.csv\")\n",
    "df_test = cleanup_dataframe(df_test)"
   ]
  },
  {
   "cell_type": "code",
   "execution_count": 35,
   "metadata": {},
   "outputs": [],
   "source": [
    "dv = DictVectorizer(sparse=False)\n",
    "\n",
    "train_dict = df_train[categorical + numerical].to_dict(orient='records')\n",
    "X_train = dv.fit_transform(train_dict)\n",
    "y_train = df_train['is_claim']\n",
    "\n",
    "# Don't fit on validation dataset\n",
    "val_dict = df_val[categorical + numerical].to_dict(orient='records')\n",
    "X_val = dv.transform(val_dict)\n",
    "y_val = df_val['is_claim']"
   ]
  },
  {
   "attachments": {},
   "cell_type": "markdown",
   "metadata": {},
   "source": [
    "First we experiment with sklearn's Logistic Regression"
   ]
  },
  {
   "cell_type": "code",
   "execution_count": 36,
   "metadata": {},
   "outputs": [],
   "source": [
    "from sklearn.linear_model import LogisticRegression\n",
    "from sklearn.tree import DecisionTreeClassifier\n",
    "from sklearn.ensemble import RandomForestClassifier\n",
    "from sklearn.metrics import roc_auc_score, accuracy_score, confusion_matrix, ConfusionMatrixDisplay"
   ]
  },
  {
   "cell_type": "code",
   "execution_count": 37,
   "metadata": {},
   "outputs": [],
   "source": [
    "model = LogisticRegression(\n",
    "        solver='liblinear',\n",
    "        max_iter=1000,\n",
    "    )\n",
    "model.fit(X_train, y_train)\n",
    "y_pred = model.predict_proba(X_val)[:, 1]"
   ]
  },
  {
   "cell_type": "code",
   "execution_count": 38,
   "metadata": {},
   "outputs": [
    {
     "data": {
      "text/plain": [
       "array([0.1, 0.2, 0.3, 0.4, 0.5, 0.6, 0.7, 0.8, 0.9, 1. ])"
      ]
     },
     "execution_count": 38,
     "metadata": {},
     "output_type": "execute_result"
    }
   ],
   "source": [
    "C = np.linspace(0.1, 1.0, 10)\n",
    "C"
   ]
  },
  {
   "cell_type": "code",
   "execution_count": 39,
   "metadata": {},
   "outputs": [
    {
     "name": "stdout",
     "output_type": "stream",
     "text": [
      "Acccuracy Scores by Threshold\n",
      "-----------------------------\n",
      "t: 0.00 accuracy: 0.064\n",
      "t: 0.10 accuracy: 0.936\n",
      "t: 0.20 accuracy: 0.936\n",
      "t: 0.30 accuracy: 0.936\n",
      "t: 0.40 accuracy: 0.936\n",
      "t: 0.50 accuracy: 0.936\n",
      "t: 0.60 accuracy: 0.936\n",
      "t: 0.70 accuracy: 0.936\n",
      "t: 0.80 accuracy: 0.936\n",
      "t: 0.90 accuracy: 0.936\n",
      "t: 1.00 accuracy: 0.936\n"
     ]
    }
   ],
   "source": [
    "# Creates 21 values equally spaced between 0 and 1 inclusive\n",
    "thresholds = np.linspace(0, 1, 11)\n",
    "\n",
    "scores = []\n",
    "\n",
    "print(\"Acccuracy Scores by Threshold\")\n",
    "print(\"-----------------------------\")\n",
    "# Get the accuracy for each thrshold\n",
    "for t in thresholds:\n",
    "    # Use accuracy with decision boundary t from thresholds\n",
    "    score = accuracy_score(y_val, y_pred >= t)\n",
    "    print('t: %.2f accuracy: %.3f' % (t, score))\n",
    "    scores.append(score)"
   ]
  },
  {
   "cell_type": "code",
   "execution_count": 40,
   "metadata": {},
   "outputs": [
    {
     "name": "stdout",
     "output_type": "stream",
     "text": [
      "C: 0.1\n",
      "Acc: 0.9358956854178044\n",
      "AUC: 0.5\n",
      "C: 0.2\n",
      "Acc: 0.9358956854178044\n",
      "AUC: 0.5\n",
      "C: 0.30000000000000004\n",
      "Acc: 0.9358956854178044\n",
      "AUC: 0.5\n",
      "C: 0.4\n",
      "Acc: 0.9358956854178044\n",
      "AUC: 0.5\n",
      "C: 0.5\n",
      "Acc: 0.9358956854178044\n",
      "AUC: 0.5\n",
      "C: 0.6\n",
      "Acc: 0.9358956854178044\n",
      "AUC: 0.5\n",
      "C: 0.7000000000000001\n",
      "Acc: 0.9358956854178044\n",
      "AUC: 0.5\n",
      "C: 0.8\n",
      "Acc: 0.9358956854178044\n",
      "AUC: 0.5\n",
      "C: 0.9\n",
      "Acc: 0.9358956854178044\n",
      "AUC: 0.5\n",
      "C: 1.0\n",
      "Acc: 0.9358956854178044\n",
      "AUC: 0.5\n"
     ]
    }
   ],
   "source": [
    "for c in C:\n",
    "    model = LogisticRegression(\n",
    "            solver='liblinear',\n",
    "            max_iter=1000,\n",
    "            C=c,\n",
    "        )\n",
    "    model.fit(X_train, y_train)\n",
    "    y_pred = model.predict_proba(X_val)[:, 1]\n",
    "    acc = accuracy_score(y_val, y_pred >= 0.10)\n",
    "    auc = roc_auc_score(y_val, y_pred >= 0.10)\n",
    "    print(f\"C: {c}\")\n",
    "    print(f\"Acc: {acc}\")\n",
    "    print(f\"AUC: {auc}\")"
   ]
  },
  {
   "attachments": {},
   "cell_type": "markdown",
   "metadata": {},
   "source": [
    "Logistic Regression is not affected by regularization. Need more data or larger model."
   ]
  },
  {
   "attachments": {},
   "cell_type": "markdown",
   "metadata": {},
   "source": [
    "Trying Random Forest Classifier:"
   ]
  },
  {
   "cell_type": "code",
   "execution_count": 41,
   "metadata": {},
   "outputs": [],
   "source": [
    "scores = []\n",
    "\n",
    "# Range 10, 20, ... 200\n",
    "for n in range(10, 201, 10):\n",
    "    rf = RandomForestClassifier(\n",
    "        n_estimators=n, \n",
    "        random_state=1,\n",
    "    )\n",
    "    rf.fit(X_train, y_train)\n",
    "\n",
    "    y_pred = rf.predict_proba(X_val)[:, 1]\n",
    "    auc = roc_auc_score(y_val, y_pred)\n",
    "    \n",
    "    scores.append((n, auc))"
   ]
  },
  {
   "attachments": {},
   "cell_type": "markdown",
   "metadata": {},
   "source": [
    "First tuning number of estimators"
   ]
  },
  {
   "cell_type": "code",
   "execution_count": 42,
   "metadata": {},
   "outputs": [
    {
     "data": {
      "text/html": [
       "<div>\n",
       "<style scoped>\n",
       "    .dataframe tbody tr th:only-of-type {\n",
       "        vertical-align: middle;\n",
       "    }\n",
       "\n",
       "    .dataframe tbody tr th {\n",
       "        vertical-align: top;\n",
       "    }\n",
       "\n",
       "    .dataframe thead th {\n",
       "        text-align: right;\n",
       "    }\n",
       "</style>\n",
       "<table border=\"1\" class=\"dataframe\">\n",
       "  <thead>\n",
       "    <tr style=\"text-align: right;\">\n",
       "      <th></th>\n",
       "      <th>n_estimators</th>\n",
       "      <th>auc</th>\n",
       "    </tr>\n",
       "  </thead>\n",
       "  <tbody>\n",
       "    <tr>\n",
       "      <th>0</th>\n",
       "      <td>10</td>\n",
       "      <td>0.530276</td>\n",
       "    </tr>\n",
       "    <tr>\n",
       "      <th>1</th>\n",
       "      <td>20</td>\n",
       "      <td>0.548455</td>\n",
       "    </tr>\n",
       "    <tr>\n",
       "      <th>2</th>\n",
       "      <td>30</td>\n",
       "      <td>0.557259</td>\n",
       "    </tr>\n",
       "    <tr>\n",
       "      <th>3</th>\n",
       "      <td>40</td>\n",
       "      <td>0.560714</td>\n",
       "    </tr>\n",
       "    <tr>\n",
       "      <th>4</th>\n",
       "      <td>50</td>\n",
       "      <td>0.566382</td>\n",
       "    </tr>\n",
       "    <tr>\n",
       "      <th>5</th>\n",
       "      <td>60</td>\n",
       "      <td>0.569460</td>\n",
       "    </tr>\n",
       "    <tr>\n",
       "      <th>6</th>\n",
       "      <td>70</td>\n",
       "      <td>0.571399</td>\n",
       "    </tr>\n",
       "    <tr>\n",
       "      <th>7</th>\n",
       "      <td>80</td>\n",
       "      <td>0.572430</td>\n",
       "    </tr>\n",
       "    <tr>\n",
       "      <th>8</th>\n",
       "      <td>90</td>\n",
       "      <td>0.575573</td>\n",
       "    </tr>\n",
       "    <tr>\n",
       "      <th>9</th>\n",
       "      <td>100</td>\n",
       "      <td>0.576669</td>\n",
       "    </tr>\n",
       "    <tr>\n",
       "      <th>10</th>\n",
       "      <td>110</td>\n",
       "      <td>0.578181</td>\n",
       "    </tr>\n",
       "    <tr>\n",
       "      <th>11</th>\n",
       "      <td>120</td>\n",
       "      <td>0.578692</td>\n",
       "    </tr>\n",
       "    <tr>\n",
       "      <th>12</th>\n",
       "      <td>130</td>\n",
       "      <td>0.578024</td>\n",
       "    </tr>\n",
       "    <tr>\n",
       "      <th>13</th>\n",
       "      <td>140</td>\n",
       "      <td>0.579506</td>\n",
       "    </tr>\n",
       "    <tr>\n",
       "      <th>14</th>\n",
       "      <td>150</td>\n",
       "      <td>0.578969</td>\n",
       "    </tr>\n",
       "    <tr>\n",
       "      <th>15</th>\n",
       "      <td>160</td>\n",
       "      <td>0.579793</td>\n",
       "    </tr>\n",
       "    <tr>\n",
       "      <th>16</th>\n",
       "      <td>170</td>\n",
       "      <td>0.579777</td>\n",
       "    </tr>\n",
       "    <tr>\n",
       "      <th>17</th>\n",
       "      <td>180</td>\n",
       "      <td>0.580385</td>\n",
       "    </tr>\n",
       "    <tr>\n",
       "      <th>18</th>\n",
       "      <td>190</td>\n",
       "      <td>0.582790</td>\n",
       "    </tr>\n",
       "    <tr>\n",
       "      <th>19</th>\n",
       "      <td>200</td>\n",
       "      <td>0.582408</td>\n",
       "    </tr>\n",
       "  </tbody>\n",
       "</table>\n",
       "</div>"
      ],
      "text/plain": [
       "    n_estimators       auc\n",
       "0             10  0.530276\n",
       "1             20  0.548455\n",
       "2             30  0.557259\n",
       "3             40  0.560714\n",
       "4             50  0.566382\n",
       "5             60  0.569460\n",
       "6             70  0.571399\n",
       "7             80  0.572430\n",
       "8             90  0.575573\n",
       "9            100  0.576669\n",
       "10           110  0.578181\n",
       "11           120  0.578692\n",
       "12           130  0.578024\n",
       "13           140  0.579506\n",
       "14           150  0.578969\n",
       "15           160  0.579793\n",
       "16           170  0.579777\n",
       "17           180  0.580385\n",
       "18           190  0.582790\n",
       "19           200  0.582408"
      ]
     },
     "execution_count": 42,
     "metadata": {},
     "output_type": "execute_result"
    }
   ],
   "source": [
    "df_scores = pd.DataFrame(scores, columns=['n_estimators', 'auc'])\n",
    "df_scores"
   ]
  },
  {
   "cell_type": "code",
   "execution_count": 43,
   "metadata": {},
   "outputs": [
    {
     "data": {
      "text/plain": [
       "[<matplotlib.lines.Line2D at 0x7faf3dadfd90>]"
      ]
     },
     "execution_count": 43,
     "metadata": {},
     "output_type": "execute_result"
    },
    {
     "data": {
      "image/png": "[encoded data removed]",
      "text/plain": [
       "<Figure size 640x480 with 1 Axes>"
      ]
     },
     "metadata": {},
     "output_type": "display_data"
    }
   ],
   "source": [
    "plt.plot(df_scores.n_estimators, df_scores.auc)"
   ]
  },
  {
   "attachments": {},
   "cell_type": "markdown",
   "metadata": {},
   "source": [
    "Increases until about ~185 estimators. We will continue with that"
   ]
  },
  {
   "attachments": {},
   "cell_type": "markdown",
   "metadata": {},
   "source": [
    "Tuning max tree depth:"
   ]
  },
  {
   "cell_type": "code",
   "execution_count": 44,
   "metadata": {},
   "outputs": [],
   "source": [
    "scores = []\n",
    "\n",
    "for d in [4, 5, 6, 7, 8]:\n",
    "    for n in range(10, 201, 10):\n",
    "        rf = RandomForestClassifier(n_estimators=n,\n",
    "                                    max_depth=d,\n",
    "                                    random_state=1)\n",
    "        rf.fit(X_train, y_train)\n",
    "\n",
    "        y_pred = rf.predict_proba(X_val)[:, 1]\n",
    "        auc = roc_auc_score(y_val, y_pred)\n",
    "\n",
    "        scores.append((d, n, auc))"
   ]
  },
  {
   "cell_type": "code",
   "execution_count": 45,
   "metadata": {},
   "outputs": [
    {
     "data": {
      "text/html": [
       "<div>\n",
       "<style scoped>\n",
       "    .dataframe tbody tr th:only-of-type {\n",
       "        vertical-align: middle;\n",
       "    }\n",
       "\n",
       "    .dataframe tbody tr th {\n",
       "        vertical-align: top;\n",
       "    }\n",
       "\n",
       "    .dataframe thead th {\n",
       "        text-align: right;\n",
       "    }\n",
       "</style>\n",
       "<table border=\"1\" class=\"dataframe\">\n",
       "  <thead>\n",
       "    <tr style=\"text-align: right;\">\n",
       "      <th></th>\n",
       "      <th>max_depth</th>\n",
       "      <th>n_estimators</th>\n",
       "      <th>auc</th>\n",
       "    </tr>\n",
       "  </thead>\n",
       "  <tbody>\n",
       "    <tr>\n",
       "      <th>0</th>\n",
       "      <td>4</td>\n",
       "      <td>10</td>\n",
       "      <td>0.610967</td>\n",
       "    </tr>\n",
       "    <tr>\n",
       "      <th>1</th>\n",
       "      <td>4</td>\n",
       "      <td>20</td>\n",
       "      <td>0.623438</td>\n",
       "    </tr>\n",
       "    <tr>\n",
       "      <th>2</th>\n",
       "      <td>4</td>\n",
       "      <td>30</td>\n",
       "      <td>0.636642</td>\n",
       "    </tr>\n",
       "    <tr>\n",
       "      <th>3</th>\n",
       "      <td>4</td>\n",
       "      <td>40</td>\n",
       "      <td>0.631990</td>\n",
       "    </tr>\n",
       "    <tr>\n",
       "      <th>4</th>\n",
       "      <td>4</td>\n",
       "      <td>50</td>\n",
       "      <td>0.629078</td>\n",
       "    </tr>\n",
       "  </tbody>\n",
       "</table>\n",
       "</div>"
      ],
      "text/plain": [
       "   max_depth  n_estimators       auc\n",
       "0          4            10  0.610967\n",
       "1          4            20  0.623438\n",
       "2          4            30  0.636642\n",
       "3          4            40  0.631990\n",
       "4          4            50  0.629078"
      ]
     },
     "execution_count": 45,
     "metadata": {},
     "output_type": "execute_result"
    }
   ],
   "source": [
    "columns = ['max_depth', 'n_estimators', 'auc']\n",
    "df_scores = pd.DataFrame(scores, columns=columns)\n",
    "df_scores.head()"
   ]
  },
  {
   "cell_type": "code",
   "execution_count": 46,
   "metadata": {},
   "outputs": [
    {
     "data": {
      "text/plain": [
       "<matplotlib.legend.Legend at 0x7faf3db3a310>"
      ]
     },
     "execution_count": 46,
     "metadata": {},
     "output_type": "execute_result"
    },
    {
     "data": {
      "image/png": "[encoded data removed]",
      "text/plain": [
       "<Figure size 640x480 with 1 Axes>"
      ]
     },
     "metadata": {},
     "output_type": "display_data"
    }
   ],
   "source": [
    "for d in [4, 5, 6, 7, 8]:\n",
    "    df_subset = df_scores[df_scores.max_depth == d]\n",
    "    \n",
    "    plt.plot(df_subset.n_estimators, df_subset.auc,\n",
    "             label='max_depth=%d' % d)\n",
    "\n",
    "plt.legend()"
   ]
  },
  {
   "attachments": {},
   "cell_type": "markdown",
   "metadata": {},
   "source": [
    "A max depth of 7 seems ideal."
   ]
  },
  {
   "attachments": {},
   "cell_type": "markdown",
   "metadata": {},
   "source": [
    "Tuning number of minimum samples per leaf:"
   ]
  },
  {
   "cell_type": "code",
   "execution_count": 47,
   "metadata": {},
   "outputs": [],
   "source": [
    "# May take some time\n",
    "max_depth = 5\n",
    "scores = []\n",
    "\n",
    "for s in [1, 2, 3, 4, 5]:\n",
    "    for n in range(10, 201, 10):\n",
    "        rf = RandomForestClassifier(n_estimators=n,\n",
    "                                    max_depth=max_depth,\n",
    "                                    min_samples_leaf=s,\n",
    "                                    random_state=1)\n",
    "        rf.fit(X_train, y_train)\n",
    "\n",
    "        y_pred = rf.predict_proba(X_val)[:, 1]\n",
    "        auc = roc_auc_score(y_val, y_pred)\n",
    "\n",
    "        scores.append((s, n, auc))"
   ]
  },
  {
   "cell_type": "code",
   "execution_count": 48,
   "metadata": {},
   "outputs": [
    {
     "data": {
      "text/html": [
       "<div>\n",
       "<style scoped>\n",
       "    .dataframe tbody tr th:only-of-type {\n",
       "        vertical-align: middle;\n",
       "    }\n",
       "\n",
       "    .dataframe tbody tr th {\n",
       "        vertical-align: top;\n",
       "    }\n",
       "\n",
       "    .dataframe thead th {\n",
       "        text-align: right;\n",
       "    }\n",
       "</style>\n",
       "<table border=\"1\" class=\"dataframe\">\n",
       "  <thead>\n",
       "    <tr style=\"text-align: right;\">\n",
       "      <th></th>\n",
       "      <th>min_samples_leaf</th>\n",
       "      <th>n_estimators</th>\n",
       "      <th>auc</th>\n",
       "    </tr>\n",
       "  </thead>\n",
       "  <tbody>\n",
       "    <tr>\n",
       "      <th>0</th>\n",
       "      <td>1</td>\n",
       "      <td>10</td>\n",
       "      <td>0.615306</td>\n",
       "    </tr>\n",
       "    <tr>\n",
       "      <th>1</th>\n",
       "      <td>1</td>\n",
       "      <td>20</td>\n",
       "      <td>0.625452</td>\n",
       "    </tr>\n",
       "    <tr>\n",
       "      <th>2</th>\n",
       "      <td>1</td>\n",
       "      <td>30</td>\n",
       "      <td>0.636483</td>\n",
       "    </tr>\n",
       "    <tr>\n",
       "      <th>3</th>\n",
       "      <td>1</td>\n",
       "      <td>40</td>\n",
       "      <td>0.635938</td>\n",
       "    </tr>\n",
       "    <tr>\n",
       "      <th>4</th>\n",
       "      <td>1</td>\n",
       "      <td>50</td>\n",
       "      <td>0.631654</td>\n",
       "    </tr>\n",
       "  </tbody>\n",
       "</table>\n",
       "</div>"
      ],
      "text/plain": [
       "   min_samples_leaf  n_estimators       auc\n",
       "0                 1            10  0.615306\n",
       "1                 1            20  0.625452\n",
       "2                 1            30  0.636483\n",
       "3                 1            40  0.635938\n",
       "4                 1            50  0.631654"
      ]
     },
     "execution_count": 48,
     "metadata": {},
     "output_type": "execute_result"
    }
   ],
   "source": [
    "columns = ['min_samples_leaf', 'n_estimators', 'auc']\n",
    "df_scores = pd.DataFrame(scores, columns=columns)\n",
    "df_scores.head()"
   ]
  },
  {
   "cell_type": "code",
   "execution_count": 49,
   "metadata": {},
   "outputs": [
    {
     "data": {
      "text/plain": [
       "<matplotlib.legend.Legend at 0x7faf3da45ac0>"
      ]
     },
     "execution_count": 49,
     "metadata": {},
     "output_type": "execute_result"
    },
    {
     "data": {
      "image/png": "[encoded data removed]",
      "text/plain": [
       "<Figure size 640x480 with 1 Axes>"
      ]
     },
     "metadata": {},
     "output_type": "display_data"
    }
   ],
   "source": [
    "colors = ['black', 'blue', 'orange', 'red', 'grey']\n",
    "values = [1, 2, 3, 4, 5]\n",
    "\n",
    "# We need to zip values and colors to associate the colors with the different data streams\n",
    "for s, col in zip(values, colors):\n",
    "    df_subset = df_scores[df_scores.min_samples_leaf == s]\n",
    "    \n",
    "    plt.plot(df_subset.n_estimators, df_subset.auc,\n",
    "             color=col,\n",
    "             label='min_samples_leaf=%d' % s)\n",
    "\n",
    "plt.legend()"
   ]
  },
  {
   "cell_type": "code",
   "execution_count": 50,
   "metadata": {},
   "outputs": [
    {
     "data": {
      "text/html": [
       "<style>#sk-container-id-1 {color: black;background-color: white;}#sk-container-id-1 pre{padding: 0;}#sk-container-id-1 div.sk-toggleable {background-color: white;}#sk-container-id-1 label.sk-toggleable__label {cursor: pointer;display: block;width: 100%;margin-bottom: 0;padding: 0.3em;box-sizing: border-box;text-align: center;}#sk-container-id-1 label.sk-toggleable__label-arrow:before {content: \"▸\";float: left;margin-right: 0.25em;color: #696969;}#sk-container-id-1 label.sk-toggleable__label-arrow:hover:before {color: black;}#sk-container-id-1 div.sk-estimator:hover label.sk-toggleable__label-arrow:before {color: black;}#sk-container-id-1 div.sk-toggleable__content {max-height: 0;max-width: 0;overflow: hidden;text-align: left;background-color: #f0f8ff;}#sk-container-id-1 div.sk-toggleable__content pre {margin: 0.2em;color: black;border-radius: 0.25em;background-color: #f0f8ff;}#sk-container-id-1 input.sk-toggleable__control:checked~div.sk-toggleable__content {max-height: 200px;max-width: 100%;overflow: auto;}#sk-container-id-1 input.sk-toggleable__control:checked~label.sk-toggleable__label-arrow:before {content: \"▾\";}#sk-container-id-1 div.sk-estimator input.sk-toggleable__control:checked~label.sk-toggleable__label {background-color: #d4ebff;}#sk-container-id-1 div.sk-label input.sk-toggleable__control:checked~label.sk-toggleable__label {background-color: #d4ebff;}#sk-container-id-1 input.sk-hidden--visually {border: 0;clip: rect(1px 1px 1px 1px);clip: rect(1px, 1px, 1px, 1px);height: 1px;margin: -1px;overflow: hidden;padding: 0;position: absolute;width: 1px;}#sk-container-id-1 div.sk-estimator {font-family: monospace;background-color: #f0f8ff;border: 1px dotted black;border-radius: 0.25em;box-sizing: border-box;margin-bottom: 0.5em;}#sk-container-id-1 div.sk-estimator:hover {background-color: #d4ebff;}#sk-container-id-1 div.sk-parallel-item::after {content: \"\";width: 100%;border-bottom: 1px solid gray;flex-grow: 1;}#sk-container-id-1 div.sk-label:hover label.sk-toggleable__label {background-color: #d4ebff;}#sk-container-id-1 div.sk-serial::before {content: \"\";position: absolute;border-left: 1px solid gray;box-sizing: border-box;top: 0;bottom: 0;left: 50%;z-index: 0;}#sk-container-id-1 div.sk-serial {display: flex;flex-direction: column;align-items: center;background-color: white;padding-right: 0.2em;padding-left: 0.2em;position: relative;}#sk-container-id-1 div.sk-item {position: relative;z-index: 1;}#sk-container-id-1 div.sk-parallel {display: flex;align-items: stretch;justify-content: center;background-color: white;position: relative;}#sk-container-id-1 div.sk-item::before, #sk-container-id-1 div.sk-parallel-item::before {content: \"\";position: absolute;border-left: 1px solid gray;box-sizing: border-box;top: 0;bottom: 0;left: 50%;z-index: -1;}#sk-container-id-1 div.sk-parallel-item {display: flex;flex-direction: column;z-index: 1;position: relative;background-color: white;}#sk-container-id-1 div.sk-parallel-item:first-child::after {align-self: flex-end;width: 50%;}#sk-container-id-1 div.sk-parallel-item:last-child::after {align-self: flex-start;width: 50%;}#sk-container-id-1 div.sk-parallel-item:only-child::after {width: 0;}#sk-container-id-1 div.sk-dashed-wrapped {border: 1px dashed gray;margin: 0 0.4em 0.5em 0.4em;box-sizing: border-box;padding-bottom: 0.4em;background-color: white;}#sk-container-id-1 div.sk-label label {font-family: monospace;font-weight: bold;display: inline-block;line-height: 1.2em;}#sk-container-id-1 div.sk-label-container {text-align: center;}#sk-container-id-1 div.sk-container {/* jupyter's `normalize.less` sets `[hidden] { display: none; }` but bootstrap.min.css set `[hidden] { display: none !important; }` so we also need the `!important` here to be able to override the default hidden behavior on the sphinx rendered scikit-learn.org. See: https://github.com/scikit-learn/scikit-learn/issues/21755 */display: inline-block !important;position: relative;}#sk-container-id-1 div.sk-text-repr-fallback {display: none;}</style><div id=\"sk-container-id-1\" class=\"sk-top-container\"><div class=\"sk-text-repr-fallback\"><pre>RandomForestClassifier(max_depth=7, min_samples_leaf=3, n_estimators=185,\n",
       "                       random_state=1)</pre><b>In a Jupyter environment, please rerun this cell to show the HTML representation or trust the notebook. <br />On GitHub, the HTML representation is unable to render, please try loading this page with nbviewer.org.</b></div><div class=\"sk-container\" hidden><div class=\"sk-item\"><div class=\"sk-estimator sk-toggleable\"><input class=\"sk-toggleable__control sk-hidden--visually\" id=\"sk-estimator-id-1\" type=\"checkbox\" checked><label for=\"sk-estimator-id-1\" class=\"sk-toggleable__label sk-toggleable__label-arrow\">RandomForestClassifier</label><div class=\"sk-toggleable__content\"><pre>RandomForestClassifier(max_depth=7, min_samples_leaf=3, n_estimators=185,\n",
       "                       random_state=1)</pre></div></div></div></div></div>"
      ],
      "text/plain": [
       "RandomForestClassifier(max_depth=7, min_samples_leaf=3, n_estimators=185,\n",
       "                       random_state=1)"
      ]
     },
     "execution_count": 50,
     "metadata": {},
     "output_type": "execute_result"
    }
   ],
   "source": [
    "# Using 200 estimators as there is not much difference between 100 and 200\n",
    "rf = RandomForestClassifier(n_estimators=185,\n",
    "                            max_depth=7,\n",
    "                            min_samples_leaf=3,\n",
    "                            random_state=1,\n",
    "                            )\n",
    "rf.fit(X_train, y_train)"
   ]
  },
  {
   "cell_type": "code",
   "execution_count": 51,
   "metadata": {},
   "outputs": [
    {
     "data": {
      "text/plain": [
       "0.6419337249667924"
      ]
     },
     "execution_count": 51,
     "metadata": {},
     "output_type": "execute_result"
    }
   ],
   "source": [
    "y_pred = rf.predict_proba(X_val)[:, 1]\n",
    "auc = roc_auc_score(y_val, y_pred)\n",
    "auc"
   ]
  },
  {
   "cell_type": "code",
   "execution_count": 52,
   "metadata": {},
   "outputs": [],
   "source": [
    "import xgboost as xgb"
   ]
  },
  {
   "attachments": {},
   "cell_type": "markdown",
   "metadata": {},
   "source": [
    "Converting to xgb DMatrix format:"
   ]
  },
  {
   "cell_type": "code",
   "execution_count": 53,
   "metadata": {},
   "outputs": [],
   "source": [
    "features = dv.get_feature_names_out()\n",
    "dtrain = xgb.DMatrix(X_train, label=y_train, feature_names=features)\n",
    "dval = xgb.DMatrix(X_val, label=y_val, feature_names=features)"
   ]
  },
  {
   "cell_type": "code",
   "execution_count": 54,
   "metadata": {},
   "outputs": [],
   "source": [
    "watchlist = [(dtrain, 'train'), (dval, 'val')]"
   ]
  },
  {
   "cell_type": "code",
   "execution_count": 56,
   "metadata": {},
   "outputs": [],
   "source": [
    "from hyperopt import STATUS_OK, Trials, fmin, hp, tpe"
   ]
  },
  {
   "cell_type": "code",
   "execution_count": 57,
   "metadata": {},
   "outputs": [],
   "source": [
    "space={'eta': hp.choice(\"eta\", [0.01, 0.05, 0.1, 0.3, 0.5, 1.0]),\n",
    "        'max_depth': hp.choice(\"max_depth\", list(np.linspace(1,10,10))),\n",
    "        'min_child_weight': hp.choice(\"min_child_weight\", [1, 5, 10, 15]),\n",
    "        'n_estimators': hp.quniform(\"n_estimators\", 100, 200, 21),\n",
    "        'seed': 0\n",
    "    }"
   ]
  },
  {
   "cell_type": "code",
   "execution_count": 58,
   "metadata": {},
   "outputs": [],
   "source": [
    "def objective(space):\n",
    "    print(int(space['max_depth']))\n",
    "    clf=xgb.XGBClassifier(\n",
    "        eta = space['eta'], \n",
    "        max_depth = int(space['max_depth']), \n",
    "        min_child_weight=int(space['min_child_weight']),\n",
    "        n_estimators=int(space['n_estimators'])\n",
    "    )\n",
    "    \n",
    "    evaluation = [( X_train, y_train), (X_val, y_val)]\n",
    "    \n",
    "    clf.fit(X_train, y_train,\n",
    "            eval_set=evaluation, eval_metric=\"auc\",\n",
    "            early_stopping_rounds=10,verbose=False)\n",
    "    \n",
    "\n",
    "    pred = clf.predict(X_val)\n",
    "    auc = roc_auc_score(y_val, y_pred)\n",
    "    acc = accuracy_score(y_val, y_pred >= 0.1)\n",
    "    print (\"SCORE:\", auc)\n",
    "    print (\"Accuracy:\", acc)\n",
    "    return {'loss': -acc, 'status': STATUS_OK }"
   ]
  },
  {
   "cell_type": "code",
   "execution_count": 59,
   "metadata": {},
   "outputs": [
    {
     "name": "stdout",
     "output_type": "stream",
     "text": [
      "8                                                      \n",
      "  0%|          | 0/100 [00:00<?, ?trial/s, best loss=?]"
     ]
    },
    {
     "name": "stderr",
     "output_type": "stream",
     "text": [
      "/home/andre/.local/share/virtualenvs/tentative_name-cXUp4kcY/lib/python3.9/site-packages/xgboost/sklearn.py:835: UserWarning: `eval_metric` in `fit` method is deprecated for better compatibility with scikit-learn, use `eval_metric` in constructor or`set_params` instead.\n",
      "  warnings.warn(\n",
      "\n",
      "/home/andre/.local/share/virtualenvs/tentative_name-cXUp4kcY/lib/python3.9/site-packages/xgboost/sklearn.py:835: UserWarning: `early_stopping_rounds` in `fit` method is deprecated for better compatibility with scikit-learn, use `early_stopping_rounds` in constructor or`set_params` instead.\n",
      "  warnings.warn(\n",
      "\n"
     ]
    },
    {
     "name": "stdout",
     "output_type": "stream",
     "text": [
      "SCORE:                                                 \n",
      "0.6419337249667924                                     \n",
      "Accuracy:                                              \n",
      "0.9287274713271436                                     \n",
      "6                                                                                 \n",
      "  1%|          | 1/100 [00:01<02:43,  1.65s/trial, best loss: -0.9287274713271436]"
     ]
    },
    {
     "name": "stderr",
     "output_type": "stream",
     "text": [
      "/home/andre/.local/share/virtualenvs/tentative_name-cXUp4kcY/lib/python3.9/site-packages/xgboost/sklearn.py:835: UserWarning: `eval_metric` in `fit` method is deprecated for better compatibility with scikit-learn, use `eval_metric` in constructor or`set_params` instead.\n",
      "  warnings.warn(\n",
      "\n",
      "/home/andre/.local/share/virtualenvs/tentative_name-cXUp4kcY/lib/python3.9/site-packages/xgboost/sklearn.py:835: UserWarning: `early_stopping_rounds` in `fit` method is deprecated for better compatibility with scikit-learn, use `early_stopping_rounds` in constructor or`set_params` instead.\n",
      "  warnings.warn(\n",
      "\n"
     ]
    },
    {
     "name": "stdout",
     "output_type": "stream",
     "text": [
      "SCORE:                                                                            \n",
      "0.6419337249667924                                                                \n",
      "Accuracy:                                                                         \n",
      "0.9287274713271436                                                                \n",
      "5                                                                                 \n",
      "  2%|▏         | 2/100 [00:02<01:36,  1.01trial/s, best loss: -0.9287274713271436]"
     ]
    },
    {
     "name": "stderr",
     "output_type": "stream",
     "text": [
      "/home/andre/.local/share/virtualenvs/tentative_name-cXUp4kcY/lib/python3.9/site-packages/xgboost/sklearn.py:835: UserWarning: `eval_metric` in `fit` method is deprecated for better compatibility with scikit-learn, use `eval_metric` in constructor or`set_params` instead.\n",
      "  warnings.warn(\n",
      "\n",
      "/home/andre/.local/share/virtualenvs/tentative_name-cXUp4kcY/lib/python3.9/site-packages/xgboost/sklearn.py:835: UserWarning: `early_stopping_rounds` in `fit` method is deprecated for better compatibility with scikit-learn, use `early_stopping_rounds` in constructor or`set_params` instead.\n",
      "  warnings.warn(\n",
      "\n"
     ]
    },
    {
     "name": "stdout",
     "output_type": "stream",
     "text": [
      "SCORE:                                                                            \n",
      "0.6419337249667924                                                                \n",
      "Accuracy:                                                                         \n",
      "0.9287274713271436                                                                \n",
      "8                                                                                 \n",
      "  3%|▎         | 3/100 [00:03<01:32,  1.05trial/s, best loss: -0.9287274713271436]"
     ]
    },
    {
     "name": "stderr",
     "output_type": "stream",
     "text": [
      "/home/andre/.local/share/virtualenvs/tentative_name-cXUp4kcY/lib/python3.9/site-packages/xgboost/sklearn.py:835: UserWarning: `eval_metric` in `fit` method is deprecated for better compatibility with scikit-learn, use `eval_metric` in constructor or`set_params` instead.\n",
      "  warnings.warn(\n",
      "\n",
      "/home/andre/.local/share/virtualenvs/tentative_name-cXUp4kcY/lib/python3.9/site-packages/xgboost/sklearn.py:835: UserWarning: `early_stopping_rounds` in `fit` method is deprecated for better compatibility with scikit-learn, use `early_stopping_rounds` in constructor or`set_params` instead.\n",
      "  warnings.warn(\n",
      "\n"
     ]
    },
    {
     "name": "stdout",
     "output_type": "stream",
     "text": [
      "SCORE:                                                                            \n",
      "0.6419337249667924                                                                \n",
      "Accuracy:                                                                         \n",
      "0.9287274713271436                                                                \n",
      "10                                                                                \n",
      "  4%|▍         | 4/100 [00:04<01:41,  1.06s/trial, best loss: -0.9287274713271436]"
     ]
    },
    {
     "name": "stderr",
     "output_type": "stream",
     "text": [
      "/home/andre/.local/share/virtualenvs/tentative_name-cXUp4kcY/lib/python3.9/site-packages/xgboost/sklearn.py:835: UserWarning: `eval_metric` in `fit` method is deprecated for better compatibility with scikit-learn, use `eval_metric` in constructor or`set_params` instead.\n",
      "  warnings.warn(\n",
      "\n",
      "/home/andre/.local/share/virtualenvs/tentative_name-cXUp4kcY/lib/python3.9/site-packages/xgboost/sklearn.py:835: UserWarning: `early_stopping_rounds` in `fit` method is deprecated for better compatibility with scikit-learn, use `early_stopping_rounds` in constructor or`set_params` instead.\n",
      "  warnings.warn(\n",
      "\n"
     ]
    },
    {
     "name": "stdout",
     "output_type": "stream",
     "text": [
      "SCORE:                                                                            \n",
      "0.6419337249667924                                                                \n",
      "Accuracy:                                                                         \n",
      "0.9287274713271436                                                                \n",
      "10                                                                                \n",
      "  5%|▌         | 5/100 [00:05<01:30,  1.04trial/s, best loss: -0.9287274713271436]"
     ]
    },
    {
     "name": "stderr",
     "output_type": "stream",
     "text": [
      "/home/andre/.local/share/virtualenvs/tentative_name-cXUp4kcY/lib/python3.9/site-packages/xgboost/sklearn.py:835: UserWarning: `eval_metric` in `fit` method is deprecated for better compatibility with scikit-learn, use `eval_metric` in constructor or`set_params` instead.\n",
      "  warnings.warn(\n",
      "\n",
      "/home/andre/.local/share/virtualenvs/tentative_name-cXUp4kcY/lib/python3.9/site-packages/xgboost/sklearn.py:835: UserWarning: `early_stopping_rounds` in `fit` method is deprecated for better compatibility with scikit-learn, use `early_stopping_rounds` in constructor or`set_params` instead.\n",
      "  warnings.warn(\n",
      "\n"
     ]
    },
    {
     "name": "stdout",
     "output_type": "stream",
     "text": [
      "SCORE:                                                                            \n",
      "0.6419337249667924                                                                \n",
      "Accuracy:                                                                         \n",
      "0.9287274713271436                                                                \n",
      "1                                                                                 \n",
      "  6%|▌         | 6/100 [00:06<01:56,  1.24s/trial, best loss: -0.9287274713271436]"
     ]
    },
    {
     "name": "stderr",
     "output_type": "stream",
     "text": [
      "/home/andre/.local/share/virtualenvs/tentative_name-cXUp4kcY/lib/python3.9/site-packages/xgboost/sklearn.py:835: UserWarning: `eval_metric` in `fit` method is deprecated for better compatibility with scikit-learn, use `eval_metric` in constructor or`set_params` instead.\n",
      "  warnings.warn(\n",
      "\n",
      "/home/andre/.local/share/virtualenvs/tentative_name-cXUp4kcY/lib/python3.9/site-packages/xgboost/sklearn.py:835: UserWarning: `early_stopping_rounds` in `fit` method is deprecated for better compatibility with scikit-learn, use `early_stopping_rounds` in constructor or`set_params` instead.\n",
      "  warnings.warn(\n",
      "\n"
     ]
    },
    {
     "name": "stdout",
     "output_type": "stream",
     "text": [
      "SCORE:                                                                            \n",
      "0.6419337249667924                                                                \n",
      "Accuracy:                                                                         \n",
      "0.9287274713271436                                                                \n",
      "6                                                                                 \n",
      "  7%|▋         | 7/100 [00:07<01:27,  1.07trial/s, best loss: -0.9287274713271436]"
     ]
    },
    {
     "name": "stderr",
     "output_type": "stream",
     "text": [
      "/home/andre/.local/share/virtualenvs/tentative_name-cXUp4kcY/lib/python3.9/site-packages/xgboost/sklearn.py:835: UserWarning: `eval_metric` in `fit` method is deprecated for better compatibility with scikit-learn, use `eval_metric` in constructor or`set_params` instead.\n",
      "  warnings.warn(\n",
      "\n",
      "/home/andre/.local/share/virtualenvs/tentative_name-cXUp4kcY/lib/python3.9/site-packages/xgboost/sklearn.py:835: UserWarning: `early_stopping_rounds` in `fit` method is deprecated for better compatibility with scikit-learn, use `early_stopping_rounds` in constructor or`set_params` instead.\n",
      "  warnings.warn(\n",
      "\n"
     ]
    },
    {
     "name": "stdout",
     "output_type": "stream",
     "text": [
      "SCORE:                                                                            \n",
      "0.6419337249667924                                                                \n",
      "Accuracy:                                                                         \n",
      "0.9287274713271436                                                                \n",
      "1                                                                                 \n",
      "  8%|▊         | 8/100 [00:08<01:22,  1.11trial/s, best loss: -0.9287274713271436]"
     ]
    },
    {
     "name": "stderr",
     "output_type": "stream",
     "text": [
      "/home/andre/.local/share/virtualenvs/tentative_name-cXUp4kcY/lib/python3.9/site-packages/xgboost/sklearn.py:835: UserWarning: `eval_metric` in `fit` method is deprecated for better compatibility with scikit-learn, use `eval_metric` in constructor or`set_params` instead.\n",
      "  warnings.warn(\n",
      "\n",
      "/home/andre/.local/share/virtualenvs/tentative_name-cXUp4kcY/lib/python3.9/site-packages/xgboost/sklearn.py:835: UserWarning: `early_stopping_rounds` in `fit` method is deprecated for better compatibility with scikit-learn, use `early_stopping_rounds` in constructor or`set_params` instead.\n",
      "  warnings.warn(\n",
      "\n"
     ]
    },
    {
     "name": "stdout",
     "output_type": "stream",
     "text": [
      "SCORE:                                                                            \n",
      "0.6419337249667924                                                                \n",
      "Accuracy:                                                                         \n",
      "0.9287274713271436                                                                \n",
      "8                                                                                 \n",
      "  9%|▉         | 9/100 [00:08<01:16,  1.20trial/s, best loss: -0.9287274713271436]"
     ]
    },
    {
     "name": "stderr",
     "output_type": "stream",
     "text": [
      "/home/andre/.local/share/virtualenvs/tentative_name-cXUp4kcY/lib/python3.9/site-packages/xgboost/sklearn.py:835: UserWarning: `eval_metric` in `fit` method is deprecated for better compatibility with scikit-learn, use `eval_metric` in constructor or`set_params` instead.\n",
      "  warnings.warn(\n",
      "\n",
      "/home/andre/.local/share/virtualenvs/tentative_name-cXUp4kcY/lib/python3.9/site-packages/xgboost/sklearn.py:835: UserWarning: `early_stopping_rounds` in `fit` method is deprecated for better compatibility with scikit-learn, use `early_stopping_rounds` in constructor or`set_params` instead.\n",
      "  warnings.warn(\n",
      "\n"
     ]
    },
    {
     "name": "stdout",
     "output_type": "stream",
     "text": [
      "SCORE:                                                                            \n",
      "0.6419337249667924                                                                \n",
      "Accuracy:                                                                         \n",
      "0.9287274713271436                                                                \n",
      "7                                                                                  \n",
      " 10%|█         | 10/100 [00:09<01:09,  1.30trial/s, best loss: -0.9287274713271436]"
     ]
    },
    {
     "name": "stderr",
     "output_type": "stream",
     "text": [
      "/home/andre/.local/share/virtualenvs/tentative_name-cXUp4kcY/lib/python3.9/site-packages/xgboost/sklearn.py:835: UserWarning: `eval_metric` in `fit` method is deprecated for better compatibility with scikit-learn, use `eval_metric` in constructor or`set_params` instead.\n",
      "  warnings.warn(\n",
      "\n",
      "/home/andre/.local/share/virtualenvs/tentative_name-cXUp4kcY/lib/python3.9/site-packages/xgboost/sklearn.py:835: UserWarning: `early_stopping_rounds` in `fit` method is deprecated for better compatibility with scikit-learn, use `early_stopping_rounds` in constructor or`set_params` instead.\n",
      "  warnings.warn(\n",
      "\n"
     ]
    },
    {
     "name": "stdout",
     "output_type": "stream",
     "text": [
      "SCORE:                                                                             \n",
      "0.6419337249667924                                                                 \n",
      "Accuracy:                                                                          \n",
      "0.9287274713271436                                                                 \n",
      "5                                                                                  \n",
      " 11%|█         | 11/100 [00:10<01:12,  1.22trial/s, best loss: -0.9287274713271436]"
     ]
    },
    {
     "name": "stderr",
     "output_type": "stream",
     "text": [
      "/home/andre/.local/share/virtualenvs/tentative_name-cXUp4kcY/lib/python3.9/site-packages/xgboost/sklearn.py:835: UserWarning: `eval_metric` in `fit` method is deprecated for better compatibility with scikit-learn, use `eval_metric` in constructor or`set_params` instead.\n",
      "  warnings.warn(\n",
      "\n",
      "/home/andre/.local/share/virtualenvs/tentative_name-cXUp4kcY/lib/python3.9/site-packages/xgboost/sklearn.py:835: UserWarning: `early_stopping_rounds` in `fit` method is deprecated for better compatibility with scikit-learn, use `early_stopping_rounds` in constructor or`set_params` instead.\n",
      "  warnings.warn(\n",
      "\n"
     ]
    },
    {
     "name": "stdout",
     "output_type": "stream",
     "text": [
      "SCORE:                                                                             \n",
      "0.6419337249667924                                                                 \n",
      "Accuracy:                                                                          \n",
      "0.9287274713271436                                                                 \n",
      "10                                                                                 \n",
      " 12%|█▏        | 12/100 [00:10<01:04,  1.36trial/s, best loss: -0.9287274713271436]"
     ]
    },
    {
     "name": "stderr",
     "output_type": "stream",
     "text": [
      "/home/andre/.local/share/virtualenvs/tentative_name-cXUp4kcY/lib/python3.9/site-packages/xgboost/sklearn.py:835: UserWarning: `eval_metric` in `fit` method is deprecated for better compatibility with scikit-learn, use `eval_metric` in constructor or`set_params` instead.\n",
      "  warnings.warn(\n",
      "\n",
      "/home/andre/.local/share/virtualenvs/tentative_name-cXUp4kcY/lib/python3.9/site-packages/xgboost/sklearn.py:835: UserWarning: `early_stopping_rounds` in `fit` method is deprecated for better compatibility with scikit-learn, use `early_stopping_rounds` in constructor or`set_params` instead.\n",
      "  warnings.warn(\n",
      "\n"
     ]
    },
    {
     "name": "stdout",
     "output_type": "stream",
     "text": [
      "SCORE:                                                                             \n",
      "0.6419337249667924                                                                 \n",
      "Accuracy:                                                                          \n",
      "0.9287274713271436                                                                 \n",
      "8                                                                                  \n",
      " 13%|█▎        | 13/100 [00:11<01:09,  1.26trial/s, best loss: -0.9287274713271436]"
     ]
    },
    {
     "name": "stderr",
     "output_type": "stream",
     "text": [
      "/home/andre/.local/share/virtualenvs/tentative_name-cXUp4kcY/lib/python3.9/site-packages/xgboost/sklearn.py:835: UserWarning: `eval_metric` in `fit` method is deprecated for better compatibility with scikit-learn, use `eval_metric` in constructor or`set_params` instead.\n",
      "  warnings.warn(\n",
      "\n",
      "/home/andre/.local/share/virtualenvs/tentative_name-cXUp4kcY/lib/python3.9/site-packages/xgboost/sklearn.py:835: UserWarning: `early_stopping_rounds` in `fit` method is deprecated for better compatibility with scikit-learn, use `early_stopping_rounds` in constructor or`set_params` instead.\n",
      "  warnings.warn(\n",
      "\n"
     ]
    },
    {
     "name": "stdout",
     "output_type": "stream",
     "text": [
      "SCORE:                                                                             \n",
      "0.6419337249667924                                                                 \n",
      "Accuracy:                                                                          \n",
      "0.9287274713271436                                                                 \n",
      "2                                                                                  \n",
      " 14%|█▍        | 14/100 [00:12<01:18,  1.10trial/s, best loss: -0.9287274713271436]"
     ]
    },
    {
     "name": "stderr",
     "output_type": "stream",
     "text": [
      "/home/andre/.local/share/virtualenvs/tentative_name-cXUp4kcY/lib/python3.9/site-packages/xgboost/sklearn.py:835: UserWarning: `eval_metric` in `fit` method is deprecated for better compatibility with scikit-learn, use `eval_metric` in constructor or`set_params` instead.\n",
      "  warnings.warn(\n",
      "\n",
      "/home/andre/.local/share/virtualenvs/tentative_name-cXUp4kcY/lib/python3.9/site-packages/xgboost/sklearn.py:835: UserWarning: `early_stopping_rounds` in `fit` method is deprecated for better compatibility with scikit-learn, use `early_stopping_rounds` in constructor or`set_params` instead.\n",
      "  warnings.warn(\n",
      "\n"
     ]
    },
    {
     "name": "stdout",
     "output_type": "stream",
     "text": [
      "SCORE:                                                                             \n",
      "0.6419337249667924                                                                 \n",
      "Accuracy:                                                                          \n",
      "0.9287274713271436                                                                 \n",
      "2                                                                                  \n",
      " 15%|█▌        | 15/100 [00:13<01:04,  1.31trial/s, best loss: -0.9287274713271436]"
     ]
    },
    {
     "name": "stderr",
     "output_type": "stream",
     "text": [
      "/home/andre/.local/share/virtualenvs/tentative_name-cXUp4kcY/lib/python3.9/site-packages/xgboost/sklearn.py:835: UserWarning: `eval_metric` in `fit` method is deprecated for better compatibility with scikit-learn, use `eval_metric` in constructor or`set_params` instead.\n",
      "  warnings.warn(\n",
      "\n",
      "/home/andre/.local/share/virtualenvs/tentative_name-cXUp4kcY/lib/python3.9/site-packages/xgboost/sklearn.py:835: UserWarning: `early_stopping_rounds` in `fit` method is deprecated for better compatibility with scikit-learn, use `early_stopping_rounds` in constructor or`set_params` instead.\n",
      "  warnings.warn(\n",
      "\n"
     ]
    },
    {
     "name": "stdout",
     "output_type": "stream",
     "text": [
      "SCORE:                                                                             \n",
      "0.6419337249667924                                                                 \n",
      "Accuracy:                                                                          \n",
      "0.9287274713271436                                                                 \n",
      "1                                                                                  \n",
      " 16%|█▌        | 16/100 [00:13<00:56,  1.49trial/s, best loss: -0.9287274713271436]"
     ]
    },
    {
     "name": "stderr",
     "output_type": "stream",
     "text": [
      "/home/andre/.local/share/virtualenvs/tentative_name-cXUp4kcY/lib/python3.9/site-packages/xgboost/sklearn.py:835: UserWarning: `eval_metric` in `fit` method is deprecated for better compatibility with scikit-learn, use `eval_metric` in constructor or`set_params` instead.\n",
      "  warnings.warn(\n",
      "\n",
      "/home/andre/.local/share/virtualenvs/tentative_name-cXUp4kcY/lib/python3.9/site-packages/xgboost/sklearn.py:835: UserWarning: `early_stopping_rounds` in `fit` method is deprecated for better compatibility with scikit-learn, use `early_stopping_rounds` in constructor or`set_params` instead.\n",
      "  warnings.warn(\n",
      "\n"
     ]
    },
    {
     "name": "stdout",
     "output_type": "stream",
     "text": [
      "SCORE:                                                                             \n",
      "0.6419337249667924                                                                 \n",
      "Accuracy:                                                                          \n",
      "0.9287274713271436                                                                 \n",
      "8                                                                                  \n",
      " 17%|█▋        | 17/100 [00:14<00:48,  1.72trial/s, best loss: -0.9287274713271436]"
     ]
    },
    {
     "name": "stderr",
     "output_type": "stream",
     "text": [
      "/home/andre/.local/share/virtualenvs/tentative_name-cXUp4kcY/lib/python3.9/site-packages/xgboost/sklearn.py:835: UserWarning: `eval_metric` in `fit` method is deprecated for better compatibility with scikit-learn, use `eval_metric` in constructor or`set_params` instead.\n",
      "  warnings.warn(\n",
      "\n",
      "/home/andre/.local/share/virtualenvs/tentative_name-cXUp4kcY/lib/python3.9/site-packages/xgboost/sklearn.py:835: UserWarning: `early_stopping_rounds` in `fit` method is deprecated for better compatibility with scikit-learn, use `early_stopping_rounds` in constructor or`set_params` instead.\n",
      "  warnings.warn(\n",
      "\n"
     ]
    },
    {
     "name": "stdout",
     "output_type": "stream",
     "text": [
      "SCORE:                                                                             \n",
      "0.6419337249667924                                                                 \n",
      "Accuracy:                                                                          \n",
      "0.9287274713271436                                                                 \n",
      "2                                                                                  \n",
      " 18%|█▊        | 18/100 [00:14<00:50,  1.62trial/s, best loss: -0.9287274713271436]"
     ]
    },
    {
     "name": "stderr",
     "output_type": "stream",
     "text": [
      "/home/andre/.local/share/virtualenvs/tentative_name-cXUp4kcY/lib/python3.9/site-packages/xgboost/sklearn.py:835: UserWarning: `eval_metric` in `fit` method is deprecated for better compatibility with scikit-learn, use `eval_metric` in constructor or`set_params` instead.\n",
      "  warnings.warn(\n",
      "\n",
      "/home/andre/.local/share/virtualenvs/tentative_name-cXUp4kcY/lib/python3.9/site-packages/xgboost/sklearn.py:835: UserWarning: `early_stopping_rounds` in `fit` method is deprecated for better compatibility with scikit-learn, use `early_stopping_rounds` in constructor or`set_params` instead.\n",
      "  warnings.warn(\n",
      "\n"
     ]
    },
    {
     "name": "stdout",
     "output_type": "stream",
     "text": [
      "SCORE:                                                                             \n",
      "0.6419337249667924                                                                 \n",
      "Accuracy:                                                                          \n",
      "0.9287274713271436                                                                 \n",
      "7                                                                                  \n",
      " 19%|█▉        | 19/100 [00:15<00:52,  1.55trial/s, best loss: -0.9287274713271436]"
     ]
    },
    {
     "name": "stderr",
     "output_type": "stream",
     "text": [
      "/home/andre/.local/share/virtualenvs/tentative_name-cXUp4kcY/lib/python3.9/site-packages/xgboost/sklearn.py:835: UserWarning: `eval_metric` in `fit` method is deprecated for better compatibility with scikit-learn, use `eval_metric` in constructor or`set_params` instead.\n",
      "  warnings.warn(\n",
      "\n",
      "/home/andre/.local/share/virtualenvs/tentative_name-cXUp4kcY/lib/python3.9/site-packages/xgboost/sklearn.py:835: UserWarning: `early_stopping_rounds` in `fit` method is deprecated for better compatibility with scikit-learn, use `early_stopping_rounds` in constructor or`set_params` instead.\n",
      "  warnings.warn(\n",
      "\n"
     ]
    },
    {
     "name": "stdout",
     "output_type": "stream",
     "text": [
      "SCORE:                                                                             \n",
      "0.6419337249667924                                                                 \n",
      "Accuracy:                                                                          \n",
      "0.9287274713271436                                                                 \n",
      "3                                                                                  \n",
      " 20%|██        | 20/100 [00:16<00:55,  1.45trial/s, best loss: -0.9287274713271436]"
     ]
    },
    {
     "name": "stderr",
     "output_type": "stream",
     "text": [
      "/home/andre/.local/share/virtualenvs/tentative_name-cXUp4kcY/lib/python3.9/site-packages/xgboost/sklearn.py:835: UserWarning: `eval_metric` in `fit` method is deprecated for better compatibility with scikit-learn, use `eval_metric` in constructor or`set_params` instead.\n",
      "  warnings.warn(\n",
      "\n",
      "/home/andre/.local/share/virtualenvs/tentative_name-cXUp4kcY/lib/python3.9/site-packages/xgboost/sklearn.py:835: UserWarning: `early_stopping_rounds` in `fit` method is deprecated for better compatibility with scikit-learn, use `early_stopping_rounds` in constructor or`set_params` instead.\n",
      "  warnings.warn(\n",
      "\n"
     ]
    },
    {
     "name": "stdout",
     "output_type": "stream",
     "text": [
      "SCORE:                                                                             \n",
      "0.6419337249667924                                                                 \n",
      "Accuracy:                                                                          \n",
      "0.9287274713271436                                                                 \n",
      "9                                                                                  \n",
      " 21%|██        | 21/100 [00:16<00:50,  1.56trial/s, best loss: -0.9287274713271436]"
     ]
    },
    {
     "name": "stderr",
     "output_type": "stream",
     "text": [
      "/home/andre/.local/share/virtualenvs/tentative_name-cXUp4kcY/lib/python3.9/site-packages/xgboost/sklearn.py:835: UserWarning: `eval_metric` in `fit` method is deprecated for better compatibility with scikit-learn, use `eval_metric` in constructor or`set_params` instead.\n",
      "  warnings.warn(\n",
      "\n",
      "/home/andre/.local/share/virtualenvs/tentative_name-cXUp4kcY/lib/python3.9/site-packages/xgboost/sklearn.py:835: UserWarning: `early_stopping_rounds` in `fit` method is deprecated for better compatibility with scikit-learn, use `early_stopping_rounds` in constructor or`set_params` instead.\n",
      "  warnings.warn(\n",
      "\n"
     ]
    },
    {
     "name": "stdout",
     "output_type": "stream",
     "text": [
      "SCORE:                                                                             \n",
      "0.6419337249667924                                                                 \n",
      "Accuracy:                                                                          \n",
      "0.9287274713271436                                                                 \n",
      "7                                                                                  \n",
      " 22%|██▏       | 22/100 [00:17<00:47,  1.65trial/s, best loss: -0.9287274713271436]"
     ]
    },
    {
     "name": "stderr",
     "output_type": "stream",
     "text": [
      "/home/andre/.local/share/virtualenvs/tentative_name-cXUp4kcY/lib/python3.9/site-packages/xgboost/sklearn.py:835: UserWarning: `eval_metric` in `fit` method is deprecated for better compatibility with scikit-learn, use `eval_metric` in constructor or`set_params` instead.\n",
      "  warnings.warn(\n",
      "\n",
      "/home/andre/.local/share/virtualenvs/tentative_name-cXUp4kcY/lib/python3.9/site-packages/xgboost/sklearn.py:835: UserWarning: `early_stopping_rounds` in `fit` method is deprecated for better compatibility with scikit-learn, use `early_stopping_rounds` in constructor or`set_params` instead.\n",
      "  warnings.warn(\n",
      "\n"
     ]
    },
    {
     "name": "stdout",
     "output_type": "stream",
     "text": [
      "SCORE:                                                                             \n",
      "0.6419337249667924                                                                 \n",
      "Accuracy:                                                                          \n",
      "0.9287274713271436                                                                 \n",
      "3                                                                                  \n",
      " 23%|██▎       | 23/100 [00:18<00:48,  1.59trial/s, best loss: -0.9287274713271436]"
     ]
    },
    {
     "name": "stderr",
     "output_type": "stream",
     "text": [
      "/home/andre/.local/share/virtualenvs/tentative_name-cXUp4kcY/lib/python3.9/site-packages/xgboost/sklearn.py:835: UserWarning: `eval_metric` in `fit` method is deprecated for better compatibility with scikit-learn, use `eval_metric` in constructor or`set_params` instead.\n",
      "  warnings.warn(\n",
      "\n",
      "/home/andre/.local/share/virtualenvs/tentative_name-cXUp4kcY/lib/python3.9/site-packages/xgboost/sklearn.py:835: UserWarning: `early_stopping_rounds` in `fit` method is deprecated for better compatibility with scikit-learn, use `early_stopping_rounds` in constructor or`set_params` instead.\n",
      "  warnings.warn(\n",
      "\n"
     ]
    },
    {
     "name": "stdout",
     "output_type": "stream",
     "text": [
      "SCORE:                                                                             \n",
      "0.6419337249667924                                                                 \n",
      "Accuracy:                                                                          \n",
      "0.9287274713271436                                                                 \n",
      "9                                                                                  \n",
      " 24%|██▍       | 24/100 [00:18<00:44,  1.70trial/s, best loss: -0.9287274713271436]"
     ]
    },
    {
     "name": "stderr",
     "output_type": "stream",
     "text": [
      "/home/andre/.local/share/virtualenvs/tentative_name-cXUp4kcY/lib/python3.9/site-packages/xgboost/sklearn.py:835: UserWarning: `eval_metric` in `fit` method is deprecated for better compatibility with scikit-learn, use `eval_metric` in constructor or`set_params` instead.\n",
      "  warnings.warn(\n",
      "\n",
      "/home/andre/.local/share/virtualenvs/tentative_name-cXUp4kcY/lib/python3.9/site-packages/xgboost/sklearn.py:835: UserWarning: `early_stopping_rounds` in `fit` method is deprecated for better compatibility with scikit-learn, use `early_stopping_rounds` in constructor or`set_params` instead.\n",
      "  warnings.warn(\n",
      "\n"
     ]
    },
    {
     "name": "stdout",
     "output_type": "stream",
     "text": [
      "SCORE:                                                                             \n",
      "0.6419337249667924                                                                 \n",
      "Accuracy:                                                                          \n",
      "0.9287274713271436                                                                 \n",
      "4                                                                                  \n",
      " 25%|██▌       | 25/100 [00:19<00:42,  1.76trial/s, best loss: -0.9287274713271436]"
     ]
    },
    {
     "name": "stderr",
     "output_type": "stream",
     "text": [
      "/home/andre/.local/share/virtualenvs/tentative_name-cXUp4kcY/lib/python3.9/site-packages/xgboost/sklearn.py:835: UserWarning: `eval_metric` in `fit` method is deprecated for better compatibility with scikit-learn, use `eval_metric` in constructor or`set_params` instead.\n",
      "  warnings.warn(\n",
      "\n",
      "/home/andre/.local/share/virtualenvs/tentative_name-cXUp4kcY/lib/python3.9/site-packages/xgboost/sklearn.py:835: UserWarning: `early_stopping_rounds` in `fit` method is deprecated for better compatibility with scikit-learn, use `early_stopping_rounds` in constructor or`set_params` instead.\n",
      "  warnings.warn(\n",
      "\n"
     ]
    },
    {
     "name": "stdout",
     "output_type": "stream",
     "text": [
      "SCORE:                                                                             \n",
      "0.6419337249667924                                                                 \n",
      "Accuracy:                                                                          \n",
      "0.9287274713271436                                                                 \n",
      "3                                                                                  \n",
      " 26%|██▌       | 26/100 [00:19<00:46,  1.59trial/s, best loss: -0.9287274713271436]"
     ]
    },
    {
     "name": "stderr",
     "output_type": "stream",
     "text": [
      "/home/andre/.local/share/virtualenvs/tentative_name-cXUp4kcY/lib/python3.9/site-packages/xgboost/sklearn.py:835: UserWarning: `eval_metric` in `fit` method is deprecated for better compatibility with scikit-learn, use `eval_metric` in constructor or`set_params` instead.\n",
      "  warnings.warn(\n",
      "\n",
      "/home/andre/.local/share/virtualenvs/tentative_name-cXUp4kcY/lib/python3.9/site-packages/xgboost/sklearn.py:835: UserWarning: `early_stopping_rounds` in `fit` method is deprecated for better compatibility with scikit-learn, use `early_stopping_rounds` in constructor or`set_params` instead.\n",
      "  warnings.warn(\n",
      "\n"
     ]
    },
    {
     "name": "stdout",
     "output_type": "stream",
     "text": [
      "SCORE:                                                                             \n",
      "0.6419337249667924                                                                 \n",
      "Accuracy:                                                                          \n",
      "0.9287274713271436                                                                 \n",
      "9                                                                                  \n",
      " 27%|██▋       | 27/100 [00:20<00:43,  1.66trial/s, best loss: -0.9287274713271436]"
     ]
    },
    {
     "name": "stderr",
     "output_type": "stream",
     "text": [
      "/home/andre/.local/share/virtualenvs/tentative_name-cXUp4kcY/lib/python3.9/site-packages/xgboost/sklearn.py:835: UserWarning: `eval_metric` in `fit` method is deprecated for better compatibility with scikit-learn, use `eval_metric` in constructor or`set_params` instead.\n",
      "  warnings.warn(\n",
      "\n",
      "/home/andre/.local/share/virtualenvs/tentative_name-cXUp4kcY/lib/python3.9/site-packages/xgboost/sklearn.py:835: UserWarning: `early_stopping_rounds` in `fit` method is deprecated for better compatibility with scikit-learn, use `early_stopping_rounds` in constructor or`set_params` instead.\n",
      "  warnings.warn(\n",
      "\n"
     ]
    },
    {
     "name": "stdout",
     "output_type": "stream",
     "text": [
      "SCORE:                                                                             \n",
      "0.6419337249667924                                                                 \n",
      "Accuracy:                                                                          \n",
      "0.9287274713271436                                                                 \n",
      "4                                                                                  \n",
      " 28%|██▊       | 28/100 [00:20<00:41,  1.74trial/s, best loss: -0.9287274713271436]"
     ]
    },
    {
     "name": "stderr",
     "output_type": "stream",
     "text": [
      "/home/andre/.local/share/virtualenvs/tentative_name-cXUp4kcY/lib/python3.9/site-packages/xgboost/sklearn.py:835: UserWarning: `eval_metric` in `fit` method is deprecated for better compatibility with scikit-learn, use `eval_metric` in constructor or`set_params` instead.\n",
      "  warnings.warn(\n",
      "\n",
      "/home/andre/.local/share/virtualenvs/tentative_name-cXUp4kcY/lib/python3.9/site-packages/xgboost/sklearn.py:835: UserWarning: `early_stopping_rounds` in `fit` method is deprecated for better compatibility with scikit-learn, use `early_stopping_rounds` in constructor or`set_params` instead.\n",
      "  warnings.warn(\n",
      "\n"
     ]
    },
    {
     "name": "stdout",
     "output_type": "stream",
     "text": [
      "SCORE:                                                                             \n",
      "0.6419337249667924                                                                 \n",
      "Accuracy:                                                                          \n",
      "0.9287274713271436                                                                 \n",
      "3                                                                                  \n",
      " 29%|██▉       | 29/100 [00:21<00:47,  1.48trial/s, best loss: -0.9287274713271436]"
     ]
    },
    {
     "name": "stderr",
     "output_type": "stream",
     "text": [
      "/home/andre/.local/share/virtualenvs/tentative_name-cXUp4kcY/lib/python3.9/site-packages/xgboost/sklearn.py:835: UserWarning: `eval_metric` in `fit` method is deprecated for better compatibility with scikit-learn, use `eval_metric` in constructor or`set_params` instead.\n",
      "  warnings.warn(\n",
      "\n",
      "/home/andre/.local/share/virtualenvs/tentative_name-cXUp4kcY/lib/python3.9/site-packages/xgboost/sklearn.py:835: UserWarning: `early_stopping_rounds` in `fit` method is deprecated for better compatibility with scikit-learn, use `early_stopping_rounds` in constructor or`set_params` instead.\n",
      "  warnings.warn(\n",
      "\n"
     ]
    },
    {
     "name": "stdout",
     "output_type": "stream",
     "text": [
      "SCORE:                                                                             \n",
      "0.6419337249667924                                                                 \n",
      "Accuracy:                                                                          \n",
      "0.9287274713271436                                                                 \n",
      "9                                                                                  \n",
      " 30%|███       | 30/100 [00:22<00:44,  1.58trial/s, best loss: -0.9287274713271436]"
     ]
    },
    {
     "name": "stderr",
     "output_type": "stream",
     "text": [
      "/home/andre/.local/share/virtualenvs/tentative_name-cXUp4kcY/lib/python3.9/site-packages/xgboost/sklearn.py:835: UserWarning: `eval_metric` in `fit` method is deprecated for better compatibility with scikit-learn, use `eval_metric` in constructor or`set_params` instead.\n",
      "  warnings.warn(\n",
      "\n",
      "/home/andre/.local/share/virtualenvs/tentative_name-cXUp4kcY/lib/python3.9/site-packages/xgboost/sklearn.py:835: UserWarning: `early_stopping_rounds` in `fit` method is deprecated for better compatibility with scikit-learn, use `early_stopping_rounds` in constructor or`set_params` instead.\n",
      "  warnings.warn(\n",
      "\n"
     ]
    },
    {
     "name": "stdout",
     "output_type": "stream",
     "text": [
      "SCORE:                                                                             \n",
      "0.6419337249667924                                                                 \n",
      "Accuracy:                                                                          \n",
      "0.9287274713271436                                                                 \n",
      "4                                                                                  \n",
      " 31%|███       | 31/100 [00:22<00:41,  1.64trial/s, best loss: -0.9287274713271436]"
     ]
    },
    {
     "name": "stderr",
     "output_type": "stream",
     "text": [
      "/home/andre/.local/share/virtualenvs/tentative_name-cXUp4kcY/lib/python3.9/site-packages/xgboost/sklearn.py:835: UserWarning: `eval_metric` in `fit` method is deprecated for better compatibility with scikit-learn, use `eval_metric` in constructor or`set_params` instead.\n",
      "  warnings.warn(\n",
      "\n",
      "/home/andre/.local/share/virtualenvs/tentative_name-cXUp4kcY/lib/python3.9/site-packages/xgboost/sklearn.py:835: UserWarning: `early_stopping_rounds` in `fit` method is deprecated for better compatibility with scikit-learn, use `early_stopping_rounds` in constructor or`set_params` instead.\n",
      "  warnings.warn(\n",
      "\n"
     ]
    },
    {
     "name": "stdout",
     "output_type": "stream",
     "text": [
      "SCORE:                                                                             \n",
      "0.6419337249667924                                                                 \n",
      "Accuracy:                                                                          \n",
      "0.9287274713271436                                                                 \n",
      "3                                                                                  \n",
      " 32%|███▏      | 32/100 [00:23<00:46,  1.48trial/s, best loss: -0.9287274713271436]"
     ]
    },
    {
     "name": "stderr",
     "output_type": "stream",
     "text": [
      "/home/andre/.local/share/virtualenvs/tentative_name-cXUp4kcY/lib/python3.9/site-packages/xgboost/sklearn.py:835: UserWarning: `eval_metric` in `fit` method is deprecated for better compatibility with scikit-learn, use `eval_metric` in constructor or`set_params` instead.\n",
      "  warnings.warn(\n",
      "\n",
      "/home/andre/.local/share/virtualenvs/tentative_name-cXUp4kcY/lib/python3.9/site-packages/xgboost/sklearn.py:835: UserWarning: `early_stopping_rounds` in `fit` method is deprecated for better compatibility with scikit-learn, use `early_stopping_rounds` in constructor or`set_params` instead.\n",
      "  warnings.warn(\n",
      "\n"
     ]
    },
    {
     "name": "stdout",
     "output_type": "stream",
     "text": [
      "SCORE:                                                                             \n",
      "0.6419337249667924                                                                 \n",
      "Accuracy:                                                                          \n",
      "0.9287274713271436                                                                 \n",
      "9                                                                                  \n",
      " 33%|███▎      | 33/100 [00:24<00:39,  1.69trial/s, best loss: -0.9287274713271436]"
     ]
    },
    {
     "name": "stderr",
     "output_type": "stream",
     "text": [
      "/home/andre/.local/share/virtualenvs/tentative_name-cXUp4kcY/lib/python3.9/site-packages/xgboost/sklearn.py:835: UserWarning: `eval_metric` in `fit` method is deprecated for better compatibility with scikit-learn, use `eval_metric` in constructor or`set_params` instead.\n",
      "  warnings.warn(\n",
      "\n",
      "/home/andre/.local/share/virtualenvs/tentative_name-cXUp4kcY/lib/python3.9/site-packages/xgboost/sklearn.py:835: UserWarning: `early_stopping_rounds` in `fit` method is deprecated for better compatibility with scikit-learn, use `early_stopping_rounds` in constructor or`set_params` instead.\n",
      "  warnings.warn(\n",
      "\n"
     ]
    },
    {
     "name": "stdout",
     "output_type": "stream",
     "text": [
      "SCORE:                                                                             \n",
      "0.6419337249667924                                                                 \n",
      "Accuracy:                                                                          \n",
      "0.9287274713271436                                                                 \n",
      "4                                                                                  \n",
      " 34%|███▍      | 34/100 [00:24<00:37,  1.74trial/s, best loss: -0.9287274713271436]"
     ]
    },
    {
     "name": "stderr",
     "output_type": "stream",
     "text": [
      "/home/andre/.local/share/virtualenvs/tentative_name-cXUp4kcY/lib/python3.9/site-packages/xgboost/sklearn.py:835: UserWarning: `eval_metric` in `fit` method is deprecated for better compatibility with scikit-learn, use `eval_metric` in constructor or`set_params` instead.\n",
      "  warnings.warn(\n",
      "\n",
      "/home/andre/.local/share/virtualenvs/tentative_name-cXUp4kcY/lib/python3.9/site-packages/xgboost/sklearn.py:835: UserWarning: `early_stopping_rounds` in `fit` method is deprecated for better compatibility with scikit-learn, use `early_stopping_rounds` in constructor or`set_params` instead.\n",
      "  warnings.warn(\n",
      "\n"
     ]
    },
    {
     "name": "stdout",
     "output_type": "stream",
     "text": [
      "SCORE:                                                                             \n",
      "0.6419337249667924                                                                 \n",
      "Accuracy:                                                                          \n",
      "0.9287274713271436                                                                 \n",
      "7                                                                                  \n",
      " 35%|███▌      | 35/100 [00:25<00:42,  1.54trial/s, best loss: -0.9287274713271436]"
     ]
    },
    {
     "name": "stderr",
     "output_type": "stream",
     "text": [
      "/home/andre/.local/share/virtualenvs/tentative_name-cXUp4kcY/lib/python3.9/site-packages/xgboost/sklearn.py:835: UserWarning: `eval_metric` in `fit` method is deprecated for better compatibility with scikit-learn, use `eval_metric` in constructor or`set_params` instead.\n",
      "  warnings.warn(\n",
      "\n",
      "/home/andre/.local/share/virtualenvs/tentative_name-cXUp4kcY/lib/python3.9/site-packages/xgboost/sklearn.py:835: UserWarning: `early_stopping_rounds` in `fit` method is deprecated for better compatibility with scikit-learn, use `early_stopping_rounds` in constructor or`set_params` instead.\n",
      "  warnings.warn(\n",
      "\n"
     ]
    },
    {
     "name": "stdout",
     "output_type": "stream",
     "text": [
      "SCORE:                                                                             \n",
      "0.6419337249667924                                                                 \n",
      "Accuracy:                                                                          \n",
      "0.9287274713271436                                                                 \n",
      "6                                                                                  \n",
      " 36%|███▌      | 36/100 [00:26<00:42,  1.50trial/s, best loss: -0.9287274713271436]"
     ]
    },
    {
     "name": "stderr",
     "output_type": "stream",
     "text": [
      "/home/andre/.local/share/virtualenvs/tentative_name-cXUp4kcY/lib/python3.9/site-packages/xgboost/sklearn.py:835: UserWarning: `eval_metric` in `fit` method is deprecated for better compatibility with scikit-learn, use `eval_metric` in constructor or`set_params` instead.\n",
      "  warnings.warn(\n",
      "\n",
      "/home/andre/.local/share/virtualenvs/tentative_name-cXUp4kcY/lib/python3.9/site-packages/xgboost/sklearn.py:835: UserWarning: `early_stopping_rounds` in `fit` method is deprecated for better compatibility with scikit-learn, use `early_stopping_rounds` in constructor or`set_params` instead.\n",
      "  warnings.warn(\n",
      "\n"
     ]
    },
    {
     "name": "stdout",
     "output_type": "stream",
     "text": [
      "SCORE:                                                                             \n",
      "0.6419337249667924                                                                 \n",
      "Accuracy:                                                                          \n",
      "0.9287274713271436                                                                 \n",
      "8                                                                                  \n",
      " 37%|███▋      | 37/100 [00:26<00:36,  1.72trial/s, best loss: -0.9287274713271436]"
     ]
    },
    {
     "name": "stderr",
     "output_type": "stream",
     "text": [
      "/home/andre/.local/share/virtualenvs/tentative_name-cXUp4kcY/lib/python3.9/site-packages/xgboost/sklearn.py:835: UserWarning: `eval_metric` in `fit` method is deprecated for better compatibility with scikit-learn, use `eval_metric` in constructor or`set_params` instead.\n",
      "  warnings.warn(\n",
      "\n",
      "/home/andre/.local/share/virtualenvs/tentative_name-cXUp4kcY/lib/python3.9/site-packages/xgboost/sklearn.py:835: UserWarning: `early_stopping_rounds` in `fit` method is deprecated for better compatibility with scikit-learn, use `early_stopping_rounds` in constructor or`set_params` instead.\n",
      "  warnings.warn(\n",
      "\n"
     ]
    },
    {
     "name": "stdout",
     "output_type": "stream",
     "text": [
      "SCORE:                                                                             \n",
      "0.6419337249667924                                                                 \n",
      "Accuracy:                                                                          \n",
      "0.9287274713271436                                                                 \n",
      "5                                                                                  \n",
      " 38%|███▊      | 38/100 [00:27<00:36,  1.70trial/s, best loss: -0.9287274713271436]"
     ]
    },
    {
     "name": "stderr",
     "output_type": "stream",
     "text": [
      "/home/andre/.local/share/virtualenvs/tentative_name-cXUp4kcY/lib/python3.9/site-packages/xgboost/sklearn.py:835: UserWarning: `eval_metric` in `fit` method is deprecated for better compatibility with scikit-learn, use `eval_metric` in constructor or`set_params` instead.\n",
      "  warnings.warn(\n",
      "\n",
      "/home/andre/.local/share/virtualenvs/tentative_name-cXUp4kcY/lib/python3.9/site-packages/xgboost/sklearn.py:835: UserWarning: `early_stopping_rounds` in `fit` method is deprecated for better compatibility with scikit-learn, use `early_stopping_rounds` in constructor or`set_params` instead.\n",
      "  warnings.warn(\n",
      "\n"
     ]
    },
    {
     "name": "stdout",
     "output_type": "stream",
     "text": [
      "SCORE:                                                                             \n",
      "0.6419337249667924                                                                 \n",
      "Accuracy:                                                                          \n",
      "0.9287274713271436                                                                 \n",
      "8                                                                                  \n",
      " 39%|███▉      | 39/100 [00:27<00:33,  1.80trial/s, best loss: -0.9287274713271436]"
     ]
    },
    {
     "name": "stderr",
     "output_type": "stream",
     "text": [
      "/home/andre/.local/share/virtualenvs/tentative_name-cXUp4kcY/lib/python3.9/site-packages/xgboost/sklearn.py:835: UserWarning: `eval_metric` in `fit` method is deprecated for better compatibility with scikit-learn, use `eval_metric` in constructor or`set_params` instead.\n",
      "  warnings.warn(\n",
      "\n",
      "/home/andre/.local/share/virtualenvs/tentative_name-cXUp4kcY/lib/python3.9/site-packages/xgboost/sklearn.py:835: UserWarning: `early_stopping_rounds` in `fit` method is deprecated for better compatibility with scikit-learn, use `early_stopping_rounds` in constructor or`set_params` instead.\n",
      "  warnings.warn(\n",
      "\n"
     ]
    },
    {
     "name": "stdout",
     "output_type": "stream",
     "text": [
      "SCORE:                                                                             \n",
      "0.6419337249667924                                                                 \n",
      "Accuracy:                                                                          \n",
      "0.9287274713271436                                                                 \n",
      "7                                                                                  \n",
      " 40%|████      | 40/100 [00:28<00:32,  1.87trial/s, best loss: -0.9287274713271436]"
     ]
    },
    {
     "name": "stderr",
     "output_type": "stream",
     "text": [
      "/home/andre/.local/share/virtualenvs/tentative_name-cXUp4kcY/lib/python3.9/site-packages/xgboost/sklearn.py:835: UserWarning: `eval_metric` in `fit` method is deprecated for better compatibility with scikit-learn, use `eval_metric` in constructor or`set_params` instead.\n",
      "  warnings.warn(\n",
      "\n",
      "/home/andre/.local/share/virtualenvs/tentative_name-cXUp4kcY/lib/python3.9/site-packages/xgboost/sklearn.py:835: UserWarning: `early_stopping_rounds` in `fit` method is deprecated for better compatibility with scikit-learn, use `early_stopping_rounds` in constructor or`set_params` instead.\n",
      "  warnings.warn(\n",
      "\n"
     ]
    },
    {
     "name": "stdout",
     "output_type": "stream",
     "text": [
      "SCORE:                                                                             \n",
      "0.6419337249667924                                                                 \n",
      "Accuracy:                                                                          \n",
      "0.9287274713271436                                                                 \n",
      "7                                                                                  \n",
      " 41%|████      | 41/100 [00:28<00:36,  1.64trial/s, best loss: -0.9287274713271436]"
     ]
    },
    {
     "name": "stderr",
     "output_type": "stream",
     "text": [
      "/home/andre/.local/share/virtualenvs/tentative_name-cXUp4kcY/lib/python3.9/site-packages/xgboost/sklearn.py:835: UserWarning: `eval_metric` in `fit` method is deprecated for better compatibility with scikit-learn, use `eval_metric` in constructor or`set_params` instead.\n",
      "  warnings.warn(\n",
      "\n",
      "/home/andre/.local/share/virtualenvs/tentative_name-cXUp4kcY/lib/python3.9/site-packages/xgboost/sklearn.py:835: UserWarning: `early_stopping_rounds` in `fit` method is deprecated for better compatibility with scikit-learn, use `early_stopping_rounds` in constructor or`set_params` instead.\n",
      "  warnings.warn(\n",
      "\n"
     ]
    },
    {
     "name": "stdout",
     "output_type": "stream",
     "text": [
      "SCORE:                                                                             \n",
      "0.6419337249667924                                                                 \n",
      "Accuracy:                                                                          \n",
      "0.9287274713271436                                                                 \n",
      "10                                                                                 \n",
      " 42%|████▏     | 42/100 [00:29<00:33,  1.72trial/s, best loss: -0.9287274713271436]"
     ]
    },
    {
     "name": "stderr",
     "output_type": "stream",
     "text": [
      "/home/andre/.local/share/virtualenvs/tentative_name-cXUp4kcY/lib/python3.9/site-packages/xgboost/sklearn.py:835: UserWarning: `eval_metric` in `fit` method is deprecated for better compatibility with scikit-learn, use `eval_metric` in constructor or`set_params` instead.\n",
      "  warnings.warn(\n",
      "\n",
      "/home/andre/.local/share/virtualenvs/tentative_name-cXUp4kcY/lib/python3.9/site-packages/xgboost/sklearn.py:835: UserWarning: `early_stopping_rounds` in `fit` method is deprecated for better compatibility with scikit-learn, use `early_stopping_rounds` in constructor or`set_params` instead.\n",
      "  warnings.warn(\n",
      "\n"
     ]
    },
    {
     "name": "stdout",
     "output_type": "stream",
     "text": [
      "SCORE:                                                                             \n",
      "0.6419337249667924                                                                 \n",
      "Accuracy:                                                                          \n",
      "0.9287274713271436                                                                 \n",
      "6                                                                                  \n",
      " 43%|████▎     | 43/100 [00:30<00:33,  1.71trial/s, best loss: -0.9287274713271436]"
     ]
    },
    {
     "name": "stderr",
     "output_type": "stream",
     "text": [
      "/home/andre/.local/share/virtualenvs/tentative_name-cXUp4kcY/lib/python3.9/site-packages/xgboost/sklearn.py:835: UserWarning: `eval_metric` in `fit` method is deprecated for better compatibility with scikit-learn, use `eval_metric` in constructor or`set_params` instead.\n",
      "  warnings.warn(\n",
      "\n",
      "/home/andre/.local/share/virtualenvs/tentative_name-cXUp4kcY/lib/python3.9/site-packages/xgboost/sklearn.py:835: UserWarning: `early_stopping_rounds` in `fit` method is deprecated for better compatibility with scikit-learn, use `early_stopping_rounds` in constructor or`set_params` instead.\n",
      "  warnings.warn(\n",
      "\n"
     ]
    },
    {
     "name": "stdout",
     "output_type": "stream",
     "text": [
      "SCORE:                                                                             \n",
      "0.6419337249667924                                                                 \n",
      "Accuracy:                                                                          \n",
      "0.9287274713271436                                                                 \n",
      "9                                                                                  \n",
      " 44%|████▍     | 44/100 [00:30<00:31,  1.77trial/s, best loss: -0.9287274713271436]"
     ]
    },
    {
     "name": "stderr",
     "output_type": "stream",
     "text": [
      "/home/andre/.local/share/virtualenvs/tentative_name-cXUp4kcY/lib/python3.9/site-packages/xgboost/sklearn.py:835: UserWarning: `eval_metric` in `fit` method is deprecated for better compatibility with scikit-learn, use `eval_metric` in constructor or`set_params` instead.\n",
      "  warnings.warn(\n",
      "\n",
      "/home/andre/.local/share/virtualenvs/tentative_name-cXUp4kcY/lib/python3.9/site-packages/xgboost/sklearn.py:835: UserWarning: `early_stopping_rounds` in `fit` method is deprecated for better compatibility with scikit-learn, use `early_stopping_rounds` in constructor or`set_params` instead.\n",
      "  warnings.warn(\n",
      "\n"
     ]
    },
    {
     "name": "stdout",
     "output_type": "stream",
     "text": [
      "SCORE:                                                                             \n",
      "0.6419337249667924                                                                 \n",
      "Accuracy:                                                                          \n",
      "0.9287274713271436                                                                 \n",
      "1                                                                                  \n",
      " 45%|████▌     | 45/100 [00:31<00:30,  1.80trial/s, best loss: -0.9287274713271436]"
     ]
    },
    {
     "name": "stderr",
     "output_type": "stream",
     "text": [
      "/home/andre/.local/share/virtualenvs/tentative_name-cXUp4kcY/lib/python3.9/site-packages/xgboost/sklearn.py:835: UserWarning: `eval_metric` in `fit` method is deprecated for better compatibility with scikit-learn, use `eval_metric` in constructor or`set_params` instead.\n",
      "  warnings.warn(\n",
      "\n",
      "/home/andre/.local/share/virtualenvs/tentative_name-cXUp4kcY/lib/python3.9/site-packages/xgboost/sklearn.py:835: UserWarning: `early_stopping_rounds` in `fit` method is deprecated for better compatibility with scikit-learn, use `early_stopping_rounds` in constructor or`set_params` instead.\n",
      "  warnings.warn(\n",
      "\n"
     ]
    },
    {
     "name": "stdout",
     "output_type": "stream",
     "text": [
      "SCORE:                                                                             \n",
      "0.6419337249667924                                                                 \n",
      "Accuracy:                                                                          \n",
      "0.9287274713271436                                                                 \n",
      "4                                                                                  \n",
      " 46%|████▌     | 46/100 [00:31<00:25,  2.10trial/s, best loss: -0.9287274713271436]"
     ]
    },
    {
     "name": "stderr",
     "output_type": "stream",
     "text": [
      "/home/andre/.local/share/virtualenvs/tentative_name-cXUp4kcY/lib/python3.9/site-packages/xgboost/sklearn.py:835: UserWarning: `eval_metric` in `fit` method is deprecated for better compatibility with scikit-learn, use `eval_metric` in constructor or`set_params` instead.\n",
      "  warnings.warn(\n",
      "\n",
      "/home/andre/.local/share/virtualenvs/tentative_name-cXUp4kcY/lib/python3.9/site-packages/xgboost/sklearn.py:835: UserWarning: `early_stopping_rounds` in `fit` method is deprecated for better compatibility with scikit-learn, use `early_stopping_rounds` in constructor or`set_params` instead.\n",
      "  warnings.warn(\n",
      "\n"
     ]
    },
    {
     "name": "stdout",
     "output_type": "stream",
     "text": [
      "SCORE:                                                                             \n",
      "0.6419337249667924                                                                 \n",
      "Accuracy:                                                                          \n",
      "0.9287274713271436                                                                 \n",
      "4                                                                                  \n",
      " 47%|████▋     | 47/100 [00:32<00:32,  1.65trial/s, best loss: -0.9287274713271436]"
     ]
    },
    {
     "name": "stderr",
     "output_type": "stream",
     "text": [
      "/home/andre/.local/share/virtualenvs/tentative_name-cXUp4kcY/lib/python3.9/site-packages/xgboost/sklearn.py:835: UserWarning: `eval_metric` in `fit` method is deprecated for better compatibility with scikit-learn, use `eval_metric` in constructor or`set_params` instead.\n",
      "  warnings.warn(\n",
      "\n",
      "/home/andre/.local/share/virtualenvs/tentative_name-cXUp4kcY/lib/python3.9/site-packages/xgboost/sklearn.py:835: UserWarning: `early_stopping_rounds` in `fit` method is deprecated for better compatibility with scikit-learn, use `early_stopping_rounds` in constructor or`set_params` instead.\n",
      "  warnings.warn(\n",
      "\n"
     ]
    },
    {
     "name": "stdout",
     "output_type": "stream",
     "text": [
      "SCORE:                                                                             \n",
      "0.6419337249667924                                                                 \n",
      "Accuracy:                                                                          \n",
      "0.9287274713271436                                                                 \n",
      "8                                                                                  \n",
      " 48%|████▊     | 48/100 [00:33<00:34,  1.51trial/s, best loss: -0.9287274713271436]"
     ]
    },
    {
     "name": "stderr",
     "output_type": "stream",
     "text": [
      "/home/andre/.local/share/virtualenvs/tentative_name-cXUp4kcY/lib/python3.9/site-packages/xgboost/sklearn.py:835: UserWarning: `eval_metric` in `fit` method is deprecated for better compatibility with scikit-learn, use `eval_metric` in constructor or`set_params` instead.\n",
      "  warnings.warn(\n",
      "\n",
      "/home/andre/.local/share/virtualenvs/tentative_name-cXUp4kcY/lib/python3.9/site-packages/xgboost/sklearn.py:835: UserWarning: `early_stopping_rounds` in `fit` method is deprecated for better compatibility with scikit-learn, use `early_stopping_rounds` in constructor or`set_params` instead.\n",
      "  warnings.warn(\n",
      "\n"
     ]
    },
    {
     "name": "stdout",
     "output_type": "stream",
     "text": [
      "SCORE:                                                                             \n",
      "0.6419337249667924                                                                 \n",
      "Accuracy:                                                                          \n",
      "0.9287274713271436                                                                 \n",
      "3                                                                                  \n",
      " 49%|████▉     | 49/100 [00:33<00:31,  1.63trial/s, best loss: -0.9287274713271436]"
     ]
    },
    {
     "name": "stderr",
     "output_type": "stream",
     "text": [
      "/home/andre/.local/share/virtualenvs/tentative_name-cXUp4kcY/lib/python3.9/site-packages/xgboost/sklearn.py:835: UserWarning: `eval_metric` in `fit` method is deprecated for better compatibility with scikit-learn, use `eval_metric` in constructor or`set_params` instead.\n",
      "  warnings.warn(\n",
      "\n",
      "/home/andre/.local/share/virtualenvs/tentative_name-cXUp4kcY/lib/python3.9/site-packages/xgboost/sklearn.py:835: UserWarning: `early_stopping_rounds` in `fit` method is deprecated for better compatibility with scikit-learn, use `early_stopping_rounds` in constructor or`set_params` instead.\n",
      "  warnings.warn(\n",
      "\n"
     ]
    },
    {
     "name": "stdout",
     "output_type": "stream",
     "text": [
      "SCORE:                                                                             \n",
      "0.6419337249667924                                                                 \n",
      "Accuracy:                                                                          \n",
      "0.9287274713271436                                                                 \n",
      "5                                                                                  \n",
      " 50%|█████     | 50/100 [00:34<00:27,  1.80trial/s, best loss: -0.9287274713271436]"
     ]
    },
    {
     "name": "stderr",
     "output_type": "stream",
     "text": [
      "/home/andre/.local/share/virtualenvs/tentative_name-cXUp4kcY/lib/python3.9/site-packages/xgboost/sklearn.py:835: UserWarning: `eval_metric` in `fit` method is deprecated for better compatibility with scikit-learn, use `eval_metric` in constructor or`set_params` instead.\n",
      "  warnings.warn(\n",
      "\n",
      "/home/andre/.local/share/virtualenvs/tentative_name-cXUp4kcY/lib/python3.9/site-packages/xgboost/sklearn.py:835: UserWarning: `early_stopping_rounds` in `fit` method is deprecated for better compatibility with scikit-learn, use `early_stopping_rounds` in constructor or`set_params` instead.\n",
      "  warnings.warn(\n",
      "\n"
     ]
    },
    {
     "name": "stdout",
     "output_type": "stream",
     "text": [
      "SCORE:                                                                             \n",
      "0.6419337249667924                                                                 \n",
      "Accuracy:                                                                          \n",
      "0.9287274713271436                                                                 \n",
      "10                                                                                 \n",
      " 51%|█████     | 51/100 [00:34<00:26,  1.87trial/s, best loss: -0.9287274713271436]"
     ]
    },
    {
     "name": "stderr",
     "output_type": "stream",
     "text": [
      "/home/andre/.local/share/virtualenvs/tentative_name-cXUp4kcY/lib/python3.9/site-packages/xgboost/sklearn.py:835: UserWarning: `eval_metric` in `fit` method is deprecated for better compatibility with scikit-learn, use `eval_metric` in constructor or`set_params` instead.\n",
      "  warnings.warn(\n",
      "\n",
      "/home/andre/.local/share/virtualenvs/tentative_name-cXUp4kcY/lib/python3.9/site-packages/xgboost/sklearn.py:835: UserWarning: `early_stopping_rounds` in `fit` method is deprecated for better compatibility with scikit-learn, use `early_stopping_rounds` in constructor or`set_params` instead.\n",
      "  warnings.warn(\n",
      "\n"
     ]
    },
    {
     "name": "stdout",
     "output_type": "stream",
     "text": [
      "SCORE:                                                                             \n",
      "0.6419337249667924                                                                 \n",
      "Accuracy:                                                                          \n",
      "0.9287274713271436                                                                 \n",
      "8                                                                                  \n",
      " 52%|█████▏    | 52/100 [00:35<00:26,  1.82trial/s, best loss: -0.9287274713271436]"
     ]
    },
    {
     "name": "stderr",
     "output_type": "stream",
     "text": [
      "/home/andre/.local/share/virtualenvs/tentative_name-cXUp4kcY/lib/python3.9/site-packages/xgboost/sklearn.py:835: UserWarning: `eval_metric` in `fit` method is deprecated for better compatibility with scikit-learn, use `eval_metric` in constructor or`set_params` instead.\n",
      "  warnings.warn(\n",
      "\n",
      "/home/andre/.local/share/virtualenvs/tentative_name-cXUp4kcY/lib/python3.9/site-packages/xgboost/sklearn.py:835: UserWarning: `early_stopping_rounds` in `fit` method is deprecated for better compatibility with scikit-learn, use `early_stopping_rounds` in constructor or`set_params` instead.\n",
      "  warnings.warn(\n",
      "\n"
     ]
    },
    {
     "name": "stdout",
     "output_type": "stream",
     "text": [
      "SCORE:                                                                             \n",
      "0.6419337249667924                                                                 \n",
      "Accuracy:                                                                          \n",
      "0.9287274713271436                                                                 \n",
      "2                                                                                  \n",
      " 53%|█████▎    | 53/100 [00:36<00:30,  1.52trial/s, best loss: -0.9287274713271436]"
     ]
    },
    {
     "name": "stderr",
     "output_type": "stream",
     "text": [
      "/home/andre/.local/share/virtualenvs/tentative_name-cXUp4kcY/lib/python3.9/site-packages/xgboost/sklearn.py:835: UserWarning: `eval_metric` in `fit` method is deprecated for better compatibility with scikit-learn, use `eval_metric` in constructor or`set_params` instead.\n",
      "  warnings.warn(\n",
      "\n",
      "/home/andre/.local/share/virtualenvs/tentative_name-cXUp4kcY/lib/python3.9/site-packages/xgboost/sklearn.py:835: UserWarning: `early_stopping_rounds` in `fit` method is deprecated for better compatibility with scikit-learn, use `early_stopping_rounds` in constructor or`set_params` instead.\n",
      "  warnings.warn(\n",
      "\n"
     ]
    },
    {
     "name": "stdout",
     "output_type": "stream",
     "text": [
      "SCORE:                                                                             \n",
      "0.6419337249667924                                                                 \n",
      "Accuracy:                                                                          \n",
      "0.9287274713271436                                                                 \n",
      "3                                                                                  \n",
      " 54%|█████▍    | 54/100 [00:36<00:25,  1.80trial/s, best loss: -0.9287274713271436]"
     ]
    },
    {
     "name": "stderr",
     "output_type": "stream",
     "text": [
      "/home/andre/.local/share/virtualenvs/tentative_name-cXUp4kcY/lib/python3.9/site-packages/xgboost/sklearn.py:835: UserWarning: `eval_metric` in `fit` method is deprecated for better compatibility with scikit-learn, use `eval_metric` in constructor or`set_params` instead.\n",
      "  warnings.warn(\n",
      "\n",
      "/home/andre/.local/share/virtualenvs/tentative_name-cXUp4kcY/lib/python3.9/site-packages/xgboost/sklearn.py:835: UserWarning: `early_stopping_rounds` in `fit` method is deprecated for better compatibility with scikit-learn, use `early_stopping_rounds` in constructor or`set_params` instead.\n",
      "  warnings.warn(\n",
      "\n"
     ]
    },
    {
     "name": "stdout",
     "output_type": "stream",
     "text": [
      "SCORE:                                                                             \n",
      "0.6419337249667924                                                                 \n",
      "Accuracy:                                                                          \n",
      "0.9287274713271436                                                                 \n",
      "1                                                                                  \n",
      " 55%|█████▌    | 55/100 [00:36<00:24,  1.84trial/s, best loss: -0.9287274713271436]"
     ]
    },
    {
     "name": "stderr",
     "output_type": "stream",
     "text": [
      "/home/andre/.local/share/virtualenvs/tentative_name-cXUp4kcY/lib/python3.9/site-packages/xgboost/sklearn.py:835: UserWarning: `eval_metric` in `fit` method is deprecated for better compatibility with scikit-learn, use `eval_metric` in constructor or`set_params` instead.\n",
      "  warnings.warn(\n",
      "\n",
      "/home/andre/.local/share/virtualenvs/tentative_name-cXUp4kcY/lib/python3.9/site-packages/xgboost/sklearn.py:835: UserWarning: `early_stopping_rounds` in `fit` method is deprecated for better compatibility with scikit-learn, use `early_stopping_rounds` in constructor or`set_params` instead.\n",
      "  warnings.warn(\n",
      "\n"
     ]
    },
    {
     "name": "stdout",
     "output_type": "stream",
     "text": [
      "SCORE:                                                                             \n",
      "0.6419337249667924                                                                 \n",
      "Accuracy:                                                                          \n",
      "0.9287274713271436                                                                 \n",
      "9                                                                                  \n",
      " 56%|█████▌    | 56/100 [00:37<00:20,  2.19trial/s, best loss: -0.9287274713271436]"
     ]
    },
    {
     "name": "stderr",
     "output_type": "stream",
     "text": [
      "/home/andre/.local/share/virtualenvs/tentative_name-cXUp4kcY/lib/python3.9/site-packages/xgboost/sklearn.py:835: UserWarning: `eval_metric` in `fit` method is deprecated for better compatibility with scikit-learn, use `eval_metric` in constructor or`set_params` instead.\n",
      "  warnings.warn(\n",
      "\n",
      "/home/andre/.local/share/virtualenvs/tentative_name-cXUp4kcY/lib/python3.9/site-packages/xgboost/sklearn.py:835: UserWarning: `early_stopping_rounds` in `fit` method is deprecated for better compatibility with scikit-learn, use `early_stopping_rounds` in constructor or`set_params` instead.\n",
      "  warnings.warn(\n",
      "\n"
     ]
    },
    {
     "name": "stdout",
     "output_type": "stream",
     "text": [
      "SCORE:                                                                             \n",
      "0.6419337249667924                                                                 \n",
      "Accuracy:                                                                          \n",
      "0.9287274713271436                                                                 \n",
      "8                                                                                  \n",
      " 57%|█████▋    | 57/100 [00:37<00:20,  2.10trial/s, best loss: -0.9287274713271436]"
     ]
    },
    {
     "name": "stderr",
     "output_type": "stream",
     "text": [
      "/home/andre/.local/share/virtualenvs/tentative_name-cXUp4kcY/lib/python3.9/site-packages/xgboost/sklearn.py:835: UserWarning: `eval_metric` in `fit` method is deprecated for better compatibility with scikit-learn, use `eval_metric` in constructor or`set_params` instead.\n",
      "  warnings.warn(\n",
      "\n",
      "/home/andre/.local/share/virtualenvs/tentative_name-cXUp4kcY/lib/python3.9/site-packages/xgboost/sklearn.py:835: UserWarning: `early_stopping_rounds` in `fit` method is deprecated for better compatibility with scikit-learn, use `early_stopping_rounds` in constructor or`set_params` instead.\n",
      "  warnings.warn(\n",
      "\n"
     ]
    },
    {
     "name": "stdout",
     "output_type": "stream",
     "text": [
      "SCORE:                                                                             \n",
      "0.6419337249667924                                                                 \n",
      "Accuracy:                                                                          \n",
      "0.9287274713271436                                                                 \n",
      "4                                                                                  \n",
      " 58%|█████▊    | 58/100 [00:38<00:20,  2.09trial/s, best loss: -0.9287274713271436]"
     ]
    },
    {
     "name": "stderr",
     "output_type": "stream",
     "text": [
      "/home/andre/.local/share/virtualenvs/tentative_name-cXUp4kcY/lib/python3.9/site-packages/xgboost/sklearn.py:835: UserWarning: `eval_metric` in `fit` method is deprecated for better compatibility with scikit-learn, use `eval_metric` in constructor or`set_params` instead.\n",
      "  warnings.warn(\n",
      "\n",
      "/home/andre/.local/share/virtualenvs/tentative_name-cXUp4kcY/lib/python3.9/site-packages/xgboost/sklearn.py:835: UserWarning: `early_stopping_rounds` in `fit` method is deprecated for better compatibility with scikit-learn, use `early_stopping_rounds` in constructor or`set_params` instead.\n",
      "  warnings.warn(\n",
      "\n"
     ]
    },
    {
     "name": "stdout",
     "output_type": "stream",
     "text": [
      "SCORE:                                                                             \n",
      "0.6419337249667924                                                                 \n",
      "Accuracy:                                                                          \n",
      "0.9287274713271436                                                                 \n",
      "6                                                                                  \n",
      " 59%|█████▉    | 59/100 [00:39<00:24,  1.64trial/s, best loss: -0.9287274713271436]"
     ]
    },
    {
     "name": "stderr",
     "output_type": "stream",
     "text": [
      "/home/andre/.local/share/virtualenvs/tentative_name-cXUp4kcY/lib/python3.9/site-packages/xgboost/sklearn.py:835: UserWarning: `eval_metric` in `fit` method is deprecated for better compatibility with scikit-learn, use `eval_metric` in constructor or`set_params` instead.\n",
      "  warnings.warn(\n",
      "\n",
      "/home/andre/.local/share/virtualenvs/tentative_name-cXUp4kcY/lib/python3.9/site-packages/xgboost/sklearn.py:835: UserWarning: `early_stopping_rounds` in `fit` method is deprecated for better compatibility with scikit-learn, use `early_stopping_rounds` in constructor or`set_params` instead.\n",
      "  warnings.warn(\n",
      "\n"
     ]
    },
    {
     "name": "stdout",
     "output_type": "stream",
     "text": [
      "SCORE:                                                                             \n",
      "0.6419337249667924                                                                 \n",
      "Accuracy:                                                                          \n",
      "0.9287274713271436                                                                 \n",
      "3                                                                                  \n",
      " 60%|██████    | 60/100 [00:39<00:25,  1.59trial/s, best loss: -0.9287274713271436]"
     ]
    },
    {
     "name": "stderr",
     "output_type": "stream",
     "text": [
      "/home/andre/.local/share/virtualenvs/tentative_name-cXUp4kcY/lib/python3.9/site-packages/xgboost/sklearn.py:835: UserWarning: `eval_metric` in `fit` method is deprecated for better compatibility with scikit-learn, use `eval_metric` in constructor or`set_params` instead.\n",
      "  warnings.warn(\n",
      "\n",
      "/home/andre/.local/share/virtualenvs/tentative_name-cXUp4kcY/lib/python3.9/site-packages/xgboost/sklearn.py:835: UserWarning: `early_stopping_rounds` in `fit` method is deprecated for better compatibility with scikit-learn, use `early_stopping_rounds` in constructor or`set_params` instead.\n",
      "  warnings.warn(\n",
      "\n"
     ]
    },
    {
     "name": "stdout",
     "output_type": "stream",
     "text": [
      "SCORE:                                                                             \n",
      "0.6419337249667924                                                                 \n",
      "Accuracy:                                                                          \n",
      "0.9287274713271436                                                                 \n",
      "5                                                                                  \n",
      " 61%|██████    | 61/100 [00:40<00:22,  1.77trial/s, best loss: -0.9287274713271436]"
     ]
    },
    {
     "name": "stderr",
     "output_type": "stream",
     "text": [
      "/home/andre/.local/share/virtualenvs/tentative_name-cXUp4kcY/lib/python3.9/site-packages/xgboost/sklearn.py:835: UserWarning: `eval_metric` in `fit` method is deprecated for better compatibility with scikit-learn, use `eval_metric` in constructor or`set_params` instead.\n",
      "  warnings.warn(\n",
      "\n",
      "/home/andre/.local/share/virtualenvs/tentative_name-cXUp4kcY/lib/python3.9/site-packages/xgboost/sklearn.py:835: UserWarning: `early_stopping_rounds` in `fit` method is deprecated for better compatibility with scikit-learn, use `early_stopping_rounds` in constructor or`set_params` instead.\n",
      "  warnings.warn(\n",
      "\n"
     ]
    },
    {
     "name": "stdout",
     "output_type": "stream",
     "text": [
      "SCORE:                                                                             \n",
      "0.6419337249667924                                                                 \n",
      "Accuracy:                                                                          \n",
      "0.9287274713271436                                                                 \n",
      "9                                                                                  \n",
      " 62%|██████▏   | 62/100 [00:40<00:22,  1.67trial/s, best loss: -0.9287274713271436]"
     ]
    },
    {
     "name": "stderr",
     "output_type": "stream",
     "text": [
      "/home/andre/.local/share/virtualenvs/tentative_name-cXUp4kcY/lib/python3.9/site-packages/xgboost/sklearn.py:835: UserWarning: `eval_metric` in `fit` method is deprecated for better compatibility with scikit-learn, use `eval_metric` in constructor or`set_params` instead.\n",
      "  warnings.warn(\n",
      "\n",
      "/home/andre/.local/share/virtualenvs/tentative_name-cXUp4kcY/lib/python3.9/site-packages/xgboost/sklearn.py:835: UserWarning: `early_stopping_rounds` in `fit` method is deprecated for better compatibility with scikit-learn, use `early_stopping_rounds` in constructor or`set_params` instead.\n",
      "  warnings.warn(\n",
      "\n"
     ]
    },
    {
     "name": "stdout",
     "output_type": "stream",
     "text": [
      "SCORE:                                                                             \n",
      "0.6419337249667924                                                                 \n",
      "Accuracy:                                                                          \n",
      "0.9287274713271436                                                                 \n",
      "2                                                                                  \n",
      " 63%|██████▎   | 63/100 [00:41<00:21,  1.70trial/s, best loss: -0.9287274713271436]"
     ]
    },
    {
     "name": "stderr",
     "output_type": "stream",
     "text": [
      "/home/andre/.local/share/virtualenvs/tentative_name-cXUp4kcY/lib/python3.9/site-packages/xgboost/sklearn.py:835: UserWarning: `eval_metric` in `fit` method is deprecated for better compatibility with scikit-learn, use `eval_metric` in constructor or`set_params` instead.\n",
      "  warnings.warn(\n",
      "\n",
      "/home/andre/.local/share/virtualenvs/tentative_name-cXUp4kcY/lib/python3.9/site-packages/xgboost/sklearn.py:835: UserWarning: `early_stopping_rounds` in `fit` method is deprecated for better compatibility with scikit-learn, use `early_stopping_rounds` in constructor or`set_params` instead.\n",
      "  warnings.warn(\n",
      "\n"
     ]
    },
    {
     "name": "stdout",
     "output_type": "stream",
     "text": [
      "SCORE:                                                                             \n",
      "0.6419337249667924                                                                 \n",
      "Accuracy:                                                                          \n",
      "0.9287274713271436                                                                 \n",
      "4                                                                                  \n",
      " 64%|██████▍   | 64/100 [00:42<00:21,  1.66trial/s, best loss: -0.9287274713271436]"
     ]
    },
    {
     "name": "stderr",
     "output_type": "stream",
     "text": [
      "/home/andre/.local/share/virtualenvs/tentative_name-cXUp4kcY/lib/python3.9/site-packages/xgboost/sklearn.py:835: UserWarning: `eval_metric` in `fit` method is deprecated for better compatibility with scikit-learn, use `eval_metric` in constructor or`set_params` instead.\n",
      "  warnings.warn(\n",
      "\n",
      "/home/andre/.local/share/virtualenvs/tentative_name-cXUp4kcY/lib/python3.9/site-packages/xgboost/sklearn.py:835: UserWarning: `early_stopping_rounds` in `fit` method is deprecated for better compatibility with scikit-learn, use `early_stopping_rounds` in constructor or`set_params` instead.\n",
      "  warnings.warn(\n",
      "\n"
     ]
    },
    {
     "name": "stdout",
     "output_type": "stream",
     "text": [
      "SCORE:                                                                             \n",
      "0.6419337249667924                                                                 \n",
      "Accuracy:                                                                          \n",
      "0.9287274713271436                                                                 \n",
      "7                                                                                  \n",
      " 65%|██████▌   | 65/100 [00:42<00:24,  1.41trial/s, best loss: -0.9287274713271436]"
     ]
    },
    {
     "name": "stderr",
     "output_type": "stream",
     "text": [
      "/home/andre/.local/share/virtualenvs/tentative_name-cXUp4kcY/lib/python3.9/site-packages/xgboost/sklearn.py:835: UserWarning: `eval_metric` in `fit` method is deprecated for better compatibility with scikit-learn, use `eval_metric` in constructor or`set_params` instead.\n",
      "  warnings.warn(\n",
      "\n",
      "/home/andre/.local/share/virtualenvs/tentative_name-cXUp4kcY/lib/python3.9/site-packages/xgboost/sklearn.py:835: UserWarning: `early_stopping_rounds` in `fit` method is deprecated for better compatibility with scikit-learn, use `early_stopping_rounds` in constructor or`set_params` instead.\n",
      "  warnings.warn(\n",
      "\n"
     ]
    },
    {
     "name": "stdout",
     "output_type": "stream",
     "text": [
      "SCORE:                                                                             \n",
      "0.6419337249667924                                                                 \n",
      "Accuracy:                                                                          \n",
      "0.9287274713271436                                                                 \n",
      "7                                                                                  \n",
      " 66%|██████▌   | 66/100 [00:43<00:24,  1.39trial/s, best loss: -0.9287274713271436]"
     ]
    },
    {
     "name": "stderr",
     "output_type": "stream",
     "text": [
      "/home/andre/.local/share/virtualenvs/tentative_name-cXUp4kcY/lib/python3.9/site-packages/xgboost/sklearn.py:835: UserWarning: `eval_metric` in `fit` method is deprecated for better compatibility with scikit-learn, use `eval_metric` in constructor or`set_params` instead.\n",
      "  warnings.warn(\n",
      "\n",
      "/home/andre/.local/share/virtualenvs/tentative_name-cXUp4kcY/lib/python3.9/site-packages/xgboost/sklearn.py:835: UserWarning: `early_stopping_rounds` in `fit` method is deprecated for better compatibility with scikit-learn, use `early_stopping_rounds` in constructor or`set_params` instead.\n",
      "  warnings.warn(\n",
      "\n"
     ]
    },
    {
     "name": "stdout",
     "output_type": "stream",
     "text": [
      "SCORE:                                                                             \n",
      "0.6419337249667924                                                                 \n",
      "Accuracy:                                                                          \n",
      "0.9287274713271436                                                                 \n",
      "6                                                                                  \n",
      " 67%|██████▋   | 67/100 [00:44<00:21,  1.56trial/s, best loss: -0.9287274713271436]"
     ]
    },
    {
     "name": "stderr",
     "output_type": "stream",
     "text": [
      "/home/andre/.local/share/virtualenvs/tentative_name-cXUp4kcY/lib/python3.9/site-packages/xgboost/sklearn.py:835: UserWarning: `eval_metric` in `fit` method is deprecated for better compatibility with scikit-learn, use `eval_metric` in constructor or`set_params` instead.\n",
      "  warnings.warn(\n",
      "\n",
      "/home/andre/.local/share/virtualenvs/tentative_name-cXUp4kcY/lib/python3.9/site-packages/xgboost/sklearn.py:835: UserWarning: `early_stopping_rounds` in `fit` method is deprecated for better compatibility with scikit-learn, use `early_stopping_rounds` in constructor or`set_params` instead.\n",
      "  warnings.warn(\n",
      "\n"
     ]
    },
    {
     "name": "stdout",
     "output_type": "stream",
     "text": [
      "SCORE:                                                                             \n",
      "0.6419337249667924                                                                 \n",
      "Accuracy:                                                                          \n",
      "0.9287274713271436                                                                 \n",
      "8                                                                                  \n",
      " 68%|██████▊   | 68/100 [00:44<00:19,  1.61trial/s, best loss: -0.9287274713271436]"
     ]
    },
    {
     "name": "stderr",
     "output_type": "stream",
     "text": [
      "/home/andre/.local/share/virtualenvs/tentative_name-cXUp4kcY/lib/python3.9/site-packages/xgboost/sklearn.py:835: UserWarning: `eval_metric` in `fit` method is deprecated for better compatibility with scikit-learn, use `eval_metric` in constructor or`set_params` instead.\n",
      "  warnings.warn(\n",
      "\n",
      "/home/andre/.local/share/virtualenvs/tentative_name-cXUp4kcY/lib/python3.9/site-packages/xgboost/sklearn.py:835: UserWarning: `early_stopping_rounds` in `fit` method is deprecated for better compatibility with scikit-learn, use `early_stopping_rounds` in constructor or`set_params` instead.\n",
      "  warnings.warn(\n",
      "\n"
     ]
    },
    {
     "name": "stdout",
     "output_type": "stream",
     "text": [
      "SCORE:                                                                             \n",
      "0.6419337249667924                                                                 \n",
      "Accuracy:                                                                          \n",
      "0.9287274713271436                                                                 \n",
      "6                                                                                  \n",
      " 69%|██████▉   | 69/100 [00:45<00:19,  1.60trial/s, best loss: -0.9287274713271436]"
     ]
    },
    {
     "name": "stderr",
     "output_type": "stream",
     "text": [
      "/home/andre/.local/share/virtualenvs/tentative_name-cXUp4kcY/lib/python3.9/site-packages/xgboost/sklearn.py:835: UserWarning: `eval_metric` in `fit` method is deprecated for better compatibility with scikit-learn, use `eval_metric` in constructor or`set_params` instead.\n",
      "  warnings.warn(\n",
      "\n",
      "/home/andre/.local/share/virtualenvs/tentative_name-cXUp4kcY/lib/python3.9/site-packages/xgboost/sklearn.py:835: UserWarning: `early_stopping_rounds` in `fit` method is deprecated for better compatibility with scikit-learn, use `early_stopping_rounds` in constructor or`set_params` instead.\n",
      "  warnings.warn(\n",
      "\n"
     ]
    },
    {
     "name": "stdout",
     "output_type": "stream",
     "text": [
      "SCORE:                                                                             \n",
      "0.6419337249667924                                                                 \n",
      "Accuracy:                                                                          \n",
      "0.9287274713271436                                                                 \n",
      "5                                                                                  \n",
      " 70%|███████   | 70/100 [00:45<00:16,  1.77trial/s, best loss: -0.9287274713271436]"
     ]
    },
    {
     "name": "stderr",
     "output_type": "stream",
     "text": [
      "/home/andre/.local/share/virtualenvs/tentative_name-cXUp4kcY/lib/python3.9/site-packages/xgboost/sklearn.py:835: UserWarning: `eval_metric` in `fit` method is deprecated for better compatibility with scikit-learn, use `eval_metric` in constructor or`set_params` instead.\n",
      "  warnings.warn(\n",
      "\n",
      "/home/andre/.local/share/virtualenvs/tentative_name-cXUp4kcY/lib/python3.9/site-packages/xgboost/sklearn.py:835: UserWarning: `early_stopping_rounds` in `fit` method is deprecated for better compatibility with scikit-learn, use `early_stopping_rounds` in constructor or`set_params` instead.\n",
      "  warnings.warn(\n",
      "\n"
     ]
    },
    {
     "name": "stdout",
     "output_type": "stream",
     "text": [
      "SCORE:                                                                             \n",
      "0.6419337249667924                                                                 \n",
      "Accuracy:                                                                          \n",
      "0.9287274713271436                                                                 \n",
      "5                                                                                  \n",
      " 71%|███████   | 71/100 [00:46<00:17,  1.66trial/s, best loss: -0.9287274713271436]"
     ]
    },
    {
     "name": "stderr",
     "output_type": "stream",
     "text": [
      "/home/andre/.local/share/virtualenvs/tentative_name-cXUp4kcY/lib/python3.9/site-packages/xgboost/sklearn.py:835: UserWarning: `eval_metric` in `fit` method is deprecated for better compatibility with scikit-learn, use `eval_metric` in constructor or`set_params` instead.\n",
      "  warnings.warn(\n",
      "\n",
      "/home/andre/.local/share/virtualenvs/tentative_name-cXUp4kcY/lib/python3.9/site-packages/xgboost/sklearn.py:835: UserWarning: `early_stopping_rounds` in `fit` method is deprecated for better compatibility with scikit-learn, use `early_stopping_rounds` in constructor or`set_params` instead.\n",
      "  warnings.warn(\n",
      "\n"
     ]
    },
    {
     "name": "stdout",
     "output_type": "stream",
     "text": [
      "SCORE:                                                                             \n",
      "0.6419337249667924                                                                 \n",
      "Accuracy:                                                                          \n",
      "0.9287274713271436                                                                 \n",
      "10                                                                                 \n",
      " 72%|███████▏  | 72/100 [00:47<00:17,  1.64trial/s, best loss: -0.9287274713271436]"
     ]
    },
    {
     "name": "stderr",
     "output_type": "stream",
     "text": [
      "/home/andre/.local/share/virtualenvs/tentative_name-cXUp4kcY/lib/python3.9/site-packages/xgboost/sklearn.py:835: UserWarning: `eval_metric` in `fit` method is deprecated for better compatibility with scikit-learn, use `eval_metric` in constructor or`set_params` instead.\n",
      "  warnings.warn(\n",
      "\n",
      "/home/andre/.local/share/virtualenvs/tentative_name-cXUp4kcY/lib/python3.9/site-packages/xgboost/sklearn.py:835: UserWarning: `early_stopping_rounds` in `fit` method is deprecated for better compatibility with scikit-learn, use `early_stopping_rounds` in constructor or`set_params` instead.\n",
      "  warnings.warn(\n",
      "\n"
     ]
    },
    {
     "name": "stdout",
     "output_type": "stream",
     "text": [
      "SCORE:                                                                             \n",
      "0.6419337249667924                                                                 \n",
      "Accuracy:                                                                          \n",
      "0.9287274713271436                                                                 \n",
      "10                                                                                 \n",
      " 73%|███████▎  | 73/100 [00:47<00:16,  1.63trial/s, best loss: -0.9287274713271436]"
     ]
    },
    {
     "name": "stderr",
     "output_type": "stream",
     "text": [
      "/home/andre/.local/share/virtualenvs/tentative_name-cXUp4kcY/lib/python3.9/site-packages/xgboost/sklearn.py:835: UserWarning: `eval_metric` in `fit` method is deprecated for better compatibility with scikit-learn, use `eval_metric` in constructor or`set_params` instead.\n",
      "  warnings.warn(\n",
      "\n",
      "/home/andre/.local/share/virtualenvs/tentative_name-cXUp4kcY/lib/python3.9/site-packages/xgboost/sklearn.py:835: UserWarning: `early_stopping_rounds` in `fit` method is deprecated for better compatibility with scikit-learn, use `early_stopping_rounds` in constructor or`set_params` instead.\n",
      "  warnings.warn(\n",
      "\n"
     ]
    },
    {
     "name": "stdout",
     "output_type": "stream",
     "text": [
      "SCORE:                                                                             \n",
      "0.6419337249667924                                                                 \n",
      "Accuracy:                                                                          \n",
      "0.9287274713271436                                                                 \n",
      "10                                                                                 \n",
      " 74%|███████▍  | 74/100 [00:48<00:16,  1.60trial/s, best loss: -0.9287274713271436]"
     ]
    },
    {
     "name": "stderr",
     "output_type": "stream",
     "text": [
      "/home/andre/.local/share/virtualenvs/tentative_name-cXUp4kcY/lib/python3.9/site-packages/xgboost/sklearn.py:835: UserWarning: `eval_metric` in `fit` method is deprecated for better compatibility with scikit-learn, use `eval_metric` in constructor or`set_params` instead.\n",
      "  warnings.warn(\n",
      "\n",
      "/home/andre/.local/share/virtualenvs/tentative_name-cXUp4kcY/lib/python3.9/site-packages/xgboost/sklearn.py:835: UserWarning: `early_stopping_rounds` in `fit` method is deprecated for better compatibility with scikit-learn, use `early_stopping_rounds` in constructor or`set_params` instead.\n",
      "  warnings.warn(\n",
      "\n"
     ]
    },
    {
     "name": "stdout",
     "output_type": "stream",
     "text": [
      "SCORE:                                                                             \n",
      "0.6419337249667924                                                                 \n",
      "Accuracy:                                                                          \n",
      "0.9287274713271436                                                                 \n",
      "2                                                                                  \n",
      " 75%|███████▌  | 75/100 [00:48<00:15,  1.65trial/s, best loss: -0.9287274713271436]"
     ]
    },
    {
     "name": "stderr",
     "output_type": "stream",
     "text": [
      "/home/andre/.local/share/virtualenvs/tentative_name-cXUp4kcY/lib/python3.9/site-packages/xgboost/sklearn.py:835: UserWarning: `eval_metric` in `fit` method is deprecated for better compatibility with scikit-learn, use `eval_metric` in constructor or`set_params` instead.\n",
      "  warnings.warn(\n",
      "\n",
      "/home/andre/.local/share/virtualenvs/tentative_name-cXUp4kcY/lib/python3.9/site-packages/xgboost/sklearn.py:835: UserWarning: `early_stopping_rounds` in `fit` method is deprecated for better compatibility with scikit-learn, use `early_stopping_rounds` in constructor or`set_params` instead.\n",
      "  warnings.warn(\n",
      "\n"
     ]
    },
    {
     "name": "stdout",
     "output_type": "stream",
     "text": [
      "SCORE:                                                                             \n",
      "0.6419337249667924                                                                 \n",
      "Accuracy:                                                                          \n",
      "0.9287274713271436                                                                 \n",
      "2                                                                                  \n",
      " 76%|███████▌  | 76/100 [00:49<00:12,  1.92trial/s, best loss: -0.9287274713271436]"
     ]
    },
    {
     "name": "stderr",
     "output_type": "stream",
     "text": [
      "/home/andre/.local/share/virtualenvs/tentative_name-cXUp4kcY/lib/python3.9/site-packages/xgboost/sklearn.py:835: UserWarning: `eval_metric` in `fit` method is deprecated for better compatibility with scikit-learn, use `eval_metric` in constructor or`set_params` instead.\n",
      "  warnings.warn(\n",
      "\n",
      "/home/andre/.local/share/virtualenvs/tentative_name-cXUp4kcY/lib/python3.9/site-packages/xgboost/sklearn.py:835: UserWarning: `early_stopping_rounds` in `fit` method is deprecated for better compatibility with scikit-learn, use `early_stopping_rounds` in constructor or`set_params` instead.\n",
      "  warnings.warn(\n",
      "\n"
     ]
    },
    {
     "name": "stdout",
     "output_type": "stream",
     "text": [
      "SCORE:                                                                             \n",
      "0.6419337249667924                                                                 \n",
      "Accuracy:                                                                          \n",
      "0.9287274713271436                                                                 \n",
      "2                                                                                  \n",
      " 77%|███████▋  | 77/100 [00:49<00:10,  2.16trial/s, best loss: -0.9287274713271436]"
     ]
    },
    {
     "name": "stderr",
     "output_type": "stream",
     "text": [
      "/home/andre/.local/share/virtualenvs/tentative_name-cXUp4kcY/lib/python3.9/site-packages/xgboost/sklearn.py:835: UserWarning: `eval_metric` in `fit` method is deprecated for better compatibility with scikit-learn, use `eval_metric` in constructor or`set_params` instead.\n",
      "  warnings.warn(\n",
      "\n",
      "/home/andre/.local/share/virtualenvs/tentative_name-cXUp4kcY/lib/python3.9/site-packages/xgboost/sklearn.py:835: UserWarning: `early_stopping_rounds` in `fit` method is deprecated for better compatibility with scikit-learn, use `early_stopping_rounds` in constructor or`set_params` instead.\n",
      "  warnings.warn(\n",
      "\n"
     ]
    },
    {
     "name": "stdout",
     "output_type": "stream",
     "text": [
      "SCORE:                                                                             \n",
      "0.6419337249667924                                                                 \n",
      "Accuracy:                                                                          \n",
      "0.9287274713271436                                                                 \n",
      "1                                                                                  \n",
      " 78%|███████▊  | 78/100 [00:49<00:09,  2.37trial/s, best loss: -0.9287274713271436]"
     ]
    },
    {
     "name": "stderr",
     "output_type": "stream",
     "text": [
      "/home/andre/.local/share/virtualenvs/tentative_name-cXUp4kcY/lib/python3.9/site-packages/xgboost/sklearn.py:835: UserWarning: `eval_metric` in `fit` method is deprecated for better compatibility with scikit-learn, use `eval_metric` in constructor or`set_params` instead.\n",
      "  warnings.warn(\n",
      "\n",
      "/home/andre/.local/share/virtualenvs/tentative_name-cXUp4kcY/lib/python3.9/site-packages/xgboost/sklearn.py:835: UserWarning: `early_stopping_rounds` in `fit` method is deprecated for better compatibility with scikit-learn, use `early_stopping_rounds` in constructor or`set_params` instead.\n",
      "  warnings.warn(\n",
      "\n"
     ]
    },
    {
     "name": "stdout",
     "output_type": "stream",
     "text": [
      "SCORE:                                                                             \n",
      "0.6419337249667924                                                                 \n",
      "Accuracy:                                                                          \n",
      "0.9287274713271436                                                                 \n",
      "1                                                                                  \n",
      " 79%|███████▉  | 79/100 [00:50<00:08,  2.60trial/s, best loss: -0.9287274713271436]"
     ]
    },
    {
     "name": "stderr",
     "output_type": "stream",
     "text": [
      "/home/andre/.local/share/virtualenvs/tentative_name-cXUp4kcY/lib/python3.9/site-packages/xgboost/sklearn.py:835: UserWarning: `eval_metric` in `fit` method is deprecated for better compatibility with scikit-learn, use `eval_metric` in constructor or`set_params` instead.\n",
      "  warnings.warn(\n",
      "\n",
      "/home/andre/.local/share/virtualenvs/tentative_name-cXUp4kcY/lib/python3.9/site-packages/xgboost/sklearn.py:835: UserWarning: `early_stopping_rounds` in `fit` method is deprecated for better compatibility with scikit-learn, use `early_stopping_rounds` in constructor or`set_params` instead.\n",
      "  warnings.warn(\n",
      "\n"
     ]
    },
    {
     "name": "stdout",
     "output_type": "stream",
     "text": [
      "SCORE:                                                                             \n",
      "0.6419337249667924                                                                 \n",
      "Accuracy:                                                                          \n",
      "0.9287274713271436                                                                 \n",
      "8                                                                                  \n",
      " 80%|████████  | 80/100 [00:50<00:07,  2.75trial/s, best loss: -0.9287274713271436]"
     ]
    },
    {
     "name": "stderr",
     "output_type": "stream",
     "text": [
      "/home/andre/.local/share/virtualenvs/tentative_name-cXUp4kcY/lib/python3.9/site-packages/xgboost/sklearn.py:835: UserWarning: `eval_metric` in `fit` method is deprecated for better compatibility with scikit-learn, use `eval_metric` in constructor or`set_params` instead.\n",
      "  warnings.warn(\n",
      "\n",
      "/home/andre/.local/share/virtualenvs/tentative_name-cXUp4kcY/lib/python3.9/site-packages/xgboost/sklearn.py:835: UserWarning: `early_stopping_rounds` in `fit` method is deprecated for better compatibility with scikit-learn, use `early_stopping_rounds` in constructor or`set_params` instead.\n",
      "  warnings.warn(\n",
      "\n"
     ]
    },
    {
     "name": "stdout",
     "output_type": "stream",
     "text": [
      "SCORE:                                                                             \n",
      "0.6419337249667924                                                                 \n",
      "Accuracy:                                                                          \n",
      "0.9287274713271436                                                                 \n",
      "8                                                                                  \n",
      " 81%|████████  | 81/100 [00:51<00:08,  2.30trial/s, best loss: -0.9287274713271436]"
     ]
    },
    {
     "name": "stderr",
     "output_type": "stream",
     "text": [
      "/home/andre/.local/share/virtualenvs/tentative_name-cXUp4kcY/lib/python3.9/site-packages/xgboost/sklearn.py:835: UserWarning: `eval_metric` in `fit` method is deprecated for better compatibility with scikit-learn, use `eval_metric` in constructor or`set_params` instead.\n",
      "  warnings.warn(\n",
      "\n",
      "/home/andre/.local/share/virtualenvs/tentative_name-cXUp4kcY/lib/python3.9/site-packages/xgboost/sklearn.py:835: UserWarning: `early_stopping_rounds` in `fit` method is deprecated for better compatibility with scikit-learn, use `early_stopping_rounds` in constructor or`set_params` instead.\n",
      "  warnings.warn(\n",
      "\n"
     ]
    },
    {
     "name": "stdout",
     "output_type": "stream",
     "text": [
      "SCORE:                                                                             \n",
      "0.6419337249667924                                                                 \n",
      "Accuracy:                                                                          \n",
      "0.9287274713271436                                                                 \n",
      "8                                                                                  \n",
      " 82%|████████▏ | 82/100 [00:51<00:08,  2.07trial/s, best loss: -0.9287274713271436]"
     ]
    },
    {
     "name": "stderr",
     "output_type": "stream",
     "text": [
      "/home/andre/.local/share/virtualenvs/tentative_name-cXUp4kcY/lib/python3.9/site-packages/xgboost/sklearn.py:835: UserWarning: `eval_metric` in `fit` method is deprecated for better compatibility with scikit-learn, use `eval_metric` in constructor or`set_params` instead.\n",
      "  warnings.warn(\n",
      "\n",
      "/home/andre/.local/share/virtualenvs/tentative_name-cXUp4kcY/lib/python3.9/site-packages/xgboost/sklearn.py:835: UserWarning: `early_stopping_rounds` in `fit` method is deprecated for better compatibility with scikit-learn, use `early_stopping_rounds` in constructor or`set_params` instead.\n",
      "  warnings.warn(\n",
      "\n"
     ]
    },
    {
     "name": "stdout",
     "output_type": "stream",
     "text": [
      "SCORE:                                                                             \n",
      "0.6419337249667924                                                                 \n",
      "Accuracy:                                                                          \n",
      "0.9287274713271436                                                                 \n",
      "6                                                                                  \n",
      " 83%|████████▎ | 83/100 [00:52<00:09,  1.80trial/s, best loss: -0.9287274713271436]"
     ]
    },
    {
     "name": "stderr",
     "output_type": "stream",
     "text": [
      "/home/andre/.local/share/virtualenvs/tentative_name-cXUp4kcY/lib/python3.9/site-packages/xgboost/sklearn.py:835: UserWarning: `eval_metric` in `fit` method is deprecated for better compatibility with scikit-learn, use `eval_metric` in constructor or`set_params` instead.\n",
      "  warnings.warn(\n",
      "\n",
      "/home/andre/.local/share/virtualenvs/tentative_name-cXUp4kcY/lib/python3.9/site-packages/xgboost/sklearn.py:835: UserWarning: `early_stopping_rounds` in `fit` method is deprecated for better compatibility with scikit-learn, use `early_stopping_rounds` in constructor or`set_params` instead.\n",
      "  warnings.warn(\n",
      "\n"
     ]
    },
    {
     "name": "stdout",
     "output_type": "stream",
     "text": [
      "SCORE:                                                                             \n",
      "0.6419337249667924                                                                 \n",
      "Accuracy:                                                                          \n",
      "0.9287274713271436                                                                 \n",
      "3                                                                                  \n",
      " 84%|████████▍ | 84/100 [00:53<00:09,  1.76trial/s, best loss: -0.9287274713271436]"
     ]
    },
    {
     "name": "stderr",
     "output_type": "stream",
     "text": [
      "/home/andre/.local/share/virtualenvs/tentative_name-cXUp4kcY/lib/python3.9/site-packages/xgboost/sklearn.py:835: UserWarning: `eval_metric` in `fit` method is deprecated for better compatibility with scikit-learn, use `eval_metric` in constructor or`set_params` instead.\n",
      "  warnings.warn(\n",
      "\n",
      "/home/andre/.local/share/virtualenvs/tentative_name-cXUp4kcY/lib/python3.9/site-packages/xgboost/sklearn.py:835: UserWarning: `early_stopping_rounds` in `fit` method is deprecated for better compatibility with scikit-learn, use `early_stopping_rounds` in constructor or`set_params` instead.\n",
      "  warnings.warn(\n",
      "\n"
     ]
    },
    {
     "name": "stdout",
     "output_type": "stream",
     "text": [
      "SCORE:                                                                             \n",
      "0.6419337249667924                                                                 \n",
      "Accuracy:                                                                          \n",
      "0.9287274713271436                                                                 \n",
      "6                                                                                  \n",
      " 85%|████████▌ | 85/100 [00:54<00:10,  1.42trial/s, best loss: -0.9287274713271436]"
     ]
    },
    {
     "name": "stderr",
     "output_type": "stream",
     "text": [
      "/home/andre/.local/share/virtualenvs/tentative_name-cXUp4kcY/lib/python3.9/site-packages/xgboost/sklearn.py:835: UserWarning: `eval_metric` in `fit` method is deprecated for better compatibility with scikit-learn, use `eval_metric` in constructor or`set_params` instead.\n",
      "  warnings.warn(\n",
      "\n",
      "/home/andre/.local/share/virtualenvs/tentative_name-cXUp4kcY/lib/python3.9/site-packages/xgboost/sklearn.py:835: UserWarning: `early_stopping_rounds` in `fit` method is deprecated for better compatibility with scikit-learn, use `early_stopping_rounds` in constructor or`set_params` instead.\n",
      "  warnings.warn(\n",
      "\n"
     ]
    },
    {
     "name": "stdout",
     "output_type": "stream",
     "text": [
      "SCORE:                                                                             \n",
      "0.6419337249667924                                                                 \n",
      "Accuracy:                                                                          \n",
      "0.9287274713271436                                                                 \n",
      "5                                                                                  \n",
      " 86%|████████▌ | 86/100 [00:54<00:09,  1.54trial/s, best loss: -0.9287274713271436]"
     ]
    },
    {
     "name": "stderr",
     "output_type": "stream",
     "text": [
      "/home/andre/.local/share/virtualenvs/tentative_name-cXUp4kcY/lib/python3.9/site-packages/xgboost/sklearn.py:835: UserWarning: `eval_metric` in `fit` method is deprecated for better compatibility with scikit-learn, use `eval_metric` in constructor or`set_params` instead.\n",
      "  warnings.warn(\n",
      "\n",
      "/home/andre/.local/share/virtualenvs/tentative_name-cXUp4kcY/lib/python3.9/site-packages/xgboost/sklearn.py:835: UserWarning: `early_stopping_rounds` in `fit` method is deprecated for better compatibility with scikit-learn, use `early_stopping_rounds` in constructor or`set_params` instead.\n",
      "  warnings.warn(\n",
      "\n"
     ]
    },
    {
     "name": "stdout",
     "output_type": "stream",
     "text": [
      "SCORE:                                                                             \n",
      "0.6419337249667924                                                                 \n",
      "Accuracy:                                                                          \n",
      "0.9287274713271436                                                                 \n",
      "9                                                                                  \n",
      " 87%|████████▋ | 87/100 [00:55<00:08,  1.49trial/s, best loss: -0.9287274713271436]"
     ]
    },
    {
     "name": "stderr",
     "output_type": "stream",
     "text": [
      "/home/andre/.local/share/virtualenvs/tentative_name-cXUp4kcY/lib/python3.9/site-packages/xgboost/sklearn.py:835: UserWarning: `eval_metric` in `fit` method is deprecated for better compatibility with scikit-learn, use `eval_metric` in constructor or`set_params` instead.\n",
      "  warnings.warn(\n",
      "\n",
      "/home/andre/.local/share/virtualenvs/tentative_name-cXUp4kcY/lib/python3.9/site-packages/xgboost/sklearn.py:835: UserWarning: `early_stopping_rounds` in `fit` method is deprecated for better compatibility with scikit-learn, use `early_stopping_rounds` in constructor or`set_params` instead.\n",
      "  warnings.warn(\n",
      "\n"
     ]
    },
    {
     "name": "stdout",
     "output_type": "stream",
     "text": [
      "SCORE:                                                                             \n",
      "0.6419337249667924                                                                 \n",
      "Accuracy:                                                                          \n",
      "0.9287274713271436                                                                 \n",
      "2                                                                                  \n",
      " 88%|████████▊ | 88/100 [00:55<00:07,  1.55trial/s, best loss: -0.9287274713271436]"
     ]
    },
    {
     "name": "stderr",
     "output_type": "stream",
     "text": [
      "/home/andre/.local/share/virtualenvs/tentative_name-cXUp4kcY/lib/python3.9/site-packages/xgboost/sklearn.py:835: UserWarning: `eval_metric` in `fit` method is deprecated for better compatibility with scikit-learn, use `eval_metric` in constructor or`set_params` instead.\n",
      "  warnings.warn(\n",
      "\n",
      "/home/andre/.local/share/virtualenvs/tentative_name-cXUp4kcY/lib/python3.9/site-packages/xgboost/sklearn.py:835: UserWarning: `early_stopping_rounds` in `fit` method is deprecated for better compatibility with scikit-learn, use `early_stopping_rounds` in constructor or`set_params` instead.\n",
      "  warnings.warn(\n",
      "\n"
     ]
    },
    {
     "name": "stdout",
     "output_type": "stream",
     "text": [
      "SCORE:                                                                             \n",
      "0.6419337249667924                                                                 \n",
      "Accuracy:                                                                          \n",
      "0.9287274713271436                                                                 \n",
      "9                                                                                  \n",
      " 89%|████████▉ | 89/100 [00:56<00:07,  1.51trial/s, best loss: -0.9287274713271436]"
     ]
    },
    {
     "name": "stderr",
     "output_type": "stream",
     "text": [
      "/home/andre/.local/share/virtualenvs/tentative_name-cXUp4kcY/lib/python3.9/site-packages/xgboost/sklearn.py:835: UserWarning: `eval_metric` in `fit` method is deprecated for better compatibility with scikit-learn, use `eval_metric` in constructor or`set_params` instead.\n",
      "  warnings.warn(\n",
      "\n",
      "/home/andre/.local/share/virtualenvs/tentative_name-cXUp4kcY/lib/python3.9/site-packages/xgboost/sklearn.py:835: UserWarning: `early_stopping_rounds` in `fit` method is deprecated for better compatibility with scikit-learn, use `early_stopping_rounds` in constructor or`set_params` instead.\n",
      "  warnings.warn(\n",
      "\n"
     ]
    },
    {
     "name": "stdout",
     "output_type": "stream",
     "text": [
      "SCORE:                                                                             \n",
      "0.6419337249667924                                                                 \n",
      "Accuracy:                                                                          \n",
      "0.9287274713271436                                                                 \n",
      "4                                                                                  \n",
      " 90%|█████████ | 90/100 [00:57<00:06,  1.57trial/s, best loss: -0.9287274713271436]"
     ]
    },
    {
     "name": "stderr",
     "output_type": "stream",
     "text": [
      "/home/andre/.local/share/virtualenvs/tentative_name-cXUp4kcY/lib/python3.9/site-packages/xgboost/sklearn.py:835: UserWarning: `eval_metric` in `fit` method is deprecated for better compatibility with scikit-learn, use `eval_metric` in constructor or`set_params` instead.\n",
      "  warnings.warn(\n",
      "\n",
      "/home/andre/.local/share/virtualenvs/tentative_name-cXUp4kcY/lib/python3.9/site-packages/xgboost/sklearn.py:835: UserWarning: `early_stopping_rounds` in `fit` method is deprecated for better compatibility with scikit-learn, use `early_stopping_rounds` in constructor or`set_params` instead.\n",
      "  warnings.warn(\n",
      "\n"
     ]
    },
    {
     "name": "stdout",
     "output_type": "stream",
     "text": [
      "SCORE:                                                                             \n",
      "0.6419337249667924                                                                 \n",
      "Accuracy:                                                                          \n",
      "0.9287274713271436                                                                 \n",
      "7                                                                                  \n",
      " 91%|█████████ | 91/100 [00:57<00:05,  1.60trial/s, best loss: -0.9287274713271436]"
     ]
    },
    {
     "name": "stderr",
     "output_type": "stream",
     "text": [
      "/home/andre/.local/share/virtualenvs/tentative_name-cXUp4kcY/lib/python3.9/site-packages/xgboost/sklearn.py:835: UserWarning: `eval_metric` in `fit` method is deprecated for better compatibility with scikit-learn, use `eval_metric` in constructor or`set_params` instead.\n",
      "  warnings.warn(\n",
      "\n",
      "/home/andre/.local/share/virtualenvs/tentative_name-cXUp4kcY/lib/python3.9/site-packages/xgboost/sklearn.py:835: UserWarning: `early_stopping_rounds` in `fit` method is deprecated for better compatibility with scikit-learn, use `early_stopping_rounds` in constructor or`set_params` instead.\n",
      "  warnings.warn(\n",
      "\n"
     ]
    },
    {
     "name": "stdout",
     "output_type": "stream",
     "text": [
      "SCORE:                                                                             \n",
      "0.6419337249667924                                                                 \n",
      "Accuracy:                                                                          \n",
      "0.9287274713271436                                                                 \n",
      "7                                                                                  \n",
      " 92%|█████████▏| 92/100 [00:58<00:05,  1.52trial/s, best loss: -0.9287274713271436]"
     ]
    },
    {
     "name": "stderr",
     "output_type": "stream",
     "text": [
      "/home/andre/.local/share/virtualenvs/tentative_name-cXUp4kcY/lib/python3.9/site-packages/xgboost/sklearn.py:835: UserWarning: `eval_metric` in `fit` method is deprecated for better compatibility with scikit-learn, use `eval_metric` in constructor or`set_params` instead.\n",
      "  warnings.warn(\n",
      "\n",
      "/home/andre/.local/share/virtualenvs/tentative_name-cXUp4kcY/lib/python3.9/site-packages/xgboost/sklearn.py:835: UserWarning: `early_stopping_rounds` in `fit` method is deprecated for better compatibility with scikit-learn, use `early_stopping_rounds` in constructor or`set_params` instead.\n",
      "  warnings.warn(\n",
      "\n"
     ]
    },
    {
     "name": "stdout",
     "output_type": "stream",
     "text": [
      "SCORE:                                                                             \n",
      "0.6419337249667924                                                                 \n",
      "Accuracy:                                                                          \n",
      "0.9287274713271436                                                                 \n",
      "7                                                                                  \n",
      " 93%|█████████▎| 93/100 [00:59<00:04,  1.42trial/s, best loss: -0.9287274713271436]"
     ]
    },
    {
     "name": "stderr",
     "output_type": "stream",
     "text": [
      "/home/andre/.local/share/virtualenvs/tentative_name-cXUp4kcY/lib/python3.9/site-packages/xgboost/sklearn.py:835: UserWarning: `eval_metric` in `fit` method is deprecated for better compatibility with scikit-learn, use `eval_metric` in constructor or`set_params` instead.\n",
      "  warnings.warn(\n",
      "\n",
      "/home/andre/.local/share/virtualenvs/tentative_name-cXUp4kcY/lib/python3.9/site-packages/xgboost/sklearn.py:835: UserWarning: `early_stopping_rounds` in `fit` method is deprecated for better compatibility with scikit-learn, use `early_stopping_rounds` in constructor or`set_params` instead.\n",
      "  warnings.warn(\n",
      "\n"
     ]
    },
    {
     "name": "stdout",
     "output_type": "stream",
     "text": [
      "SCORE:                                                                             \n",
      "0.6419337249667924                                                                 \n",
      "Accuracy:                                                                          \n",
      "0.9287274713271436                                                                 \n",
      "6                                                                                  \n",
      " 94%|█████████▍| 94/100 [00:59<00:04,  1.50trial/s, best loss: -0.9287274713271436]"
     ]
    },
    {
     "name": "stderr",
     "output_type": "stream",
     "text": [
      "/home/andre/.local/share/virtualenvs/tentative_name-cXUp4kcY/lib/python3.9/site-packages/xgboost/sklearn.py:835: UserWarning: `eval_metric` in `fit` method is deprecated for better compatibility with scikit-learn, use `eval_metric` in constructor or`set_params` instead.\n",
      "  warnings.warn(\n",
      "\n",
      "/home/andre/.local/share/virtualenvs/tentative_name-cXUp4kcY/lib/python3.9/site-packages/xgboost/sklearn.py:835: UserWarning: `early_stopping_rounds` in `fit` method is deprecated for better compatibility with scikit-learn, use `early_stopping_rounds` in constructor or`set_params` instead.\n",
      "  warnings.warn(\n",
      "\n"
     ]
    },
    {
     "name": "stdout",
     "output_type": "stream",
     "text": [
      "SCORE:                                                                             \n",
      "0.6419337249667924                                                                 \n",
      "Accuracy:                                                                          \n",
      "0.9287274713271436                                                                 \n",
      "8                                                                                  \n",
      " 95%|█████████▌| 95/100 [01:00<00:03,  1.58trial/s, best loss: -0.9287274713271436]"
     ]
    },
    {
     "name": "stderr",
     "output_type": "stream",
     "text": [
      "/home/andre/.local/share/virtualenvs/tentative_name-cXUp4kcY/lib/python3.9/site-packages/xgboost/sklearn.py:835: UserWarning: `eval_metric` in `fit` method is deprecated for better compatibility with scikit-learn, use `eval_metric` in constructor or`set_params` instead.\n",
      "  warnings.warn(\n",
      "\n",
      "/home/andre/.local/share/virtualenvs/tentative_name-cXUp4kcY/lib/python3.9/site-packages/xgboost/sklearn.py:835: UserWarning: `early_stopping_rounds` in `fit` method is deprecated for better compatibility with scikit-learn, use `early_stopping_rounds` in constructor or`set_params` instead.\n",
      "  warnings.warn(\n",
      "\n"
     ]
    },
    {
     "name": "stdout",
     "output_type": "stream",
     "text": [
      "SCORE:                                                                             \n",
      "0.6419337249667924                                                                 \n",
      "Accuracy:                                                                          \n",
      "0.9287274713271436                                                                 \n",
      "8                                                                                  \n",
      " 96%|█████████▌| 96/100 [01:01<00:02,  1.62trial/s, best loss: -0.9287274713271436]"
     ]
    },
    {
     "name": "stderr",
     "output_type": "stream",
     "text": [
      "/home/andre/.local/share/virtualenvs/tentative_name-cXUp4kcY/lib/python3.9/site-packages/xgboost/sklearn.py:835: UserWarning: `eval_metric` in `fit` method is deprecated for better compatibility with scikit-learn, use `eval_metric` in constructor or`set_params` instead.\n",
      "  warnings.warn(\n",
      "\n",
      "/home/andre/.local/share/virtualenvs/tentative_name-cXUp4kcY/lib/python3.9/site-packages/xgboost/sklearn.py:835: UserWarning: `early_stopping_rounds` in `fit` method is deprecated for better compatibility with scikit-learn, use `early_stopping_rounds` in constructor or`set_params` instead.\n",
      "  warnings.warn(\n",
      "\n"
     ]
    },
    {
     "name": "stdout",
     "output_type": "stream",
     "text": [
      "SCORE:                                                                             \n",
      "0.6419337249667924                                                                 \n",
      "Accuracy:                                                                          \n",
      "0.9287274713271436                                                                 \n",
      "8                                                                                  \n",
      " 97%|█████████▋| 97/100 [01:01<00:01,  1.64trial/s, best loss: -0.9287274713271436]"
     ]
    },
    {
     "name": "stderr",
     "output_type": "stream",
     "text": [
      "/home/andre/.local/share/virtualenvs/tentative_name-cXUp4kcY/lib/python3.9/site-packages/xgboost/sklearn.py:835: UserWarning: `eval_metric` in `fit` method is deprecated for better compatibility with scikit-learn, use `eval_metric` in constructor or`set_params` instead.\n",
      "  warnings.warn(\n",
      "\n",
      "/home/andre/.local/share/virtualenvs/tentative_name-cXUp4kcY/lib/python3.9/site-packages/xgboost/sklearn.py:835: UserWarning: `early_stopping_rounds` in `fit` method is deprecated for better compatibility with scikit-learn, use `early_stopping_rounds` in constructor or`set_params` instead.\n",
      "  warnings.warn(\n",
      "\n"
     ]
    },
    {
     "name": "stdout",
     "output_type": "stream",
     "text": [
      "SCORE:                                                                             \n",
      "0.6419337249667924                                                                 \n",
      "Accuracy:                                                                          \n",
      "0.9287274713271436                                                                 \n",
      "5                                                                                  \n",
      " 98%|█████████▊| 98/100 [01:02<00:01,  1.63trial/s, best loss: -0.9287274713271436]"
     ]
    },
    {
     "name": "stderr",
     "output_type": "stream",
     "text": [
      "/home/andre/.local/share/virtualenvs/tentative_name-cXUp4kcY/lib/python3.9/site-packages/xgboost/sklearn.py:835: UserWarning: `eval_metric` in `fit` method is deprecated for better compatibility with scikit-learn, use `eval_metric` in constructor or`set_params` instead.\n",
      "  warnings.warn(\n",
      "\n",
      "/home/andre/.local/share/virtualenvs/tentative_name-cXUp4kcY/lib/python3.9/site-packages/xgboost/sklearn.py:835: UserWarning: `early_stopping_rounds` in `fit` method is deprecated for better compatibility with scikit-learn, use `early_stopping_rounds` in constructor or`set_params` instead.\n",
      "  warnings.warn(\n",
      "\n"
     ]
    },
    {
     "name": "stdout",
     "output_type": "stream",
     "text": [
      "SCORE:                                                                             \n",
      "0.6419337249667924                                                                 \n",
      "Accuracy:                                                                          \n",
      "0.9287274713271436                                                                 \n",
      "5                                                                                  \n",
      " 99%|█████████▉| 99/100 [01:02<00:00,  1.57trial/s, best loss: -0.9287274713271436]"
     ]
    },
    {
     "name": "stderr",
     "output_type": "stream",
     "text": [
      "/home/andre/.local/share/virtualenvs/tentative_name-cXUp4kcY/lib/python3.9/site-packages/xgboost/sklearn.py:835: UserWarning: `eval_metric` in `fit` method is deprecated for better compatibility with scikit-learn, use `eval_metric` in constructor or`set_params` instead.\n",
      "  warnings.warn(\n",
      "\n",
      "/home/andre/.local/share/virtualenvs/tentative_name-cXUp4kcY/lib/python3.9/site-packages/xgboost/sklearn.py:835: UserWarning: `early_stopping_rounds` in `fit` method is deprecated for better compatibility with scikit-learn, use `early_stopping_rounds` in constructor or`set_params` instead.\n",
      "  warnings.warn(\n",
      "\n"
     ]
    },
    {
     "name": "stdout",
     "output_type": "stream",
     "text": [
      "SCORE:                                                                             \n",
      "0.6419337249667924                                                                 \n",
      "Accuracy:                                                                          \n",
      "0.9287274713271436                                                                 \n",
      "100%|██████████| 100/100 [01:03<00:00,  1.58trial/s, best loss: -0.9287274713271436]\n"
     ]
    }
   ],
   "source": [
    "trials = Trials()\n",
    "\n",
    "best_hyperparams = fmin(fn = objective,\n",
    "                        space = space,\n",
    "                        algo = tpe.suggest,\n",
    "                        max_evals = 100,\n",
    "                        trials = trials)"
   ]
  },
  {
   "cell_type": "code",
   "execution_count": 60,
   "metadata": {},
   "outputs": [
    {
     "data": {
      "text/plain": [
       "{'eta': 0, 'max_depth': 7, 'min_child_weight': 2, 'n_estimators': 147.0}"
      ]
     },
     "execution_count": 60,
     "metadata": {},
     "output_type": "execute_result"
    }
   ],
   "source": [
    "best_hyperparams"
   ]
  },
  {
   "cell_type": "code",
   "execution_count": 61,
   "metadata": {},
   "outputs": [
    {
     "name": "stdout",
     "output_type": "stream",
     "text": [
      "[02:46:18] WARNING: ../src/learner.cc:767: \n",
      "Parameters: { \"n_estimators\" } are not used.\n",
      "\n"
     ]
    }
   ],
   "source": [
    "xgb_params = {\n",
    "    'eta': 2, \n",
    "    'max_depth': 6,\n",
    "    'min_child_weight': 0,\n",
    "    'n_estimators': 126,\n",
    "\n",
    "    'objective': 'binary:logistic',\n",
    "    'eval_metric': 'auc',\n",
    "\n",
    "    'nthread': 8,\n",
    "    'seed': 1,\n",
    "    'verbosity': 1,\n",
    "}\n",
    "\n",
    "model = xgb.train(xgb_params, dtrain, num_boost_round=175)"
   ]
  },
  {
   "cell_type": "code",
   "execution_count": 62,
   "metadata": {},
   "outputs": [
    {
     "data": {
      "text/plain": [
       "0.46697469717234485"
      ]
     },
     "execution_count": 62,
     "metadata": {},
     "output_type": "execute_result"
    }
   ],
   "source": [
    "y_pred = model.predict(dval)\n",
    "roc_auc_score(y_val, y_pred)"
   ]
  }
 ],
 "metadata": {
  "kernelspec": {
   "display_name": "car-insurance",
   "language": "python",
   "name": "car-insurance"
  },
  "language_info": {
   "codemirror_mode": {
    "name": "ipython",
    "version": 3
   },
   "file_extension": ".py",
   "mimetype": "text/x-python",
   "name": "python",
   "nbconvert_exporter": "python",
   "pygments_lexer": "ipython3",
   "version": "3.9.16"
  },
  "orig_nbformat": 4,
  "vscode": {
   "interpreter": {
    "hash": "94a2c90956d4cb10e65e4e37f72600365f6eeae63a9e46d0d176e701181a23d8"
   }
  }
 },
 "nbformat": 4,
 "nbformat_minor": 2
}
