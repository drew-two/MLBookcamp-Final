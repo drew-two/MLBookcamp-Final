{
  "cells": [
    {
      "attachments": {},
      "cell_type": "markdown",
      "id": "93406166",
      "metadata": {},
      "source": [
        "# Learning Rate Testing Final\n",
        "\n",
        "\n",
        "The best model was BeitLargePatch16 with validation accuracy 0.9856114983558655.\n",
        "- We test with the BeitLargePatch16 model\n",
        "\n",
        "Here we will experiment with the results of [learning-rate-test.ipynb](./learning-rate-test.ipynb)"
      ]
    },
    {
      "cell_type": "code",
      "execution_count": 1,
      "id": "4af58b8c",
      "metadata": {},
      "outputs": [],
      "source": [
        "import mlflow\n",
        "\n",
        "import numpy as np\n",
        "import pandas as pd\n",
        "import tensorflow as tf\n",
        "import matplotlib.pyplot as plt\n",
        "\n",
        "import keras_tuner as kt\n",
        "import tensorflow_addons as tfa\n",
        "\n",
        "from tensorflow import keras\n",
        "from keras.applications import imagenet_utils\n",
        "\n",
        "from tensorflow.keras.preprocessing.image import ImageDataGenerator"
      ]
    },
    {
      "cell_type": "code",
      "execution_count": 2,
      "id": "05e8cdd0",
      "metadata": {},
      "outputs": [],
      "source": [
        "DATASET_SIZE = 9367\n",
        "IMAGE_SIZE = 224\n",
        "BATCH_SIZE = 8\n",
        "WORKERS = 4\n",
        "EPOCHS = 10\n",
        "\n",
        "BASE_PATH='../data'\n",
        "\n",
        "classes = [\n",
        "    'cup', \n",
        "    'fork', \n",
        "    'glass', \n",
        "    'knife', \n",
        "    'plate', \n",
        "    'spoon'\n",
        "]"
      ]
    },
    {
      "cell_type": "markdown",
      "id": "3669e2fd",
      "metadata": {},
      "source": [
        "First, we will load the training dataframe and split it into train and validation"
      ]
    },
    {
      "cell_type": "code",
      "execution_count": 3,
      "id": "d6dca2c5",
      "metadata": {},
      "outputs": [
        {
          "data": {
            "text/html": [
              "<div>\n",
              "<style scoped>\n",
              "    .dataframe tbody tr th:only-of-type {\n",
              "        vertical-align: middle;\n",
              "    }\n",
              "\n",
              "    .dataframe tbody tr th {\n",
              "        vertical-align: top;\n",
              "    }\n",
              "\n",
              "    .dataframe thead th {\n",
              "        text-align: right;\n",
              "    }\n",
              "</style>\n",
              "<table border=\"1\" class=\"dataframe\">\n",
              "  <thead>\n",
              "    <tr style=\"text-align: right;\">\n",
              "      <th></th>\n",
              "      <th>Id</th>\n",
              "      <th>label</th>\n",
              "      <th>filename</th>\n",
              "    </tr>\n",
              "  </thead>\n",
              "  <tbody>\n",
              "    <tr>\n",
              "      <th>0</th>\n",
              "      <td>0560</td>\n",
              "      <td>glass</td>\n",
              "      <td>data/images/0560.jpg</td>\n",
              "    </tr>\n",
              "    <tr>\n",
              "      <th>1</th>\n",
              "      <td>4675</td>\n",
              "      <td>cup</td>\n",
              "      <td>data/images/4675.jpg</td>\n",
              "    </tr>\n",
              "    <tr>\n",
              "      <th>2</th>\n",
              "      <td>0875</td>\n",
              "      <td>glass</td>\n",
              "      <td>data/images/0875.jpg</td>\n",
              "    </tr>\n",
              "    <tr>\n",
              "      <th>3</th>\n",
              "      <td>4436</td>\n",
              "      <td>spoon</td>\n",
              "      <td>data/images/4436.jpg</td>\n",
              "    </tr>\n",
              "    <tr>\n",
              "      <th>4</th>\n",
              "      <td>8265</td>\n",
              "      <td>plate</td>\n",
              "      <td>data/images/8265.jpg</td>\n",
              "    </tr>\n",
              "  </tbody>\n",
              "</table>\n",
              "</div>"
            ],
            "text/plain": [
              "     Id  label              filename\n",
              "0  0560  glass  data/images/0560.jpg\n",
              "1  4675    cup  data/images/4675.jpg\n",
              "2  0875  glass  data/images/0875.jpg\n",
              "3  4436  spoon  data/images/4436.jpg\n",
              "4  8265  plate  data/images/8265.jpg"
            ]
          },
          "execution_count": 3,
          "metadata": {},
          "output_type": "execute_result"
        }
      ],
      "source": [
        "df_train_full = pd.read_csv('data/train.csv', dtype={'Id': str})\n",
        "df_train_full['filename'] = 'data/images/' + df_train_full['Id'] + '.jpg'\n",
        "df_train_full.head()"
      ]
    },
    {
      "cell_type": "code",
      "execution_count": 4,
      "id": "32713ffa",
      "metadata": {},
      "outputs": [],
      "source": [
        "val_cutoff = int(len(df_train_full) * 0.8)\n",
        "df_train = df_train_full[:val_cutoff]\n",
        "df_val = df_train_full[val_cutoff:]"
      ]
    },
    {
      "attachments": {},
      "cell_type": "markdown",
      "id": "bbe4048e",
      "metadata": {},
      "source": [
        "## Learning Rate Search"
      ]
    },
    {
      "cell_type": "markdown",
      "id": "f4bfef22",
      "metadata": {},
      "source": [
        "Now let's create image generators"
      ]
    },
    {
      "cell_type": "code",
      "execution_count": 5,
      "id": "2caa27c8",
      "metadata": {},
      "outputs": [],
      "source": [
        "# These models don't have the imagenet preprocessing built in so I have to apply this\n",
        "def preprocess_input(x, data_format=None):\n",
        "    return imagenet_utils.preprocess_input(\n",
        "        x, data_format=data_format, mode=\"tf\"\n",
        "    )"
      ]
    },
    {
      "cell_type": "code",
      "execution_count": 6,
      "id": "c83ced9e",
      "metadata": {
        "scrolled": true
      },
      "outputs": [
        {
          "name": "stdout",
          "output_type": "stream",
          "text": [
            "Found 4447 validated image filenames belonging to 6 classes.\n",
            "Found 1112 validated image filenames belonging to 6 classes.\n"
          ]
        }
      ],
      "source": [
        "train_datagen = ImageDataGenerator(\n",
        "    preprocessing_function=preprocess_input,\n",
        "    dtype=\"float16\"\n",
        ")\n",
        "\n",
        "train_generator = train_datagen.flow_from_dataframe(\n",
        "    df_train,\n",
        "    x_col='filename',\n",
        "    y_col='label',\n",
        "    target_size=(IMAGE_SIZE, IMAGE_SIZE),\n",
        "    batch_size=BATCH_SIZE,\n",
        ")\n",
        "\n",
        "val_datagen = ImageDataGenerator(\n",
        "    preprocessing_function=preprocess_input,\n",
        "    dtype=\"float16\"\n",
        ")\n",
        "\n",
        "val_generator = val_datagen.flow_from_dataframe(\n",
        "    df_val,\n",
        "    x_col='filename',\n",
        "    y_col='label',\n",
        "    target_size=(IMAGE_SIZE, IMAGE_SIZE),\n",
        "    batch_size=BATCH_SIZE,\n",
        ")"
      ]
    },
    {
      "cell_type": "code",
      "execution_count": 7,
      "id": "0f35ac7c",
      "metadata": {},
      "outputs": [
        {
          "data": {
            "text/plain": [
              "array(['cup', 'fork', 'glass', 'knife', 'plate', 'spoon'], dtype='<U5')"
            ]
          },
          "execution_count": 7,
          "metadata": {},
          "output_type": "execute_result"
        }
      ],
      "source": [
        "classes = np.array(list(train_generator.class_indices.keys()))\n",
        "classes"
      ]
    },
    {
      "cell_type": "code",
      "execution_count": 8,
      "id": "f82948f5",
      "metadata": {},
      "outputs": [],
      "source": [
        "earlystopping = tf.keras.callbacks.EarlyStopping(\n",
        "    monitor = 'val_accuracy',\n",
        "    min_delta = 1e-4,\n",
        "    patience = 3,\n",
        "    mode = 'max',\n",
        "    restore_best_weights = True,\n",
        "    verbose = 1\n",
        ")\n",
        "\n",
        "callbacks = [earlystopping]"
      ]
    },
    {
      "attachments": {},
      "cell_type": "markdown",
      "id": "d7f3a7a3",
      "metadata": {},
      "source": [
        "## Final Search with the BEiT model:"
      ]
    },
    {
      "cell_type": "code",
      "execution_count": 9,
      "id": "905dd09e",
      "metadata": {},
      "outputs": [],
      "source": [
        "from keras_cv_attention_models import beit"
      ]
    },
    {
      "cell_type": "code",
      "execution_count": 14,
      "id": "1551db31",
      "metadata": {},
      "outputs": [],
      "source": [
        "def get_model():\n",
        "    base_model = beit.BeitLargePatch16( #BeitBasePatch16(\n",
        "        pretrained='imagenet21k-ft1k',  #weights='imagenet',\n",
        "        input_shape=(IMAGE_SIZE, IMAGE_SIZE, 3),\n",
        "        num_classes=len(classes)\n",
        "    )\n",
        "    base_model.trainable = False\n",
        "    # Removing the old classification head\n",
        "    base_model = tf.keras.Model(inputs=base_model.layers[1].input, outputs= base_model.layers[-3].output)\n",
        "\n",
        "    inputs = keras.Input(shape=(IMAGE_SIZE, IMAGE_SIZE, 3))\n",
        "    # Adding our own classification head\n",
        "    model = tf.keras.Sequential([\n",
        "        inputs,\n",
        "        base_model,\n",
        "        tf.keras.layers.Flatten(),\n",
        "        tf.keras.layers.BatchNormalization(),\n",
        "        tf.keras.layers.Dense(12, 'gelu'),\n",
        "        tf.keras.layers.BatchNormalization(),\n",
        "        tf.keras.layers.Dense(6, 'softmax')\n",
        "    ],\n",
        "    name = 'efficientnet2_xl')\n",
        "\n",
        "    return model"
      ]
    },
    {
      "cell_type": "code",
      "execution_count": 15,
      "id": "6de9e97e",
      "metadata": {},
      "outputs": [],
      "source": [
        "def build_model(hp):\n",
        "\n",
        "    model = get_model()\n",
        "\n",
        "    # Define the optimizer learning rate as a hyperparameter.\n",
        "    learning_rate = hp.Choice(\"lr\", values = [0.003, 0.001, 0.0003])\n",
        "    model.compile(\n",
        "        optimizer=keras.optimizers.Adam(learning_rate=learning_rate),\n",
        "        loss=\"categorical_crossentropy\",\n",
        "        metrics=[\"accuracy\"],\n",
        "    )\n",
        "    return model"
      ]
    },
    {
      "cell_type": "code",
      "execution_count": 16,
      "id": "34584591",
      "metadata": {},
      "outputs": [
        {
          "name": "stderr",
          "output_type": "stream",
          "text": [
            "c:\\Users\\andre\\anaconda3\\envs\\keras-attention-models\\lib\\site-packages\\keras\\initializers\\initializers_v2.py:120: UserWarning: The initializer VarianceScaling is unseeded and being called multiple times, which will return identical values  each time (even if the initializer is unseeded). Please update your code to provide a seed to the initializer, or avoid using the same initalizer instance more than once.\n",
            "  warnings.warn(\n"
          ]
        },
        {
          "name": "stdout",
          "output_type": "stream",
          "text": [
            ">>>> Load pretrained from: C:\\Users\\andre\\.keras\\models\\beit_large_patch16_224_imagenet21k-ft1k.h5\n",
            "WARNING:tensorflow:Skipping loading weights for layer #679 (named predictions) due to mismatch in shape for weight predictions/kernel:0. Weight expects shape (1024, 6). Received saved weight with shape (1024, 1000)\n",
            "WARNING:tensorflow:Skipping loading weights for layer #679 (named predictions) due to mismatch in shape for weight predictions/bias:0. Weight expects shape (6,). Received saved weight with shape (1000,)\n"
          ]
        }
      ],
      "source": [
        "EXP_NAME = 'learning_rate_search_final'\n",
        "\n",
        "tuner = kt.RandomSearch(\n",
        "    hypermodel=build_model,\n",
        "    objective=\"val_accuracy\",\n",
        "    max_trials=3,\n",
        "    executions_per_trial=1,\n",
        "    overwrite=False,\n",
        "    directory='kt_' + EXP_NAME,\n",
        "    tuner_id='kt_' + EXP_NAME,\n",
        "    project_name='kt_' + EXP_NAME,\n",
        ")"
      ]
    },
    {
      "cell_type": "code",
      "execution_count": 17,
      "id": "fc0a0f51",
      "metadata": {},
      "outputs": [
        {
          "name": "stdout",
          "output_type": "stream",
          "text": [
            "Trial 3 Complete [00h 14m 27s]\n",
            "val_accuracy: 0.9874100685119629\n",
            "\n",
            "Best val_accuracy So Far: 0.9874100685119629\n",
            "Total elapsed time: 00h 37m 39s\n",
            "INFO:tensorflow:Oracle triggered exit\n"
          ]
        }
      ],
      "source": [
        "tuner.search(\n",
        "    x = train_generator,\n",
        "    validation_data=val_generator,\n",
        "    batch_size=BATCH_SIZE,\n",
        "    epochs=EPOCHS,\n",
        "    workers=WORKERS,\n",
        "    callbacks=callbacks\n",
        ")"
      ]
    },
    {
      "cell_type": "code",
      "execution_count": 18,
      "id": "5687c5a2",
      "metadata": {},
      "outputs": [
        {
          "name": "stdout",
          "output_type": "stream",
          "text": [
            "Results summary\n",
            "Results in kt_learning_rate_search_final\\kt_learning_rate_search_final\n",
            "Showing 10 best trials\n",
            "<keras_tuner.engine.objective.Objective object at 0x0000024B7B4257F0>\n",
            "Trial summary\n",
            "Hyperparameters:\n",
            "lr: 0.0003\n",
            "Score: 0.9874100685119629\n",
            "Trial summary\n",
            "Hyperparameters:\n",
            "lr: 0.001\n",
            "Score: 0.9847122430801392\n",
            "Trial summary\n",
            "Hyperparameters:\n",
            "lr: 0.003\n",
            "Score: 0.9847122430801392\n",
            "None\n"
          ]
        }
      ],
      "source": [
        "print(tuner.results_summary())"
      ]
    },
    {
      "attachments": {},
      "cell_type": "markdown",
      "id": "f28f91b4",
      "metadata": {},
      "source": [
        "The best result was a learning rate of **0.0003**"
      ]
    }
  ],
  "metadata": {
    "kernelspec": {
      "display_name": "keras-attention-models",
      "language": "python",
      "name": "python3"
    },
    "language_info": {
      "codemirror_mode": {
        "name": "ipython",
        "version": 3
      },
      "file_extension": ".py",
      "mimetype": "text/x-python",
      "name": "python",
      "nbconvert_exporter": "python",
      "pygments_lexer": "ipython3",
      "version": "3.9.0"
    },
    "vscode": {
      "interpreter": {
        "hash": "c8dc41aeace2424cb4569389014b2eafdc0f961eabe339db958c7b7f0a6f8b70"
      }
    }
  },
  "nbformat": 4,
  "nbformat_minor": 5
}
