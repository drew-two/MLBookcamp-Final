{
  "cells": [
    {
      "attachments": {},
      "cell_type": "markdown",
      "id": "93406166",
      "metadata": {},
      "source": [
        "# DEiT/CAiT Transformer Models Experimentation"
      ]
    },
    {
      "cell_type": "code",
      "execution_count": 4,
      "id": "4af58b8c",
      "metadata": {},
      "outputs": [],
      "source": [
        "import mlflow\n",
        "\n",
        "import numpy as np\n",
        "import pandas as pd\n",
        "import tensorflow as tf\n",
        "import matplotlib.pyplot as plt\n",
        "\n",
        "from tensorflow import keras\n",
        "import tensorflow_hub as hub\n",
        "import tensorflow_addons as tfa"
      ]
    },
    {
      "cell_type": "code",
      "execution_count": 5,
      "id": "05e8cdd0",
      "metadata": {},
      "outputs": [],
      "source": [
        "DATASET_SIZE = 9367\n",
        "TRAIN_SIZE = 4447 \n",
        "VAL_SIZE = 1112\n",
        "\n",
        "IMAGE_SIZE = 224\n",
        "BATCH_SIZE = 8\n",
        "WORKERS = 4\n",
        "EPOCHS = 10\n",
        "\n",
        "BASE_PATH='../data'\n",
        "\n",
        "classes = [\n",
        "    'cup', \n",
        "    'fork', \n",
        "    'glass', \n",
        "    'knife', \n",
        "    'plate', \n",
        "    'spoon'\n",
        "]"
      ]
    },
    {
      "cell_type": "markdown",
      "id": "3669e2fd",
      "metadata": {},
      "source": [
        "First, we will load the training dataframe and split it into train and validation"
      ]
    },
    {
      "cell_type": "code",
      "execution_count": 6,
      "id": "d6dca2c5",
      "metadata": {},
      "outputs": [
        {
          "data": {
            "text/html": [
              "<div>\n",
              "<style scoped>\n",
              "    .dataframe tbody tr th:only-of-type {\n",
              "        vertical-align: middle;\n",
              "    }\n",
              "\n",
              "    .dataframe tbody tr th {\n",
              "        vertical-align: top;\n",
              "    }\n",
              "\n",
              "    .dataframe thead th {\n",
              "        text-align: right;\n",
              "    }\n",
              "</style>\n",
              "<table border=\"1\" class=\"dataframe\">\n",
              "  <thead>\n",
              "    <tr style=\"text-align: right;\">\n",
              "      <th></th>\n",
              "      <th>Id</th>\n",
              "      <th>label</th>\n",
              "      <th>filename</th>\n",
              "    </tr>\n",
              "  </thead>\n",
              "  <tbody>\n",
              "    <tr>\n",
              "      <th>0</th>\n",
              "      <td>0560</td>\n",
              "      <td>glass</td>\n",
              "      <td>data/images/0560.jpg</td>\n",
              "    </tr>\n",
              "    <tr>\n",
              "      <th>1</th>\n",
              "      <td>4675</td>\n",
              "      <td>cup</td>\n",
              "      <td>data/images/4675.jpg</td>\n",
              "    </tr>\n",
              "    <tr>\n",
              "      <th>2</th>\n",
              "      <td>0875</td>\n",
              "      <td>glass</td>\n",
              "      <td>data/images/0875.jpg</td>\n",
              "    </tr>\n",
              "    <tr>\n",
              "      <th>3</th>\n",
              "      <td>4436</td>\n",
              "      <td>spoon</td>\n",
              "      <td>data/images/4436.jpg</td>\n",
              "    </tr>\n",
              "    <tr>\n",
              "      <th>4</th>\n",
              "      <td>8265</td>\n",
              "      <td>plate</td>\n",
              "      <td>data/images/8265.jpg</td>\n",
              "    </tr>\n",
              "  </tbody>\n",
              "</table>\n",
              "</div>"
            ],
            "text/plain": [
              "     Id  label              filename\n",
              "0  0560  glass  data/images/0560.jpg\n",
              "1  4675    cup  data/images/4675.jpg\n",
              "2  0875  glass  data/images/0875.jpg\n",
              "3  4436  spoon  data/images/4436.jpg\n",
              "4  8265  plate  data/images/8265.jpg"
            ]
          },
          "execution_count": 6,
          "metadata": {},
          "output_type": "execute_result"
        }
      ],
      "source": [
        "df_train_full = pd.read_csv('data/train.csv', dtype={'Id': str})\n",
        "df_train_full['filename'] = 'data/images/' + df_train_full['Id'] + '.jpg'\n",
        "df_train_full.head()"
      ]
    },
    {
      "cell_type": "code",
      "execution_count": 7,
      "id": "32713ffa",
      "metadata": {},
      "outputs": [],
      "source": [
        "val_cutoff = int(len(df_train_full) * 0.8)\n",
        "df_train = df_train_full[:val_cutoff]\n",
        "df_val = df_train_full[val_cutoff:]"
      ]
    },
    {
      "cell_type": "markdown",
      "id": "f4bfef22",
      "metadata": {},
      "source": [
        "Now let's create image generators"
      ]
    },
    {
      "cell_type": "code",
      "execution_count": 8,
      "id": "2caa27c8",
      "metadata": {},
      "outputs": [],
      "source": [
        "from tensorflow.keras.applications.xception import Xception\n",
        "from tensorflow.keras.applications.xception import preprocess_input\n",
        "\n",
        "from tensorflow.keras.preprocessing.image import ImageDataGenerator"
      ]
    },
    {
      "cell_type": "code",
      "execution_count": 9,
      "id": "c83ced9e",
      "metadata": {
        "scrolled": true
      },
      "outputs": [],
      "source": [
        "def get_datagen(params={}):\n",
        "    \n",
        "    image_size = params.get('image_size', IMAGE_SIZE)\n",
        "    batch_size = params.get('batch_size', BATCH_SIZE)\n",
        "\n",
        "    train_datagen = tf.keras.preprocessing.image.ImageDataGenerator(\n",
        "        preprocessing_function = preprocess_input, \n",
        "        rotation_range=params.get('rotation_range', 0),\n",
        "        width_shift_range=params.get('trans_width_range', 0.0),\n",
        "        height_shift_range=params.get('trans_height_range', 0.0),\n",
        "        shear_range=params.get('shear_range', 0.0),\n",
        "        zoom_range=params.get('zoom_range', 0),\n",
        "        horizontal_flip=params.get('horizontal_flip', False),\n",
        "        vertical_flip=params.get('vertical_flip', False),\n",
        "        dtype=\"float16\"\n",
        "    )\n",
        "\n",
        "    val_datagen = tf.keras.preprocessing.image.ImageDataGenerator(\n",
        "        preprocessing_function = preprocess_input, \n",
        "        dtype=\"float16\"\n",
        "    )\n",
        "\n",
        "    \n",
        "    train_gen = train_datagen.flow_from_dataframe(\n",
        "        df_train,\n",
        "        x_col='filename',\n",
        "        y_col='label',\n",
        "        target_size=(image_size, image_size),\n",
        "        batch_size=batch_size,\n",
        "        seed=0,\n",
        "    )\n",
        "\n",
        "    val_gen = val_datagen.flow_from_dataframe(\n",
        "        df_val,\n",
        "        x_col='filename',\n",
        "        y_col='label',\n",
        "        target_size=(image_size, image_size),\n",
        "        batch_size=batch_size,\n",
        "        seed=0,\n",
        "    )\n",
        "\n",
        "    return train_gen, val_gen"
      ]
    },
    {
      "cell_type": "code",
      "execution_count": 10,
      "id": "aefe6b1f",
      "metadata": {},
      "outputs": [
        {
          "name": "stdout",
          "output_type": "stream",
          "text": [
            "Found 4447 validated image filenames belonging to 6 classes.\n",
            "Found 1112 validated image filenames belonging to 6 classes.\n"
          ]
        }
      ],
      "source": [
        "train_generator, val_generator = get_datagen({})"
      ]
    },
    {
      "cell_type": "code",
      "execution_count": 11,
      "id": "0f35ac7c",
      "metadata": {},
      "outputs": [
        {
          "data": {
            "text/plain": [
              "array(['cup', 'fork', 'glass', 'knife', 'plate', 'spoon'], dtype='<U5')"
            ]
          },
          "execution_count": 11,
          "metadata": {},
          "output_type": "execute_result"
        }
      ],
      "source": [
        "classes = np.array(list(train_generator.class_indices.keys()))\n",
        "classes"
      ]
    },
    {
      "cell_type": "code",
      "execution_count": 12,
      "id": "f82948f5",
      "metadata": {},
      "outputs": [],
      "source": [
        "earlystopping = tf.keras.callbacks.EarlyStopping(monitor = 'val_accuracy',\n",
        "                                                 min_delta = 1e-4,\n",
        "                                                 patience = 5,\n",
        "                                                 mode = 'max',\n",
        "                                                 restore_best_weights = True,\n",
        "                                                 verbose = 1)\n",
        "\n",
        "callbacks = [earlystopping]"
      ]
    },
    {
      "attachments": {},
      "cell_type": "markdown",
      "id": "37f15bb1",
      "metadata": {},
      "source": [
        "### DeiT w/ SGD Warmup\n",
        "\n",
        "Code from Tensorflow Hub: https://github.com/sayakpaul/deit-tf"
      ]
    },
    {
      "cell_type": "code",
      "execution_count": 36,
      "id": "745eb137",
      "metadata": {},
      "outputs": [],
      "source": [
        "def get_model_deit(model_url, res=IMAGE_SIZE, num_classes=len(classes)) -> tf.keras.Model:\n",
        "    inputs = tf.keras.Input((res, res, 3))\n",
        "    hub_module = hub.KerasLayer(model_url, trainable=False)\n",
        "\n",
        "    base_model_layers, _ = hub_module(inputs)   # Second output in the tuple is a dictionary containing attention scores.\n",
        "    outputs = keras.layers.Dense(num_classes, activation=\"softmax\")(base_model_layers)\n",
        "\n",
        "    # flatten         = tf.keras.layers.Flatten()(base_model_layers)\n",
        "    # batch_norm_1    = tf.keras.layers.BatchNormalization()(flatten)\n",
        "    # dense           = tf.keras.layers.Dense(12, 'gelu')(batch_norm_1)\n",
        "    # batch_norm_2    = tf.keras.layers.BatchNormalization()(dense)\n",
        "    # outputs         = tf.keras.layers.Dense(6, 'softmax')(batch_norm_2)\n",
        "    \n",
        "    return tf.keras.Model(inputs, outputs) "
      ]
    },
    {
      "cell_type": "code",
      "execution_count": 14,
      "id": "a78ce1ed",
      "metadata": {},
      "outputs": [
        {
          "name": "stdout",
          "output_type": "stream",
          "text": [
            "WARNING:tensorflow:Please fix your imports. Module tensorflow.python.training.tracking.data_structures has been moved to tensorflow.python.trackable.data_structures. The old module will be deleted in version 2.11.\n"
          ]
        }
      ],
      "source": [
        "model_gcs_path = \"http://tfhub.dev/sayakpaul/deit_base_distilled_patch16_224_fe/1\"\n",
        "model = get_model_deit(model_gcs_path)"
      ]
    },
    {
      "cell_type": "code",
      "execution_count": 15,
      "id": "62fe8a48",
      "metadata": {},
      "outputs": [],
      "source": [
        "# Reference:\n",
        "# https://www.kaggle.com/ashusma/training-rfcx-tensorflow-tpu-effnet-b2\n",
        "\n",
        "\n",
        "class WarmUpCosine(tf.keras.optimizers.schedules.LearningRateSchedule):\n",
        "    def __init__(\n",
        "        self, learning_rate_base, total_steps, warmup_learning_rate, warmup_steps\n",
        "    ):\n",
        "        super(WarmUpCosine, self).__init__()\n",
        "\n",
        "        self.learning_rate_base = learning_rate_base\n",
        "        self.total_steps = total_steps\n",
        "        self.warmup_learning_rate = warmup_learning_rate\n",
        "        self.warmup_steps = warmup_steps\n",
        "        self.pi = tf.constant(np.pi)\n",
        "\n",
        "    def __call__(self, step):\n",
        "        if self.total_steps < self.warmup_steps:\n",
        "            raise ValueError(\"Total_steps must be larger or equal to warmup_steps.\")\n",
        "        learning_rate = (\n",
        "            0.5\n",
        "            * self.learning_rate_base\n",
        "            * (\n",
        "                1\n",
        "                + tf.cos(\n",
        "                    self.pi\n",
        "                    * (tf.cast(step, tf.float32) - self.warmup_steps)\n",
        "                    / float(self.total_steps - self.warmup_steps)\n",
        "                )\n",
        "            )\n",
        "        )\n",
        "\n",
        "        if self.warmup_steps > 0:\n",
        "            if self.learning_rate_base < self.warmup_learning_rate:\n",
        "                raise ValueError(\n",
        "                    \"Learning_rate_base must be larger or equal to \"\n",
        "                    \"warmup_learning_rate.\"\n",
        "                )\n",
        "            slope = (\n",
        "                self.learning_rate_base - self.warmup_learning_rate\n",
        "            ) / self.warmup_steps\n",
        "            warmup_rate = slope * tf.cast(step, tf.float32) + self.warmup_learning_rate\n",
        "            learning_rate = tf.where(\n",
        "                step < self.warmup_steps, warmup_rate, learning_rate\n",
        "            )\n",
        "        return tf.where(\n",
        "            step > self.total_steps, 0.0, learning_rate, name=\"learning_rate\"\n",
        "        )"
      ]
    },
    {
      "attachments": {},
      "cell_type": "markdown",
      "id": "d4b2d56e",
      "metadata": {},
      "source": [
        "SGD w/ Warmup:"
      ]
    },
    {
      "cell_type": "code",
      "execution_count": 16,
      "id": "dabf5989",
      "metadata": {},
      "outputs": [],
      "source": [
        "EPOCHS = 10\n",
        "WARMUP_STEPS = 10\n",
        "INIT_LR = 0.03\n",
        "WAMRUP_LR = 0.006\n",
        "\n",
        "TOTAL_STEPS = int((TRAIN_SIZE / BATCH_SIZE) * EPOCHS)"
      ]
    },
    {
      "cell_type": "code",
      "execution_count": 17,
      "id": "8cebcf07",
      "metadata": {},
      "outputs": [],
      "source": [
        "scheduled_lrs = WarmUpCosine(\n",
        "    learning_rate_base=INIT_LR,\n",
        "    total_steps=TOTAL_STEPS,\n",
        "    warmup_learning_rate=WAMRUP_LR,\n",
        "    warmup_steps=WARMUP_STEPS,\n",
        ")\n",
        "\n",
        "# lrs = [scheduled_lrs(step) for step in range(TOTAL_STEPS)]\n",
        "# plt.figure(figsize=(10, 6))\n",
        "# plt.plot(lrs)\n",
        "# plt.xlabel(\"Step\", fontsize=14)\n",
        "# plt.ylabel(\"LR\", fontsize=14)\n",
        "# plt.show()\n"
      ]
    },
    {
      "cell_type": "code",
      "execution_count": 17,
      "id": "9731ce4c",
      "metadata": {},
      "outputs": [],
      "source": [
        "loss = keras.losses.CategoricalCrossentropy()\n",
        "optimizer = keras.optimizers.SGD(scheduled_lrs)\n",
        "\n",
        "model.compile(optimizer=optimizer, loss=loss, metrics=['accuracy'])"
      ]
    },
    {
      "cell_type": "code",
      "execution_count": 18,
      "id": "5c20c933",
      "metadata": {},
      "outputs": [
        {
          "name": "stdout",
          "output_type": "stream",
          "text": [
            "Epoch 1/10\n",
            "556/556 [==============================] - 104s 158ms/step - loss: 0.2603 - accuracy: 0.9226 - val_loss: 0.1191 - val_accuracy: 0.9631\n",
            "Epoch 2/10\n",
            "556/556 [==============================] - 45s 80ms/step - loss: 0.0993 - accuracy: 0.9685 - val_loss: 0.1057 - val_accuracy: 0.9703\n",
            "Epoch 3/10\n",
            "556/556 [==============================] - 45s 80ms/step - loss: 0.0785 - accuracy: 0.9755 - val_loss: 0.1234 - val_accuracy: 0.9613\n",
            "Epoch 4/10\n",
            "556/556 [==============================] - 45s 80ms/step - loss: 0.0596 - accuracy: 0.9831 - val_loss: 0.1368 - val_accuracy: 0.9577\n",
            "Epoch 5/10\n",
            "556/556 [==============================] - 45s 80ms/step - loss: 0.0504 - accuracy: 0.9879 - val_loss: 0.0976 - val_accuracy: 0.9694\n",
            "Epoch 6/10\n",
            "556/556 [==============================] - 45s 80ms/step - loss: 0.0432 - accuracy: 0.9908 - val_loss: 0.1011 - val_accuracy: 0.9676\n",
            "Epoch 7/10\n",
            "556/556 [==============================] - ETA: 0s - loss: 0.0394 - accuracy: 0.9915Restoring model weights from the end of the best epoch: 2.\n",
            "556/556 [==============================] - 45s 81ms/step - loss: 0.0394 - accuracy: 0.9915 - val_loss: 0.1007 - val_accuracy: 0.9685\n",
            "Epoch 7: early stopping\n"
          ]
        }
      ],
      "source": [
        "history = model.fit(\n",
        "    x = train_generator,\n",
        "    validation_data=val_generator,\n",
        "    batch_size=BATCH_SIZE,\n",
        "    epochs=EPOCHS,\n",
        "    workers=WORKERS,\n",
        "    callbacks=callbacks\n",
        ")"
      ]
    },
    {
      "attachments": {},
      "cell_type": "markdown",
      "id": "42548c75",
      "metadata": {},
      "source": [
        "Adam:"
      ]
    },
    {
      "cell_type": "code",
      "execution_count": 18,
      "id": "51feb369",
      "metadata": {},
      "outputs": [],
      "source": [
        "learning_rate = 0.01\n",
        "optimizer = keras.optimizers.Adam(learning_rate=learning_rate)\n",
        "loss = keras.losses.CategoricalCrossentropy()\n",
        "\n",
        "model.compile(optimizer=optimizer, loss=loss, metrics=['accuracy'])"
      ]
    },
    {
      "cell_type": "code",
      "execution_count": 19,
      "id": "c3fef6fd",
      "metadata": {},
      "outputs": [
        {
          "name": "stdout",
          "output_type": "stream",
          "text": [
            "Epoch 1/10\n",
            "556/556 [==============================] - 60s 88ms/step - loss: 0.3032 - accuracy: 0.9337 - val_loss: 0.2568 - val_accuracy: 0.9604\n",
            "Epoch 2/10\n",
            "556/556 [==============================] - 49s 89ms/step - loss: 0.1484 - accuracy: 0.9712 - val_loss: 0.3433 - val_accuracy: 0.9568\n",
            "Epoch 3/10\n",
            "556/556 [==============================] - 45s 81ms/step - loss: 0.1254 - accuracy: 0.9771 - val_loss: 0.3304 - val_accuracy: 0.9496\n",
            "Epoch 4/10\n",
            "556/556 [==============================] - 45s 81ms/step - loss: 0.1128 - accuracy: 0.9807 - val_loss: 0.3048 - val_accuracy: 0.9649\n",
            "Epoch 5/10\n",
            "556/556 [==============================] - 45s 81ms/step - loss: 0.1237 - accuracy: 0.9795 - val_loss: 0.3493 - val_accuracy: 0.9550\n",
            "Epoch 6/10\n",
            "556/556 [==============================] - 45s 81ms/step - loss: 0.0915 - accuracy: 0.9829 - val_loss: 0.3968 - val_accuracy: 0.9595\n",
            "Epoch 7/10\n",
            "556/556 [==============================] - 45s 81ms/step - loss: 0.0486 - accuracy: 0.9908 - val_loss: 0.4553 - val_accuracy: 0.9559\n",
            "Epoch 8/10\n",
            "556/556 [==============================] - 45s 81ms/step - loss: 0.0958 - accuracy: 0.9831 - val_loss: 0.5529 - val_accuracy: 0.9595\n",
            "Epoch 9/10\n",
            "556/556 [==============================] - ETA: 0s - loss: 0.0626 - accuracy: 0.9890Restoring model weights from the end of the best epoch: 4.\n",
            "556/556 [==============================] - 45s 81ms/step - loss: 0.0626 - accuracy: 0.9890 - val_loss: 0.4842 - val_accuracy: 0.9586\n",
            "Epoch 9: early stopping\n"
          ]
        }
      ],
      "source": [
        "history = model.fit(\n",
        "    x = train_generator,\n",
        "    validation_data=val_generator,\n",
        "    batch_size=BATCH_SIZE,\n",
        "    epochs=EPOCHS,\n",
        "    workers=WORKERS,\n",
        "    callbacks=callbacks\n",
        ")"
      ]
    },
    {
      "attachments": {},
      "cell_type": "markdown",
      "id": "15a7778f",
      "metadata": {},
      "source": [
        "### CAiT w/ AdamW:\n",
        "\n",
        "Code from Tensorflow Hub: https://github.com/sayakpaul/cait-tf"
      ]
    },
    {
      "cell_type": "code",
      "execution_count": 29,
      "id": "831fa773",
      "metadata": {},
      "outputs": [
        {
          "data": {
            "image/png": "[encoded data removed]",
            "text/plain": [
              "<Figure size 640x480 with 1 Axes>"
            ]
          },
          "metadata": {},
          "output_type": "display_data"
        }
      ],
      "source": [
        "EPOCHS = 10\n",
        "\n",
        "start_lr = 0.00001\n",
        "min_lr = 0.00001\n",
        "max_lr = 0.0002\n",
        "rampup_epochs = 5\n",
        "sustain_epochs = 0\n",
        "exp_decay = 0.8\n",
        "\n",
        "\n",
        "def lrfn(epoch):\n",
        "    def lr(epoch, start_lr, min_lr, max_lr, rampup_epochs, sustain_epochs, exp_decay):\n",
        "        if epoch < rampup_epochs:\n",
        "            lr = (max_lr - start_lr) / rampup_epochs * epoch + start_lr\n",
        "        elif epoch < rampup_epochs + sustain_epochs:\n",
        "            lr = max_lr\n",
        "        else:\n",
        "            lr = (max_lr - min_lr) * exp_decay ** (\n",
        "                epoch - rampup_epochs - sustain_epochs\n",
        "            ) + min_lr\n",
        "        return lr\n",
        "\n",
        "    return lr(epoch, start_lr, min_lr, max_lr, rampup_epochs, sustain_epochs, exp_decay)\n",
        "\n",
        "\n",
        "lr_callback = keras.callbacks.LearningRateScheduler(\n",
        "    lambda epoch: lrfn(epoch), verbose=True\n",
        ")\n",
        "\n",
        "rng = [i for i in range(EPOCHS)]\n",
        "y = [lrfn(x) for x in rng]\n",
        "plt.plot(rng, [lrfn(x) for x in rng])\n",
        "plt.show()"
      ]
    },
    {
      "cell_type": "code",
      "execution_count": 37,
      "id": "89735761",
      "metadata": {},
      "outputs": [],
      "source": [
        "model_gcs_path = \"https://tfhub.dev/sayakpaul/cait_xxs36_224_fe/1\"  \n",
        "model = get_model_cait(model_gcs_path, res=224)"
      ]
    },
    {
      "cell_type": "code",
      "execution_count": 38,
      "id": "e2276571",
      "metadata": {},
      "outputs": [],
      "source": [
        "optimizer = tfa.optimizers.AdamW(weight_decay=1e-5)\n",
        "loss = keras.losses.CategoricalCrossentropy()\n",
        "\n",
        "model.compile(optimizer=optimizer, loss=loss, metrics=['accuracy'])"
      ]
    },
    {
      "cell_type": "code",
      "execution_count": 39,
      "id": "58b74e0a",
      "metadata": {},
      "outputs": [],
      "source": [
        "callbacks.append(lr_callback)"
      ]
    },
    {
      "cell_type": "code",
      "execution_count": 40,
      "id": "e3fd7232",
      "metadata": {},
      "outputs": [
        {
          "name": "stdout",
          "output_type": "stream",
          "text": [
            "\n",
            "Epoch 1: LearningRateScheduler setting learning rate to 1e-05.\n",
            "\n",
            "Epoch 1: LearningRateScheduler setting learning rate to 1e-05.\n",
            "Epoch 1/10\n",
            "556/556 [==============================] - 197s 281ms/step - loss: 0.3319 - accuracy: 0.8871 - val_loss: 0.1320 - val_accuracy: 0.9613 - lr: 1.0000e-05\n",
            "\n",
            "Epoch 2: LearningRateScheduler setting learning rate to 4.8e-05.\n",
            "\n",
            "Epoch 2: LearningRateScheduler setting learning rate to 4.8e-05.\n",
            "Epoch 2/10\n",
            "556/556 [==============================] - 148s 266ms/step - loss: 0.1065 - accuracy: 0.9660 - val_loss: 0.1401 - val_accuracy: 0.9568 - lr: 4.8000e-05\n",
            "\n",
            "Epoch 3: LearningRateScheduler setting learning rate to 8.6e-05.\n",
            "\n",
            "Epoch 3: LearningRateScheduler setting learning rate to 8.6e-05.\n",
            "Epoch 3/10\n",
            "556/556 [==============================] - 150s 270ms/step - loss: 0.1166 - accuracy: 0.9656 - val_loss: 0.1856 - val_accuracy: 0.9478 - lr: 8.6000e-05\n",
            "\n",
            "Epoch 4: LearningRateScheduler setting learning rate to 0.000124.\n",
            "\n",
            "Epoch 4: LearningRateScheduler setting learning rate to 0.000124.\n",
            "Epoch 4/10\n",
            "556/556 [==============================] - 151s 272ms/step - loss: 0.1111 - accuracy: 0.9683 - val_loss: 0.2321 - val_accuracy: 0.9451 - lr: 1.2400e-04\n",
            "\n",
            "Epoch 5: LearningRateScheduler setting learning rate to 0.000162.\n",
            "\n",
            "Epoch 5: LearningRateScheduler setting learning rate to 0.000162.\n",
            "Epoch 5/10\n",
            "556/556 [==============================] - 153s 275ms/step - loss: 0.1987 - accuracy: 0.9388 - val_loss: 0.1842 - val_accuracy: 0.9442 - lr: 1.6200e-04\n",
            "\n",
            "Epoch 6: LearningRateScheduler setting learning rate to 0.0002.\n",
            "\n",
            "Epoch 6: LearningRateScheduler setting learning rate to 0.0002.\n",
            "Epoch 6/10\n",
            "556/556 [==============================] - ETA: 0s - loss: 0.1478 - accuracy: 0.9532Restoring model weights from the end of the best epoch: 1.\n",
            "556/556 [==============================] - 158s 284ms/step - loss: 0.1478 - accuracy: 0.9532 - val_loss: 0.2371 - val_accuracy: 0.9281 - lr: 2.0000e-04\n",
            "Epoch 6: early stopping\n"
          ]
        }
      ],
      "source": [
        "history = model.fit(\n",
        "    x = train_generator,\n",
        "    validation_data=val_generator,\n",
        "    batch_size=BATCH_SIZE,\n",
        "    epochs=EPOCHS,\n",
        "    workers=WORKERS,\n",
        "    callbacks=callbacks\n",
        ")"
      ]
    }
  ],
  "metadata": {
    "kernelspec": {
      "display_name": "py-39-tf-2.10",
      "language": "python",
      "name": "python3"
    },
    "language_info": {
      "codemirror_mode": {
        "name": "ipython",
        "version": 3
      },
      "file_extension": ".py",
      "mimetype": "text/x-python",
      "name": "python",
      "nbconvert_exporter": "python",
      "pygments_lexer": "ipython3",
      "version": "3.9.0"
    },
    "vscode": {
      "interpreter": {
        "hash": "f55e75aed3a0cf5024464fbc8e31675ba942646c9cd79dbaff3424bb49495c78"
      }
    }
  },
  "nbformat": 4,
  "nbformat_minor": 5
}
