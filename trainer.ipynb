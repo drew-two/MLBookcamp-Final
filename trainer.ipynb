{
 "cells": [
  {
   "cell_type": "markdown",
   "id": "93406166",
   "metadata": {},
   "source": [
    "# Trainer\n",
    "\n",
    "Using the DEiT small model here (DEiT Small Distilled Patch 16, Image size 244 x 244) in the interest of time and space for deployment"
   ]
  },
  {
   "cell_type": "code",
   "execution_count": 1,
   "id": "4af58b8c",
   "metadata": {},
   "outputs": [
    {
     "name": "stderr",
     "output_type": "stream",
     "text": [
      "2022-12-19 03:15:29.854552: I tensorflow/core/platform/cpu_feature_guard.cc:193] This TensorFlow binary is optimized with oneAPI Deep Neural Network Library (oneDNN) to use the following CPU instructions in performance-critical operations:  AVX2 FMA\n",
      "To enable them in other operations, rebuild TensorFlow with the appropriate compiler flags.\n",
      "2022-12-19 03:15:30.769921: W tensorflow/compiler/xla/stream_executor/platform/default/dso_loader.cc:64] Could not load dynamic library 'libnvinfer.so.7'; dlerror: libnvinfer.so.7: cannot open shared object file: No such file or directory; LD_LIBRARY_PATH: :/usr/local/cuda-11/lib64/\n",
      "2022-12-19 03:15:30.772163: W tensorflow/compiler/xla/stream_executor/platform/default/dso_loader.cc:64] Could not load dynamic library 'libnvinfer_plugin.so.7'; dlerror: libnvinfer_plugin.so.7: cannot open shared object file: No such file or directory; LD_LIBRARY_PATH: :/usr/local/cuda-11/lib64/\n",
      "2022-12-19 03:15:30.772195: W tensorflow/compiler/tf2tensorrt/utils/py_utils.cc:38] TF-TRT Warning: Cannot dlopen some TensorRT libraries. If you would like to use Nvidia GPU with TensorRT, please make sure the missing libraries mentioned above are installed properly.\n"
     ]
    }
   ],
   "source": [
    "import bentoml\n",
    "\n",
    "import numpy as np\n",
    "import pandas as pd\n",
    "import tensorflow as tf\n",
    "import tensorflow_hub as hub\n",
    "\n",
    "from tensorflow import keras\n",
    "from keras.applications import imagenet_utils\n",
    "\n",
    "from tensorflow.keras.preprocessing.image import ImageDataGenerator"
   ]
  },
  {
   "cell_type": "code",
   "execution_count": 2,
   "id": "05e8cdd0",
   "metadata": {},
   "outputs": [],
   "source": [
    "DATASET_SIZE = 9367\n",
    "IMAGE_SIZE = 224\n",
    "BATCH_SIZE = 8\n",
    "WORKERS = 4\n",
    "EPOCHS = 10\n",
    "\n",
    "BASE_PATH='./data'\n",
    "\n",
    "classes = [\n",
    "    'cup', \n",
    "    'fork', \n",
    "    'glass', \n",
    "    'knife', \n",
    "    'plate', \n",
    "    'spoon'\n",
    "]"
   ]
  },
  {
   "cell_type": "markdown",
   "id": "3669e2fd",
   "metadata": {},
   "source": [
    "First, we will load the training dataframe and split it into train and validation"
   ]
  },
  {
   "cell_type": "code",
   "execution_count": 3,
   "id": "d6dca2c5",
   "metadata": {},
   "outputs": [
    {
     "data": {
      "text/html": [
       "<div>\n",
       "<style scoped>\n",
       "    .dataframe tbody tr th:only-of-type {\n",
       "        vertical-align: middle;\n",
       "    }\n",
       "\n",
       "    .dataframe tbody tr th {\n",
       "        vertical-align: top;\n",
       "    }\n",
       "\n",
       "    .dataframe thead th {\n",
       "        text-align: right;\n",
       "    }\n",
       "</style>\n",
       "<table border=\"1\" class=\"dataframe\">\n",
       "  <thead>\n",
       "    <tr style=\"text-align: right;\">\n",
       "      <th></th>\n",
       "      <th>Id</th>\n",
       "      <th>label</th>\n",
       "      <th>filename</th>\n",
       "    </tr>\n",
       "  </thead>\n",
       "  <tbody>\n",
       "    <tr>\n",
       "      <th>0</th>\n",
       "      <td>0560</td>\n",
       "      <td>glass</td>\n",
       "      <td>data/images/0560.jpg</td>\n",
       "    </tr>\n",
       "    <tr>\n",
       "      <th>1</th>\n",
       "      <td>4675</td>\n",
       "      <td>cup</td>\n",
       "      <td>data/images/4675.jpg</td>\n",
       "    </tr>\n",
       "    <tr>\n",
       "      <th>2</th>\n",
       "      <td>0875</td>\n",
       "      <td>glass</td>\n",
       "      <td>data/images/0875.jpg</td>\n",
       "    </tr>\n",
       "    <tr>\n",
       "      <th>3</th>\n",
       "      <td>4436</td>\n",
       "      <td>spoon</td>\n",
       "      <td>data/images/4436.jpg</td>\n",
       "    </tr>\n",
       "    <tr>\n",
       "      <th>4</th>\n",
       "      <td>8265</td>\n",
       "      <td>plate</td>\n",
       "      <td>data/images/8265.jpg</td>\n",
       "    </tr>\n",
       "  </tbody>\n",
       "</table>\n",
       "</div>"
      ],
      "text/plain": [
       "     Id  label              filename\n",
       "0  0560  glass  data/images/0560.jpg\n",
       "1  4675    cup  data/images/4675.jpg\n",
       "2  0875  glass  data/images/0875.jpg\n",
       "3  4436  spoon  data/images/4436.jpg\n",
       "4  8265  plate  data/images/8265.jpg"
      ]
     },
     "execution_count": 3,
     "metadata": {},
     "output_type": "execute_result"
    }
   ],
   "source": [
    "df_train_full = pd.read_csv('data/train.csv', dtype={'Id': str})\n",
    "df_train_full['filename'] = 'data/images/' + df_train_full['Id'] + '.jpg'\n",
    "df_train_full.head()"
   ]
  },
  {
   "cell_type": "code",
   "execution_count": 4,
   "id": "32713ffa",
   "metadata": {},
   "outputs": [],
   "source": [
    "val_cutoff = int(len(df_train_full) * 0.8)\n",
    "df_train = df_train_full[:val_cutoff]\n",
    "df_val = df_train_full[val_cutoff:]"
   ]
  },
  {
   "cell_type": "markdown",
   "id": "bbe4048e",
   "metadata": {},
   "source": [
    "## Training"
   ]
  },
  {
   "cell_type": "markdown",
   "id": "f4bfef22",
   "metadata": {},
   "source": [
    "Now let's create image generators"
   ]
  },
  {
   "cell_type": "code",
   "execution_count": 5,
   "id": "2caa27c8",
   "metadata": {},
   "outputs": [],
   "source": [
    "# These models don't have the imagenet preprocessing built in so I have to apply this\n",
    "def preprocess_input(x, data_format=None):\n",
    "    return imagenet_utils.preprocess_input(\n",
    "        x, data_format=data_format, mode=\"tf\"\n",
    "    )"
   ]
  },
  {
   "cell_type": "code",
   "execution_count": 6,
   "id": "c83ced9e",
   "metadata": {
    "scrolled": true
   },
   "outputs": [
    {
     "name": "stdout",
     "output_type": "stream",
     "text": [
      "Found 4447 validated image filenames belonging to 6 classes.\n",
      "Found 1112 validated image filenames belonging to 6 classes.\n"
     ]
    }
   ],
   "source": [
    "train_datagen = ImageDataGenerator(\n",
    "    preprocessing_function=preprocess_input,\n",
    "    dtype=\"float16\"\n",
    ")\n",
    "\n",
    "train_generator = train_datagen.flow_from_dataframe(\n",
    "    df_train,\n",
    "    x_col='filename',\n",
    "    y_col='label',\n",
    "    target_size=(IMAGE_SIZE, IMAGE_SIZE),\n",
    "    batch_size=BATCH_SIZE,\n",
    ")\n",
    "\n",
    "val_datagen = ImageDataGenerator(\n",
    "    preprocessing_function=preprocess_input,\n",
    "    dtype=\"float16\"\n",
    ")\n",
    "\n",
    "val_generator = val_datagen.flow_from_dataframe(\n",
    "    df_val,\n",
    "    x_col='filename',\n",
    "    y_col='label',\n",
    "    target_size=(IMAGE_SIZE, IMAGE_SIZE),\n",
    "    batch_size=BATCH_SIZE,\n",
    ")"
   ]
  },
  {
   "cell_type": "code",
   "execution_count": 7,
   "id": "0f35ac7c",
   "metadata": {},
   "outputs": [
    {
     "data": {
      "text/plain": [
       "array(['cup', 'fork', 'glass', 'knife', 'plate', 'spoon'], dtype='<U5')"
      ]
     },
     "execution_count": 7,
     "metadata": {},
     "output_type": "execute_result"
    }
   ],
   "source": [
    "classes = np.array(list(train_generator.class_indices.keys()))\n",
    "classes"
   ]
  },
  {
   "cell_type": "code",
   "execution_count": 8,
   "id": "f82948f5",
   "metadata": {},
   "outputs": [],
   "source": [
    "earlystopping = tf.keras.callbacks.EarlyStopping(\n",
    "    monitor = 'val_accuracy',\n",
    "    min_delta = 1e-4,\n",
    "    patience = 3,\n",
    "    mode = 'max',\n",
    "    restore_best_weights = True,\n",
    "    verbose = 1\n",
    ")\n",
    "\n",
    "checkpoint = keras.callbacks.ModelCheckpoint(\n",
    "    'deit_s_d_p16_224_{epoch:02d}_{val_accuracy:.3f}.h5',\n",
    "    save_best_only=True,\n",
    "    save_weights_only=False,\n",
    "    monitor='val_accuracy',\n",
    "    mode='max'\n",
    ")\n",
    "\n",
    "callbacks = [earlystopping, checkpoint]"
   ]
  },
  {
   "cell_type": "code",
   "execution_count": 9,
   "id": "416ccb4c",
   "metadata": {},
   "outputs": [],
   "source": [
    "def get_model_deit(model_url, res=IMAGE_SIZE, num_classes=len(classes)) -> tf.keras.Model:\n",
    "    inputs = tf.keras.Input((res, res, 3))\n",
    "    hub_module = hub.KerasLayer(model_url, trainable=False)\n",
    "\n",
    "    base_model_layers, _ = hub_module(inputs)   # Second output in the tuple is a dictionary containing attention scores.\n",
    "    outputs = keras.layers.Dense(num_classes, activation=\"softmax\")(base_model_layers)\n",
    "    \n",
    "    return tf.keras.Model(inputs, outputs) "
   ]
  },
  {
   "attachments": {},
   "cell_type": "markdown",
   "id": "2a3d6e50",
   "metadata": {},
   "source": [
    "Warnings are normal; the pre-trained weights for the original classifications heads are being skipped."
   ]
  },
  {
   "cell_type": "code",
   "execution_count": 10,
   "id": "7a7a80f8",
   "metadata": {},
   "outputs": [],
   "source": [
    "def build_model():\n",
    "    model_gcs_path = \"http://tfhub.dev/sayakpaul/deit_base_distilled_patch16_224_fe/1\"\n",
    "    model = get_model_deit(model_gcs_path)\n",
    "\n",
    "    # Define the optimizer learning rate as a hyperparameter.\n",
    "    learning_rate = 1e-2\n",
    "    model.compile(\n",
    "        optimizer=keras.optimizers.Adam(learning_rate=learning_rate),\n",
    "        loss=\"categorical_crossentropy\",\n",
    "        metrics=[\"accuracy\"],\n",
    "    )\n",
    "    return model"
   ]
  },
  {
   "cell_type": "code",
   "execution_count": 11,
   "id": "07137ea7",
   "metadata": {},
   "outputs": [
    {
     "name": "stdout",
     "output_type": "stream",
     "text": [
      "WARNING:tensorflow:Please fix your imports. Module tensorflow.python.training.tracking.data_structures has been moved to tensorflow.python.trackable.data_structures. The old module will be deleted in version 2.11.\n"
     ]
    },
    {
     "name": "stderr",
     "output_type": "stream",
     "text": [
      "2022-12-19 03:15:41.237133: I tensorflow/compiler/xla/stream_executor/cuda/cuda_gpu_executor.cc:967] could not open file to read NUMA node: /sys/bus/pci/devices/0000:01:00.0/numa_node\n",
      "Your kernel may have been built without NUMA support.\n",
      "2022-12-19 03:15:41.256940: I tensorflow/compiler/xla/stream_executor/cuda/cuda_gpu_executor.cc:967] could not open file to read NUMA node: /sys/bus/pci/devices/0000:01:00.0/numa_node\n",
      "Your kernel may have been built without NUMA support.\n",
      "2022-12-19 03:15:41.257192: I tensorflow/compiler/xla/stream_executor/cuda/cuda_gpu_executor.cc:967] could not open file to read NUMA node: /sys/bus/pci/devices/0000:01:00.0/numa_node\n",
      "Your kernel may have been built without NUMA support.\n",
      "2022-12-19 03:15:41.257554: I tensorflow/core/platform/cpu_feature_guard.cc:193] This TensorFlow binary is optimized with oneAPI Deep Neural Network Library (oneDNN) to use the following CPU instructions in performance-critical operations:  AVX2 FMA\n",
      "To enable them in other operations, rebuild TensorFlow with the appropriate compiler flags.\n",
      "2022-12-19 03:15:41.259782: I tensorflow/compiler/xla/stream_executor/cuda/cuda_gpu_executor.cc:967] could not open file to read NUMA node: /sys/bus/pci/devices/0000:01:00.0/numa_node\n",
      "Your kernel may have been built without NUMA support.\n",
      "2022-12-19 03:15:41.260057: I tensorflow/compiler/xla/stream_executor/cuda/cuda_gpu_executor.cc:967] could not open file to read NUMA node: /sys/bus/pci/devices/0000:01:00.0/numa_node\n",
      "Your kernel may have been built without NUMA support.\n",
      "2022-12-19 03:15:41.260257: I tensorflow/compiler/xla/stream_executor/cuda/cuda_gpu_executor.cc:967] could not open file to read NUMA node: /sys/bus/pci/devices/0000:01:00.0/numa_node\n",
      "Your kernel may have been built without NUMA support.\n",
      "2022-12-19 03:15:42.191895: I tensorflow/compiler/xla/stream_executor/cuda/cuda_gpu_executor.cc:967] could not open file to read NUMA node: /sys/bus/pci/devices/0000:01:00.0/numa_node\n",
      "Your kernel may have been built without NUMA support.\n",
      "2022-12-19 03:15:42.192142: I tensorflow/compiler/xla/stream_executor/cuda/cuda_gpu_executor.cc:967] could not open file to read NUMA node: /sys/bus/pci/devices/0000:01:00.0/numa_node\n",
      "Your kernel may have been built without NUMA support.\n",
      "2022-12-19 03:15:42.192154: I tensorflow/core/common_runtime/gpu/gpu_device.cc:1700] Could not identify NUMA node of platform GPU id 0, defaulting to 0.  Your kernel may not have been built with NUMA support.\n",
      "2022-12-19 03:15:42.192355: I tensorflow/compiler/xla/stream_executor/cuda/cuda_gpu_executor.cc:967] could not open file to read NUMA node: /sys/bus/pci/devices/0000:01:00.0/numa_node\n",
      "Your kernel may have been built without NUMA support.\n",
      "2022-12-19 03:15:42.192397: I tensorflow/core/common_runtime/gpu/gpu_device.cc:1613] Created device /job:localhost/replica:0/task:0/device:GPU:0 with 5395 MB memory:  -> device: 0, name: NVIDIA GeForce RTX 3070, pci bus id: 0000:01:00.0, compute capability: 8.6\n"
     ]
    },
    {
     "name": "stdout",
     "output_type": "stream",
     "text": [
      "WARNING:tensorflow:From /home/andre/anaconda3/envs/kitchenware-classification/lib/python3.9/site-packages/tensorflow/python/autograph/pyct/static_analysis/liveness.py:83: Analyzer.lamba_check (from tensorflow.python.autograph.pyct.static_analysis.liveness) is deprecated and will be removed after 2023-09-23.\n",
      "Instructions for updating:\n",
      "Lambda fuctions will be no more assumed to be used in the statement where they are used, or at least in the same block. https://github.com/tensorflow/tensorflow/issues/56089\n"
     ]
    },
    {
     "name": "stderr",
     "output_type": "stream",
     "text": [
      "WARNING:tensorflow:From /home/andre/anaconda3/envs/kitchenware-classification/lib/python3.9/site-packages/tensorflow/python/autograph/pyct/static_analysis/liveness.py:83: Analyzer.lamba_check (from tensorflow.python.autograph.pyct.static_analysis.liveness) is deprecated and will be removed after 2023-09-23.\n",
      "Instructions for updating:\n",
      "Lambda fuctions will be no more assumed to be used in the statement where they are used, or at least in the same block. https://github.com/tensorflow/tensorflow/issues/56089\n"
     ]
    }
   ],
   "source": [
    "model = build_model()"
   ]
  },
  {
   "cell_type": "code",
   "execution_count": 12,
   "id": "0e846ae7",
   "metadata": {},
   "outputs": [
    {
     "name": "stdout",
     "output_type": "stream",
     "text": [
      "Epoch 1/10\n"
     ]
    },
    {
     "name": "stderr",
     "output_type": "stream",
     "text": [
      "2022-12-19 03:15:58.733548: I tensorflow/compiler/xla/stream_executor/cuda/cuda_dnn.cc:428] Loaded cuDNN version 8100\n",
      "2022-12-19 03:16:01.021057: I tensorflow/tsl/platform/default/subprocess.cc:304] Start cannot spawn child process: No such file or directory\n",
      "2022-12-19 03:16:04.280256: I tensorflow/compiler/xla/stream_executor/cuda/cuda_blas.cc:630] TensorFloat-32 will be used for the matrix multiplication. This will only be logged once.\n",
      "2022-12-19 03:16:04.531486: I tensorflow/compiler/xla/service/service.cc:173] XLA service 0x556dffb7d350 initialized for platform CUDA (this does not guarantee that XLA will be used). Devices:\n",
      "2022-12-19 03:16:04.531555: I tensorflow/compiler/xla/service/service.cc:181]   StreamExecutor device (0): NVIDIA GeForce RTX 3070, Compute Capability 8.6\n",
      "2022-12-19 03:16:04.568026: I tensorflow/compiler/mlir/tensorflow/utils/dump_mlir_util.cc:268] disabling MLIR crash reproducer, set env var `MLIR_CRASH_REPRODUCER_DIRECTORY` to enable.\n",
      "2022-12-19 03:16:05.005978: I tensorflow/tsl/platform/default/subprocess.cc:304] Start cannot spawn child process: No such file or directory\n",
      "2022-12-19 03:16:05.111165: I tensorflow/compiler/jit/xla_compilation_cache.cc:477] Compiled cluster using XLA!  This line is logged at most once for the lifetime of the process.\n"
     ]
    },
    {
     "name": "stdout",
     "output_type": "stream",
     "text": [
      "556/556 [==============================] - 93s 140ms/step - loss: 0.2853 - accuracy: 0.9395 - val_loss: 0.2532 - val_accuracy: 0.9550\n",
      "Epoch 2/10\n",
      "556/556 [==============================] - 71s 127ms/step - loss: 0.1513 - accuracy: 0.9683 - val_loss: 0.3108 - val_accuracy: 0.9586\n",
      "Epoch 3/10\n",
      "556/556 [==============================] - 67s 120ms/step - loss: 0.1619 - accuracy: 0.9730 - val_loss: 0.4528 - val_accuracy: 0.9442\n",
      "Epoch 4/10\n",
      "556/556 [==============================] - 69s 125ms/step - loss: 0.0913 - accuracy: 0.9813 - val_loss: 0.3287 - val_accuracy: 0.9559\n",
      "Epoch 5/10\n",
      "556/556 [==============================] - ETA: 0s - loss: 0.0937 - accuracy: 0.9849Restoring model weights from the end of the best epoch: 2.\n",
      "556/556 [==============================] - 75s 135ms/step - loss: 0.0937 - accuracy: 0.9849 - val_loss: 0.4594 - val_accuracy: 0.9541\n",
      "Epoch 5: early stopping\n"
     ]
    }
   ],
   "source": [
    "history = model.fit(\n",
    "    x = train_generator,\n",
    "    validation_data=val_generator,\n",
    "    batch_size=BATCH_SIZE,\n",
    "    epochs=EPOCHS,\n",
    "    workers=WORKERS,\n",
    "    callbacks=callbacks\n",
    ")"
   ]
  },
  {
   "cell_type": "code",
   "execution_count": 19,
   "id": "a749b8f0",
   "metadata": {},
   "outputs": [
    {
     "name": "stdout",
     "output_type": "stream",
     "text": [
      "1/1 [==============================] - 5s 5s/step\n"
     ]
    }
   ],
   "source": [
    "image_path = 'testing/0966.jpg'\n",
    "\n",
    "image = tf.keras.utils.load_img(\n",
    "    image_path,\n",
    "    target_size=(IMAGE_SIZE, IMAGE_SIZE)\n",
    ")\n",
    "input_arr = tf.keras.utils.img_to_array(image)\n",
    "input_arr = np.array([input_arr])  # Convert single image to a batch.\n",
    "predictions = model.predict(input_arr)"
   ]
  },
  {
   "cell_type": "code",
   "execution_count": 22,
   "id": "bae178a6",
   "metadata": {},
   "outputs": [
    {
     "name": "stdout",
     "output_type": "stream",
     "text": [
      "[[6.4358930e-03 1.9068438e-04 5.0141307e-04 2.8762501e-03 9.8999572e-01\n",
      "  2.2158536e-08]]\n"
     ]
    },
    {
     "data": {
      "text/plain": [
       "'plate'"
      ]
     },
     "execution_count": 22,
     "metadata": {},
     "output_type": "execute_result"
    }
   ],
   "source": [
    "print(predictions)\n",
    "predicted_class = classes[np.argmax(predictions, axis=1)[0]]\n",
    "predicted_class"
   ]
  },
  {
   "cell_type": "code",
   "execution_count": 13,
   "id": "4a0c76ff",
   "metadata": {},
   "outputs": [
    {
     "name": "stderr",
     "output_type": "stream",
     "text": [
      "/home/andre/anaconda3/envs/kitchenware-classification/lib/python3.9/site-packages/bentoml/_internal/frameworks/utils/tensorflow.py:305: UserWarning: `Model.state_updates` will be removed in a future version. This property should not be used in TensorFlow 2.0, as `updates` are applied automatically.\n",
      "  function_map = {k: getattr(m, k, None) for k in dir(m)}\n",
      "/home/andre/anaconda3/envs/kitchenware-classification/lib/python3.9/site-packages/bentoml/_internal/frameworks/utils/tensorflow.py:305: UserWarning: `layer.updates` will be removed in a future version. This property should not be used in TensorFlow 2.0, as `updates` are applied automatically.\n",
      "  function_map = {k: getattr(m, k, None) for k in dir(m)}\n",
      "WARNING:absl:Found untraced functions such as restored_function_body, restored_function_body, restored_function_body, restored_function_body, restored_function_body while saving (showing 5 of 192). These functions will not be directly callable after loading.\n"
     ]
    },
    {
     "name": "stdout",
     "output_type": "stream",
     "text": [
      "INFO:tensorflow:Assets written to: /tmp/tmpxzm99qlqbentoml_model_kitchenware-classification/assets\n"
     ]
    },
    {
     "name": "stderr",
     "output_type": "stream",
     "text": [
      "INFO:tensorflow:Assets written to: /tmp/tmpxzm99qlqbentoml_model_kitchenware-classification/assets\n"
     ]
    },
    {
     "data": {
      "text/plain": [
       "Model(tag=\"kitchenware-classification:hglqctt7o22zyaav\", path=\"/home/andre/bentoml/models/kitchenware-classification/hglqctt7o22zyaav/\")"
      ]
     },
     "execution_count": 13,
     "metadata": {},
     "output_type": "execute_result"
    }
   ],
   "source": [
    "import bentoml\n",
    "bentoml.tensorflow.save_model(\n",
    "    \"kitchenware-classification\", \n",
    "    model,\n",
    "    signatures={\"__call__\": {\"batchable\": True, \"batch_dim\": 0}}\n",
    ")"
   ]
  }
 ],
 "metadata": {
  "kernelspec": {
   "display_name": "kitchenware-classification",
   "language": "python",
   "name": "python3"
  },
  "language_info": {
   "codemirror_mode": {
    "name": "ipython",
    "version": 3
   },
   "file_extension": ".py",
   "mimetype": "text/x-python",
   "name": "python",
   "nbconvert_exporter": "python",
   "pygments_lexer": "ipython3",
   "version": "3.9.12 (main, Jun  1 2022, 11:38:51) \n[GCC 7.5.0]"
  },
  "vscode": {
   "interpreter": {
    "hash": "b19935b0ad8263f74c39ee09dad8dea7330773805f3fbf26417a5efe2378ce00"
   }
  }
 },
 "nbformat": 4,
 "nbformat_minor": 5
}
